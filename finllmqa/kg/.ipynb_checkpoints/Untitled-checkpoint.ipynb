{
 "cells": [
  {
   "cell_type": "code",
   "execution_count": 1,
   "metadata": {},
   "outputs": [
    {
     "name": "stderr",
     "output_type": "stream",
     "text": [
      "2024-03-10 23:34:04,908 - modelscope - INFO - PyTorch version 2.2.1+cu121 Found.\n",
      "2024-03-10 23:34:04,914 - modelscope - INFO - Loading ast index from C:\\Users\\CH\\.cache\\modelscope\\ast_indexer\n",
      "2024-03-10 23:34:05,112 - modelscope - INFO - Loading done! Current index file version is 1.12.0, with md5 58c504f5c76839db54a636c592180ff5 and a total number of 964 components indexed\n"
     ]
    }
   ],
   "source": [
    "from modelscope import AutoModel, AutoTokenizer, snapshot_download "
   ]
  },
  {
   "cell_type": "code",
   "execution_count": 3,
   "metadata": {},
   "outputs": [
    {
     "name": "stderr",
     "output_type": "stream",
     "text": [
      "2024-03-10 23:36:12,998 - modelscope - WARNING - Model revision not specified, use revision: v1.0.2\n",
      "Downloading: 100%|██████████| 37.0/37.0 [00:00<00:00, 36.2kB/s]\n",
      "Downloading: 100%|██████████| 4.37k/4.37k [00:00<00:00, 541kB/s]\n"
     ]
    }
   ],
   "source": [
    "model = snapshot_download(\"ZhipuAI/chatglm3-6b\")"
   ]
  },
  {
   "cell_type": "code",
   "execution_count": 6,
   "metadata": {},
   "outputs": [
    {
     "data": {
      "text/plain": [
       "{'pi': [{'role': 'a', 'response': 'aaa'}, {'role': 'b', 'response': 'bbb'}]}"
      ]
     },
     "execution_count": 6,
     "metadata": {},
     "output_type": "execute_result"
    }
   ],
   "source": [
    "import json\r\n",
    "json.loads('{\"pi\":[{\"role\":\"a\", \"response\":\"aaa\"},{\"role\":\"b\", \"response\":\"bbb\"}]}')"
   ]
  },
  {
   "cell_type": "code",
   "execution_count": 14,
   "metadata": {},
   "outputs": [
    {
     "data": {
      "text/plain": [
       "2"
      ]
     },
     "execution_count": 14,
     "metadata": {},
     "output_type": "execute_result"
    }
   ],
   "source": [
    "a.pop(\"b\", None)"
   ]
  },
  {
   "cell_type": "code",
   "execution_count": 6,
   "metadata": {},
   "outputs": [
    {
     "name": "stdout",
     "output_type": "stream",
     "text": [
      "[]\n"
     ]
    }
   ],
   "source": [
    "import json\n",
    "import requests\n",
    "\n",
    "data = json.dumps({\"prompt\": \"如何写一篇优秀的毕业论文\"})\n",
    "data = data.encode(\"utf-8\")\n",
    "\n",
    "url = \"http://localhost:8006/stream\"\n",
    "headers = {\"Content-Type\": \"text/event-stream\"}\n",
    "response = requests.post(url, headers=headers, stream=True, data=data)\n",
    "for chunk in response.iter_content(chunk_size=1024, decode_unicode=True):\n",
    "    answer_list = json.loads(chunk)['answer']\n",
    "    print(answer_list)"
   ]
  },
  {
   "cell_type": "code",
   "execution_count": 1,
   "metadata": {},
   "outputs": [],
   "source": [
    "from py2neo import Graph,Node,Relationship,NodeMatcher\n",
    "import pandas as pd\n",
    "import numpy as np\n",
    "from multiprocessing.pool import ThreadPool\n",
    "import akshare as ak\n",
    "import logging\n",
    "from datetime import datetime, timedelta\n",
    "from tqdm import tqdm\n",
    "import os\n",
    "\n",
    "pool = ThreadPool(10)\n",
    "# 连接Neo4j数据库\n",
    "graph = Graph('http://192.168.197.1:7474/browser', auth=('neo4j', 'finglm-base-on-kg'), name='neo4j')\n",
    "matcher = NodeMatcher(graph)"
   ]
  },
  {
   "cell_type": "code",
   "execution_count": 2,
   "metadata": {},
   "outputs": [],
   "source": [
    "relation_ls = graph.match(r_type='按报告期')"
   ]
  },
  {
   "cell_type": "code",
   "execution_count": null,
   "metadata": {},
   "outputs": [
    {
     "name": "stderr",
     "output_type": "stream",
     "text": [
      "  0%|                                                                                       | 0/418763 [00:00<?, ?it/s]"
     ]
    }
   ],
   "source": [
    "for relation in tqdm(relation_ls):\n",
    "    graph.delete(relation)"
   ]
  },
  {
   "cell_type": "code",
   "execution_count": null,
   "metadata": {},
   "outputs": [],
   "source": []
  }
 ],
 "metadata": {
  "interpreter": {
   "hash": "c20fc683081925c9a6f25c1f32f2ea70013c08f0e09db6a26789fa80fff3dde4"
  },
  "kernelspec": {
   "display_name": "Python [conda env:chatglm3]",
   "language": "python",
   "name": "conda-env-chatglm3-py"
  },
  "language_info": {
   "codemirror_mode": {
    "name": "ipython",
    "version": 3
   },
   "file_extension": ".py",
   "mimetype": "text/x-python",
   "name": "python",
   "nbconvert_exporter": "python",
   "pygments_lexer": "ipython3",
   "version": "3.10.0"
  }
 },
 "nbformat": 4,
 "nbformat_minor": 4
}
