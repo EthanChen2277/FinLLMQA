{
 "cells": [
  {
   "cell_type": "markdown",
   "id": "4b713e1a",
   "metadata": {},
   "source": [
    "# 1. Preparation\n",
    "\n",
    "## 1.1 Prepare for LLM"
   ]
  },
  {
   "cell_type": "code",
   "execution_count": null,
   "id": "c99a3dc2",
   "metadata": {},
   "outputs": [],
   "source": [
    "# %pip install llama-index-llms-azure-openai\n",
    "# %pip install llama-index-graph-stores-nebula\n",
    "# %pip install llama-index-llms-openai\n",
    "# %pip install llama-index-embeddings-azure-openai"
   ]
  },
  {
   "cell_type": "code",
   "execution_count": 1,
   "id": "a002bd52",
   "metadata": {},
   "outputs": [],
   "source": [
    "# For OpenAI\n",
    "\n",
    "import os\n",
    "\n",
    "# os.environ[\"OPENAI_API_KEY\"] = \"INSERT YOUR KEY\"\n",
    "\n",
    "import logging\n",
    "import sys\n",
    "\n",
    "logging.basicConfig(\n",
    "    stream=sys.stdout, level=logging.INFO\n",
    ")  # logging.DEBUG for more verbose output\n",
    "\n",
    "from llama_index.core import (\n",
    "    KnowledgeGraphIndex,\n",
    "    VectorStoreIndex,\n",
    "    ServiceContext,\n",
    "    SimpleDirectoryReader,\n",
    "    StorageContext,\n",
    "    PromptTemplate,\n",
    "    load_index_from_storage\n",
    ")\n",
    "from llama_index.core.query_engine import KnowledgeGraphQueryEngine\n",
    "\n",
    "from llama_index.graph_stores.nebula import NebulaGraphStore\n",
    "\n",
    "from llama_index.llms.openai import OpenAI\n",
    "from llama_index.embeddings.openai import OpenAIEmbedding\n",
    "from IPython.display import Markdown, display\n",
    "\n",
    "from finllmqa.api.core import LLM_API_URL\n",
    "\n",
    "from llama_index.core import Settings\n",
    "\n",
    "llm = OpenAI(model=\"gpt-3.5-turbo\", api_base=LLM_API_URL, api_key='null')\n",
    "embed_model = OpenAIEmbedding(api_base=LLM_API_URL, api_key='null')\n",
    "\n",
    "Settings.llm = llm\n",
    "Settings.embed_model = embed_model"
   ]
  },
  {
   "cell_type": "code",
   "execution_count": null,
   "id": "0c2f2a17",
   "metadata": {
    "collapsed": true,
    "jupyter": {
     "outputs_hidden": true,
     "source_hidden": true
    }
   },
   "outputs": [],
   "source": [
    "# For Azure OpenAI\n",
    "\n",
    "import os\n",
    "import json\n",
    "import openai\n",
    "from langchain.embeddings import OpenAIEmbeddings\n",
    "from llama_index.llms.azure_openai import AzureOpenAI\n",
    "from llama_index.embeddings.langchain import LangchainEmbedding\n",
    "from llama_index.core import (\n",
    "    VectorStoreIndex,\n",
    "    SimpleDirectoryReader,\n",
    "    KnowledgeGraphIndex,\n",
    "    ServiceContext\n",
    ")\n",
    "from llama_index.core import set_global_service_context\n",
    "\n",
    "from llama_index.core.storage.storage_context import StorageContext\n",
    "from llama_index.graph_stores.nebula import NebulaGraphStore\n",
    "\n",
    "import logging\n",
    "import sys\n",
    "\n",
    "from IPython.display import Markdown, display\n",
    "\n",
    "from finllmqa.api.core import LLM_API_URL\n",
    "\n",
    "logging.basicConfig(\n",
    "    stream=sys.stdout, level=logging.INFO\n",
    ")  # logging.DEBUG for more verbose output\n",
    "logging.getLogger().addHandler(logging.StreamHandler(stream=sys.stdout))\n",
    "\n",
    "openai.api_type = \"azure\"\n",
    "openai.api_base = LLM_API_URL\n",
    "openai.api_version = \"2024-03-01\"\n",
    "# os.environ[\"OPENAI_API_KEY\"] = \"youcannottellanyone\"\n",
    "# openai.api_key = os.getenv(\"OPENAI_API_KEY\")\n",
    "openai.api_key = 'null'\n",
    "\n",
    "llm = AzureOpenAI(\n",
    "    engine=\"<foo-bar-deployment>\",\n",
    "    temperature=0,\n",
    "    openai_api_version=openai.api_version,\n",
    "    model_kwargs={\n",
    "        \"api_key\": openai.api_key,\n",
    "        \"api_base\": openai.api_base,\n",
    "        \"api_type\": openai.api_type,\n",
    "        \"api_version\": openai.api_version,\n",
    "    },\n",
    ")\n",
    "\n",
    "# You need to deploy your own embedding model as well as your own chat completion model\n",
    "embedding_llm = LangchainEmbedding(\n",
    "    OpenAIEmbeddings(\n",
    "        model=\"text-embedding-ada-002\",\n",
    "        deployment=\"<foo-bar-deployment>\",\n",
    "        openai_api_key=openai.api_key,\n",
    "        openai_api_base=openai.api_base,\n",
    "        openai_api_type=openai.api_type,\n",
    "        openai_api_version=openai.api_version,\n",
    "    ),\n",
    "    embed_batch_size=1,\n",
    ")\n",
    "\n",
    "# service_context = ServiceContext.from_defaults(\n",
    "#     llm=llm,\n",
    "#     embed_model=embedding_llm,\n",
    "# )\n",
    "\n",
    "# set_global_service_context(service_context)"
   ]
  },
  {
   "cell_type": "code",
   "execution_count": null,
   "id": "64dbbe82",
   "metadata": {
    "jupyter": {
     "source_hidden": true
    }
   },
   "outputs": [],
   "source": [
    "from llama_index.core import Settings\n",
    "\n",
    "Settings.llm = llm\n",
    "Settings.embed_model = embedding_llm"
   ]
  },
  {
   "cell_type": "markdown",
   "id": "aafd15f5",
   "metadata": {},
   "source": [
    "## 1.2. Prepare for NebulaGraph as Graph Store\n"
   ]
  },
  {
   "cell_type": "markdown",
   "id": "5561b495",
   "metadata": {},
   "source": [
    "❗Access NebulaGraph Console to **create space** and **graph schema**\n",
    "\n",
    "```sql\n",
    "CREATE SPACE guardians(vid_type=FIXED_STRING(256), partition_num=1, replica_factor=1);\n",
    ":sleep 10;\n",
    "USE guardians;\n",
    "CREATE TAG entity(name string);\n",
    "CREATE EDGE relationship(relationship string);\n",
    ":sleep 10;\n",
    "CREATE TAG INDEX entity_index ON entity(name(256));\n",
    "```"
   ]
  },
  {
   "cell_type": "code",
   "execution_count": null,
   "id": "daa40d52",
   "metadata": {},
   "outputs": [],
   "source": [
    "# %pip install nebula3-python ipython-ngql"
   ]
  },
  {
   "cell_type": "code",
   "execution_count": 6,
   "id": "801f88ea",
   "metadata": {},
   "outputs": [],
   "source": [
    "os.environ['NEBULA_USER'] = \"root\"\n",
    "os.environ['NEBULA_PASSWORD'] = \"nebula\" # default password\n",
    "os.environ['NEBULA_ADDRESS'] = \"127.0.0.1:9669\" "
   ]
  },
  {
   "cell_type": "markdown",
   "id": "3ede3c10",
   "metadata": {},
   "source": [
    "## 2. Load from disk Llama Indexes\n",
    "\n",
    "**You have to run cells in $2 and $3 or download index.zip first**\n",
    "\n",
    "Both the `KnowledgeGraphIndex` and `VectorStoreIndex` will be created only once, afterwards, we could persist their in-memory context to enable their reuse from disk anytime."
   ]
  },
  {
   "cell_type": "code",
   "execution_count": null,
   "id": "54bc1c1a",
   "metadata": {},
   "outputs": [],
   "source": [
    "from llama_index.core import load_index_from_storage\n",
    "\n",
    "assert os.path.exists(os.path.join(os.path.abspath(os.path.join('..')), 'storage/storage_graph')), 'Do not have graph storage_context in disk'\n",
    "assert os.path.exists(os.path.join(os.path.abspath(os.path.join('..')), 'storage/storage_vector')), 'Do not have vector storage_context in disk'\n",
    "\n",
    "entries = os.listdir()\n",
    "folders = [entry for entry in entries if os.path.isdir(os.path.join(entry))]\n",
    "\n",
    "kg_index_ls = []\n",
    "vector_index_ls = []\n",
    "for nodes_group in folders:\n",
    "    space_name = f\"books_content_{nodes_group}\"\n",
    "    edge_types, rel_prop_names = [\"relationship\"], [\"relationship\"] # default, could be omit if create from an empty kg\n",
    "    tags = [\"entity\"] # default, could be omit if create from an empty kg\n",
    "\n",
    "    graph_store = NebulaGraphStore(\n",
    "        space_name=space_name,\n",
    "        edge_types=edge_types,\n",
    "        rel_prop_names=rel_prop_names,\n",
    "        tags=tags,\n",
    "    )\n",
    "    storage_context = StorageContext.from_defaults(persist_dir=f'../storage/storage_graph/{nodes_group}', graph_store=graph_store)\n",
    "    kg_index = load_index_from_storage(\n",
    "        storage_context=storage_context,\n",
    "        space_name=space_name,\n",
    "        edge_types=edge_types,\n",
    "        rel_prop_names=rel_prop_names,\n",
    "        tags=tags,\n",
    "        include_embeddings=True,\n",
    "    )\n",
    "    kg_index_ls.append(kg_index)\n",
    "\n",
    "    storage_context_vector = StorageContext.from_defaults(persist_dir=f'../storage_vector/{nodes_group}')\n",
    "    vector_index = load_index_from_storage(\n",
    "    #     service_context=service_context,\n",
    "        storage_context=storage_context_vector\n",
    "    )\n",
    "    vector_index_ls.append(vector_index)"
   ]
  },
  {
   "cell_type": "markdown",
   "metadata": {},
   "source": [
    "## 3. Prepare for different query approaches\n",
    "\n",
    "We will do 4 types of query approaches with LLM, KG, VectorDB:\n",
    "\n",
    "| QueryEngine | Knowledge Graph query engine                                 | Graph RAG query engine                                       | Vector RAG query engine                                      | Graph Vector RAG query engine                                |\n",
    "| ----------- | ------------------------------------------------------------ | ------------------------------------------------------------ | ------------------------------------------------------------ | ------------------------------------------------------------ |\n",
    "| Mechanism   | 1. **Text-to-GraphQuery** based on KG<br />2. Query KG with the result<br />3. Answer synthesis based on query result | 1. Get related entities of the question<br />2. Get n-depth **SubGraphs** of related entities from KG<br />3. Answer synthesis based on related SubGraphs | 1. Create embedding of question<br />2. Semantic search **top-k related doc chunks**<br />3. Answer synthesis based on related doc chunks | 1. Do retrieval as Vector and Graph RAG <br />2. Answer synthesis based on **both related chunks and SubGraphs** |\n"
   ]
  },
  {
   "cell_type": "markdown",
   "metadata": {},
   "source": [
    "### 3.1 text-to-NebulaGraphCypher\n",
    "\n",
    "Text-to-NebulaGraphCypher approach Translate task/question into a Graph Cypher Query, and answer based on its query result."
   ]
  },
  {
   "cell_type": "code",
   "execution_count": null,
   "metadata": {},
   "outputs": [],
   "source": [
    "from llama_index.core.query_engine import KnowledgeGraphQueryEngine\n",
    "\n",
    "from llama_index.core import load_index_from_storage\n",
    "\n",
    "assert os.path.exists(os.path.join(os.path.abspath(os.path.join('..')), 'storage/storage_graph')), 'Do not have graph storage_context in disk'\n",
    "assert os.path.exists(os.path.join(os.path.abspath(os.path.join('..')), 'storage/storage_vector')), 'Do not have vector storage_context in disk'\n",
    "\n",
    "entries = os.listdir()\n",
    "folders = [entry for entry in entries if os.path.isdir(os.path.join(entry))]\n",
    "\n",
    "nl2kg_qg_ls = []\n",
    "for nodes_group in folders:\n",
    "    space_name = f\"books_content_{nodes_group}\"\n",
    "    edge_types, rel_prop_names = [\"relationship\"], [\"relationship\"] # default, could be omit if create from an empty kg\n",
    "    tags = [\"entity\"] # default, could be omit if create from an empty kg\n",
    "\n",
    "    graph_store = NebulaGraphStore(\n",
    "        space_name=space_name,\n",
    "        edge_types=edge_types,\n",
    "        rel_prop_names=rel_prop_names,\n",
    "        tags=tags,\n",
    "    )\n",
    "    storage_context = StorageContext.from_defaults(persist_dir=f'../storage/storage_graph/{nodes_group}', graph_store=graph_store)\n",
    "\n",
    "    nl2kg_query_engine = KnowledgeGraphQueryEngine(\n",
    "        storage_context=storage_context,\n",
    "    #     service_context=service_context,\n",
    "        verbose=True\n",
    "    )\n",
    "    nl2kg_qg_ls.append(nl2kg_query_engine)"
   ]
  },
  {
   "cell_type": "code",
   "execution_count": null,
   "metadata": {},
   "outputs": [],
   "source": [
    "nl2kg_query_engine.get_prompts()"
   ]
  },
  {
   "cell_type": "markdown",
   "metadata": {},
   "source": [
    "### 3.2 Graph RAG query engine\n",
    "\n",
    "Graph RAG takes SubGraphs related to entities of the task/question as Context.\n",
    "\n",
    "```\n",
    "           Graph RAG with Llama Index\n",
    "                  ┌────┬────┬────┬────┐                  \n",
    "                  │ 1  │ 2  │ 3  │ 4  │                  \n",
    "                  ├────┴────┴────┴────┤                  \n",
    "                  │  Docs/Knowledge   │                  \n",
    "┌───────┐         │        ...        │       ┌─────────┐\n",
    "│       │         ├────┬────┬────┬────┤       │         │\n",
    "│       │         │ 95 │ 96 │    │    │       │         │\n",
    "│       │         └────┴────┴────┴────┘       │         │\n",
    "│ User  │─ ─ ─ ─ ─ ─ ─ ─ ─ ─ ─ ─ ─ ─ ─ ─ ─ ─ ─▶   LLM   │\n",
    "│       │                                     │         │\n",
    "│       │                                     │         │\n",
    "└───────┘    ┌ ─ ─ ─ ─ ─ ─ ─ ─ ─ ─ ─ ─ ─ ─ ┐  └─────────┘\n",
    "    │          ┌──────────────────────────┐        ▲     \n",
    "    └────────┼▶│  Tell me about x, please │├───────┘     \n",
    "               └──────────────────────────┘              \n",
    "             │ Below are knowledge about x │             \n",
    "               x->y<-z,x->h->i, m<-n,...                            \n",
    "             │ Please answer based on them │             \n",
    "              ─ ─ ─ ─ ─ ─ ─ ─ ─ ─ ─ ─ ─ ─ ─ \n",
    "```"
   ]
  },
  {
   "cell_type": "code",
   "execution_count": null,
   "metadata": {},
   "outputs": [],
   "source": [
    "kg_rag_qg_ls = []\n",
    "for kg_index in kg_index_ls:\n",
    "    kg_rag_query_engine = kg_index.as_query_engine(\n",
    "        include_text=False,\n",
    "        retriever_mode=\"hybrid\",\n",
    "        response_mode=\"tree_summarize\",\n",
    "    )\n",
    "    kg_rag_qg_ls.append(kg_rag_query_engine)"
   ]
  },
  {
   "cell_type": "markdown",
   "metadata": {},
   "source": [
    "### 3.3 Vector RAG query engine\n",
    "\n",
    "Vector RAG is the common approach to find topK semantic related doc chunks as context to synthesize the answer.\n",
    "\n",
    "```\n",
    "                  RAG with Llama Index\n",
    "                  ┌────┬────┬────┬────┐                  \n",
    "                  │ 1  │ 2  │ 3  │ 4  │                  \n",
    "                  ├────┴────┴────┴────┤                  \n",
    "                  │  Docs/Knowledge   │                  \n",
    "┌───────┐         │        ...        │       ┌─────────┐\n",
    "│       │         ├────┬────┬────┬────┤       │         │\n",
    "│       │         │ 95 │ 96 │    │    │       │         │\n",
    "│       │         └────┴────┴────┴────┘       │         │\n",
    "│ User  │─ ─ ─ ─ ─ ─ ─ ─ ─ ─ ─ ─ ─ ─ ─ ─ ─ ─ ─▶   LLM   │\n",
    "│       │                                     │         │\n",
    "│       │                                     │         │\n",
    "└───────┘    ┌ ─ ─ ─ ─ ─ ─ ─ ─ ─ ─ ─ ─ ─ ─ ┐  └─────────┘\n",
    "    │          ┌──────────────────────────┐        ▲     \n",
    "    └────────┼▶│  Tell me ....., please   │├───────┘     \n",
    "               └──────────────────────────┘              \n",
    "             │ ┌────┐ ┌────┐               │             \n",
    "               │ 3  │ │ 96 │                             \n",
    "             │ └────┘ └────┘               │             \n",
    "              ─ ─ ─ ─ ─ ─ ─ ─ ─ ─ ─ ─ ─ ─ ─ \n",
    "```"
   ]
  },
  {
   "cell_type": "code",
   "execution_count": null,
   "metadata": {},
   "outputs": [],
   "source": [
    "vector_rag_qg_ls = []\n",
    "for vetor_index in vector_index_ls:\n",
    "    vector_rag_query_engine = vector_index.as_query_engine()\n",
    "    vector_rag_qg_ls.append(vector_rag_query_engine)"
   ]
  },
  {
   "cell_type": "markdown",
   "metadata": {},
   "source": [
    "### 3.4 Graph+Vector RAG query engine"
   ]
  },
  {
   "cell_type": "markdown",
   "metadata": {},
   "source": [
    "This is a combined Graph+Vector Based RAG, where we will retrieve both VectorDB and KG SubGraphs as the context, for synthesis of the answer.\n",
    "\n",
    "```\n",
    "           Graph + Vector RAG with Llama Index\n",
    "                  ┌────┬────┬────┬────┐                  \n",
    "                  │ 1  │ 2  │ 3  │ 4  │                  \n",
    "                  ├────┴────┴────┴────┤                  \n",
    "                  │  Docs/Knowledge   │                  \n",
    "┌───────┐         │        ...        │       ┌─────────┐\n",
    "│       │         ├────┬────┬────┬────┤       │         │\n",
    "│       │         │ 95 │ 96 │    │    │       │         │\n",
    "│       │         └────┴────┴────┴────┘       │         │\n",
    "│ User  │─ ─ ─ ─ ─ ─ ─ ─ ─ ─ ─ ─ ─ ─ ─ ─ ─ ─ ─▶   LLM   │\n",
    "│       │                                     │         │\n",
    "│       │                                     │         │\n",
    "└───────┘    ┌ ─ ─ ─ ─ ─ ─ ─ ─ ─ ─ ─ ─ ─ ─ ┐  └─────────┘\n",
    "    │          ┌──────────────────────────┐        ▲     \n",
    "    └────────┼▶│  Tell me ....., please   │├───────┘     \n",
    "               └──────────────────────────┘              \n",
    "             │ ┌────┐┌────┐               │             \n",
    "               │ 3  ││ 96 │ x->y<-z,x->h...                            \n",
    "             │ └────┘└────┘               │             \n",
    "              ─ ─ ─ ─ ─ ─ ─ ─ ─ ─ ─ ─ ─ ─ ─ \n",
    "```\n",
    "\n",
    "To implement that in Llama Index, we create a `CustomRetriever` to comebine the two: "
   ]
  },
  {
   "cell_type": "code",
   "execution_count": 3,
   "metadata": {},
   "outputs": [],
   "source": [
    "# import QueryBundle\n",
    "from llama_index.core import QueryBundle\n",
    "\n",
    "# import NodeWithScore\n",
    "from llama_index.core.schema import NodeWithScore\n",
    "\n",
    "# Retrievers\n",
    "from llama_index.core.retrievers import BaseRetriever, VectorIndexRetriever, KGTableRetriever\n",
    "\n",
    "from typing import List\n",
    "\n",
    "\n",
    "class CustomRetriever(BaseRetriever):\n",
    "    \"\"\"Custom retriever that performs both Vector search and Knowledge Graph search\"\"\"\n",
    "\n",
    "    def __init__(\n",
    "        self,\n",
    "        vector_retriever: VectorIndexRetriever,\n",
    "        kg_retriever: KGTableRetriever,\n",
    "        mode: str = \"OR\",\n",
    "    ) -> None:\n",
    "        \"\"\"Init params.\"\"\"\n",
    "\n",
    "        self._vector_retriever = vector_retriever\n",
    "        self._kg_retriever = kg_retriever\n",
    "        if mode not in (\"AND\", \"OR\"):\n",
    "            raise ValueError(\"Invalid mode.\")\n",
    "        self._mode = mode\n",
    "\n",
    "    def _retrieve(self, query_bundle: QueryBundle) -> List[NodeWithScore]:\n",
    "        \"\"\"Retrieve nodes given query.\"\"\"\n",
    "\n",
    "        vector_nodes = self._vector_retriever.retrieve(query_bundle)\n",
    "        kg_nodes = self._kg_retriever.retrieve(query_bundle)\n",
    "\n",
    "        vector_ids = {n.node.node_id for n in vector_nodes}\n",
    "        kg_ids = {n.node.node_id for n in kg_nodes}\n",
    "\n",
    "        combined_dict = {n.node.node_id: n for n in vector_nodes}\n",
    "        combined_dict.update({n.node.node_id: n for n in kg_nodes})\n",
    "\n",
    "        if self._mode == \"AND\":\n",
    "            retrieve_ids = vector_ids.intersection(kg_ids)\n",
    "        else:\n",
    "            retrieve_ids = vector_ids.union(kg_ids)\n",
    "\n",
    "        retrieve_nodes = [combined_dict[rid] for rid in retrieve_ids]\n",
    "        return retrieve_nodes"
   ]
  },
  {
   "cell_type": "markdown",
   "metadata": {},
   "source": [
    "Next, we will create instances of the Vector and KG retrievers, which will be used in the instantiation of the Custom Retriever."
   ]
  },
  {
   "cell_type": "code",
   "execution_count": null,
   "metadata": {},
   "outputs": [],
   "source": [
    "from llama_index.core import get_response_synthesizer\n",
    "from llama_index.core.query_engine import RetrieverQueryEngine\n",
    "\n",
    "kg_vec_rag_qg_ls = []\n",
    "for kg_index, vector_index in zip(kg_index_ls, vector_index_ls):\n",
    "    # create custom retriever\n",
    "    vector_retriever = VectorIndexRetriever(index=vector_index)\n",
    "    kg_retriever = KGTableRetriever(\n",
    "        index=kg_index, retriever_mode=\"keyword\", include_text=False\n",
    "    )\n",
    "    custom_retriever = CustomRetriever(vector_retriever, kg_retriever)\n",
    "\n",
    "    # create response synthesizer\n",
    "    response_synthesizer = get_response_synthesizer(\n",
    "    #     service_context=service_context,\n",
    "        response_mode=\"tree_summarize\",\n",
    "    )\n",
    "    kg_vector_rag_query_engine = RetrieverQueryEngine(\n",
    "    retriever=custom_retriever,\n",
    "    response_synthesizer=response_synthesizer\n",
    "    )\n",
    "    kg_vec_rag_qg_ls.append(kg_vector_rag_query_engine)"
   ]
  },
  {
   "cell_type": "markdown",
   "id": "f6ac5564",
   "metadata": {},
   "source": [
    "### 3.5 General load index from disk and get query engine function"
   ]
  },
  {
   "cell_type": "code",
   "execution_count": 4,
   "id": "3e463125",
   "metadata": {},
   "outputs": [],
   "source": [
    "from llama_index.core import QueryBundle\n",
    "from llama_index.core.schema import NodeWithScore\n",
    "from llama_index.core.retrievers import BaseRetriever, VectorIndexRetriever, KGTableRetriever\n",
    "from llama_index.core import get_response_synthesizer\n",
    "from llama_index.core.query_engine import RetrieverQueryEngine\n",
    "def get_all_query_engine_from_cache_index(kg_index_folder_path, vector_index_folder_path, nodes_group: str|List[str]):\n",
    "    if isinstance(nodes_group, str):\n",
    "        nodes_group_ls = [nodes_group]\n",
    "    else:\n",
    "        nodes_group_ls = nodes_group\n",
    "    query_engine_dc = {\n",
    "        # 'nl2kg': {},\n",
    "        'kg_rag': {},\n",
    "        'vec_rag': {},\n",
    "        'kg_vec_rag': {}\n",
    "    }\n",
    "    for nodes_group in nodes_group_ls:\n",
    "        space_name = f\"books_content_{nodes_group}\"\n",
    "        edge_types, rel_prop_names = [\"relationship\"], [\"relationship\"] # default, could be omit if create from an empty kg\n",
    "        tags = [\"entity\"] # default, could be omit if create from an empty kg\n",
    "\n",
    "        graph_store = NebulaGraphStore(\n",
    "            space_name=space_name,\n",
    "            edge_types=edge_types,\n",
    "            rel_prop_names=rel_prop_names,\n",
    "            tags=tags,\n",
    "        )\n",
    "        storage_context_kg = StorageContext.from_defaults(persist_dir=kg_index_folder_path + f'/{nodes_group}', graph_store=graph_store)\n",
    "        kg_index = load_index_from_storage(\n",
    "            storage_context=storage_context_kg,\n",
    "            space_name=space_name,\n",
    "            edge_types=edge_types,\n",
    "            rel_prop_names=rel_prop_names,\n",
    "            tags=tags,\n",
    "            include_embeddings=True,\n",
    "        )\n",
    "\n",
    "        storage_context_vector = StorageContext.from_defaults(persist_dir=vector_index_folder_path + f'/{nodes_group}')\n",
    "        vector_index = load_index_from_storage(\n",
    "            storage_context=storage_context_vector\n",
    "        )\n",
    "\n",
    "        # # text2cypher query engine\n",
    "        # nl2kg_query_engine = KnowledgeGraphQueryEngine(\n",
    "        #     storage_context=storage_context_kg,\n",
    "        #     verbose=True\n",
    "        # )\n",
    "        # query_engine_dc['nl2kg'].append(nl2kg_query_engine)\n",
    "        \n",
    "        # kg_rag query engine\n",
    "        kg_rag_query_engine = kg_index.as_query_engine(\n",
    "            include_text=False,\n",
    "            response_mode=\"tree_summarize\"\n",
    "        )\n",
    "        query_engine_dc['kg_rag'][nodes_group] = kg_rag_query_engine\n",
    "        # vec_rag query engine\n",
    "        vec_rag_query_engine = vector_index.as_query_engine(response_mode=\"tree_summarize\")\n",
    "        query_engine_dc['vec_rag'][nodes_group] =  vec_rag_query_engine\n",
    "        # kg_vec_rag query engine\n",
    "        vector_retriever = VectorIndexRetriever(index=vector_index)\n",
    "        kg_retriever = KGTableRetriever(\n",
    "            index=kg_index, retriever_mode=\"keyword\", include_text=False\n",
    "        )\n",
    "        custom_retriever = CustomRetriever(vector_retriever, kg_retriever)\n",
    "\n",
    "        response_synthesizer = get_response_synthesizer(response_mode=\"tree_summarize\")\n",
    "        kg_vector_rag_query_engine = RetrieverQueryEngine(\n",
    "            retriever=custom_retriever,\n",
    "            response_synthesizer=response_synthesizer\n",
    "        )\n",
    "        query_engine_dc['kg_vec_rag'][nodes_group] = kg_vector_rag_query_engine\n",
    "    return query_engine_dc\n"
   ]
  },
  {
   "cell_type": "markdown",
   "metadata": {},
   "source": [
    "## 6. Base Query with all the Engines"
   ]
  },
  {
   "cell_type": "markdown",
   "metadata": {},
   "source": [
    "### 6.1 Text-to-GraphQuery"
   ]
  },
  {
   "cell_type": "code",
   "execution_count": null,
   "metadata": {},
   "outputs": [],
   "source": [
    "response_nl2kg = nl2kg_query_engine.query(\"什么是经济学十大原理.\")\n",
    "\n",
    "\n",
    "display(Markdown(f\"<b>{response_nl2kg}</b>\"))\n",
    "\n",
    "# Cypher:\n",
    "\n",
    "print(\"Cypher Query:\")\n",
    "\n",
    "graph_query = nl2kg_query_engine.generate_query(\n",
    "    \"什么是经济学十大原理\",\n",
    ")\n",
    "graph_query = graph_query.replace(\"WHERE\", \"\\n  WHERE\").replace(\"RETURN\", \"\\nRETURN\")\n",
    "\n",
    "display(\n",
    "    Markdown(\n",
    "        f\"\"\"\n",
    "```cypher\n",
    "{graph_query}\n",
    "```\n",
    "\"\"\"\n",
    "    )\n",
    ")"
   ]
  },
  {
   "cell_type": "markdown",
   "metadata": {},
   "source": [
    "### 6.2 Graph RAG"
   ]
  },
  {
   "cell_type": "code",
   "execution_count": null,
   "metadata": {},
   "outputs": [],
   "source": [
    "response_graph_rag = kg_rag_query_engine.query(\"什么是经济学十大原理\")\n",
    "\n",
    "display(Markdown(f\"<b>{response_graph_rag}</b>\"))"
   ]
  },
  {
   "cell_type": "markdown",
   "metadata": {},
   "source": [
    "### 6.3 Vector RAG"
   ]
  },
  {
   "cell_type": "code",
   "execution_count": null,
   "metadata": {},
   "outputs": [],
   "source": [
    "response_vector_rag = vector_rag_query_engine.query(\"什么是经济学十大原理\")\n",
    "\n",
    "display(Markdown(f\"<b>{response_vector_rag}</b>\"))"
   ]
  },
  {
   "cell_type": "code",
   "execution_count": null,
   "metadata": {},
   "outputs": [],
   "source": [
    "display(\n",
    "    Markdown(\n",
    "        llm.complete(f\"\"\"\n",
    "Compare the two QA result on \"什么是经济学十大原理\", list the differences between them, to help evalute them. Output in markdown table.\n",
    "\n",
    "Result from Graph: {response_graph_rag}\n",
    "---\n",
    "Result from Vector: {response_vector_rag}\n",
    "\n",
    "\"\"\"\n",
    "           ).text\n",
    "    )\n",
    ")"
   ]
  },
  {
   "cell_type": "markdown",
   "metadata": {},
   "source": [
    "### 6.4 Graph + Vector RAG"
   ]
  },
  {
   "cell_type": "code",
   "execution_count": null,
   "metadata": {},
   "outputs": [],
   "source": [
    "response_graph_vector_rag = graph_vector_rag_query_engine.query(\"什么是经济学十大原理\")\n",
    "\n",
    "display(Markdown(f\"<b>{response_graph_vector_rag}</b>\"))"
   ]
  },
  {
   "cell_type": "markdown",
   "metadata": {},
   "source": [
    "### 6.5 Overall Comparision"
   ]
  },
  {
   "cell_type": "markdown",
   "metadata": {},
   "source": [
    "Let's compare the results of them.\n",
    "\n",
    "First check the information that were coverred by different approaches:"
   ]
  },
  {
   "cell_type": "code",
   "execution_count": null,
   "metadata": {},
   "outputs": [],
   "source": [
    "display(\n",
    "    Markdown(\n",
    "        llm(f\"\"\"\n",
    "Compare the QA results on \"Tell me about Peter Quill.\", list the knowledge facts between them, to help evalute them. Output in markdown table.\n",
    "\n",
    "Result text2GraphQuery: {response_nl2kg}\n",
    "---\n",
    "Result Graph: {response_graph_rag}\n",
    "---\n",
    "Result Vector: {response_vector_rag}\n",
    "---\n",
    "Result Graph+Vector: {response_graph_vector_rag}\n",
    "---\n",
    "\n",
    "\"\"\"\n",
    "           )\n",
    "    )\n",
    ")"
   ]
  },
  {
   "cell_type": "markdown",
   "metadata": {},
   "source": [
    "**Conclusion**\n",
    "\n",
    "- The pure **KG**(both text2GraphQuery and Graph RAG) comes with **concise** results, and much **lower cost**(for cost comparision see our previous result [here](https://gpt-index.readthedocs.io/en/latest/examples/index_structs/knowledge_graph/KnowledgeGraphIndex_vs_VectorStoreIndex_vs_CustomIndex_combined.html#comparison-of-results) )\n",
    "- The **Graph+Vector** RAG could be more **comprehensive** in case the question envolves knowledge that's fine-grained **spread** across more chunks than top-K searching.\n",
    "\n",
    "\n",
    "| QueryEngine | Knowledge Graph query engine                                 | Graph RAG query engine                                       | Vector RAG query engine                                      | Graph Vector RAG query engine                                |\n",
    "| ----------- | ------------------------------------------------------------ | ------------------------------------------------------------ | ------------------------------------------------------------ | ------------------------------------------------------------ |\n",
    "| Mechanism   | 1. **Text-to-GraphQuery** based on KG<br />2. Query KG with the result<br />3. Answer synthesis based on query result | 1. Get related entities of the question<br />2. Get n-depth **SubGraphs** of related entities from KG<br />3. Answer synthesis based on related SubGraphs | 1. Create embedding of question<br />2. Semantic search **top-k related doc chunks**<br />3. Answer synthesis based on related doc chunks | 1. Do retrieval as Vector and Graph RAG <br />2. Answer synthesis based on **both related chunks and SubGraphs** |\n",
    "| Performance | Concise                                                      | Concise                                                      | Fruitful                                                     | Fruitful, could be more comprehensive                        |\n",
    "| Cost        | Low                                                          | Low                                                          | High                                                         | High                                                         |\n"
   ]
  },
  {
   "cell_type": "markdown",
   "metadata": {},
   "source": [
    "**Conclusion**\n",
    "\n",
    "For those tasks:\n",
    "\n",
    "- Potentially cares more relationed knowledge\n",
    "- Schema of the KG is sophisticated to be hard for text2cypher to express the task\n",
    "- KG quality isn't good enough\n",
    "- Multiple \"starting entities\" are involved\n",
    "\n",
    "Graph RAG could be a better approach to start with."
   ]
  },
  {
   "cell_type": "markdown",
   "id": "3b21d109",
   "metadata": {},
   "source": [
    "## 7. Financial Evaluation on four types of engines"
   ]
  },
  {
   "cell_type": "markdown",
   "id": "fb7d3cd5",
   "metadata": {},
   "source": [
    "### 7.1 FinEval on query engines base on nodes of different chunk sizes and chunk overlaps"
   ]
  },
  {
   "cell_type": "code",
   "execution_count": 9,
   "id": "590bcfff",
   "metadata": {},
   "outputs": [
    {
     "name": "stdout",
     "output_type": "stream",
     "text": [
      "INFO:llama_index.core.indices.loading:Loading all indices.\n",
      "INFO:llama_index.core.indices.loading:Loading all indices.\n",
      "INFO:llama_index.core.indices.loading:Loading all indices.\n"
     ]
    },
    {
     "name": "stderr",
     "output_type": "stream",
     "text": [
      "Exception ignored in: <function NebulaGraphStore.__del__ at 0x000001CE40D5AD40>\n",
      "Traceback (most recent call last):\n",
      "  File \"e:\\anaconda\\app\\envs\\chatglm3\\lib\\site-packages\\llama_index\\graph_stores\\nebula\\base.py\", line 242, in __del__\n",
      "    self._session_pool.close()\n",
      "AttributeError: 'NoneType' object has no attribute 'close'\n"
     ]
    },
    {
     "name": "stdout",
     "output_type": "stream",
     "text": [
      "INFO:llama_index.core.indices.loading:Loading all indices.\n",
      "INFO:llama_index.core.indices.loading:Loading all indices.\n",
      "INFO:llama_index.core.indices.loading:Loading all indices.\n",
      "INFO:llama_index.core.indices.loading:Loading all indices.\n",
      "INFO:llama_index.core.indices.loading:Loading all indices.\n",
      "INFO:llama_index.core.indices.loading:Loading all indices.\n",
      "INFO:llama_index.core.indices.loading:Loading all indices.\n",
      "INFO:llama_index.core.indices.loading:Loading all indices.\n",
      "INFO:llama_index.core.indices.loading:Loading all indices.\n"
     ]
    }
   ],
   "source": [
    "chunk_size_ls = [256, 512, 1024]\n",
    "chunk_overlap_pct_ls = [1/8, 1/4]\n",
    "nodes_group_ls = []\n",
    "for chunk_size in chunk_size_ls:\n",
    "    for chunk_overlap_pct in chunk_overlap_pct_ls:\n",
    "        chunk_overlap = int(chunk_size * chunk_overlap_pct)\n",
    "        nodes_group = f'size_{chunk_size}_overlap_{chunk_overlap}'\n",
    "        nodes_group_ls.append(nodes_group)\n",
    "query_engine_dc = get_all_query_engine_from_cache_index(kg_index_folder_path='../storage/storage_graph',\n",
    "                                                        vector_index_folder_path='../storage/storage_vector',\n",
    "                                                        nodes_group=nodes_group_ls)"
   ]
  },
  {
   "cell_type": "code",
   "execution_count": 15,
   "id": "2911c5a2",
   "metadata": {},
   "outputs": [],
   "source": [
    "import os\n",
    "import pandas as pd\n",
    "import json\n",
    "import time\n",
    "\n",
    "choices = [\"A\", \"B\", \"C\", \"D\"]\n",
    "eval_path = ''\n",
    "\n",
    "def fineval(args, evaluator, take):\n",
    "    assert os.path.exists(eval_path + \"subject_mapping.json\"), \"subject_mapping.json not found!\"\n",
    "    with open(eval_path+ \"subject_mapping.json\") as f:\n",
    "        subject_mapping = json.load(f)\n",
    "    subject_mapping = {'microeconomics': subject_mapping['microeconomics']}\n",
    "    filenames = os.listdir(eval_path + \"data/val\")\n",
    "    subject_list = [val_file.replace(\"_val.csv\", \"\") for val_file in filenames]\n",
    "    accuracy, summary = {}, {}\n",
    "\n",
    "    run_date = time.strftime('%Y-%m-%d_%H-%M-%S', time.localtime(time.time()))\n",
    "    output_dir = args['output_dir']\n",
    "    save_result_dir = os.path.join(output_dir, f\"take{take}\")\n",
    "    if not os.path.exists(save_result_dir):\n",
    "        os.makedirs(save_result_dir, exist_ok=True)\n",
    "\n",
    "    print(f\"############# nodes group: {args['nodes_group']} ###############\")\n",
    "\n",
    "    all_answers = {}\n",
    "    for index, subject_name in enumerate(subject_list):\n",
    "        print(\n",
    "            f\"{index / len(subject_list)} Inference starts at {run_date} on {args['model_name']} with subject of {subject_name}!\")\n",
    "        val_file_path = os.path.join('data/val', f'{subject_name}_val.csv')\n",
    "        dev_file_path = os.path.join('data/dev', f'{subject_name}_dev.csv')\n",
    "        test_file_path = os.path.join('data/test', f'{subject_name}_test.csv')\n",
    "\n",
    "        val_df = pd.read_csv(val_file_path) if args['do_test'] is False else pd.read_csv(test_file_path)\n",
    "        dev_df = pd.read_csv(dev_file_path) if args['few_shot'] else None\n",
    "\n",
    "        correct_ratio, answers = evaluator.eval_subject(subject_name, val_df, dev_df,\n",
    "                                                        save_result_dir=save_result_dir if args['do_save_csv'] else None,\n",
    "                                                        few_shot=args['few_shot'],\n",
    "                                                        cot=args['cot'],\n",
    "                                                        )\n",
    "        print(f\"Subject: {subject_name}\")\n",
    "        print(f\"Acc: {correct_ratio}\")\n",
    "        accuracy[subject_name] = correct_ratio\n",
    "        summary[subject_name] = {\"score\": correct_ratio,\n",
    "                                 \"num\": len(val_df),\n",
    "                                 \"correct\": correct_ratio * len(val_df) / 100}\n",
    "        all_answers[subject_name] = answers\n",
    "\n",
    "    json.dump(all_answers, open(save_result_dir + '/submission.json', 'w'), ensure_ascii=False, indent=4)\n",
    "    print(\"Accuracy:\")\n",
    "    for k, v in accuracy.items():\n",
    "        print(k, \": \", v)\n",
    "\n",
    "    total_num = 0\n",
    "    total_correct = 0\n",
    "    summary['grouped'] = {\n",
    "        # \"Accounting\": {\"correct\": 0.0, \"num\": 0},\n",
    "        # \"Finance\": {\"correct\": 0.0, \"num\": 0},\n",
    "        \"Economy\": {\"correct\": 0.0, \"num\": 0},\n",
    "        # \"Certificate\": {\"correct\": 0.0, \"num\": 0}\n",
    "    }\n",
    "    for subj, info in subject_mapping.items():\n",
    "        group = info[2]\n",
    "        summary['grouped'][group][\"num\"] += summary[subj]['num']\n",
    "        summary['grouped'][group][\"correct\"] += summary[subj]['correct']\n",
    "    for group, info in summary['grouped'].items():\n",
    "        info['score'] = info[\"correct\"] / info[\"num\"]\n",
    "        total_num += info[\"num\"]\n",
    "        total_correct += info[\"correct\"]\n",
    "    summary['All'] = {\"score\": total_correct / total_num, \"num\": total_num, \"correct\": total_correct}\n",
    "\n",
    "    print('-' * 80)\n",
    "    print(\"Accuracy_subject:\")\n",
    "    for k, v in accuracy.items():\n",
    "        print(k, \": \", v)\n",
    "    print('-' * 80)\n",
    "    print(\"Accuracy_grouped:\")\n",
    "    for k, v in summary['grouped'].items():\n",
    "        print(k, \": \", v['score'])\n",
    "\n",
    "    print(\"Avg: \")\n",
    "    print(summary['All']['score'])\n",
    "\n",
    "    json.dump(summary, open(save_result_dir + '/summary.json', 'w'), ensure_ascii=False, indent=2)\n",
    "    return summary"
   ]
  },
  {
   "cell_type": "code",
   "execution_count": 11,
   "id": "19908354",
   "metadata": {},
   "outputs": [],
   "source": [
    "cot = False\n",
    "few_shot = False\n",
    "ntrain = 5\n",
    "n_times = 1\n",
    "do_save_csv = False\n",
    "output_dir = eval_path + 'output'\n",
    "model_name = 'chatglm'\n",
    "do_test = False\n",
    "args = dict(\n",
    "    cot=cot,\n",
    "    few_shot = few_shot,\n",
    "    ntrain = ntrain,\n",
    "    n_times = n_times,\n",
    "    do_save_csv = do_save_csv,\n",
    "    output_dir = output_dir,\n",
    "    model_name = model_name,\n",
    "    do_test = do_test\n",
    ")\n",
    "\n",
    "tree_summary_template = \\\n",
    "    \"从不同来源获取的参考信息如下:\\n\" \\\n",
    "    \"---------------------\\n\" \\\n",
    "    \"{context_str}\\n\" \\\n",
    "    \"---------------------\\n\" \\\n",
    "    \"题目:{query_str}\" \n",
    "\n",
    "graph_query_synthesis_prompt = \\\n",
    "    \"\"\"\n",
    "    你是一个专业的人工智能助手\n",
    "    现在有一个基于Nebula搭建的财经百科知识图谱，给定这个图谱框架结构，请你根据框架结构将问题文本转化成Nebula Cypher查询语句\n",
    "    保证查询语可以直接在Nebula终端中运行\n",
    "\n",
    "    知识图谱框架:{schema}\n",
    "    问题: {query_str}\n",
    "    \"\"\"\n",
    "\n",
    "graph_response_answer_prompt = \\\n",
    "    \"\"\"\n",
    "    原问题被转化成了查询语句，查询语句和查询结果将作为参考信息，如下:\n",
    "\n",
    "    查询语句: {kg_query_str}\n",
    "    查询结果: {kg_response_str}\n",
    "    题目: {query_str}\n",
    "    \"\"\""
   ]
  },
  {
   "cell_type": "code",
   "execution_count": 21,
   "id": "93fdd932",
   "metadata": {},
   "outputs": [
    {
     "name": "stdout",
     "output_type": "stream",
     "text": [
      "############# nodes group: size_1024_overlap_256 ###############\n",
      "0.0 Inference starts at 2024-04-12_00-03-59 on chatglm with subject of microeconomics!\n"
     ]
    },
    {
     "name": "stderr",
     "output_type": "stream",
     "text": [
      "  0%|          | 0/40 [00:00<?, ?it/s]"
     ]
    },
    {
     "name": "stdout",
     "output_type": "stream",
     "text": [
      "INFO:httpx:HTTP Request: POST http://gemini2.sufe.edu.cn:27282/v1/chat/completions \"HTTP/1.1 200 OK\"\n"
     ]
    },
    {
     "name": "stderr",
     "output_type": "stream",
     "text": [
      "  2%|▎         | 1/40 [00:00<00:29,  1.33it/s]"
     ]
    },
    {
     "name": "stdout",
     "output_type": "stream",
     "text": [
      "INFO:httpx:HTTP Request: POST http://gemini2.sufe.edu.cn:27282/v1/chat/completions \"HTTP/1.1 200 OK\"\n"
     ]
    },
    {
     "name": "stderr",
     "output_type": "stream",
     "text": [
      "  5%|▌         | 2/40 [00:01<00:23,  1.60it/s]"
     ]
    },
    {
     "name": "stdout",
     "output_type": "stream",
     "text": [
      "INFO:httpx:HTTP Request: POST http://gemini2.sufe.edu.cn:27282/v1/chat/completions \"HTTP/1.1 200 OK\"\n"
     ]
    },
    {
     "name": "stderr",
     "output_type": "stream",
     "text": [
      "  8%|▊         | 3/40 [00:01<00:23,  1.56it/s]"
     ]
    },
    {
     "name": "stdout",
     "output_type": "stream",
     "text": [
      "INFO:httpx:HTTP Request: POST http://gemini2.sufe.edu.cn:27282/v1/chat/completions \"HTTP/1.1 200 OK\"\n"
     ]
    },
    {
     "name": "stderr",
     "output_type": "stream",
     "text": [
      " 10%|█         | 4/40 [00:02<00:22,  1.58it/s]"
     ]
    },
    {
     "name": "stdout",
     "output_type": "stream",
     "text": [
      "INFO:httpx:HTTP Request: POST http://gemini2.sufe.edu.cn:27282/v1/chat/completions \"HTTP/1.1 200 OK\"\n"
     ]
    },
    {
     "name": "stderr",
     "output_type": "stream",
     "text": [
      " 12%|█▎        | 5/40 [00:03<00:21,  1.63it/s]"
     ]
    },
    {
     "name": "stdout",
     "output_type": "stream",
     "text": [
      "INFO:httpx:HTTP Request: POST http://gemini2.sufe.edu.cn:27282/v1/chat/completions \"HTTP/1.1 200 OK\"\n"
     ]
    },
    {
     "name": "stderr",
     "output_type": "stream",
     "text": [
      " 15%|█▌        | 6/40 [00:03<00:19,  1.77it/s]"
     ]
    },
    {
     "name": "stdout",
     "output_type": "stream",
     "text": [
      "INFO:httpx:HTTP Request: POST http://gemini2.sufe.edu.cn:27282/v1/chat/completions \"HTTP/1.1 200 OK\"\n"
     ]
    },
    {
     "name": "stderr",
     "output_type": "stream",
     "text": [
      " 18%|█▊        | 7/40 [00:04<00:21,  1.53it/s]"
     ]
    },
    {
     "name": "stdout",
     "output_type": "stream",
     "text": [
      "INFO:httpx:HTTP Request: POST http://gemini2.sufe.edu.cn:27282/v1/chat/completions \"HTTP/1.1 200 OK\"\n"
     ]
    },
    {
     "name": "stderr",
     "output_type": "stream",
     "text": [
      " 20%|██        | 8/40 [00:05<00:19,  1.60it/s]"
     ]
    },
    {
     "name": "stdout",
     "output_type": "stream",
     "text": [
      "INFO:httpx:HTTP Request: POST http://gemini2.sufe.edu.cn:27282/v1/chat/completions \"HTTP/1.1 200 OK\"\n"
     ]
    },
    {
     "name": "stderr",
     "output_type": "stream",
     "text": [
      " 22%|██▎       | 9/40 [00:05<00:17,  1.73it/s]"
     ]
    },
    {
     "name": "stdout",
     "output_type": "stream",
     "text": [
      "INFO:httpx:HTTP Request: POST http://gemini2.sufe.edu.cn:27282/v1/chat/completions \"HTTP/1.1 200 OK\"\n"
     ]
    },
    {
     "name": "stderr",
     "output_type": "stream",
     "text": [
      " 25%|██▌       | 10/40 [00:06<00:17,  1.67it/s]"
     ]
    },
    {
     "name": "stdout",
     "output_type": "stream",
     "text": [
      "INFO:httpx:HTTP Request: POST http://gemini2.sufe.edu.cn:27282/v1/chat/completions \"HTTP/1.1 200 OK\"\n"
     ]
    },
    {
     "name": "stderr",
     "output_type": "stream",
     "text": [
      " 28%|██▊       | 11/40 [00:06<00:18,  1.54it/s]"
     ]
    },
    {
     "name": "stdout",
     "output_type": "stream",
     "text": [
      "INFO:httpx:HTTP Request: POST http://gemini2.sufe.edu.cn:27282/v1/chat/completions \"HTTP/1.1 200 OK\"\n"
     ]
    },
    {
     "name": "stderr",
     "output_type": "stream",
     "text": [
      " 30%|███       | 12/40 [00:07<00:18,  1.52it/s]"
     ]
    },
    {
     "name": "stdout",
     "output_type": "stream",
     "text": [
      "INFO:httpx:HTTP Request: POST http://gemini2.sufe.edu.cn:27282/v1/chat/completions \"HTTP/1.1 200 OK\"\n"
     ]
    },
    {
     "name": "stderr",
     "output_type": "stream",
     "text": [
      " 32%|███▎      | 13/40 [00:07<00:15,  1.72it/s]"
     ]
    },
    {
     "name": "stdout",
     "output_type": "stream",
     "text": [
      "INFO:httpx:HTTP Request: POST http://gemini2.sufe.edu.cn:27282/v1/chat/completions \"HTTP/1.1 200 OK\"\n"
     ]
    },
    {
     "name": "stderr",
     "output_type": "stream",
     "text": [
      " 35%|███▌      | 14/40 [00:08<00:14,  1.75it/s]"
     ]
    },
    {
     "name": "stdout",
     "output_type": "stream",
     "text": [
      "INFO:httpx:HTTP Request: POST http://gemini2.sufe.edu.cn:27282/v1/chat/completions \"HTTP/1.1 200 OK\"\n"
     ]
    },
    {
     "name": "stderr",
     "output_type": "stream",
     "text": [
      " 38%|███▊      | 15/40 [00:08<00:13,  1.86it/s]"
     ]
    },
    {
     "name": "stdout",
     "output_type": "stream",
     "text": [
      "INFO:httpx:HTTP Request: POST http://gemini2.sufe.edu.cn:27282/v1/chat/completions \"HTTP/1.1 200 OK\"\n"
     ]
    },
    {
     "name": "stderr",
     "output_type": "stream",
     "text": [
      " 40%|████      | 16/40 [00:09<00:11,  2.05it/s]"
     ]
    },
    {
     "name": "stdout",
     "output_type": "stream",
     "text": [
      "INFO:httpx:HTTP Request: POST http://gemini2.sufe.edu.cn:27282/v1/chat/completions \"HTTP/1.1 200 OK\"\n"
     ]
    },
    {
     "name": "stderr",
     "output_type": "stream",
     "text": [
      " 42%|████▎     | 17/40 [00:09<00:12,  1.90it/s]"
     ]
    },
    {
     "name": "stdout",
     "output_type": "stream",
     "text": [
      "INFO:httpx:HTTP Request: POST http://gemini2.sufe.edu.cn:27282/v1/chat/completions \"HTTP/1.1 200 OK\"\n"
     ]
    },
    {
     "name": "stderr",
     "output_type": "stream",
     "text": [
      " 45%|████▌     | 18/40 [00:10<00:11,  1.87it/s]"
     ]
    },
    {
     "name": "stdout",
     "output_type": "stream",
     "text": [
      "INFO:httpx:HTTP Request: POST http://gemini2.sufe.edu.cn:27282/v1/chat/completions \"HTTP/1.1 200 OK\"\n"
     ]
    },
    {
     "name": "stderr",
     "output_type": "stream",
     "text": [
      " 48%|████▊     | 19/40 [00:11<00:12,  1.74it/s]"
     ]
    },
    {
     "name": "stdout",
     "output_type": "stream",
     "text": [
      "INFO:httpx:HTTP Request: POST http://gemini2.sufe.edu.cn:27282/v1/chat/completions \"HTTP/1.1 200 OK\"\n"
     ]
    },
    {
     "name": "stderr",
     "output_type": "stream",
     "text": [
      " 50%|█████     | 20/40 [00:11<00:12,  1.61it/s]"
     ]
    },
    {
     "name": "stdout",
     "output_type": "stream",
     "text": [
      "INFO:httpx:HTTP Request: POST http://gemini2.sufe.edu.cn:27282/v1/chat/completions \"HTTP/1.1 200 OK\"\n"
     ]
    },
    {
     "name": "stderr",
     "output_type": "stream",
     "text": [
      " 52%|█████▎    | 21/40 [00:12<00:10,  1.76it/s]"
     ]
    },
    {
     "name": "stdout",
     "output_type": "stream",
     "text": [
      "INFO:httpx:HTTP Request: POST http://gemini2.sufe.edu.cn:27282/v1/chat/completions \"HTTP/1.1 200 OK\"\n"
     ]
    },
    {
     "name": "stderr",
     "output_type": "stream",
     "text": [
      " 55%|█████▌    | 22/40 [00:12<00:10,  1.79it/s]"
     ]
    },
    {
     "name": "stdout",
     "output_type": "stream",
     "text": [
      "INFO:httpx:HTTP Request: POST http://gemini2.sufe.edu.cn:27282/v1/chat/completions \"HTTP/1.1 200 OK\"\n"
     ]
    },
    {
     "name": "stderr",
     "output_type": "stream",
     "text": [
      " 57%|█████▊    | 23/40 [00:13<00:11,  1.50it/s]"
     ]
    },
    {
     "name": "stdout",
     "output_type": "stream",
     "text": [
      "INFO:httpx:HTTP Request: POST http://gemini2.sufe.edu.cn:27282/v1/chat/completions \"HTTP/1.1 200 OK\"\n"
     ]
    },
    {
     "name": "stderr",
     "output_type": "stream",
     "text": [
      " 60%|██████    | 24/40 [00:14<00:10,  1.56it/s]"
     ]
    },
    {
     "name": "stdout",
     "output_type": "stream",
     "text": [
      "INFO:httpx:HTTP Request: POST http://gemini2.sufe.edu.cn:27282/v1/chat/completions \"HTTP/1.1 200 OK\"\n"
     ]
    },
    {
     "name": "stderr",
     "output_type": "stream",
     "text": [
      " 62%|██████▎   | 25/40 [00:15<00:09,  1.54it/s]"
     ]
    },
    {
     "name": "stdout",
     "output_type": "stream",
     "text": [
      "INFO:httpx:HTTP Request: POST http://gemini2.sufe.edu.cn:27282/v1/chat/completions \"HTTP/1.1 200 OK\"\n"
     ]
    },
    {
     "name": "stderr",
     "output_type": "stream",
     "text": [
      " 65%|██████▌   | 26/40 [00:15<00:09,  1.48it/s]"
     ]
    },
    {
     "name": "stdout",
     "output_type": "stream",
     "text": [
      "INFO:httpx:HTTP Request: POST http://gemini2.sufe.edu.cn:27282/v1/chat/completions \"HTTP/1.1 200 OK\"\n"
     ]
    },
    {
     "name": "stderr",
     "output_type": "stream",
     "text": [
      " 68%|██████▊   | 27/40 [00:16<00:08,  1.49it/s]"
     ]
    },
    {
     "name": "stdout",
     "output_type": "stream",
     "text": [
      "INFO:httpx:HTTP Request: POST http://gemini2.sufe.edu.cn:27282/v1/chat/completions \"HTTP/1.1 200 OK\"\n"
     ]
    },
    {
     "name": "stderr",
     "output_type": "stream",
     "text": [
      " 70%|███████   | 28/40 [00:17<00:07,  1.59it/s]"
     ]
    },
    {
     "name": "stdout",
     "output_type": "stream",
     "text": [
      "INFO:httpx:HTTP Request: POST http://gemini2.sufe.edu.cn:27282/v1/chat/completions \"HTTP/1.1 200 OK\"\n"
     ]
    },
    {
     "name": "stderr",
     "output_type": "stream",
     "text": [
      " 72%|███████▎  | 29/40 [00:18<00:08,  1.34it/s]"
     ]
    },
    {
     "name": "stdout",
     "output_type": "stream",
     "text": [
      "INFO:httpx:HTTP Request: POST http://gemini2.sufe.edu.cn:27282/v1/chat/completions \"HTTP/1.1 200 OK\"\n"
     ]
    },
    {
     "name": "stderr",
     "output_type": "stream",
     "text": [
      " 75%|███████▌  | 30/40 [00:18<00:06,  1.46it/s]"
     ]
    },
    {
     "name": "stdout",
     "output_type": "stream",
     "text": [
      "INFO:httpx:HTTP Request: POST http://gemini2.sufe.edu.cn:27282/v1/chat/completions \"HTTP/1.1 200 OK\"\n"
     ]
    },
    {
     "name": "stderr",
     "output_type": "stream",
     "text": [
      " 78%|███████▊  | 31/40 [00:19<00:05,  1.54it/s]"
     ]
    },
    {
     "name": "stdout",
     "output_type": "stream",
     "text": [
      "INFO:httpx:HTTP Request: POST http://gemini2.sufe.edu.cn:27282/v1/chat/completions \"HTTP/1.1 200 OK\"\n"
     ]
    },
    {
     "name": "stderr",
     "output_type": "stream",
     "text": [
      " 80%|████████  | 32/40 [00:19<00:05,  1.56it/s]"
     ]
    },
    {
     "name": "stdout",
     "output_type": "stream",
     "text": [
      "INFO:httpx:HTTP Request: POST http://gemini2.sufe.edu.cn:27282/v1/chat/completions \"HTTP/1.1 200 OK\"\n"
     ]
    },
    {
     "name": "stderr",
     "output_type": "stream",
     "text": [
      " 82%|████████▎ | 33/40 [00:20<00:04,  1.68it/s]"
     ]
    },
    {
     "name": "stdout",
     "output_type": "stream",
     "text": [
      "INFO:httpx:HTTP Request: POST http://gemini2.sufe.edu.cn:27282/v1/chat/completions \"HTTP/1.1 200 OK\"\n"
     ]
    },
    {
     "name": "stderr",
     "output_type": "stream",
     "text": [
      " 85%|████████▌ | 34/40 [00:21<00:04,  1.44it/s]"
     ]
    },
    {
     "name": "stdout",
     "output_type": "stream",
     "text": [
      "INFO:httpx:HTTP Request: POST http://gemini2.sufe.edu.cn:27282/v1/chat/completions \"HTTP/1.1 200 OK\"\n"
     ]
    },
    {
     "name": "stderr",
     "output_type": "stream",
     "text": [
      " 88%|████████▊ | 35/40 [00:21<00:03,  1.53it/s]"
     ]
    },
    {
     "name": "stdout",
     "output_type": "stream",
     "text": [
      "INFO:httpx:HTTP Request: POST http://gemini2.sufe.edu.cn:27282/v1/chat/completions \"HTTP/1.1 200 OK\"\n"
     ]
    },
    {
     "name": "stderr",
     "output_type": "stream",
     "text": [
      " 90%|█████████ | 36/40 [00:22<00:02,  1.61it/s]"
     ]
    },
    {
     "name": "stdout",
     "output_type": "stream",
     "text": [
      "INFO:httpx:HTTP Request: POST http://gemini2.sufe.edu.cn:27282/v1/chat/completions \"HTTP/1.1 200 OK\"\n"
     ]
    },
    {
     "name": "stderr",
     "output_type": "stream",
     "text": [
      " 92%|█████████▎| 37/40 [00:22<00:01,  1.66it/s]"
     ]
    },
    {
     "name": "stdout",
     "output_type": "stream",
     "text": [
      "INFO:httpx:HTTP Request: POST http://gemini2.sufe.edu.cn:27282/v1/chat/completions \"HTTP/1.1 200 OK\"\n"
     ]
    },
    {
     "name": "stderr",
     "output_type": "stream",
     "text": [
      " 95%|█████████▌| 38/40 [00:23<00:01,  1.78it/s]"
     ]
    },
    {
     "name": "stdout",
     "output_type": "stream",
     "text": [
      "INFO:httpx:HTTP Request: POST http://gemini2.sufe.edu.cn:27282/v1/chat/completions \"HTTP/1.1 200 OK\"\n"
     ]
    },
    {
     "name": "stderr",
     "output_type": "stream",
     "text": [
      " 98%|█████████▊| 39/40 [00:24<00:00,  1.40it/s]"
     ]
    },
    {
     "name": "stdout",
     "output_type": "stream",
     "text": [
      "INFO:httpx:HTTP Request: POST http://gemini2.sufe.edu.cn:27282/v1/chat/completions \"HTTP/1.1 200 OK\"\n"
     ]
    },
    {
     "name": "stderr",
     "output_type": "stream",
     "text": [
      "100%|██████████| 40/40 [00:24<00:00,  1.60it/s]\n"
     ]
    },
    {
     "name": "stdout",
     "output_type": "stream",
     "text": [
      "Subject: microeconomics\n",
      "Acc: 0.0\n",
      "Accuracy:\n",
      "microeconomics :  0.0\n",
      "--------------------------------------------------------------------------------\n",
      "Accuracy_subject:\n",
      "microeconomics :  0.0\n",
      "--------------------------------------------------------------------------------\n",
      "Accuracy_grouped:\n",
      "Economy :  0.0\n",
      "Avg: \n",
      "0.0\n",
      "############# nodes group: size_1024_overlap_256 ###############\n",
      "0.0 Inference starts at 2024-04-12_00-04-24 on chatglm with subject of microeconomics!\n"
     ]
    },
    {
     "name": "stderr",
     "output_type": "stream",
     "text": [
      "  0%|          | 0/40 [00:00<?, ?it/s]"
     ]
    },
    {
     "name": "stdout",
     "output_type": "stream",
     "text": [
      "INFO:httpx:HTTP Request: POST http://gemini2.sufe.edu.cn:27282/v1/chat/completions \"HTTP/1.1 200 OK\"\n"
     ]
    },
    {
     "name": "stderr",
     "output_type": "stream",
     "text": [
      "  2%|▎         | 1/40 [00:00<00:30,  1.28it/s]"
     ]
    },
    {
     "name": "stdout",
     "output_type": "stream",
     "text": [
      "INFO:httpx:HTTP Request: POST http://gemini2.sufe.edu.cn:27282/v1/chat/completions \"HTTP/1.1 200 OK\"\n"
     ]
    },
    {
     "name": "stderr",
     "output_type": "stream",
     "text": [
      "  5%|▌         | 2/40 [00:01<00:24,  1.56it/s]"
     ]
    },
    {
     "name": "stdout",
     "output_type": "stream",
     "text": [
      "INFO:httpx:HTTP Request: POST http://gemini2.sufe.edu.cn:27282/v1/chat/completions \"HTTP/1.1 200 OK\"\n"
     ]
    },
    {
     "name": "stderr",
     "output_type": "stream",
     "text": [
      "  8%|▊         | 3/40 [00:01<00:23,  1.56it/s]"
     ]
    },
    {
     "name": "stdout",
     "output_type": "stream",
     "text": [
      "INFO:httpx:HTTP Request: POST http://gemini2.sufe.edu.cn:27282/v1/chat/completions \"HTTP/1.1 200 OK\"\n"
     ]
    },
    {
     "name": "stderr",
     "output_type": "stream",
     "text": [
      " 10%|█         | 4/40 [00:02<00:23,  1.52it/s]"
     ]
    },
    {
     "name": "stdout",
     "output_type": "stream",
     "text": [
      "INFO:httpx:HTTP Request: POST http://gemini2.sufe.edu.cn:27282/v1/chat/completions \"HTTP/1.1 200 OK\"\n"
     ]
    },
    {
     "name": "stderr",
     "output_type": "stream",
     "text": [
      " 12%|█▎        | 5/40 [00:03<00:22,  1.55it/s]"
     ]
    },
    {
     "name": "stdout",
     "output_type": "stream",
     "text": [
      "INFO:httpx:HTTP Request: POST http://gemini2.sufe.edu.cn:27282/v1/chat/completions \"HTTP/1.1 200 OK\"\n"
     ]
    },
    {
     "name": "stderr",
     "output_type": "stream",
     "text": [
      " 15%|█▌        | 6/40 [00:03<00:19,  1.72it/s]"
     ]
    },
    {
     "name": "stdout",
     "output_type": "stream",
     "text": [
      "INFO:httpx:HTTP Request: POST http://gemini2.sufe.edu.cn:27282/v1/chat/completions \"HTTP/1.1 200 OK\"\n"
     ]
    },
    {
     "name": "stderr",
     "output_type": "stream",
     "text": [
      " 18%|█▊        | 7/40 [00:04<00:20,  1.58it/s]"
     ]
    },
    {
     "name": "stdout",
     "output_type": "stream",
     "text": [
      "INFO:httpx:HTTP Request: POST http://gemini2.sufe.edu.cn:27282/v1/chat/completions \"HTTP/1.1 200 OK\"\n"
     ]
    },
    {
     "name": "stderr",
     "output_type": "stream",
     "text": [
      " 20%|██        | 8/40 [00:05<00:19,  1.63it/s]"
     ]
    },
    {
     "name": "stdout",
     "output_type": "stream",
     "text": [
      "INFO:httpx:HTTP Request: POST http://gemini2.sufe.edu.cn:27282/v1/chat/completions \"HTTP/1.1 200 OK\"\n"
     ]
    },
    {
     "name": "stderr",
     "output_type": "stream",
     "text": [
      " 22%|██▎       | 9/40 [00:05<00:18,  1.68it/s]"
     ]
    },
    {
     "name": "stdout",
     "output_type": "stream",
     "text": [
      "INFO:httpx:HTTP Request: POST http://gemini2.sufe.edu.cn:27282/v1/chat/completions \"HTTP/1.1 200 OK\"\n"
     ]
    },
    {
     "name": "stderr",
     "output_type": "stream",
     "text": [
      " 25%|██▌       | 10/40 [00:06<00:18,  1.59it/s]"
     ]
    },
    {
     "name": "stdout",
     "output_type": "stream",
     "text": [
      "INFO:httpx:HTTP Request: POST http://gemini2.sufe.edu.cn:27282/v1/chat/completions \"HTTP/1.1 200 OK\"\n"
     ]
    },
    {
     "name": "stderr",
     "output_type": "stream",
     "text": [
      " 28%|██▊       | 11/40 [00:06<00:18,  1.54it/s]"
     ]
    },
    {
     "name": "stdout",
     "output_type": "stream",
     "text": [
      "INFO:httpx:HTTP Request: POST http://gemini2.sufe.edu.cn:27282/v1/chat/completions \"HTTP/1.1 200 OK\"\n"
     ]
    },
    {
     "name": "stderr",
     "output_type": "stream",
     "text": [
      " 30%|███       | 12/40 [00:07<00:18,  1.53it/s]"
     ]
    },
    {
     "name": "stdout",
     "output_type": "stream",
     "text": [
      "INFO:httpx:HTTP Request: POST http://gemini2.sufe.edu.cn:27282/v1/chat/completions \"HTTP/1.1 200 OK\"\n"
     ]
    },
    {
     "name": "stderr",
     "output_type": "stream",
     "text": [
      " 32%|███▎      | 13/40 [00:08<00:15,  1.79it/s]"
     ]
    },
    {
     "name": "stdout",
     "output_type": "stream",
     "text": [
      "INFO:httpx:HTTP Request: POST http://gemini2.sufe.edu.cn:27282/v1/chat/completions \"HTTP/1.1 200 OK\"\n"
     ]
    },
    {
     "name": "stderr",
     "output_type": "stream",
     "text": [
      " 35%|███▌      | 14/40 [00:08<00:14,  1.77it/s]"
     ]
    },
    {
     "name": "stdout",
     "output_type": "stream",
     "text": [
      "INFO:httpx:HTTP Request: POST http://gemini2.sufe.edu.cn:27282/v1/chat/completions \"HTTP/1.1 200 OK\"\n"
     ]
    },
    {
     "name": "stderr",
     "output_type": "stream",
     "text": [
      " 38%|███▊      | 15/40 [00:08<00:13,  1.92it/s]"
     ]
    },
    {
     "name": "stdout",
     "output_type": "stream",
     "text": [
      "INFO:httpx:HTTP Request: POST http://gemini2.sufe.edu.cn:27282/v1/chat/completions \"HTTP/1.1 200 OK\"\n"
     ]
    },
    {
     "name": "stderr",
     "output_type": "stream",
     "text": [
      " 40%|████      | 16/40 [00:09<00:12,  2.00it/s]"
     ]
    },
    {
     "name": "stdout",
     "output_type": "stream",
     "text": [
      "INFO:httpx:HTTP Request: POST http://gemini2.sufe.edu.cn:27282/v1/chat/completions \"HTTP/1.1 200 OK\"\n"
     ]
    },
    {
     "name": "stderr",
     "output_type": "stream",
     "text": [
      " 42%|████▎     | 17/40 [00:10<00:12,  1.84it/s]"
     ]
    },
    {
     "name": "stdout",
     "output_type": "stream",
     "text": [
      "INFO:httpx:HTTP Request: POST http://gemini2.sufe.edu.cn:27282/v1/chat/completions \"HTTP/1.1 200 OK\"\n"
     ]
    },
    {
     "name": "stderr",
     "output_type": "stream",
     "text": [
      " 45%|████▌     | 18/40 [00:10<00:12,  1.78it/s]"
     ]
    },
    {
     "name": "stdout",
     "output_type": "stream",
     "text": [
      "INFO:httpx:HTTP Request: POST http://gemini2.sufe.edu.cn:27282/v1/chat/completions \"HTTP/1.1 200 OK\"\n"
     ]
    },
    {
     "name": "stderr",
     "output_type": "stream",
     "text": [
      " 48%|████▊     | 19/40 [00:11<00:12,  1.69it/s]"
     ]
    },
    {
     "name": "stdout",
     "output_type": "stream",
     "text": [
      "INFO:httpx:HTTP Request: POST http://gemini2.sufe.edu.cn:27282/v1/chat/completions \"HTTP/1.1 200 OK\"\n"
     ]
    },
    {
     "name": "stderr",
     "output_type": "stream",
     "text": [
      " 50%|█████     | 20/40 [00:12<00:13,  1.54it/s]"
     ]
    },
    {
     "name": "stdout",
     "output_type": "stream",
     "text": [
      "INFO:httpx:HTTP Request: POST http://gemini2.sufe.edu.cn:27282/v1/chat/completions \"HTTP/1.1 200 OK\"\n"
     ]
    },
    {
     "name": "stderr",
     "output_type": "stream",
     "text": [
      " 52%|█████▎    | 21/40 [00:12<00:11,  1.65it/s]"
     ]
    },
    {
     "name": "stdout",
     "output_type": "stream",
     "text": [
      "INFO:httpx:HTTP Request: POST http://gemini2.sufe.edu.cn:27282/v1/chat/completions \"HTTP/1.1 200 OK\"\n"
     ]
    },
    {
     "name": "stderr",
     "output_type": "stream",
     "text": [
      " 55%|█████▌    | 22/40 [00:13<00:10,  1.65it/s]"
     ]
    },
    {
     "name": "stdout",
     "output_type": "stream",
     "text": [
      "INFO:httpx:HTTP Request: POST http://gemini2.sufe.edu.cn:27282/v1/chat/completions \"HTTP/1.1 200 OK\"\n"
     ]
    },
    {
     "name": "stderr",
     "output_type": "stream",
     "text": [
      " 57%|█████▊    | 23/40 [00:14<00:11,  1.45it/s]"
     ]
    },
    {
     "name": "stdout",
     "output_type": "stream",
     "text": [
      "INFO:httpx:HTTP Request: POST http://gemini2.sufe.edu.cn:27282/v1/chat/completions \"HTTP/1.1 200 OK\"\n"
     ]
    },
    {
     "name": "stderr",
     "output_type": "stream",
     "text": [
      " 60%|██████    | 24/40 [00:14<00:10,  1.50it/s]"
     ]
    },
    {
     "name": "stdout",
     "output_type": "stream",
     "text": [
      "INFO:httpx:HTTP Request: POST http://gemini2.sufe.edu.cn:27282/v1/chat/completions \"HTTP/1.1 200 OK\"\n"
     ]
    },
    {
     "name": "stderr",
     "output_type": "stream",
     "text": [
      " 62%|██████▎   | 25/40 [00:15<00:10,  1.45it/s]"
     ]
    },
    {
     "name": "stdout",
     "output_type": "stream",
     "text": [
      "INFO:httpx:HTTP Request: POST http://gemini2.sufe.edu.cn:27282/v1/chat/completions \"HTTP/1.1 200 OK\"\n"
     ]
    },
    {
     "name": "stderr",
     "output_type": "stream",
     "text": [
      " 65%|██████▌   | 26/40 [00:16<00:09,  1.41it/s]"
     ]
    },
    {
     "name": "stdout",
     "output_type": "stream",
     "text": [
      "INFO:httpx:HTTP Request: POST http://gemini2.sufe.edu.cn:27282/v1/chat/completions \"HTTP/1.1 200 OK\"\n"
     ]
    },
    {
     "name": "stderr",
     "output_type": "stream",
     "text": [
      " 68%|██████▊   | 27/40 [00:16<00:09,  1.44it/s]"
     ]
    },
    {
     "name": "stdout",
     "output_type": "stream",
     "text": [
      "INFO:httpx:HTTP Request: POST http://gemini2.sufe.edu.cn:27282/v1/chat/completions \"HTTP/1.1 200 OK\"\n"
     ]
    },
    {
     "name": "stderr",
     "output_type": "stream",
     "text": [
      " 70%|███████   | 28/40 [00:17<00:07,  1.54it/s]"
     ]
    },
    {
     "name": "stdout",
     "output_type": "stream",
     "text": [
      "INFO:httpx:HTTP Request: POST http://gemini2.sufe.edu.cn:27282/v1/chat/completions \"HTTP/1.1 200 OK\"\n"
     ]
    },
    {
     "name": "stderr",
     "output_type": "stream",
     "text": [
      " 72%|███████▎  | 29/40 [00:18<00:08,  1.31it/s]"
     ]
    },
    {
     "name": "stdout",
     "output_type": "stream",
     "text": [
      "INFO:httpx:HTTP Request: POST http://gemini2.sufe.edu.cn:27282/v1/chat/completions \"HTTP/1.1 200 OK\"\n"
     ]
    },
    {
     "name": "stderr",
     "output_type": "stream",
     "text": [
      " 75%|███████▌  | 30/40 [00:19<00:06,  1.45it/s]"
     ]
    },
    {
     "name": "stdout",
     "output_type": "stream",
     "text": [
      "INFO:httpx:HTTP Request: POST http://gemini2.sufe.edu.cn:27282/v1/chat/completions \"HTTP/1.1 200 OK\"\n"
     ]
    },
    {
     "name": "stderr",
     "output_type": "stream",
     "text": [
      " 78%|███████▊  | 31/40 [00:19<00:05,  1.54it/s]"
     ]
    },
    {
     "name": "stdout",
     "output_type": "stream",
     "text": [
      "INFO:httpx:HTTP Request: POST http://gemini2.sufe.edu.cn:27282/v1/chat/completions \"HTTP/1.1 200 OK\"\n"
     ]
    },
    {
     "name": "stderr",
     "output_type": "stream",
     "text": [
      " 80%|████████  | 32/40 [00:20<00:05,  1.55it/s]"
     ]
    },
    {
     "name": "stdout",
     "output_type": "stream",
     "text": [
      "INFO:httpx:HTTP Request: POST http://gemini2.sufe.edu.cn:27282/v1/chat/completions \"HTTP/1.1 200 OK\"\n"
     ]
    },
    {
     "name": "stderr",
     "output_type": "stream",
     "text": [
      " 82%|████████▎ | 33/40 [00:20<00:04,  1.66it/s]"
     ]
    },
    {
     "name": "stdout",
     "output_type": "stream",
     "text": [
      "INFO:httpx:HTTP Request: POST http://gemini2.sufe.edu.cn:27282/v1/chat/completions \"HTTP/1.1 200 OK\"\n"
     ]
    },
    {
     "name": "stderr",
     "output_type": "stream",
     "text": [
      " 85%|████████▌ | 34/40 [00:21<00:03,  1.82it/s]"
     ]
    },
    {
     "name": "stdout",
     "output_type": "stream",
     "text": [
      "INFO:httpx:HTTP Request: POST http://gemini2.sufe.edu.cn:27282/v1/chat/completions \"HTTP/1.1 200 OK\"\n"
     ]
    },
    {
     "name": "stderr",
     "output_type": "stream",
     "text": [
      " 88%|████████▊ | 35/40 [00:21<00:02,  1.83it/s]"
     ]
    },
    {
     "name": "stdout",
     "output_type": "stream",
     "text": [
      "INFO:httpx:HTTP Request: POST http://gemini2.sufe.edu.cn:27282/v1/chat/completions \"HTTP/1.1 200 OK\"\n"
     ]
    },
    {
     "name": "stderr",
     "output_type": "stream",
     "text": [
      " 90%|█████████ | 36/40 [00:22<00:02,  1.83it/s]"
     ]
    },
    {
     "name": "stdout",
     "output_type": "stream",
     "text": [
      "INFO:httpx:HTTP Request: POST http://gemini2.sufe.edu.cn:27282/v1/chat/completions \"HTTP/1.1 200 OK\"\n"
     ]
    },
    {
     "name": "stderr",
     "output_type": "stream",
     "text": [
      " 92%|█████████▎| 37/40 [00:22<00:01,  1.82it/s]"
     ]
    },
    {
     "name": "stdout",
     "output_type": "stream",
     "text": [
      "INFO:httpx:HTTP Request: POST http://gemini2.sufe.edu.cn:27282/v1/chat/completions \"HTTP/1.1 200 OK\"\n"
     ]
    },
    {
     "name": "stderr",
     "output_type": "stream",
     "text": [
      " 95%|█████████▌| 38/40 [00:23<00:01,  1.92it/s]"
     ]
    },
    {
     "name": "stdout",
     "output_type": "stream",
     "text": [
      "INFO:httpx:HTTP Request: POST http://gemini2.sufe.edu.cn:27282/v1/chat/completions \"HTTP/1.1 200 OK\"\n"
     ]
    },
    {
     "name": "stderr",
     "output_type": "stream",
     "text": [
      " 98%|█████████▊| 39/40 [00:24<00:00,  1.44it/s]"
     ]
    },
    {
     "name": "stdout",
     "output_type": "stream",
     "text": [
      "INFO:httpx:HTTP Request: POST http://gemini2.sufe.edu.cn:27282/v1/chat/completions \"HTTP/1.1 200 OK\"\n"
     ]
    },
    {
     "name": "stderr",
     "output_type": "stream",
     "text": [
      "100%|██████████| 40/40 [00:24<00:00,  1.61it/s]\n"
     ]
    },
    {
     "name": "stdout",
     "output_type": "stream",
     "text": [
      "Subject: microeconomics\n",
      "Acc: 0.0\n",
      "Accuracy:\n",
      "microeconomics :  0.0\n",
      "--------------------------------------------------------------------------------\n",
      "Accuracy_subject:\n",
      "microeconomics :  0.0\n",
      "--------------------------------------------------------------------------------\n",
      "Accuracy_grouped:\n",
      "Economy :  0.0\n",
      "Avg: \n",
      "0.0\n",
      "############# nodes group: size_1024_overlap_256 ###############\n",
      "0.0 Inference starts at 2024-04-12_00-04-49 on chatglm with subject of microeconomics!\n"
     ]
    },
    {
     "name": "stderr",
     "output_type": "stream",
     "text": [
      "  0%|          | 0/40 [00:00<?, ?it/s]"
     ]
    },
    {
     "name": "stdout",
     "output_type": "stream",
     "text": [
      "INFO:httpx:HTTP Request: POST http://gemini2.sufe.edu.cn:27282/v1/chat/completions \"HTTP/1.1 200 OK\"\n"
     ]
    },
    {
     "name": "stderr",
     "output_type": "stream",
     "text": [
      "  2%|▎         | 1/40 [00:00<00:27,  1.40it/s]"
     ]
    },
    {
     "name": "stdout",
     "output_type": "stream",
     "text": [
      "INFO:httpx:HTTP Request: POST http://gemini2.sufe.edu.cn:27282/v1/chat/completions \"HTTP/1.1 200 OK\"\n"
     ]
    },
    {
     "name": "stderr",
     "output_type": "stream",
     "text": [
      "  5%|▌         | 2/40 [00:01<00:24,  1.53it/s]"
     ]
    },
    {
     "name": "stdout",
     "output_type": "stream",
     "text": [
      "INFO:httpx:HTTP Request: POST http://gemini2.sufe.edu.cn:27282/v1/chat/completions \"HTTP/1.1 200 OK\"\n"
     ]
    },
    {
     "name": "stderr",
     "output_type": "stream",
     "text": [
      "  8%|▊         | 3/40 [00:02<00:24,  1.48it/s]"
     ]
    },
    {
     "name": "stdout",
     "output_type": "stream",
     "text": [
      "INFO:httpx:HTTP Request: POST http://gemini2.sufe.edu.cn:27282/v1/chat/completions \"HTTP/1.1 200 OK\"\n"
     ]
    },
    {
     "name": "stderr",
     "output_type": "stream",
     "text": [
      " 10%|█         | 4/40 [00:02<00:24,  1.47it/s]"
     ]
    },
    {
     "name": "stdout",
     "output_type": "stream",
     "text": [
      "INFO:httpx:HTTP Request: POST http://gemini2.sufe.edu.cn:27282/v1/chat/completions \"HTTP/1.1 200 OK\"\n"
     ]
    },
    {
     "name": "stderr",
     "output_type": "stream",
     "text": [
      " 12%|█▎        | 5/40 [00:03<00:22,  1.54it/s]"
     ]
    },
    {
     "name": "stdout",
     "output_type": "stream",
     "text": [
      "INFO:httpx:HTTP Request: POST http://gemini2.sufe.edu.cn:27282/v1/chat/completions \"HTTP/1.1 200 OK\"\n"
     ]
    },
    {
     "name": "stderr",
     "output_type": "stream",
     "text": [
      " 15%|█▌        | 6/40 [00:03<00:20,  1.69it/s]"
     ]
    },
    {
     "name": "stdout",
     "output_type": "stream",
     "text": [
      "INFO:httpx:HTTP Request: POST http://gemini2.sufe.edu.cn:27282/v1/chat/completions \"HTTP/1.1 200 OK\"\n"
     ]
    },
    {
     "name": "stderr",
     "output_type": "stream",
     "text": [
      " 18%|█▊        | 7/40 [00:04<00:21,  1.56it/s]"
     ]
    },
    {
     "name": "stdout",
     "output_type": "stream",
     "text": [
      "INFO:httpx:HTTP Request: POST http://gemini2.sufe.edu.cn:27282/v1/chat/completions \"HTTP/1.1 200 OK\"\n"
     ]
    },
    {
     "name": "stderr",
     "output_type": "stream",
     "text": [
      " 20%|██        | 8/40 [00:05<00:19,  1.61it/s]"
     ]
    },
    {
     "name": "stdout",
     "output_type": "stream",
     "text": [
      "INFO:httpx:HTTP Request: POST http://gemini2.sufe.edu.cn:27282/v1/chat/completions \"HTTP/1.1 200 OK\"\n"
     ]
    },
    {
     "name": "stderr",
     "output_type": "stream",
     "text": [
      " 22%|██▎       | 9/40 [00:05<00:17,  1.75it/s]"
     ]
    },
    {
     "name": "stdout",
     "output_type": "stream",
     "text": [
      "INFO:httpx:HTTP Request: POST http://gemini2.sufe.edu.cn:27282/v1/chat/completions \"HTTP/1.1 200 OK\"\n"
     ]
    },
    {
     "name": "stderr",
     "output_type": "stream",
     "text": [
      " 25%|██▌       | 10/40 [00:06<00:18,  1.65it/s]"
     ]
    },
    {
     "name": "stdout",
     "output_type": "stream",
     "text": [
      "INFO:httpx:HTTP Request: POST http://gemini2.sufe.edu.cn:27282/v1/chat/completions \"HTTP/1.1 200 OK\"\n"
     ]
    },
    {
     "name": "stderr",
     "output_type": "stream",
     "text": [
      " 28%|██▊       | 11/40 [00:06<00:18,  1.61it/s]"
     ]
    },
    {
     "name": "stdout",
     "output_type": "stream",
     "text": [
      "INFO:httpx:HTTP Request: POST http://gemini2.sufe.edu.cn:27282/v1/chat/completions \"HTTP/1.1 200 OK\"\n"
     ]
    },
    {
     "name": "stderr",
     "output_type": "stream",
     "text": [
      " 30%|███       | 12/40 [00:07<00:18,  1.51it/s]"
     ]
    },
    {
     "name": "stdout",
     "output_type": "stream",
     "text": [
      "INFO:httpx:HTTP Request: POST http://gemini2.sufe.edu.cn:27282/v1/chat/completions \"HTTP/1.1 200 OK\"\n"
     ]
    },
    {
     "name": "stderr",
     "output_type": "stream",
     "text": [
      " 32%|███▎      | 13/40 [00:08<00:15,  1.72it/s]"
     ]
    },
    {
     "name": "stdout",
     "output_type": "stream",
     "text": [
      "INFO:httpx:HTTP Request: POST http://gemini2.sufe.edu.cn:27282/v1/chat/completions \"HTTP/1.1 200 OK\"\n"
     ]
    },
    {
     "name": "stderr",
     "output_type": "stream",
     "text": [
      " 35%|███▌      | 14/40 [00:08<00:14,  1.75it/s]"
     ]
    },
    {
     "name": "stdout",
     "output_type": "stream",
     "text": [
      "INFO:httpx:HTTP Request: POST http://gemini2.sufe.edu.cn:27282/v1/chat/completions \"HTTP/1.1 200 OK\"\n"
     ]
    },
    {
     "name": "stderr",
     "output_type": "stream",
     "text": [
      " 38%|███▊      | 15/40 [00:09<00:13,  1.86it/s]"
     ]
    },
    {
     "name": "stdout",
     "output_type": "stream",
     "text": [
      "INFO:httpx:HTTP Request: POST http://gemini2.sufe.edu.cn:27282/v1/chat/completions \"HTTP/1.1 200 OK\"\n"
     ]
    },
    {
     "name": "stderr",
     "output_type": "stream",
     "text": [
      " 40%|████      | 16/40 [00:09<00:11,  2.03it/s]"
     ]
    },
    {
     "name": "stdout",
     "output_type": "stream",
     "text": [
      "INFO:httpx:HTTP Request: POST http://gemini2.sufe.edu.cn:27282/v1/chat/completions \"HTTP/1.1 200 OK\"\n"
     ]
    },
    {
     "name": "stderr",
     "output_type": "stream",
     "text": [
      " 42%|████▎     | 17/40 [00:10<00:12,  1.92it/s]"
     ]
    },
    {
     "name": "stdout",
     "output_type": "stream",
     "text": [
      "INFO:httpx:HTTP Request: POST http://gemini2.sufe.edu.cn:27282/v1/chat/completions \"HTTP/1.1 200 OK\"\n"
     ]
    },
    {
     "name": "stderr",
     "output_type": "stream",
     "text": [
      " 45%|████▌     | 18/40 [00:10<00:11,  1.86it/s]"
     ]
    },
    {
     "name": "stdout",
     "output_type": "stream",
     "text": [
      "INFO:httpx:HTTP Request: POST http://gemini2.sufe.edu.cn:27282/v1/chat/completions \"HTTP/1.1 200 OK\"\n"
     ]
    },
    {
     "name": "stderr",
     "output_type": "stream",
     "text": [
      " 48%|████▊     | 19/40 [00:11<00:11,  1.75it/s]"
     ]
    },
    {
     "name": "stdout",
     "output_type": "stream",
     "text": [
      "INFO:httpx:HTTP Request: POST http://gemini2.sufe.edu.cn:27282/v1/chat/completions \"HTTP/1.1 200 OK\"\n"
     ]
    },
    {
     "name": "stderr",
     "output_type": "stream",
     "text": [
      " 50%|█████     | 20/40 [00:12<00:12,  1.58it/s]"
     ]
    },
    {
     "name": "stdout",
     "output_type": "stream",
     "text": [
      "INFO:httpx:HTTP Request: POST http://gemini2.sufe.edu.cn:27282/v1/chat/completions \"HTTP/1.1 200 OK\"\n"
     ]
    },
    {
     "name": "stderr",
     "output_type": "stream",
     "text": [
      " 52%|█████▎    | 21/40 [00:12<00:10,  1.75it/s]"
     ]
    },
    {
     "name": "stdout",
     "output_type": "stream",
     "text": [
      "INFO:httpx:HTTP Request: POST http://gemini2.sufe.edu.cn:27282/v1/chat/completions \"HTTP/1.1 200 OK\"\n"
     ]
    },
    {
     "name": "stderr",
     "output_type": "stream",
     "text": [
      " 55%|█████▌    | 22/40 [00:13<00:10,  1.78it/s]"
     ]
    },
    {
     "name": "stdout",
     "output_type": "stream",
     "text": [
      "INFO:httpx:HTTP Request: POST http://gemini2.sufe.edu.cn:27282/v1/chat/completions \"HTTP/1.1 200 OK\"\n"
     ]
    },
    {
     "name": "stderr",
     "output_type": "stream",
     "text": [
      " 57%|█████▊    | 23/40 [00:13<00:11,  1.52it/s]"
     ]
    },
    {
     "name": "stdout",
     "output_type": "stream",
     "text": [
      "INFO:httpx:HTTP Request: POST http://gemini2.sufe.edu.cn:27282/v1/chat/completions \"HTTP/1.1 200 OK\"\n"
     ]
    },
    {
     "name": "stderr",
     "output_type": "stream",
     "text": [
      " 60%|██████    | 24/40 [00:14<00:10,  1.56it/s]"
     ]
    },
    {
     "name": "stdout",
     "output_type": "stream",
     "text": [
      "INFO:httpx:HTTP Request: POST http://gemini2.sufe.edu.cn:27282/v1/chat/completions \"HTTP/1.1 200 OK\"\n"
     ]
    },
    {
     "name": "stderr",
     "output_type": "stream",
     "text": [
      " 62%|██████▎   | 25/40 [00:15<00:10,  1.46it/s]"
     ]
    },
    {
     "name": "stdout",
     "output_type": "stream",
     "text": [
      "INFO:httpx:HTTP Request: POST http://gemini2.sufe.edu.cn:27282/v1/chat/completions \"HTTP/1.1 200 OK\"\n"
     ]
    },
    {
     "name": "stderr",
     "output_type": "stream",
     "text": [
      " 65%|██████▌   | 26/40 [00:15<00:09,  1.45it/s]"
     ]
    },
    {
     "name": "stdout",
     "output_type": "stream",
     "text": [
      "INFO:httpx:HTTP Request: POST http://gemini2.sufe.edu.cn:27282/v1/chat/completions \"HTTP/1.1 200 OK\"\n"
     ]
    },
    {
     "name": "stderr",
     "output_type": "stream",
     "text": [
      " 68%|██████▊   | 27/40 [00:16<00:08,  1.51it/s]"
     ]
    },
    {
     "name": "stdout",
     "output_type": "stream",
     "text": [
      "INFO:httpx:HTTP Request: POST http://gemini2.sufe.edu.cn:27282/v1/chat/completions \"HTTP/1.1 200 OK\"\n"
     ]
    },
    {
     "name": "stderr",
     "output_type": "stream",
     "text": [
      " 70%|███████   | 28/40 [00:17<00:07,  1.63it/s]"
     ]
    },
    {
     "name": "stdout",
     "output_type": "stream",
     "text": [
      "INFO:httpx:HTTP Request: POST http://gemini2.sufe.edu.cn:27282/v1/chat/completions \"HTTP/1.1 200 OK\"\n"
     ]
    },
    {
     "name": "stderr",
     "output_type": "stream",
     "text": [
      " 72%|███████▎  | 29/40 [00:18<00:07,  1.41it/s]"
     ]
    },
    {
     "name": "stdout",
     "output_type": "stream",
     "text": [
      "INFO:httpx:HTTP Request: POST http://gemini2.sufe.edu.cn:27282/v1/chat/completions \"HTTP/1.1 200 OK\"\n"
     ]
    },
    {
     "name": "stderr",
     "output_type": "stream",
     "text": [
      " 75%|███████▌  | 30/40 [00:18<00:06,  1.53it/s]"
     ]
    },
    {
     "name": "stdout",
     "output_type": "stream",
     "text": [
      "INFO:httpx:HTTP Request: POST http://gemini2.sufe.edu.cn:27282/v1/chat/completions \"HTTP/1.1 200 OK\"\n"
     ]
    },
    {
     "name": "stderr",
     "output_type": "stream",
     "text": [
      " 78%|███████▊  | 31/40 [00:19<00:05,  1.59it/s]"
     ]
    },
    {
     "name": "stdout",
     "output_type": "stream",
     "text": [
      "INFO:httpx:HTTP Request: POST http://gemini2.sufe.edu.cn:27282/v1/chat/completions \"HTTP/1.1 200 OK\"\n"
     ]
    },
    {
     "name": "stderr",
     "output_type": "stream",
     "text": [
      " 80%|████████  | 32/40 [00:19<00:05,  1.58it/s]"
     ]
    },
    {
     "name": "stdout",
     "output_type": "stream",
     "text": [
      "INFO:httpx:HTTP Request: POST http://gemini2.sufe.edu.cn:27282/v1/chat/completions \"HTTP/1.1 200 OK\"\n"
     ]
    },
    {
     "name": "stderr",
     "output_type": "stream",
     "text": [
      " 82%|████████▎ | 33/40 [00:20<00:04,  1.71it/s]"
     ]
    },
    {
     "name": "stdout",
     "output_type": "stream",
     "text": [
      "INFO:httpx:HTTP Request: POST http://gemini2.sufe.edu.cn:27282/v1/chat/completions \"HTTP/1.1 200 OK\"\n"
     ]
    },
    {
     "name": "stderr",
     "output_type": "stream",
     "text": [
      " 85%|████████▌ | 34/40 [00:21<00:04,  1.46it/s]"
     ]
    },
    {
     "name": "stdout",
     "output_type": "stream",
     "text": [
      "INFO:httpx:HTTP Request: POST http://gemini2.sufe.edu.cn:27282/v1/chat/completions \"HTTP/1.1 200 OK\"\n"
     ]
    },
    {
     "name": "stderr",
     "output_type": "stream",
     "text": [
      " 88%|████████▊ | 35/40 [00:21<00:03,  1.55it/s]"
     ]
    },
    {
     "name": "stdout",
     "output_type": "stream",
     "text": [
      "INFO:httpx:HTTP Request: POST http://gemini2.sufe.edu.cn:27282/v1/chat/completions \"HTTP/1.1 200 OK\"\n"
     ]
    },
    {
     "name": "stderr",
     "output_type": "stream",
     "text": [
      " 90%|█████████ | 36/40 [00:22<00:02,  1.61it/s]"
     ]
    },
    {
     "name": "stdout",
     "output_type": "stream",
     "text": [
      "INFO:httpx:HTTP Request: POST http://gemini2.sufe.edu.cn:27282/v1/chat/completions \"HTTP/1.1 200 OK\"\n"
     ]
    },
    {
     "name": "stderr",
     "output_type": "stream",
     "text": [
      " 92%|█████████▎| 37/40 [00:22<00:01,  1.67it/s]"
     ]
    },
    {
     "name": "stdout",
     "output_type": "stream",
     "text": [
      "INFO:httpx:HTTP Request: POST http://gemini2.sufe.edu.cn:27282/v1/chat/completions \"HTTP/1.1 200 OK\"\n"
     ]
    },
    {
     "name": "stderr",
     "output_type": "stream",
     "text": [
      " 95%|█████████▌| 38/40 [00:23<00:01,  1.67it/s]"
     ]
    },
    {
     "name": "stdout",
     "output_type": "stream",
     "text": [
      "INFO:httpx:HTTP Request: POST http://gemini2.sufe.edu.cn:27282/v1/chat/completions \"HTTP/1.1 200 OK\"\n"
     ]
    },
    {
     "name": "stderr",
     "output_type": "stream",
     "text": [
      " 98%|█████████▊| 39/40 [00:24<00:00,  1.33it/s]"
     ]
    },
    {
     "name": "stdout",
     "output_type": "stream",
     "text": [
      "INFO:httpx:HTTP Request: POST http://gemini2.sufe.edu.cn:27282/v1/chat/completions \"HTTP/1.1 200 OK\"\n"
     ]
    },
    {
     "name": "stderr",
     "output_type": "stream",
     "text": [
      "100%|██████████| 40/40 [00:25<00:00,  1.59it/s]\n"
     ]
    },
    {
     "name": "stdout",
     "output_type": "stream",
     "text": [
      "Subject: microeconomics\n",
      "Acc: 0.0\n",
      "Accuracy:\n",
      "microeconomics :  0.0\n",
      "--------------------------------------------------------------------------------\n",
      "Accuracy_subject:\n",
      "microeconomics :  0.0\n",
      "--------------------------------------------------------------------------------\n",
      "Accuracy_grouped:\n",
      "Economy :  0.0\n",
      "Avg: \n",
      "0.0\n",
      "############# nodes group: size_1024_overlap_256 ###############\n",
      "0.0 Inference starts at 2024-04-12_00-05-14 on chatglm with subject of microeconomics!\n"
     ]
    },
    {
     "name": "stderr",
     "output_type": "stream",
     "text": [
      "  0%|          | 0/40 [00:00<?, ?it/s]"
     ]
    },
    {
     "name": "stdout",
     "output_type": "stream",
     "text": [
      "INFO:httpx:HTTP Request: POST http://gemini2.sufe.edu.cn:27282/v1/chat/completions \"HTTP/1.1 200 OK\"\n"
     ]
    },
    {
     "name": "stderr",
     "output_type": "stream",
     "text": [
      "  2%|▎         | 1/40 [00:00<00:28,  1.35it/s]"
     ]
    },
    {
     "name": "stdout",
     "output_type": "stream",
     "text": [
      "INFO:httpx:HTTP Request: POST http://gemini2.sufe.edu.cn:27282/v1/chat/completions \"HTTP/1.1 200 OK\"\n"
     ]
    },
    {
     "name": "stderr",
     "output_type": "stream",
     "text": [
      "  5%|▌         | 2/40 [00:01<00:23,  1.59it/s]"
     ]
    },
    {
     "name": "stdout",
     "output_type": "stream",
     "text": [
      "INFO:httpx:HTTP Request: POST http://gemini2.sufe.edu.cn:27282/v1/chat/completions \"HTTP/1.1 200 OK\"\n"
     ]
    },
    {
     "name": "stderr",
     "output_type": "stream",
     "text": [
      "  8%|▊         | 3/40 [00:01<00:23,  1.58it/s]"
     ]
    },
    {
     "name": "stdout",
     "output_type": "stream",
     "text": [
      "INFO:httpx:HTTP Request: POST http://gemini2.sufe.edu.cn:27282/v1/chat/completions \"HTTP/1.1 200 OK\"\n"
     ]
    },
    {
     "name": "stderr",
     "output_type": "stream",
     "text": [
      " 10%|█         | 4/40 [00:02<00:23,  1.54it/s]"
     ]
    },
    {
     "name": "stdout",
     "output_type": "stream",
     "text": [
      "INFO:httpx:HTTP Request: POST http://gemini2.sufe.edu.cn:27282/v1/chat/completions \"HTTP/1.1 200 OK\"\n"
     ]
    },
    {
     "name": "stderr",
     "output_type": "stream",
     "text": [
      " 12%|█▎        | 5/40 [00:03<00:21,  1.64it/s]"
     ]
    },
    {
     "name": "stdout",
     "output_type": "stream",
     "text": [
      "INFO:httpx:HTTP Request: POST http://gemini2.sufe.edu.cn:27282/v1/chat/completions \"HTTP/1.1 200 OK\"\n"
     ]
    },
    {
     "name": "stderr",
     "output_type": "stream",
     "text": [
      " 15%|█▌        | 6/40 [00:03<00:18,  1.80it/s]"
     ]
    },
    {
     "name": "stdout",
     "output_type": "stream",
     "text": [
      "INFO:httpx:HTTP Request: POST http://gemini2.sufe.edu.cn:27282/v1/chat/completions \"HTTP/1.1 200 OK\"\n"
     ]
    },
    {
     "name": "stderr",
     "output_type": "stream",
     "text": [
      " 18%|█▊        | 7/40 [00:04<00:20,  1.60it/s]"
     ]
    },
    {
     "name": "stdout",
     "output_type": "stream",
     "text": [
      "INFO:httpx:HTTP Request: POST http://gemini2.sufe.edu.cn:27282/v1/chat/completions \"HTTP/1.1 200 OK\"\n"
     ]
    },
    {
     "name": "stderr",
     "output_type": "stream",
     "text": [
      " 20%|██        | 8/40 [00:04<00:19,  1.64it/s]"
     ]
    },
    {
     "name": "stdout",
     "output_type": "stream",
     "text": [
      "INFO:httpx:HTTP Request: POST http://gemini2.sufe.edu.cn:27282/v1/chat/completions \"HTTP/1.1 200 OK\"\n"
     ]
    },
    {
     "name": "stderr",
     "output_type": "stream",
     "text": [
      " 22%|██▎       | 9/40 [00:05<00:17,  1.79it/s]"
     ]
    },
    {
     "name": "stdout",
     "output_type": "stream",
     "text": [
      "INFO:httpx:HTTP Request: POST http://gemini2.sufe.edu.cn:27282/v1/chat/completions \"HTTP/1.1 200 OK\"\n"
     ]
    },
    {
     "name": "stderr",
     "output_type": "stream",
     "text": [
      " 25%|██▌       | 10/40 [00:06<00:17,  1.68it/s]"
     ]
    },
    {
     "name": "stdout",
     "output_type": "stream",
     "text": [
      "INFO:httpx:HTTP Request: POST http://gemini2.sufe.edu.cn:27282/v1/chat/completions \"HTTP/1.1 200 OK\"\n"
     ]
    },
    {
     "name": "stderr",
     "output_type": "stream",
     "text": [
      " 28%|██▊       | 11/40 [00:06<00:17,  1.62it/s]"
     ]
    },
    {
     "name": "stdout",
     "output_type": "stream",
     "text": [
      "INFO:httpx:HTTP Request: POST http://gemini2.sufe.edu.cn:27282/v1/chat/completions \"HTTP/1.1 200 OK\"\n"
     ]
    },
    {
     "name": "stderr",
     "output_type": "stream",
     "text": [
      " 30%|███       | 12/40 [00:07<00:17,  1.56it/s]"
     ]
    },
    {
     "name": "stdout",
     "output_type": "stream",
     "text": [
      "INFO:httpx:HTTP Request: POST http://gemini2.sufe.edu.cn:27282/v1/chat/completions \"HTTP/1.1 200 OK\"\n"
     ]
    },
    {
     "name": "stderr",
     "output_type": "stream",
     "text": [
      " 32%|███▎      | 13/40 [00:07<00:15,  1.71it/s]"
     ]
    },
    {
     "name": "stdout",
     "output_type": "stream",
     "text": [
      "INFO:httpx:HTTP Request: POST http://gemini2.sufe.edu.cn:27282/v1/chat/completions \"HTTP/1.1 200 OK\"\n"
     ]
    },
    {
     "name": "stderr",
     "output_type": "stream",
     "text": [
      " 35%|███▌      | 14/40 [00:08<00:14,  1.74it/s]"
     ]
    },
    {
     "name": "stdout",
     "output_type": "stream",
     "text": [
      "INFO:httpx:HTTP Request: POST http://gemini2.sufe.edu.cn:27282/v1/chat/completions \"HTTP/1.1 200 OK\"\n"
     ]
    },
    {
     "name": "stderr",
     "output_type": "stream",
     "text": [
      " 38%|███▊      | 15/40 [00:08<00:13,  1.87it/s]"
     ]
    },
    {
     "name": "stdout",
     "output_type": "stream",
     "text": [
      "INFO:httpx:HTTP Request: POST http://gemini2.sufe.edu.cn:27282/v1/chat/completions \"HTTP/1.1 200 OK\"\n"
     ]
    },
    {
     "name": "stderr",
     "output_type": "stream",
     "text": [
      " 40%|████      | 16/40 [00:09<00:11,  2.02it/s]"
     ]
    },
    {
     "name": "stdout",
     "output_type": "stream",
     "text": [
      "INFO:httpx:HTTP Request: POST http://gemini2.sufe.edu.cn:27282/v1/chat/completions \"HTTP/1.1 200 OK\"\n"
     ]
    },
    {
     "name": "stderr",
     "output_type": "stream",
     "text": [
      " 42%|████▎     | 17/40 [00:09<00:12,  1.90it/s]"
     ]
    },
    {
     "name": "stdout",
     "output_type": "stream",
     "text": [
      "INFO:httpx:HTTP Request: POST http://gemini2.sufe.edu.cn:27282/v1/chat/completions \"HTTP/1.1 200 OK\"\n"
     ]
    },
    {
     "name": "stderr",
     "output_type": "stream",
     "text": [
      " 45%|████▌     | 18/40 [00:10<00:11,  1.85it/s]"
     ]
    },
    {
     "name": "stdout",
     "output_type": "stream",
     "text": [
      "INFO:httpx:HTTP Request: POST http://gemini2.sufe.edu.cn:27282/v1/chat/completions \"HTTP/1.1 200 OK\"\n"
     ]
    },
    {
     "name": "stderr",
     "output_type": "stream",
     "text": [
      " 48%|████▊     | 19/40 [00:11<00:12,  1.75it/s]"
     ]
    },
    {
     "name": "stdout",
     "output_type": "stream",
     "text": [
      "INFO:httpx:HTTP Request: POST http://gemini2.sufe.edu.cn:27282/v1/chat/completions \"HTTP/1.1 200 OK\"\n"
     ]
    },
    {
     "name": "stderr",
     "output_type": "stream",
     "text": [
      " 50%|█████     | 20/40 [00:11<00:12,  1.61it/s]"
     ]
    },
    {
     "name": "stdout",
     "output_type": "stream",
     "text": [
      "INFO:httpx:HTTP Request: POST http://gemini2.sufe.edu.cn:27282/v1/chat/completions \"HTTP/1.1 200 OK\"\n"
     ]
    },
    {
     "name": "stderr",
     "output_type": "stream",
     "text": [
      " 52%|█████▎    | 21/40 [00:12<00:10,  1.74it/s]"
     ]
    },
    {
     "name": "stdout",
     "output_type": "stream",
     "text": [
      "INFO:httpx:HTTP Request: POST http://gemini2.sufe.edu.cn:27282/v1/chat/completions \"HTTP/1.1 200 OK\"\n"
     ]
    },
    {
     "name": "stderr",
     "output_type": "stream",
     "text": [
      " 55%|█████▌    | 22/40 [00:12<00:09,  1.80it/s]"
     ]
    },
    {
     "name": "stdout",
     "output_type": "stream",
     "text": [
      "INFO:httpx:HTTP Request: POST http://gemini2.sufe.edu.cn:27282/v1/chat/completions \"HTTP/1.1 200 OK\"\n"
     ]
    },
    {
     "name": "stderr",
     "output_type": "stream",
     "text": [
      " 57%|█████▊    | 23/40 [00:13<00:11,  1.49it/s]"
     ]
    },
    {
     "name": "stdout",
     "output_type": "stream",
     "text": [
      "INFO:httpx:HTTP Request: POST http://gemini2.sufe.edu.cn:27282/v1/chat/completions \"HTTP/1.1 200 OK\"\n"
     ]
    },
    {
     "name": "stderr",
     "output_type": "stream",
     "text": [
      " 60%|██████    | 24/40 [00:14<00:10,  1.56it/s]"
     ]
    },
    {
     "name": "stdout",
     "output_type": "stream",
     "text": [
      "INFO:httpx:HTTP Request: POST http://gemini2.sufe.edu.cn:27282/v1/chat/completions \"HTTP/1.1 200 OK\"\n"
     ]
    },
    {
     "name": "stderr",
     "output_type": "stream",
     "text": [
      " 62%|██████▎   | 25/40 [00:15<00:10,  1.47it/s]"
     ]
    },
    {
     "name": "stdout",
     "output_type": "stream",
     "text": [
      "INFO:httpx:HTTP Request: POST http://gemini2.sufe.edu.cn:27282/v1/chat/completions \"HTTP/1.1 200 OK\"\n"
     ]
    },
    {
     "name": "stderr",
     "output_type": "stream",
     "text": [
      " 65%|██████▌   | 26/40 [00:15<00:09,  1.43it/s]"
     ]
    },
    {
     "name": "stdout",
     "output_type": "stream",
     "text": [
      "INFO:httpx:HTTP Request: POST http://gemini2.sufe.edu.cn:27282/v1/chat/completions \"HTTP/1.1 200 OK\"\n"
     ]
    },
    {
     "name": "stderr",
     "output_type": "stream",
     "text": [
      " 68%|██████▊   | 27/40 [00:16<00:08,  1.46it/s]"
     ]
    },
    {
     "name": "stdout",
     "output_type": "stream",
     "text": [
      "INFO:httpx:HTTP Request: POST http://gemini2.sufe.edu.cn:27282/v1/chat/completions \"HTTP/1.1 200 OK\"\n"
     ]
    },
    {
     "name": "stderr",
     "output_type": "stream",
     "text": [
      " 70%|███████   | 28/40 [00:17<00:07,  1.55it/s]"
     ]
    },
    {
     "name": "stdout",
     "output_type": "stream",
     "text": [
      "INFO:httpx:HTTP Request: POST http://gemini2.sufe.edu.cn:27282/v1/chat/completions \"HTTP/1.1 200 OK\"\n"
     ]
    },
    {
     "name": "stderr",
     "output_type": "stream",
     "text": [
      " 72%|███████▎  | 29/40 [00:18<00:08,  1.32it/s]"
     ]
    },
    {
     "name": "stdout",
     "output_type": "stream",
     "text": [
      "INFO:httpx:HTTP Request: POST http://gemini2.sufe.edu.cn:27282/v1/chat/completions \"HTTP/1.1 200 OK\"\n"
     ]
    },
    {
     "name": "stderr",
     "output_type": "stream",
     "text": [
      " 75%|███████▌  | 30/40 [00:18<00:06,  1.44it/s]"
     ]
    },
    {
     "name": "stdout",
     "output_type": "stream",
     "text": [
      "INFO:httpx:HTTP Request: POST http://gemini2.sufe.edu.cn:27282/v1/chat/completions \"HTTP/1.1 200 OK\"\n"
     ]
    },
    {
     "name": "stderr",
     "output_type": "stream",
     "text": [
      " 78%|███████▊  | 31/40 [00:19<00:05,  1.53it/s]"
     ]
    },
    {
     "name": "stdout",
     "output_type": "stream",
     "text": [
      "INFO:httpx:HTTP Request: POST http://gemini2.sufe.edu.cn:27282/v1/chat/completions \"HTTP/1.1 200 OK\"\n"
     ]
    },
    {
     "name": "stderr",
     "output_type": "stream",
     "text": [
      " 80%|████████  | 32/40 [00:19<00:05,  1.56it/s]"
     ]
    },
    {
     "name": "stdout",
     "output_type": "stream",
     "text": [
      "INFO:httpx:HTTP Request: POST http://gemini2.sufe.edu.cn:27282/v1/chat/completions \"HTTP/1.1 200 OK\"\n"
     ]
    },
    {
     "name": "stderr",
     "output_type": "stream",
     "text": [
      " 82%|████████▎ | 33/40 [00:20<00:04,  1.68it/s]"
     ]
    },
    {
     "name": "stdout",
     "output_type": "stream",
     "text": [
      "INFO:httpx:HTTP Request: POST http://gemini2.sufe.edu.cn:27282/v1/chat/completions \"HTTP/1.1 200 OK\"\n"
     ]
    },
    {
     "name": "stderr",
     "output_type": "stream",
     "text": [
      " 85%|████████▌ | 34/40 [00:21<00:04,  1.44it/s]"
     ]
    },
    {
     "name": "stdout",
     "output_type": "stream",
     "text": [
      "INFO:httpx:HTTP Request: POST http://gemini2.sufe.edu.cn:27282/v1/chat/completions \"HTTP/1.1 200 OK\"\n"
     ]
    },
    {
     "name": "stderr",
     "output_type": "stream",
     "text": [
      " 88%|████████▊ | 35/40 [00:21<00:03,  1.53it/s]"
     ]
    },
    {
     "name": "stdout",
     "output_type": "stream",
     "text": [
      "INFO:httpx:HTTP Request: POST http://gemini2.sufe.edu.cn:27282/v1/chat/completions \"HTTP/1.1 200 OK\"\n"
     ]
    },
    {
     "name": "stderr",
     "output_type": "stream",
     "text": [
      " 90%|█████████ | 36/40 [00:22<00:02,  1.60it/s]"
     ]
    },
    {
     "name": "stdout",
     "output_type": "stream",
     "text": [
      "INFO:httpx:HTTP Request: POST http://gemini2.sufe.edu.cn:27282/v1/chat/completions \"HTTP/1.1 200 OK\"\n"
     ]
    },
    {
     "name": "stderr",
     "output_type": "stream",
     "text": [
      " 92%|█████████▎| 37/40 [00:22<00:01,  1.58it/s]"
     ]
    },
    {
     "name": "stdout",
     "output_type": "stream",
     "text": [
      "INFO:httpx:HTTP Request: POST http://gemini2.sufe.edu.cn:27282/v1/chat/completions \"HTTP/1.1 200 OK\"\n"
     ]
    },
    {
     "name": "stderr",
     "output_type": "stream",
     "text": [
      " 95%|█████████▌| 38/40 [00:23<00:01,  1.78it/s]"
     ]
    },
    {
     "name": "stdout",
     "output_type": "stream",
     "text": [
      "INFO:httpx:HTTP Request: POST http://gemini2.sufe.edu.cn:27282/v1/chat/completions \"HTTP/1.1 200 OK\"\n"
     ]
    },
    {
     "name": "stderr",
     "output_type": "stream",
     "text": [
      " 98%|█████████▊| 39/40 [00:24<00:00,  1.37it/s]"
     ]
    },
    {
     "name": "stdout",
     "output_type": "stream",
     "text": [
      "INFO:httpx:HTTP Request: POST http://gemini2.sufe.edu.cn:27282/v1/chat/completions \"HTTP/1.1 200 OK\"\n"
     ]
    },
    {
     "name": "stderr",
     "output_type": "stream",
     "text": [
      "100%|██████████| 40/40 [00:25<00:00,  1.60it/s]\n"
     ]
    },
    {
     "name": "stdout",
     "output_type": "stream",
     "text": [
      "Subject: microeconomics\n",
      "Acc: 0.0\n",
      "Accuracy:\n",
      "microeconomics :  0.0\n",
      "--------------------------------------------------------------------------------\n",
      "Accuracy_subject:\n",
      "microeconomics :  0.0\n",
      "--------------------------------------------------------------------------------\n",
      "Accuracy_grouped:\n",
      "Economy :  0.0\n",
      "Avg: \n",
      "0.0\n",
      "############# nodes group: size_1024_overlap_256 ###############\n",
      "0.0 Inference starts at 2024-04-12_00-05-39 on chatglm with subject of microeconomics!\n"
     ]
    },
    {
     "name": "stderr",
     "output_type": "stream",
     "text": [
      "  0%|          | 0/40 [00:00<?, ?it/s]"
     ]
    },
    {
     "name": "stdout",
     "output_type": "stream",
     "text": [
      "INFO:httpx:HTTP Request: POST http://gemini2.sufe.edu.cn:27282/v1/chat/completions \"HTTP/1.1 200 OK\"\n"
     ]
    },
    {
     "name": "stderr",
     "output_type": "stream",
     "text": [
      "  2%|▎         | 1/40 [00:00<00:26,  1.49it/s]"
     ]
    },
    {
     "name": "stdout",
     "output_type": "stream",
     "text": [
      "INFO:httpx:HTTP Request: POST http://gemini2.sufe.edu.cn:27282/v1/chat/completions \"HTTP/1.1 200 OK\"\n"
     ]
    },
    {
     "name": "stderr",
     "output_type": "stream",
     "text": [
      "  5%|▌         | 2/40 [00:01<00:23,  1.65it/s]"
     ]
    },
    {
     "name": "stdout",
     "output_type": "stream",
     "text": [
      "INFO:httpx:HTTP Request: POST http://gemini2.sufe.edu.cn:27282/v1/chat/completions \"HTTP/1.1 200 OK\"\n"
     ]
    },
    {
     "name": "stderr",
     "output_type": "stream",
     "text": [
      "  8%|▊         | 3/40 [00:01<00:23,  1.59it/s]"
     ]
    },
    {
     "name": "stdout",
     "output_type": "stream",
     "text": [
      "INFO:httpx:HTTP Request: POST http://gemini2.sufe.edu.cn:27282/v1/chat/completions \"HTTP/1.1 200 OK\"\n"
     ]
    },
    {
     "name": "stderr",
     "output_type": "stream",
     "text": [
      " 10%|█         | 4/40 [00:02<00:22,  1.60it/s]"
     ]
    },
    {
     "name": "stdout",
     "output_type": "stream",
     "text": [
      "INFO:httpx:HTTP Request: POST http://gemini2.sufe.edu.cn:27282/v1/chat/completions \"HTTP/1.1 200 OK\"\n"
     ]
    },
    {
     "name": "stderr",
     "output_type": "stream",
     "text": [
      " 12%|█▎        | 5/40 [00:03<00:20,  1.67it/s]"
     ]
    },
    {
     "name": "stdout",
     "output_type": "stream",
     "text": [
      "INFO:httpx:HTTP Request: POST http://gemini2.sufe.edu.cn:27282/v1/chat/completions \"HTTP/1.1 200 OK\"\n"
     ]
    },
    {
     "name": "stderr",
     "output_type": "stream",
     "text": [
      " 15%|█▌        | 6/40 [00:03<00:17,  1.93it/s]"
     ]
    },
    {
     "name": "stdout",
     "output_type": "stream",
     "text": [
      "INFO:httpx:HTTP Request: POST http://gemini2.sufe.edu.cn:27282/v1/chat/completions \"HTTP/1.1 200 OK\"\n"
     ]
    },
    {
     "name": "stderr",
     "output_type": "stream",
     "text": [
      " 18%|█▊        | 7/40 [00:04<00:20,  1.63it/s]"
     ]
    },
    {
     "name": "stdout",
     "output_type": "stream",
     "text": [
      "INFO:httpx:HTTP Request: POST http://gemini2.sufe.edu.cn:27282/v1/chat/completions \"HTTP/1.1 200 OK\"\n"
     ]
    },
    {
     "name": "stderr",
     "output_type": "stream",
     "text": [
      " 20%|██        | 8/40 [00:04<00:18,  1.69it/s]"
     ]
    },
    {
     "name": "stdout",
     "output_type": "stream",
     "text": [
      "INFO:httpx:HTTP Request: POST http://gemini2.sufe.edu.cn:27282/v1/chat/completions \"HTTP/1.1 200 OK\"\n"
     ]
    },
    {
     "name": "stderr",
     "output_type": "stream",
     "text": [
      " 22%|██▎       | 9/40 [00:05<00:16,  1.83it/s]"
     ]
    },
    {
     "name": "stdout",
     "output_type": "stream",
     "text": [
      "INFO:httpx:HTTP Request: POST http://gemini2.sufe.edu.cn:27282/v1/chat/completions \"HTTP/1.1 200 OK\"\n"
     ]
    },
    {
     "name": "stderr",
     "output_type": "stream",
     "text": [
      " 25%|██▌       | 10/40 [00:05<00:17,  1.71it/s]"
     ]
    },
    {
     "name": "stdout",
     "output_type": "stream",
     "text": [
      "INFO:httpx:HTTP Request: POST http://gemini2.sufe.edu.cn:27282/v1/chat/completions \"HTTP/1.1 200 OK\"\n"
     ]
    },
    {
     "name": "stderr",
     "output_type": "stream",
     "text": [
      " 28%|██▊       | 11/40 [00:06<00:17,  1.63it/s]"
     ]
    },
    {
     "name": "stdout",
     "output_type": "stream",
     "text": [
      "INFO:httpx:HTTP Request: POST http://gemini2.sufe.edu.cn:27282/v1/chat/completions \"HTTP/1.1 200 OK\"\n"
     ]
    },
    {
     "name": "stderr",
     "output_type": "stream",
     "text": [
      " 30%|███       | 12/40 [00:07<00:17,  1.57it/s]"
     ]
    },
    {
     "name": "stdout",
     "output_type": "stream",
     "text": [
      "INFO:httpx:HTTP Request: POST http://gemini2.sufe.edu.cn:27282/v1/chat/completions \"HTTP/1.1 200 OK\"\n"
     ]
    },
    {
     "name": "stderr",
     "output_type": "stream",
     "text": [
      " 32%|███▎      | 13/40 [00:07<00:15,  1.77it/s]"
     ]
    },
    {
     "name": "stdout",
     "output_type": "stream",
     "text": [
      "INFO:httpx:HTTP Request: POST http://gemini2.sufe.edu.cn:27282/v1/chat/completions \"HTTP/1.1 200 OK\"\n"
     ]
    },
    {
     "name": "stderr",
     "output_type": "stream",
     "text": [
      " 35%|███▌      | 14/40 [00:08<00:15,  1.70it/s]"
     ]
    },
    {
     "name": "stdout",
     "output_type": "stream",
     "text": [
      "INFO:httpx:HTTP Request: POST http://gemini2.sufe.edu.cn:27282/v1/chat/completions \"HTTP/1.1 200 OK\"\n"
     ]
    },
    {
     "name": "stderr",
     "output_type": "stream",
     "text": [
      " 38%|███▊      | 15/40 [00:08<00:13,  1.85it/s]"
     ]
    },
    {
     "name": "stdout",
     "output_type": "stream",
     "text": [
      "INFO:httpx:HTTP Request: POST http://gemini2.sufe.edu.cn:27282/v1/chat/completions \"HTTP/1.1 200 OK\"\n"
     ]
    },
    {
     "name": "stderr",
     "output_type": "stream",
     "text": [
      " 40%|████      | 16/40 [00:09<00:11,  2.02it/s]"
     ]
    },
    {
     "name": "stdout",
     "output_type": "stream",
     "text": [
      "INFO:httpx:HTTP Request: POST http://gemini2.sufe.edu.cn:27282/v1/chat/completions \"HTTP/1.1 200 OK\"\n"
     ]
    },
    {
     "name": "stderr",
     "output_type": "stream",
     "text": [
      " 42%|████▎     | 17/40 [00:09<00:12,  1.90it/s]"
     ]
    },
    {
     "name": "stdout",
     "output_type": "stream",
     "text": [
      "INFO:httpx:HTTP Request: POST http://gemini2.sufe.edu.cn:27282/v1/chat/completions \"HTTP/1.1 200 OK\"\n"
     ]
    },
    {
     "name": "stderr",
     "output_type": "stream",
     "text": [
      " 45%|████▌     | 18/40 [00:10<00:11,  1.86it/s]"
     ]
    },
    {
     "name": "stdout",
     "output_type": "stream",
     "text": [
      "INFO:httpx:HTTP Request: POST http://gemini2.sufe.edu.cn:27282/v1/chat/completions \"HTTP/1.1 200 OK\"\n"
     ]
    },
    {
     "name": "stderr",
     "output_type": "stream",
     "text": [
      " 48%|████▊     | 19/40 [00:10<00:12,  1.75it/s]"
     ]
    },
    {
     "name": "stdout",
     "output_type": "stream",
     "text": [
      "INFO:httpx:HTTP Request: POST http://gemini2.sufe.edu.cn:27282/v1/chat/completions \"HTTP/1.1 200 OK\"\n"
     ]
    },
    {
     "name": "stderr",
     "output_type": "stream",
     "text": [
      " 50%|█████     | 20/40 [00:11<00:12,  1.61it/s]"
     ]
    },
    {
     "name": "stdout",
     "output_type": "stream",
     "text": [
      "INFO:httpx:HTTP Request: POST http://gemini2.sufe.edu.cn:27282/v1/chat/completions \"HTTP/1.1 200 OK\"\n"
     ]
    },
    {
     "name": "stderr",
     "output_type": "stream",
     "text": [
      " 52%|█████▎    | 21/40 [00:12<00:10,  1.76it/s]"
     ]
    },
    {
     "name": "stdout",
     "output_type": "stream",
     "text": [
      "INFO:httpx:HTTP Request: POST http://gemini2.sufe.edu.cn:27282/v1/chat/completions \"HTTP/1.1 200 OK\"\n"
     ]
    },
    {
     "name": "stderr",
     "output_type": "stream",
     "text": [
      " 55%|█████▌    | 22/40 [00:12<00:10,  1.76it/s]"
     ]
    },
    {
     "name": "stdout",
     "output_type": "stream",
     "text": [
      "INFO:httpx:HTTP Request: POST http://gemini2.sufe.edu.cn:27282/v1/chat/completions \"HTTP/1.1 200 OK\"\n"
     ]
    },
    {
     "name": "stderr",
     "output_type": "stream",
     "text": [
      " 57%|█████▊    | 23/40 [00:13<00:11,  1.52it/s]"
     ]
    },
    {
     "name": "stdout",
     "output_type": "stream",
     "text": [
      "INFO:httpx:HTTP Request: POST http://gemini2.sufe.edu.cn:27282/v1/chat/completions \"HTTP/1.1 200 OK\"\n"
     ]
    },
    {
     "name": "stderr",
     "output_type": "stream",
     "text": [
      " 60%|██████    | 24/40 [00:14<00:10,  1.56it/s]"
     ]
    },
    {
     "name": "stdout",
     "output_type": "stream",
     "text": [
      "INFO:httpx:HTTP Request: POST http://gemini2.sufe.edu.cn:27282/v1/chat/completions \"HTTP/1.1 200 OK\"\n"
     ]
    },
    {
     "name": "stderr",
     "output_type": "stream",
     "text": [
      " 62%|██████▎   | 25/40 [00:14<00:09,  1.55it/s]"
     ]
    },
    {
     "name": "stdout",
     "output_type": "stream",
     "text": [
      "INFO:httpx:HTTP Request: POST http://gemini2.sufe.edu.cn:27282/v1/chat/completions \"HTTP/1.1 200 OK\"\n"
     ]
    },
    {
     "name": "stderr",
     "output_type": "stream",
     "text": [
      " 65%|██████▌   | 26/40 [00:15<00:09,  1.47it/s]"
     ]
    },
    {
     "name": "stdout",
     "output_type": "stream",
     "text": [
      "INFO:httpx:HTTP Request: POST http://gemini2.sufe.edu.cn:27282/v1/chat/completions \"HTTP/1.1 200 OK\"\n"
     ]
    },
    {
     "name": "stderr",
     "output_type": "stream",
     "text": [
      " 68%|██████▊   | 27/40 [00:16<00:08,  1.50it/s]"
     ]
    },
    {
     "name": "stdout",
     "output_type": "stream",
     "text": [
      "INFO:httpx:HTTP Request: POST http://gemini2.sufe.edu.cn:27282/v1/chat/completions \"HTTP/1.1 200 OK\"\n"
     ]
    },
    {
     "name": "stderr",
     "output_type": "stream",
     "text": [
      " 70%|███████   | 28/40 [00:16<00:07,  1.54it/s]"
     ]
    },
    {
     "name": "stdout",
     "output_type": "stream",
     "text": [
      "INFO:httpx:HTTP Request: POST http://gemini2.sufe.edu.cn:27282/v1/chat/completions \"HTTP/1.1 200 OK\"\n"
     ]
    },
    {
     "name": "stderr",
     "output_type": "stream",
     "text": [
      " 72%|███████▎  | 29/40 [00:17<00:08,  1.34it/s]"
     ]
    },
    {
     "name": "stdout",
     "output_type": "stream",
     "text": [
      "INFO:httpx:HTTP Request: POST http://gemini2.sufe.edu.cn:27282/v1/chat/completions \"HTTP/1.1 200 OK\"\n"
     ]
    },
    {
     "name": "stderr",
     "output_type": "stream",
     "text": [
      " 75%|███████▌  | 30/40 [00:18<00:06,  1.47it/s]"
     ]
    },
    {
     "name": "stdout",
     "output_type": "stream",
     "text": [
      "INFO:httpx:HTTP Request: POST http://gemini2.sufe.edu.cn:27282/v1/chat/completions \"HTTP/1.1 200 OK\"\n"
     ]
    },
    {
     "name": "stderr",
     "output_type": "stream",
     "text": [
      " 78%|███████▊  | 31/40 [00:18<00:05,  1.55it/s]"
     ]
    },
    {
     "name": "stdout",
     "output_type": "stream",
     "text": [
      "INFO:httpx:HTTP Request: POST http://gemini2.sufe.edu.cn:27282/v1/chat/completions \"HTTP/1.1 200 OK\"\n"
     ]
    },
    {
     "name": "stderr",
     "output_type": "stream",
     "text": [
      " 80%|████████  | 32/40 [00:19<00:05,  1.56it/s]"
     ]
    },
    {
     "name": "stdout",
     "output_type": "stream",
     "text": [
      "INFO:httpx:HTTP Request: POST http://gemini2.sufe.edu.cn:27282/v1/chat/completions \"HTTP/1.1 200 OK\"\n"
     ]
    },
    {
     "name": "stderr",
     "output_type": "stream",
     "text": [
      " 82%|████████▎ | 33/40 [00:20<00:04,  1.66it/s]"
     ]
    },
    {
     "name": "stdout",
     "output_type": "stream",
     "text": [
      "INFO:httpx:HTTP Request: POST http://gemini2.sufe.edu.cn:27282/v1/chat/completions \"HTTP/1.1 200 OK\"\n"
     ]
    },
    {
     "name": "stderr",
     "output_type": "stream",
     "text": [
      " 85%|████████▌ | 34/40 [00:20<00:03,  1.85it/s]"
     ]
    },
    {
     "name": "stdout",
     "output_type": "stream",
     "text": [
      "INFO:httpx:HTTP Request: POST http://gemini2.sufe.edu.cn:27282/v1/chat/completions \"HTTP/1.1 200 OK\"\n"
     ]
    },
    {
     "name": "stderr",
     "output_type": "stream",
     "text": [
      " 88%|████████▊ | 35/40 [00:20<00:02,  1.86it/s]"
     ]
    },
    {
     "name": "stdout",
     "output_type": "stream",
     "text": [
      "INFO:httpx:HTTP Request: POST http://gemini2.sufe.edu.cn:27282/v1/chat/completions \"HTTP/1.1 200 OK\"\n"
     ]
    },
    {
     "name": "stderr",
     "output_type": "stream",
     "text": [
      " 90%|█████████ | 36/40 [00:21<00:02,  1.79it/s]"
     ]
    },
    {
     "name": "stdout",
     "output_type": "stream",
     "text": [
      "INFO:httpx:HTTP Request: POST http://gemini2.sufe.edu.cn:27282/v1/chat/completions \"HTTP/1.1 200 OK\"\n"
     ]
    },
    {
     "name": "stderr",
     "output_type": "stream",
     "text": [
      " 92%|█████████▎| 37/40 [00:22<00:01,  1.73it/s]"
     ]
    },
    {
     "name": "stdout",
     "output_type": "stream",
     "text": [
      "INFO:httpx:HTTP Request: POST http://gemini2.sufe.edu.cn:27282/v1/chat/completions \"HTTP/1.1 200 OK\"\n"
     ]
    },
    {
     "name": "stderr",
     "output_type": "stream",
     "text": [
      " 95%|█████████▌| 38/40 [00:22<00:01,  1.87it/s]"
     ]
    },
    {
     "name": "stdout",
     "output_type": "stream",
     "text": [
      "INFO:httpx:HTTP Request: POST http://gemini2.sufe.edu.cn:27282/v1/chat/completions \"HTTP/1.1 200 OK\"\n"
     ]
    },
    {
     "name": "stderr",
     "output_type": "stream",
     "text": [
      " 98%|█████████▊| 39/40 [00:23<00:00,  1.41it/s]"
     ]
    },
    {
     "name": "stdout",
     "output_type": "stream",
     "text": [
      "INFO:httpx:HTTP Request: POST http://gemini2.sufe.edu.cn:27282/v1/chat/completions \"HTTP/1.1 200 OK\"\n"
     ]
    },
    {
     "name": "stderr",
     "output_type": "stream",
     "text": [
      "100%|██████████| 40/40 [00:24<00:00,  1.64it/s]\n"
     ]
    },
    {
     "name": "stdout",
     "output_type": "stream",
     "text": [
      "Subject: microeconomics\n",
      "Acc: 0.0\n",
      "Accuracy:\n",
      "microeconomics :  0.0\n",
      "--------------------------------------------------------------------------------\n",
      "Accuracy_subject:\n",
      "microeconomics :  0.0\n",
      "--------------------------------------------------------------------------------\n",
      "Accuracy_grouped:\n",
      "Economy :  0.0\n",
      "Avg: \n",
      "0.0\n",
      "############# nodes group: size_1024_overlap_256 ###############\n",
      "0.0 Inference starts at 2024-04-12_00-06-03 on chatglm with subject of microeconomics!\n"
     ]
    },
    {
     "name": "stderr",
     "output_type": "stream",
     "text": [
      "  0%|          | 0/40 [00:00<?, ?it/s]"
     ]
    },
    {
     "name": "stdout",
     "output_type": "stream",
     "text": [
      "INFO:httpx:HTTP Request: POST http://gemini2.sufe.edu.cn:27282/v1/chat/completions \"HTTP/1.1 200 OK\"\n"
     ]
    },
    {
     "name": "stderr",
     "output_type": "stream",
     "text": [
      "  2%|▎         | 1/40 [00:00<00:26,  1.50it/s]"
     ]
    },
    {
     "name": "stdout",
     "output_type": "stream",
     "text": [
      "INFO:httpx:HTTP Request: POST http://gemini2.sufe.edu.cn:27282/v1/chat/completions \"HTTP/1.1 200 OK\"\n"
     ]
    },
    {
     "name": "stderr",
     "output_type": "stream",
     "text": [
      "  5%|▌         | 2/40 [00:01<00:23,  1.65it/s]"
     ]
    },
    {
     "name": "stdout",
     "output_type": "stream",
     "text": [
      "INFO:httpx:HTTP Request: POST http://gemini2.sufe.edu.cn:27282/v1/chat/completions \"HTTP/1.1 200 OK\"\n"
     ]
    },
    {
     "name": "stderr",
     "output_type": "stream",
     "text": [
      "  8%|▊         | 3/40 [00:01<00:25,  1.47it/s]"
     ]
    },
    {
     "name": "stdout",
     "output_type": "stream",
     "text": [
      "INFO:httpx:HTTP Request: POST http://gemini2.sufe.edu.cn:27282/v1/chat/completions \"HTTP/1.1 200 OK\"\n"
     ]
    },
    {
     "name": "stderr",
     "output_type": "stream",
     "text": [
      " 10%|█         | 4/40 [00:02<00:23,  1.52it/s]"
     ]
    },
    {
     "name": "stdout",
     "output_type": "stream",
     "text": [
      "INFO:httpx:HTTP Request: POST http://gemini2.sufe.edu.cn:27282/v1/chat/completions \"HTTP/1.1 200 OK\"\n"
     ]
    },
    {
     "name": "stderr",
     "output_type": "stream",
     "text": [
      " 12%|█▎        | 5/40 [00:03<00:21,  1.60it/s]"
     ]
    },
    {
     "name": "stdout",
     "output_type": "stream",
     "text": [
      "INFO:httpx:HTTP Request: POST http://gemini2.sufe.edu.cn:27282/v1/chat/completions \"HTTP/1.1 200 OK\"\n"
     ]
    },
    {
     "name": "stderr",
     "output_type": "stream",
     "text": [
      " 15%|█▌        | 6/40 [00:03<00:19,  1.77it/s]"
     ]
    },
    {
     "name": "stdout",
     "output_type": "stream",
     "text": [
      "INFO:httpx:HTTP Request: POST http://gemini2.sufe.edu.cn:27282/v1/chat/completions \"HTTP/1.1 200 OK\"\n"
     ]
    },
    {
     "name": "stderr",
     "output_type": "stream",
     "text": [
      " 18%|█▊        | 7/40 [00:04<00:21,  1.57it/s]"
     ]
    },
    {
     "name": "stdout",
     "output_type": "stream",
     "text": [
      "INFO:httpx:HTTP Request: POST http://gemini2.sufe.edu.cn:27282/v1/chat/completions \"HTTP/1.1 200 OK\"\n"
     ]
    },
    {
     "name": "stderr",
     "output_type": "stream",
     "text": [
      " 20%|██        | 8/40 [00:04<00:19,  1.65it/s]"
     ]
    },
    {
     "name": "stdout",
     "output_type": "stream",
     "text": [
      "INFO:httpx:HTTP Request: POST http://gemini2.sufe.edu.cn:27282/v1/chat/completions \"HTTP/1.1 200 OK\"\n"
     ]
    },
    {
     "name": "stderr",
     "output_type": "stream",
     "text": [
      " 22%|██▎       | 9/40 [00:05<00:17,  1.77it/s]"
     ]
    },
    {
     "name": "stdout",
     "output_type": "stream",
     "text": [
      "INFO:httpx:HTTP Request: POST http://gemini2.sufe.edu.cn:27282/v1/chat/completions \"HTTP/1.1 200 OK\"\n"
     ]
    },
    {
     "name": "stderr",
     "output_type": "stream",
     "text": [
      " 25%|██▌       | 10/40 [00:06<00:17,  1.71it/s]"
     ]
    },
    {
     "name": "stdout",
     "output_type": "stream",
     "text": [
      "INFO:httpx:HTTP Request: POST http://gemini2.sufe.edu.cn:27282/v1/chat/completions \"HTTP/1.1 200 OK\"\n"
     ]
    },
    {
     "name": "stderr",
     "output_type": "stream",
     "text": [
      " 28%|██▊       | 11/40 [00:06<00:17,  1.61it/s]"
     ]
    },
    {
     "name": "stdout",
     "output_type": "stream",
     "text": [
      "INFO:httpx:HTTP Request: POST http://gemini2.sufe.edu.cn:27282/v1/chat/completions \"HTTP/1.1 200 OK\"\n"
     ]
    },
    {
     "name": "stderr",
     "output_type": "stream",
     "text": [
      " 30%|███       | 12/40 [00:07<00:18,  1.54it/s]"
     ]
    },
    {
     "name": "stdout",
     "output_type": "stream",
     "text": [
      "INFO:httpx:HTTP Request: POST http://gemini2.sufe.edu.cn:27282/v1/chat/completions \"HTTP/1.1 200 OK\"\n"
     ]
    },
    {
     "name": "stderr",
     "output_type": "stream",
     "text": [
      " 32%|███▎      | 13/40 [00:07<00:15,  1.69it/s]"
     ]
    },
    {
     "name": "stdout",
     "output_type": "stream",
     "text": [
      "INFO:httpx:HTTP Request: POST http://gemini2.sufe.edu.cn:27282/v1/chat/completions \"HTTP/1.1 200 OK\"\n"
     ]
    },
    {
     "name": "stderr",
     "output_type": "stream",
     "text": [
      " 35%|███▌      | 14/40 [00:08<00:15,  1.72it/s]"
     ]
    },
    {
     "name": "stdout",
     "output_type": "stream",
     "text": [
      "INFO:httpx:HTTP Request: POST http://gemini2.sufe.edu.cn:27282/v1/chat/completions \"HTTP/1.1 200 OK\"\n"
     ]
    },
    {
     "name": "stderr",
     "output_type": "stream",
     "text": [
      " 38%|███▊      | 15/40 [00:08<00:13,  1.84it/s]"
     ]
    },
    {
     "name": "stdout",
     "output_type": "stream",
     "text": [
      "INFO:httpx:HTTP Request: POST http://gemini2.sufe.edu.cn:27282/v1/chat/completions \"HTTP/1.1 200 OK\"\n"
     ]
    },
    {
     "name": "stderr",
     "output_type": "stream",
     "text": [
      " 40%|████      | 16/40 [00:09<00:12,  1.97it/s]"
     ]
    },
    {
     "name": "stdout",
     "output_type": "stream",
     "text": [
      "INFO:httpx:HTTP Request: POST http://gemini2.sufe.edu.cn:27282/v1/chat/completions \"HTTP/1.1 200 OK\"\n"
     ]
    },
    {
     "name": "stderr",
     "output_type": "stream",
     "text": [
      " 42%|████▎     | 17/40 [00:10<00:12,  1.82it/s]"
     ]
    },
    {
     "name": "stdout",
     "output_type": "stream",
     "text": [
      "INFO:httpx:HTTP Request: POST http://gemini2.sufe.edu.cn:27282/v1/chat/completions \"HTTP/1.1 200 OK\"\n"
     ]
    },
    {
     "name": "stderr",
     "output_type": "stream",
     "text": [
      " 45%|████▌     | 18/40 [00:10<00:12,  1.77it/s]"
     ]
    },
    {
     "name": "stdout",
     "output_type": "stream",
     "text": [
      "INFO:httpx:HTTP Request: POST http://gemini2.sufe.edu.cn:27282/v1/chat/completions \"HTTP/1.1 200 OK\"\n"
     ]
    },
    {
     "name": "stderr",
     "output_type": "stream",
     "text": [
      " 48%|████▊     | 19/40 [00:11<00:12,  1.71it/s]"
     ]
    },
    {
     "name": "stdout",
     "output_type": "stream",
     "text": [
      "INFO:httpx:HTTP Request: POST http://gemini2.sufe.edu.cn:27282/v1/chat/completions \"HTTP/1.1 200 OK\"\n"
     ]
    },
    {
     "name": "stderr",
     "output_type": "stream",
     "text": [
      " 50%|█████     | 20/40 [00:12<00:12,  1.56it/s]"
     ]
    },
    {
     "name": "stdout",
     "output_type": "stream",
     "text": [
      "INFO:httpx:HTTP Request: POST http://gemini2.sufe.edu.cn:27282/v1/chat/completions \"HTTP/1.1 200 OK\"\n"
     ]
    },
    {
     "name": "stderr",
     "output_type": "stream",
     "text": [
      " 52%|█████▎    | 21/40 [00:12<00:10,  1.76it/s]"
     ]
    },
    {
     "name": "stdout",
     "output_type": "stream",
     "text": [
      "INFO:httpx:HTTP Request: POST http://gemini2.sufe.edu.cn:27282/v1/chat/completions \"HTTP/1.1 200 OK\"\n"
     ]
    },
    {
     "name": "stderr",
     "output_type": "stream",
     "text": [
      " 55%|█████▌    | 22/40 [00:12<00:10,  1.77it/s]"
     ]
    },
    {
     "name": "stdout",
     "output_type": "stream",
     "text": [
      "INFO:httpx:HTTP Request: POST http://gemini2.sufe.edu.cn:27282/v1/chat/completions \"HTTP/1.1 200 OK\"\n"
     ]
    },
    {
     "name": "stderr",
     "output_type": "stream",
     "text": [
      " 57%|█████▊    | 23/40 [00:13<00:11,  1.54it/s]"
     ]
    },
    {
     "name": "stdout",
     "output_type": "stream",
     "text": [
      "INFO:httpx:HTTP Request: POST http://gemini2.sufe.edu.cn:27282/v1/chat/completions \"HTTP/1.1 200 OK\"\n"
     ]
    },
    {
     "name": "stderr",
     "output_type": "stream",
     "text": [
      " 60%|██████    | 24/40 [00:14<00:09,  1.61it/s]"
     ]
    },
    {
     "name": "stdout",
     "output_type": "stream",
     "text": [
      "INFO:httpx:HTTP Request: POST http://gemini2.sufe.edu.cn:27282/v1/chat/completions \"HTTP/1.1 200 OK\"\n"
     ]
    },
    {
     "name": "stderr",
     "output_type": "stream",
     "text": [
      " 62%|██████▎   | 25/40 [00:15<00:09,  1.51it/s]"
     ]
    },
    {
     "name": "stdout",
     "output_type": "stream",
     "text": [
      "INFO:httpx:HTTP Request: POST http://gemini2.sufe.edu.cn:27282/v1/chat/completions \"HTTP/1.1 200 OK\"\n"
     ]
    },
    {
     "name": "stderr",
     "output_type": "stream",
     "text": [
      " 65%|██████▌   | 26/40 [00:15<00:09,  1.48it/s]"
     ]
    },
    {
     "name": "stdout",
     "output_type": "stream",
     "text": [
      "INFO:httpx:HTTP Request: POST http://gemini2.sufe.edu.cn:27282/v1/chat/completions \"HTTP/1.1 200 OK\"\n"
     ]
    },
    {
     "name": "stderr",
     "output_type": "stream",
     "text": [
      " 68%|██████▊   | 27/40 [00:16<00:08,  1.54it/s]"
     ]
    },
    {
     "name": "stdout",
     "output_type": "stream",
     "text": [
      "INFO:httpx:HTTP Request: POST http://gemini2.sufe.edu.cn:27282/v1/chat/completions \"HTTP/1.1 200 OK\"\n"
     ]
    },
    {
     "name": "stderr",
     "output_type": "stream",
     "text": [
      " 70%|███████   | 28/40 [00:16<00:07,  1.63it/s]"
     ]
    },
    {
     "name": "stdout",
     "output_type": "stream",
     "text": [
      "INFO:httpx:HTTP Request: POST http://gemini2.sufe.edu.cn:27282/v1/chat/completions \"HTTP/1.1 200 OK\"\n"
     ]
    },
    {
     "name": "stderr",
     "output_type": "stream",
     "text": [
      " 72%|███████▎  | 29/40 [00:18<00:08,  1.35it/s]"
     ]
    },
    {
     "name": "stdout",
     "output_type": "stream",
     "text": [
      "INFO:httpx:HTTP Request: POST http://gemini2.sufe.edu.cn:27282/v1/chat/completions \"HTTP/1.1 200 OK\"\n"
     ]
    },
    {
     "name": "stderr",
     "output_type": "stream",
     "text": [
      " 75%|███████▌  | 30/40 [00:18<00:06,  1.43it/s]"
     ]
    },
    {
     "name": "stdout",
     "output_type": "stream",
     "text": [
      "INFO:httpx:HTTP Request: POST http://gemini2.sufe.edu.cn:27282/v1/chat/completions \"HTTP/1.1 200 OK\"\n"
     ]
    },
    {
     "name": "stderr",
     "output_type": "stream",
     "text": [
      " 78%|███████▊  | 31/40 [00:19<00:06,  1.49it/s]"
     ]
    },
    {
     "name": "stdout",
     "output_type": "stream",
     "text": [
      "INFO:httpx:HTTP Request: POST http://gemini2.sufe.edu.cn:27282/v1/chat/completions \"HTTP/1.1 200 OK\"\n"
     ]
    },
    {
     "name": "stderr",
     "output_type": "stream",
     "text": [
      " 80%|████████  | 32/40 [00:19<00:05,  1.54it/s]"
     ]
    },
    {
     "name": "stdout",
     "output_type": "stream",
     "text": [
      "INFO:httpx:HTTP Request: POST http://gemini2.sufe.edu.cn:27282/v1/chat/completions \"HTTP/1.1 200 OK\"\n"
     ]
    },
    {
     "name": "stderr",
     "output_type": "stream",
     "text": [
      " 82%|████████▎ | 33/40 [00:20<00:04,  1.67it/s]"
     ]
    },
    {
     "name": "stdout",
     "output_type": "stream",
     "text": [
      "INFO:httpx:HTTP Request: POST http://gemini2.sufe.edu.cn:27282/v1/chat/completions \"HTTP/1.1 200 OK\"\n"
     ]
    },
    {
     "name": "stderr",
     "output_type": "stream",
     "text": [
      " 85%|████████▌ | 34/40 [00:21<00:04,  1.44it/s]"
     ]
    },
    {
     "name": "stdout",
     "output_type": "stream",
     "text": [
      "INFO:httpx:HTTP Request: POST http://gemini2.sufe.edu.cn:27282/v1/chat/completions \"HTTP/1.1 200 OK\"\n"
     ]
    },
    {
     "name": "stderr",
     "output_type": "stream",
     "text": [
      " 88%|████████▊ | 35/40 [00:21<00:03,  1.53it/s]"
     ]
    },
    {
     "name": "stdout",
     "output_type": "stream",
     "text": [
      "INFO:httpx:HTTP Request: POST http://gemini2.sufe.edu.cn:27282/v1/chat/completions \"HTTP/1.1 200 OK\"\n"
     ]
    },
    {
     "name": "stderr",
     "output_type": "stream",
     "text": [
      " 90%|█████████ | 36/40 [00:22<00:02,  1.60it/s]"
     ]
    },
    {
     "name": "stdout",
     "output_type": "stream",
     "text": [
      "INFO:httpx:HTTP Request: POST http://gemini2.sufe.edu.cn:27282/v1/chat/completions \"HTTP/1.1 200 OK\"\n"
     ]
    },
    {
     "name": "stderr",
     "output_type": "stream",
     "text": [
      " 92%|█████████▎| 37/40 [00:22<00:01,  1.65it/s]"
     ]
    },
    {
     "name": "stdout",
     "output_type": "stream",
     "text": [
      "INFO:httpx:HTTP Request: POST http://gemini2.sufe.edu.cn:27282/v1/chat/completions \"HTTP/1.1 200 OK\"\n"
     ]
    },
    {
     "name": "stderr",
     "output_type": "stream",
     "text": [
      " 95%|█████████▌| 38/40 [00:23<00:01,  1.80it/s]"
     ]
    },
    {
     "name": "stdout",
     "output_type": "stream",
     "text": [
      "INFO:httpx:HTTP Request: POST http://gemini2.sufe.edu.cn:27282/v1/chat/completions \"HTTP/1.1 200 OK\"\n"
     ]
    },
    {
     "name": "stderr",
     "output_type": "stream",
     "text": [
      " 98%|█████████▊| 39/40 [00:24<00:00,  1.39it/s]"
     ]
    },
    {
     "name": "stdout",
     "output_type": "stream",
     "text": [
      "INFO:httpx:HTTP Request: POST http://gemini2.sufe.edu.cn:27282/v1/chat/completions \"HTTP/1.1 200 OK\"\n"
     ]
    },
    {
     "name": "stderr",
     "output_type": "stream",
     "text": [
      "100%|██████████| 40/40 [00:25<00:00,  1.60it/s]"
     ]
    },
    {
     "name": "stdout",
     "output_type": "stream",
     "text": [
      "Subject: microeconomics\n",
      "Acc: 0.0\n",
      "Accuracy:\n",
      "microeconomics :  0.0\n",
      "--------------------------------------------------------------------------------\n",
      "Accuracy_subject:\n",
      "microeconomics :  0.0\n",
      "--------------------------------------------------------------------------------\n",
      "Accuracy_grouped:\n",
      "Economy :  0.0\n",
      "Avg: \n",
      "0.0\n"
     ]
    },
    {
     "name": "stderr",
     "output_type": "stream",
     "text": [
      "\n"
     ]
    }
   ],
   "source": [
    "from openai_evaluators import OpenAI_Evaluator\n",
    "evaluator = OpenAI_Evaluator(choices=choices, api_key='null', k=args['ntrain'], model_name=args['model_name'])\n",
    "benchmark_summary = fineval(args=args, evaluator=evaluator, take=1)\n",
    "benchmark_summary"
   ]
  },
  {
   "cell_type": "code",
   "execution_count": 16,
   "id": "d971610a",
   "metadata": {},
   "outputs": [
    {
     "name": "stdout",
     "output_type": "stream",
     "text": [
      "############# nodes group: size_256_overlap_32 ###############\n",
      "0.0 Inference starts at 2024-04-11_23-31-42 on chatglm with subject of microeconomics!\n"
     ]
    },
    {
     "name": "stderr",
     "output_type": "stream",
     "text": [
      "  0%|          | 0/40 [00:00<?, ?it/s]"
     ]
    },
    {
     "name": "stdout",
     "output_type": "stream",
     "text": [
      "{'response_synthesizer:summary_template': ChatPromptTemplate(metadata={'prompt_type': <PromptType.CUSTOM: 'custom'>}, template_vars=['context_str', 'query_str'], kwargs={}, output_parser=None, template_var_mappings=None, function_mappings=None, message_templates=[ChatMessage(role=<MessageRole.SYSTEM: 'system'>, content='你是一个中文人工智能助手，以下是中国关于microeconomics考试的单项选择题以及相应的参考内容，请根据参考信息选出其中的正确答案。', additional_kwargs={}), ChatMessage(role=<MessageRole.USER: 'user'>, content='从不同来源获取的参考信息如下:\\n---------------------\\n{context_str}\\n---------------------\\n题目:{query_str}', additional_kwargs={}), ChatMessage(role=<MessageRole.USER: 'user'>, content='选项:\\nA. 平均总成本小于100\\nB. 平均固定成本小于100\\nC. 边际产量增加\\nD. 平均可变成本小于100\\n答案:\\n', additional_kwargs={})])}\n",
      "INFO:httpx:HTTP Request: POST http://gemini2.sufe.edu.cn:27282/v1/chat/completions \"HTTP/1.1 200 OK\"\n",
      "INFO:httpx:HTTP Request: POST http://gemini2.sufe.edu.cn:27282/v1/embeddings \"HTTP/1.1 200 OK\"\n",
      "INFO:httpx:HTTP Request: POST http://gemini2.sufe.edu.cn:27282/v1/chat/completions \"HTTP/1.1 200 OK\"\n"
     ]
    },
    {
     "name": "stderr",
     "output_type": "stream",
     "text": [
      "  2%|▎         | 1/40 [00:10<06:51, 10.55s/it]"
     ]
    },
    {
     "name": "stdout",
     "output_type": "stream",
     "text": [
      "{'response_synthesizer:summary_template': ChatPromptTemplate(metadata={'prompt_type': <PromptType.CUSTOM: 'custom'>}, template_vars=['context_str', 'query_str'], kwargs={}, output_parser=None, template_var_mappings=None, function_mappings=None, message_templates=[ChatMessage(role=<MessageRole.SYSTEM: 'system'>, content='你是一个中文人工智能助手，以下是中国关于microeconomics考试的单项选择题以及相应的参考内容，请根据参考信息选出其中的正确答案。', additional_kwargs={}), ChatMessage(role=<MessageRole.USER: 'user'>, content='从不同来源获取的参考信息如下:\\n---------------------\\n{context_str}\\n---------------------\\n题目:{query_str}', additional_kwargs={}), ChatMessage(role=<MessageRole.USER: 'user'>, content='选项:\\nA. 固定不变\\nB. 经常变动\\nC. 等于1\\nD. 等于0\\n答案:\\n', additional_kwargs={})])}\n",
      "INFO:httpx:HTTP Request: POST http://gemini2.sufe.edu.cn:27282/v1/chat/completions \"HTTP/1.1 200 OK\"\n",
      "INFO:httpx:HTTP Request: POST http://gemini2.sufe.edu.cn:27282/v1/embeddings \"HTTP/1.1 200 OK\"\n",
      "INFO:httpx:HTTP Request: POST http://gemini2.sufe.edu.cn:27282/v1/chat/completions \"HTTP/1.1 200 OK\"\n"
     ]
    },
    {
     "name": "stderr",
     "output_type": "stream",
     "text": [
      "  5%|▌         | 2/40 [00:13<03:54,  6.16s/it]"
     ]
    },
    {
     "name": "stdout",
     "output_type": "stream",
     "text": [
      "{'response_synthesizer:summary_template': ChatPromptTemplate(metadata={'prompt_type': <PromptType.CUSTOM: 'custom'>}, template_vars=['context_str', 'query_str'], kwargs={}, output_parser=None, template_var_mappings=None, function_mappings=None, message_templates=[ChatMessage(role=<MessageRole.SYSTEM: 'system'>, content='你是一个中文人工智能助手，以下是中国关于microeconomics考试的单项选择题以及相应的参考内容，请根据参考信息选出其中的正确答案。', additional_kwargs={}), ChatMessage(role=<MessageRole.USER: 'user'>, content='从不同来源获取的参考信息如下:\\n---------------------\\n{context_str}\\n---------------------\\n题目:{query_str}', additional_kwargs={}), ChatMessage(role=<MessageRole.USER: 'user'>, content='选项:\\nA. 既有厂商进入也有厂商退出该行业\\nB. 完全竞争被不完全竞争所取代\\nC. 新的厂商进入了该行业\\nD. 原有厂商退出了该行业\\n答案:\\n', additional_kwargs={})])}\n",
      "INFO:httpx:HTTP Request: POST http://gemini2.sufe.edu.cn:27282/v1/chat/completions \"HTTP/1.1 200 OK\"\n",
      "INFO:httpx:HTTP Request: POST http://gemini2.sufe.edu.cn:27282/v1/embeddings \"HTTP/1.1 200 OK\"\n",
      "INFO:httpx:HTTP Request: POST http://gemini2.sufe.edu.cn:27282/v1/chat/completions \"HTTP/1.1 200 OK\"\n"
     ]
    },
    {
     "name": "stderr",
     "output_type": "stream",
     "text": [
      "  8%|▊         | 3/40 [00:17<03:07,  5.07s/it]"
     ]
    },
    {
     "name": "stdout",
     "output_type": "stream",
     "text": [
      "{'response_synthesizer:summary_template': ChatPromptTemplate(metadata={'prompt_type': <PromptType.CUSTOM: 'custom'>}, template_vars=['context_str', 'query_str'], kwargs={}, output_parser=None, template_var_mappings=None, function_mappings=None, message_templates=[ChatMessage(role=<MessageRole.SYSTEM: 'system'>, content='你是一个中文人工智能助手，以下是中国关于microeconomics考试的单项选择题以及相应的参考内容，请根据参考信息选出其中的正确答案。', additional_kwargs={}), ChatMessage(role=<MessageRole.USER: 'user'>, content='从不同来源获取的参考信息如下:\\n---------------------\\n{context_str}\\n---------------------\\n题目:{query_str}', additional_kwargs={}), ChatMessage(role=<MessageRole.USER: 'user'>, content='选项:\\nA. 边际成本递减\\nB. 边际产量递减\\nC. 边际效益递减\\nD. 规模效益递减\\n答案:\\n', additional_kwargs={})])}\n",
      "INFO:httpx:HTTP Request: POST http://gemini2.sufe.edu.cn:27282/v1/chat/completions \"HTTP/1.1 200 OK\"\n",
      "INFO:httpx:HTTP Request: POST http://gemini2.sufe.edu.cn:27282/v1/embeddings \"HTTP/1.1 200 OK\"\n",
      "INFO:httpx:HTTP Request: POST http://gemini2.sufe.edu.cn:27282/v1/chat/completions \"HTTP/1.1 200 OK\"\n"
     ]
    },
    {
     "name": "stderr",
     "output_type": "stream",
     "text": [
      " 10%|█         | 4/40 [00:19<02:26,  4.06s/it]"
     ]
    },
    {
     "name": "stdout",
     "output_type": "stream",
     "text": [
      "{'response_synthesizer:summary_template': ChatPromptTemplate(metadata={'prompt_type': <PromptType.CUSTOM: 'custom'>}, template_vars=['context_str', 'query_str'], kwargs={}, output_parser=None, template_var_mappings=None, function_mappings=None, message_templates=[ChatMessage(role=<MessageRole.SYSTEM: 'system'>, content='你是一个中文人工智能助手，以下是中国关于microeconomics考试的单项选择题以及相应的参考内容，请根据参考信息选出其中的正确答案。', additional_kwargs={}), ChatMessage(role=<MessageRole.USER: 'user'>, content='从不同来源获取的参考信息如下:\\n---------------------\\n{context_str}\\n---------------------\\n题目:{query_str}', additional_kwargs={}), ChatMessage(role=<MessageRole.USER: 'user'>, content='选项:\\nA. 其下部向里偏转，即做顺时针转动\\nB. 其下部向外偏转，即做逆时针转动\\nC. 向下平行移动\\nD. 向上平行移动\\n答案:\\n', additional_kwargs={})])}\n",
      "INFO:httpx:HTTP Request: POST http://gemini2.sufe.edu.cn:27282/v1/chat/completions \"HTTP/1.1 200 OK\"\n",
      "INFO:httpx:HTTP Request: POST http://gemini2.sufe.edu.cn:27282/v1/embeddings \"HTTP/1.1 200 OK\"\n",
      "INFO:httpx:HTTP Request: POST http://gemini2.sufe.edu.cn:27282/v1/chat/completions \"HTTP/1.1 200 OK\"\n"
     ]
    },
    {
     "name": "stderr",
     "output_type": "stream",
     "text": [
      " 12%|█▎        | 5/40 [00:22<02:05,  3.59s/it]"
     ]
    },
    {
     "name": "stdout",
     "output_type": "stream",
     "text": [
      "{'response_synthesizer:summary_template': ChatPromptTemplate(metadata={'prompt_type': <PromptType.CUSTOM: 'custom'>}, template_vars=['context_str', 'query_str'], kwargs={}, output_parser=None, template_var_mappings=None, function_mappings=None, message_templates=[ChatMessage(role=<MessageRole.SYSTEM: 'system'>, content='你是一个中文人工智能助手，以下是中国关于microeconomics考试的单项选择题以及相应的参考内容，请根据参考信息选出其中的正确答案。', additional_kwargs={}), ChatMessage(role=<MessageRole.USER: 'user'>, content='从不同来源获取的参考信息如下:\\n---------------------\\n{context_str}\\n---------------------\\n题目:{query_str}', additional_kwargs={}), ChatMessage(role=<MessageRole.USER: 'user'>, content='选项:\\nA. 未达到利润最大化，应减少产量\\nB. 未达到利润最大化，应扩大产量\\nC. 生产出利润最大化，但是成本未达到最小化\\nD. 在成本最小条件下实现利润最大化产量\\n答案:\\n', additional_kwargs={})])}\n",
      "INFO:httpx:HTTP Request: POST http://gemini2.sufe.edu.cn:27282/v1/chat/completions \"HTTP/1.1 200 OK\"\n",
      "INFO:httpx:HTTP Request: POST http://gemini2.sufe.edu.cn:27282/v1/embeddings \"HTTP/1.1 200 OK\"\n",
      "INFO:httpx:HTTP Request: POST http://gemini2.sufe.edu.cn:27282/v1/chat/completions \"HTTP/1.1 200 OK\"\n"
     ]
    },
    {
     "name": "stderr",
     "output_type": "stream",
     "text": [
      " 15%|█▌        | 6/40 [00:34<03:36,  6.37s/it]"
     ]
    },
    {
     "name": "stdout",
     "output_type": "stream",
     "text": [
      "{'response_synthesizer:summary_template': ChatPromptTemplate(metadata={'prompt_type': <PromptType.CUSTOM: 'custom'>}, template_vars=['context_str', 'query_str'], kwargs={}, output_parser=None, template_var_mappings=None, function_mappings=None, message_templates=[ChatMessage(role=<MessageRole.SYSTEM: 'system'>, content='你是一个中文人工智能助手，以下是中国关于microeconomics考试的单项选择题以及相应的参考内容，请根据参考信息选出其中的正确答案。', additional_kwargs={}), ChatMessage(role=<MessageRole.USER: 'user'>, content='从不同来源获取的参考信息如下:\\n---------------------\\n{context_str}\\n---------------------\\n题目:{query_str}', additional_kwargs={}), ChatMessage(role=<MessageRole.USER: 'user'>, content='选项:\\nA. 边际产品价值降低；劳动的需求曲线右移\\nB. 边际产品价值增加；劳动的需求曲线左移\\nC. 边际产品价值增加；劳动的需求曲线右移\\nD. 边际产品价值降低；劳动的需求曲线左移\\n答案:\\n', additional_kwargs={})])}\n",
      "INFO:httpx:HTTP Request: POST http://gemini2.sufe.edu.cn:27282/v1/chat/completions \"HTTP/1.1 200 OK\"\n",
      "INFO:httpx:HTTP Request: POST http://gemini2.sufe.edu.cn:27282/v1/embeddings \"HTTP/1.1 200 OK\"\n",
      "INFO:httpx:HTTP Request: POST http://gemini2.sufe.edu.cn:27282/v1/chat/completions \"HTTP/1.1 200 OK\"\n"
     ]
    },
    {
     "name": "stderr",
     "output_type": "stream",
     "text": [
      " 18%|█▊        | 7/40 [00:37<02:55,  5.33s/it]"
     ]
    },
    {
     "name": "stdout",
     "output_type": "stream",
     "text": [
      "{'response_synthesizer:summary_template': ChatPromptTemplate(metadata={'prompt_type': <PromptType.CUSTOM: 'custom'>}, template_vars=['context_str', 'query_str'], kwargs={}, output_parser=None, template_var_mappings=None, function_mappings=None, message_templates=[ChatMessage(role=<MessageRole.SYSTEM: 'system'>, content='你是一个中文人工智能助手，以下是中国关于microeconomics考试的单项选择题以及相应的参考内容，请根据参考信息选出其中的正确答案。', additional_kwargs={}), ChatMessage(role=<MessageRole.USER: 'user'>, content='从不同来源获取的参考信息如下:\\n---------------------\\n{context_str}\\n---------------------\\n题目:{query_str}', additional_kwargs={}), ChatMessage(role=<MessageRole.USER: 'user'>, content='选项:\\nA. 向前弯曲\\nB. 向后弯曲\\nC. 仍保持向右上方倾斜\\nD. 向右下方倾斜\\n答案:\\n', additional_kwargs={})])}\n",
      "INFO:httpx:HTTP Request: POST http://gemini2.sufe.edu.cn:27282/v1/chat/completions \"HTTP/1.1 200 OK\"\n",
      "INFO:httpx:HTTP Request: POST http://gemini2.sufe.edu.cn:27282/v1/embeddings \"HTTP/1.1 200 OK\"\n",
      "INFO:httpx:HTTP Request: POST http://gemini2.sufe.edu.cn:27282/v1/chat/completions \"HTTP/1.1 200 OK\"\n"
     ]
    },
    {
     "name": "stderr",
     "output_type": "stream",
     "text": [
      " 20%|██        | 8/40 [00:40<02:20,  4.39s/it]"
     ]
    },
    {
     "name": "stdout",
     "output_type": "stream",
     "text": [
      "{'response_synthesizer:summary_template': ChatPromptTemplate(metadata={'prompt_type': <PromptType.CUSTOM: 'custom'>}, template_vars=['context_str', 'query_str'], kwargs={}, output_parser=None, template_var_mappings=None, function_mappings=None, message_templates=[ChatMessage(role=<MessageRole.SYSTEM: 'system'>, content='你是一个中文人工智能助手，以下是中国关于microeconomics考试的单项选择题以及相应的参考内容，请根据参考信息选出其中的正确答案。', additional_kwargs={}), ChatMessage(role=<MessageRole.USER: 'user'>, content='从不同来源获取的参考信息如下:\\n---------------------\\n{context_str}\\n---------------------\\n题目:{query_str}', additional_kwargs={}), ChatMessage(role=<MessageRole.USER: 'user'>, content='选项:\\nA. 它是指工资率对劳动者的收入，从而劳动时间产生的影响\\nB. 若劳动时间不变，工资率的提高使得劳动者的收入提高\\nC. 若劳动时间不变，工资率的提高使得劳动者有能力消费更多的闲暇\\nD. 工资率的提高的收入效应使得劳动供给增加\\n答案:\\n', additional_kwargs={})])}\n",
      "INFO:httpx:HTTP Request: POST http://gemini2.sufe.edu.cn:27282/v1/chat/completions \"HTTP/1.1 200 OK\"\n",
      "INFO:httpx:HTTP Request: POST http://gemini2.sufe.edu.cn:27282/v1/embeddings \"HTTP/1.1 200 OK\"\n",
      "INFO:httpx:HTTP Request: POST http://gemini2.sufe.edu.cn:27282/v1/chat/completions \"HTTP/1.1 200 OK\"\n"
     ]
    },
    {
     "name": "stderr",
     "output_type": "stream",
     "text": [
      " 22%|██▎       | 9/40 [00:43<02:02,  3.96s/it]"
     ]
    },
    {
     "name": "stdout",
     "output_type": "stream",
     "text": [
      "{'response_synthesizer:summary_template': ChatPromptTemplate(metadata={'prompt_type': <PromptType.CUSTOM: 'custom'>}, template_vars=['context_str', 'query_str'], kwargs={}, output_parser=None, template_var_mappings=None, function_mappings=None, message_templates=[ChatMessage(role=<MessageRole.SYSTEM: 'system'>, content='你是一个中文人工智能助手，以下是中国关于microeconomics考试的单项选择题以及相应的参考内容，请根据参考信息选出其中的正确答案。', additional_kwargs={}), ChatMessage(role=<MessageRole.USER: 'user'>, content='从不同来源获取的参考信息如下:\\n---------------------\\n{context_str}\\n---------------------\\n题目:{query_str}', additional_kwargs={}), ChatMessage(role=<MessageRole.USER: 'user'>, content='选项:\\nA. 乙用X向甲交换Y\\nB. 乙用Y向甲交换X\\nC. 甲和乙不会交换商品\\nD. 以上均不正确\\n答案:\\n', additional_kwargs={})])}\n",
      "INFO:httpx:HTTP Request: POST http://gemini2.sufe.edu.cn:27282/v1/chat/completions \"HTTP/1.1 200 OK\"\n",
      "INFO:httpx:HTTP Request: POST http://gemini2.sufe.edu.cn:27282/v1/embeddings \"HTTP/1.1 200 OK\"\n",
      "INFO:httpx:HTTP Request: POST http://gemini2.sufe.edu.cn:27282/v1/chat/completions \"HTTP/1.1 200 OK\"\n"
     ]
    },
    {
     "name": "stderr",
     "output_type": "stream",
     "text": [
      " 25%|██▌       | 10/40 [00:50<02:31,  5.05s/it]"
     ]
    },
    {
     "name": "stdout",
     "output_type": "stream",
     "text": [
      "{'response_synthesizer:summary_template': ChatPromptTemplate(metadata={'prompt_type': <PromptType.CUSTOM: 'custom'>}, template_vars=['context_str', 'query_str'], kwargs={}, output_parser=None, template_var_mappings=None, function_mappings=None, message_templates=[ChatMessage(role=<MessageRole.SYSTEM: 'system'>, content='你是一个中文人工智能助手，以下是中国关于microeconomics考试的单项选择题以及相应的参考内容，请根据参考信息选出其中的正确答案。', additional_kwargs={}), ChatMessage(role=<MessageRole.USER: 'user'>, content='从不同来源获取的参考信息如下:\\n---------------------\\n{context_str}\\n---------------------\\n题目:{query_str}', additional_kwargs={}), ChatMessage(role=<MessageRole.USER: 'user'>, content='选项:\\nA. 一个部门的变化对其他部门的影响\\nB. 与供给相独立的需求的变化\\nC. 一个市场出现的情况，忽视其他市场\\nD. 经济中所有的相互作用和相互依存关系\\n答案:\\n', additional_kwargs={})])}\n",
      "INFO:httpx:HTTP Request: POST http://gemini2.sufe.edu.cn:27282/v1/chat/completions \"HTTP/1.1 200 OK\"\n",
      "INFO:httpx:HTTP Request: POST http://gemini2.sufe.edu.cn:27282/v1/embeddings \"HTTP/1.1 200 OK\"\n",
      "INFO:httpx:HTTP Request: POST http://gemini2.sufe.edu.cn:27282/v1/chat/completions \"HTTP/1.1 200 OK\"\n"
     ]
    },
    {
     "name": "stderr",
     "output_type": "stream",
     "text": [
      " 28%|██▊       | 11/40 [00:52<01:56,  4.03s/it]"
     ]
    },
    {
     "name": "stdout",
     "output_type": "stream",
     "text": [
      "{'response_synthesizer:summary_template': ChatPromptTemplate(metadata={'prompt_type': <PromptType.CUSTOM: 'custom'>}, template_vars=['context_str', 'query_str'], kwargs={}, output_parser=None, template_var_mappings=None, function_mappings=None, message_templates=[ChatMessage(role=<MessageRole.SYSTEM: 'system'>, content='你是一个中文人工智能助手，以下是中国关于microeconomics考试的单项选择题以及相应的参考内容，请根据参考信息选出其中的正确答案。', additional_kwargs={}), ChatMessage(role=<MessageRole.USER: 'user'>, content='从不同来源获取的参考信息如下:\\n---------------------\\n{context_str}\\n---------------------\\n题目:{query_str}', additional_kwargs={}), ChatMessage(role=<MessageRole.USER: 'user'>, content='选项:\\nA. 一般均衡分析很可能推出错误的结论\\nB. 局部均衡分析很可能推出错误的结论\\nC. 局部均衡分析将提供合理可靠的预测\\nD. 以上说法都不对\\n答案:\\n', additional_kwargs={})])}\n",
      "INFO:httpx:HTTP Request: POST http://gemini2.sufe.edu.cn:27282/v1/chat/completions \"HTTP/1.1 200 OK\"\n",
      "INFO:httpx:HTTP Request: POST http://gemini2.sufe.edu.cn:27282/v1/embeddings \"HTTP/1.1 200 OK\"\n",
      "INFO:httpx:HTTP Request: POST http://gemini2.sufe.edu.cn:27282/v1/chat/completions \"HTTP/1.1 200 OK\"\n"
     ]
    },
    {
     "name": "stderr",
     "output_type": "stream",
     "text": [
      " 30%|███       | 12/40 [01:00<02:31,  5.41s/it]"
     ]
    },
    {
     "name": "stdout",
     "output_type": "stream",
     "text": [
      "{'response_synthesizer:summary_template': ChatPromptTemplate(metadata={'prompt_type': <PromptType.CUSTOM: 'custom'>}, template_vars=['context_str', 'query_str'], kwargs={}, output_parser=None, template_var_mappings=None, function_mappings=None, message_templates=[ChatMessage(role=<MessageRole.SYSTEM: 'system'>, content='你是一个中文人工智能助手，以下是中国关于microeconomics考试的单项选择题以及相应的参考内容，请根据参考信息选出其中的正确答案。', additional_kwargs={}), ChatMessage(role=<MessageRole.USER: 'user'>, content='从不同来源获取的参考信息如下:\\n---------------------\\n{context_str}\\n---------------------\\n题目:{query_str}', additional_kwargs={}), ChatMessage(role=<MessageRole.USER: 'user'>, content='选项:\\nA. 生产的效率\\nB. 交换的效率\\nC. 产品组合的效率\\nD. 收入的公平分配\\n答案:\\n', additional_kwargs={})])}\n",
      "INFO:httpx:HTTP Request: POST http://gemini2.sufe.edu.cn:27282/v1/chat/completions \"HTTP/1.1 200 OK\"\n",
      "INFO:httpx:HTTP Request: POST http://gemini2.sufe.edu.cn:27282/v1/embeddings \"HTTP/1.1 200 OK\"\n",
      "INFO:httpx:HTTP Request: POST http://gemini2.sufe.edu.cn:27282/v1/chat/completions \"HTTP/1.1 200 OK\"\n"
     ]
    },
    {
     "name": "stderr",
     "output_type": "stream",
     "text": [
      " 32%|███▎      | 13/40 [01:02<01:59,  4.43s/it]"
     ]
    },
    {
     "name": "stdout",
     "output_type": "stream",
     "text": [
      "{'response_synthesizer:summary_template': ChatPromptTemplate(metadata={'prompt_type': <PromptType.CUSTOM: 'custom'>}, template_vars=['context_str', 'query_str'], kwargs={}, output_parser=None, template_var_mappings=None, function_mappings=None, message_templates=[ChatMessage(role=<MessageRole.SYSTEM: 'system'>, content='你是一个中文人工智能助手，以下是中国关于microeconomics考试的单项选择题以及相应的参考内容，请根据参考信息选出其中的正确答案。', additional_kwargs={}), ChatMessage(role=<MessageRole.USER: 'user'>, content='从不同来源获取的参考信息如下:\\n---------------------\\n{context_str}\\n---------------------\\n题目:{query_str}', additional_kwargs={}), ChatMessage(role=<MessageRole.USER: 'user'>, content='选项:\\nA. 如果不使其中一个人受损失就不能使另一个人受益\\nB. 每个人都处在其消费契约曲线上\\nC. 每个人都处在其效用可能性曲线上\\nD. 包括以上所有条件\\n答案:\\n', additional_kwargs={})])}\n",
      "INFO:httpx:HTTP Request: POST http://gemini2.sufe.edu.cn:27282/v1/chat/completions \"HTTP/1.1 200 OK\"\n",
      "INFO:httpx:HTTP Request: POST http://gemini2.sufe.edu.cn:27282/v1/embeddings \"HTTP/1.1 200 OK\"\n",
      "INFO:httpx:HTTP Request: POST http://gemini2.sufe.edu.cn:27282/v1/chat/completions \"HTTP/1.1 200 OK\"\n"
     ]
    },
    {
     "name": "stderr",
     "output_type": "stream",
     "text": [
      " 35%|███▌      | 14/40 [01:05<01:37,  3.74s/it]"
     ]
    },
    {
     "name": "stdout",
     "output_type": "stream",
     "text": [
      "{'response_synthesizer:summary_template': ChatPromptTemplate(metadata={'prompt_type': <PromptType.CUSTOM: 'custom'>}, template_vars=['context_str', 'query_str'], kwargs={}, output_parser=None, template_var_mappings=None, function_mappings=None, message_templates=[ChatMessage(role=<MessageRole.SYSTEM: 'system'>, content='你是一个中文人工智能助手，以下是中国关于microeconomics考试的单项选择题以及相应的参考内容，请根据参考信息选出其中的正确答案。', additional_kwargs={}), ChatMessage(role=<MessageRole.USER: 'user'>, content='从不同来源获取的参考信息如下:\\n---------------------\\n{context_str}\\n---------------------\\n题目:{query_str}', additional_kwargs={}), ChatMessage(role=<MessageRole.USER: 'user'>, content='选项:\\nA. 当市场不能完全出清时\\nB. 当竞争建立在自身利益最大化的前提上时\\nC. 当厂商追求利润最大化目标时\\nD. 当市场价格不能反映一项交易的所有成本和收益时\\n答案:\\n', additional_kwargs={})])}\n",
      "INFO:httpx:HTTP Request: POST http://gemini2.sufe.edu.cn:27282/v1/chat/completions \"HTTP/1.1 200 OK\"\n",
      "INFO:httpx:HTTP Request: POST http://gemini2.sufe.edu.cn:27282/v1/embeddings \"HTTP/1.1 200 OK\"\n",
      "INFO:httpx:HTTP Request: POST http://gemini2.sufe.edu.cn:27282/v1/chat/completions \"HTTP/1.1 200 OK\"\n"
     ]
    },
    {
     "name": "stderr",
     "output_type": "stream",
     "text": [
      " 38%|███▊      | 15/40 [01:07<01:19,  3.19s/it]"
     ]
    },
    {
     "name": "stdout",
     "output_type": "stream",
     "text": [
      "{'response_synthesizer:summary_template': ChatPromptTemplate(metadata={'prompt_type': <PromptType.CUSTOM: 'custom'>}, template_vars=['context_str', 'query_str'], kwargs={}, output_parser=None, template_var_mappings=None, function_mappings=None, message_templates=[ChatMessage(role=<MessageRole.SYSTEM: 'system'>, content='你是一个中文人工智能助手，以下是中国关于microeconomics考试的单项选择题以及相应的参考内容，请根据参考信息选出其中的正确答案。', additional_kwargs={}), ChatMessage(role=<MessageRole.USER: 'user'>, content='从不同来源获取的参考信息如下:\\n---------------------\\n{context_str}\\n---------------------\\n题目:{query_str}', additional_kwargs={}), ChatMessage(role=<MessageRole.USER: 'user'>, content='选项:\\nA. 不能被证明是一种旨在提高效率合理的经济行为\\nB. 本质是非法的\\nC. 违反了克莱顿法\\nD. 导致纵向或横向兼并\\n答案:\\n', additional_kwargs={})])}\n",
      "INFO:httpx:HTTP Request: POST http://gemini2.sufe.edu.cn:27282/v1/chat/completions \"HTTP/1.1 200 OK\"\n",
      "INFO:httpx:HTTP Request: POST http://gemini2.sufe.edu.cn:27282/v1/embeddings \"HTTP/1.1 200 OK\"\n",
      "INFO:httpx:HTTP Request: POST http://gemini2.sufe.edu.cn:27282/v1/chat/completions \"HTTP/1.1 200 OK\"\n"
     ]
    },
    {
     "name": "stderr",
     "output_type": "stream",
     "text": [
      " 40%|████      | 16/40 [01:08<01:06,  2.79s/it]"
     ]
    },
    {
     "name": "stdout",
     "output_type": "stream",
     "text": [
      "{'response_synthesizer:summary_template': ChatPromptTemplate(metadata={'prompt_type': <PromptType.CUSTOM: 'custom'>}, template_vars=['context_str', 'query_str'], kwargs={}, output_parser=None, template_var_mappings=None, function_mappings=None, message_templates=[ChatMessage(role=<MessageRole.SYSTEM: 'system'>, content='你是一个中文人工智能助手，以下是中国关于microeconomics考试的单项选择题以及相应的参考内容，请根据参考信息选出其中的正确答案。', additional_kwargs={}), ChatMessage(role=<MessageRole.USER: 'user'>, content='从不同来源获取的参考信息如下:\\n---------------------\\n{context_str}\\n---------------------\\n题目:{query_str}', additional_kwargs={}), ChatMessage(role=<MessageRole.USER: 'user'>, content='选项:\\nA. 卖方故意要隐瞒自己一些情况\\nB. 买方认识能力有限\\nC. 完全掌握情况所费成本太高\\nD. 以上三种情况都有可能\\n答案:\\n', additional_kwargs={})])}\n",
      "INFO:httpx:HTTP Request: POST http://gemini2.sufe.edu.cn:27282/v1/chat/completions \"HTTP/1.1 200 OK\"\n",
      "INFO:httpx:HTTP Request: POST http://gemini2.sufe.edu.cn:27282/v1/embeddings \"HTTP/1.1 200 OK\"\n",
      "INFO:httpx:HTTP Request: POST http://gemini2.sufe.edu.cn:27282/v1/chat/completions \"HTTP/1.1 200 OK\"\n"
     ]
    },
    {
     "name": "stderr",
     "output_type": "stream",
     "text": [
      " 42%|████▎     | 17/40 [01:10<00:58,  2.53s/it]"
     ]
    },
    {
     "name": "stdout",
     "output_type": "stream",
     "text": [
      "{'response_synthesizer:summary_template': ChatPromptTemplate(metadata={'prompt_type': <PromptType.CUSTOM: 'custom'>}, template_vars=['context_str', 'query_str'], kwargs={}, output_parser=None, template_var_mappings=None, function_mappings=None, message_templates=[ChatMessage(role=<MessageRole.SYSTEM: 'system'>, content='你是一个中文人工智能助手，以下是中国关于microeconomics考试的单项选择题以及相应的参考内容，请根据参考信息选出其中的正确答案。', additional_kwargs={}), ChatMessage(role=<MessageRole.USER: 'user'>, content='从不同来源获取的参考信息如下:\\n---------------------\\n{context_str}\\n---------------------\\n题目:{query_str}', additional_kwargs={}), ChatMessage(role=<MessageRole.USER: 'user'>, content='选项:\\nA. 公共物品不具有排他性\\nB. 公共物品不具有竞争性\\nC. 消费者都想“免费乘车”\\nD. 以上三种情况都是\\n答案:\\n', additional_kwargs={})])}\n",
      "INFO:httpx:HTTP Request: POST http://gemini2.sufe.edu.cn:27282/v1/chat/completions \"HTTP/1.1 200 OK\"\n",
      "INFO:httpx:HTTP Request: POST http://gemini2.sufe.edu.cn:27282/v1/embeddings \"HTTP/1.1 200 OK\"\n",
      "INFO:httpx:HTTP Request: POST http://gemini2.sufe.edu.cn:27282/v1/chat/completions \"HTTP/1.1 200 OK\"\n"
     ]
    },
    {
     "name": "stderr",
     "output_type": "stream",
     "text": [
      " 45%|████▌     | 18/40 [01:13<00:54,  2.47s/it]"
     ]
    },
    {
     "name": "stdout",
     "output_type": "stream",
     "text": [
      "{'response_synthesizer:summary_template': ChatPromptTemplate(metadata={'prompt_type': <PromptType.CUSTOM: 'custom'>}, template_vars=['context_str', 'query_str'], kwargs={}, output_parser=None, template_var_mappings=None, function_mappings=None, message_templates=[ChatMessage(role=<MessageRole.SYSTEM: 'system'>, content='你是一个中文人工智能助手，以下是中国关于microeconomics考试的单项选择题以及相应的参考内容，请根据参考信息选出其中的正确答案。', additional_kwargs={}), ChatMessage(role=<MessageRole.USER: 'user'>, content='从不同来源获取的参考信息如下:\\n---------------------\\n{context_str}\\n---------------------\\n题目:{query_str}', additional_kwargs={}), ChatMessage(role=<MessageRole.USER: 'user'>, content='选项:\\nA. B用x向A交换y\\nB. B用y向A交换x\\nC. A和B不会交换商品\\nD. 无交换发生\\n答案:\\n', additional_kwargs={})])}\n",
      "INFO:httpx:HTTP Request: POST http://gemini2.sufe.edu.cn:27282/v1/chat/completions \"HTTP/1.1 200 OK\"\n",
      "INFO:httpx:HTTP Request: POST http://gemini2.sufe.edu.cn:27282/v1/embeddings \"HTTP/1.1 200 OK\"\n",
      "INFO:httpx:HTTP Request: POST http://gemini2.sufe.edu.cn:27282/v1/chat/completions \"HTTP/1.1 200 OK\"\n"
     ]
    },
    {
     "name": "stderr",
     "output_type": "stream",
     "text": [
      " 48%|████▊     | 19/40 [01:20<01:20,  3.81s/it]"
     ]
    },
    {
     "name": "stdout",
     "output_type": "stream",
     "text": [
      "{'response_synthesizer:summary_template': ChatPromptTemplate(metadata={'prompt_type': <PromptType.CUSTOM: 'custom'>}, template_vars=['context_str', 'query_str'], kwargs={}, output_parser=None, template_var_mappings=None, function_mappings=None, message_templates=[ChatMessage(role=<MessageRole.SYSTEM: 'system'>, content='你是一个中文人工智能助手，以下是中国关于microeconomics考试的单项选择题以及相应的参考内容，请根据参考信息选出其中的正确答案。', additional_kwargs={}), ChatMessage(role=<MessageRole.USER: 'user'>, content='从不同来源获取的参考信息如下:\\n---------------------\\n{context_str}\\n---------------------\\n题目:{query_str}', additional_kwargs={}), ChatMessage(role=<MessageRole.USER: 'user'>, content='选项:\\nA. 社会边际成本和私人边际成本之差\\nB. 私人边际成本\\nC. 治理污染设备的成本\\nD. 社会边际成本\\n答案:\\n', additional_kwargs={})])}\n",
      "INFO:httpx:HTTP Request: POST http://gemini2.sufe.edu.cn:27282/v1/chat/completions \"HTTP/1.1 200 OK\"\n",
      "INFO:httpx:HTTP Request: POST http://gemini2.sufe.edu.cn:27282/v1/embeddings \"HTTP/1.1 200 OK\"\n",
      "INFO:httpx:HTTP Request: POST http://gemini2.sufe.edu.cn:27282/v1/chat/completions \"HTTP/1.1 200 OK\"\n"
     ]
    },
    {
     "name": "stderr",
     "output_type": "stream",
     "text": [
      " 50%|█████     | 20/40 [01:22<01:10,  3.52s/it]"
     ]
    },
    {
     "name": "stdout",
     "output_type": "stream",
     "text": [
      "{'response_synthesizer:summary_template': ChatPromptTemplate(metadata={'prompt_type': <PromptType.CUSTOM: 'custom'>}, template_vars=['context_str', 'query_str'], kwargs={}, output_parser=None, template_var_mappings=None, function_mappings=None, message_templates=[ChatMessage(role=<MessageRole.SYSTEM: 'system'>, content='你是一个中文人工智能助手，以下是中国关于microeconomics考试的单项选择题以及相应的参考内容，请根据参考信息选出其中的正确答案。', additional_kwargs={}), ChatMessage(role=<MessageRole.USER: 'user'>, content='从不同来源获取的参考信息如下:\\n---------------------\\n{context_str}\\n---------------------\\n题目:{query_str}', additional_kwargs={}), ChatMessage(role=<MessageRole.USER: 'user'>, content='选项:\\nA. 一家公司设法增加在自己所有的财产上收取租金\\nB. 公司投入资源去劝说政府阻止新公司进入它的行业\\nC. 政府设法找出一家公司垄断租金的大小\\nD. 政府设法剥夺一家公司的垄断租金\\n答案:\\n', additional_kwargs={})])}\n",
      "INFO:httpx:HTTP Request: POST http://gemini2.sufe.edu.cn:27282/v1/chat/completions \"HTTP/1.1 200 OK\"\n",
      "INFO:httpx:HTTP Request: POST http://gemini2.sufe.edu.cn:27282/v1/embeddings \"HTTP/1.1 200 OK\"\n",
      "INFO:httpx:HTTP Request: POST http://gemini2.sufe.edu.cn:27282/v1/chat/completions \"HTTP/1.1 200 OK\"\n"
     ]
    },
    {
     "name": "stderr",
     "output_type": "stream",
     "text": [
      " 52%|█████▎    | 21/40 [01:25<00:59,  3.14s/it]"
     ]
    },
    {
     "name": "stdout",
     "output_type": "stream",
     "text": [
      "{'response_synthesizer:summary_template': ChatPromptTemplate(metadata={'prompt_type': <PromptType.CUSTOM: 'custom'>}, template_vars=['context_str', 'query_str'], kwargs={}, output_parser=None, template_var_mappings=None, function_mappings=None, message_templates=[ChatMessage(role=<MessageRole.SYSTEM: 'system'>, content='你是一个中文人工智能助手，以下是中国关于microeconomics考试的单项选择题以及相应的参考内容，请根据参考信息选出其中的正确答案。', additional_kwargs={}), ChatMessage(role=<MessageRole.USER: 'user'>, content='从不同来源获取的参考信息如下:\\n---------------------\\n{context_str}\\n---------------------\\n题目:{query_str}', additional_kwargs={}), ChatMessage(role=<MessageRole.USER: 'user'>, content='选项:\\nA. 价格竞争的市场\\nB. 产量竞争的市场\\nC. 产量领导的市场\\nD. 价格领导的市场\\n答案:\\n', additional_kwargs={})])}\n",
      "INFO:httpx:HTTP Request: POST http://gemini2.sufe.edu.cn:27282/v1/chat/completions \"HTTP/1.1 200 OK\"\n",
      "INFO:httpx:HTTP Request: POST http://gemini2.sufe.edu.cn:27282/v1/embeddings \"HTTP/1.1 200 OK\"\n",
      "INFO:httpx:HTTP Request: POST http://gemini2.sufe.edu.cn:27282/v1/chat/completions \"HTTP/1.1 200 OK\"\n"
     ]
    },
    {
     "name": "stderr",
     "output_type": "stream",
     "text": [
      " 55%|█████▌    | 22/40 [01:27<00:49,  2.76s/it]"
     ]
    },
    {
     "name": "stdout",
     "output_type": "stream",
     "text": [
      "{'response_synthesizer:summary_template': ChatPromptTemplate(metadata={'prompt_type': <PromptType.CUSTOM: 'custom'>}, template_vars=['context_str', 'query_str'], kwargs={}, output_parser=None, template_var_mappings=None, function_mappings=None, message_templates=[ChatMessage(role=<MessageRole.SYSTEM: 'system'>, content='你是一个中文人工智能助手，以下是中国关于microeconomics考试的单项选择题以及相应的参考内容，请根据参考信息选出其中的正确答案。', additional_kwargs={}), ChatMessage(role=<MessageRole.USER: 'user'>, content='从不同来源获取的参考信息如下:\\n---------------------\\n{context_str}\\n---------------------\\n题目:{query_str}', additional_kwargs={}), ChatMessage(role=<MessageRole.USER: 'user'>, content='选项:\\nA. 双方都独立依照自身利益行动，结果陷入最不利的局面\\nB. 双方都独立依照自身利益行事，导致最好的选择\\nC. 双方进行合作，得到了最好的结果\\nD. 双方进行合作，得到了次优的结果\\n答案:\\n', additional_kwargs={})])}\n",
      "INFO:httpx:HTTP Request: POST http://gemini2.sufe.edu.cn:27282/v1/chat/completions \"HTTP/1.1 200 OK\"\n",
      "INFO:httpx:HTTP Request: POST http://gemini2.sufe.edu.cn:27282/v1/embeddings \"HTTP/1.1 200 OK\"\n",
      "INFO:httpx:HTTP Request: POST http://gemini2.sufe.edu.cn:27282/v1/chat/completions \"HTTP/1.1 200 OK\"\n"
     ]
    },
    {
     "name": "stderr",
     "output_type": "stream",
     "text": [
      " 57%|█████▊    | 23/40 [01:29<00:43,  2.53s/it]"
     ]
    },
    {
     "name": "stdout",
     "output_type": "stream",
     "text": [
      "{'response_synthesizer:summary_template': ChatPromptTemplate(metadata={'prompt_type': <PromptType.CUSTOM: 'custom'>}, template_vars=['context_str', 'query_str'], kwargs={}, output_parser=None, template_var_mappings=None, function_mappings=None, message_templates=[ChatMessage(role=<MessageRole.SYSTEM: 'system'>, content='你是一个中文人工智能助手，以下是中国关于microeconomics考试的单项选择题以及相应的参考内容，请根据参考信息选出其中的正确答案。', additional_kwargs={}), ChatMessage(role=<MessageRole.USER: 'user'>, content='从不同来源获取的参考信息如下:\\n---------------------\\n{context_str}\\n---------------------\\n题目:{query_str}', additional_kwargs={}), ChatMessage(role=<MessageRole.USER: 'user'>, content='选项:\\nA. 一级价格差别\\nB. 二级价格差别\\nC. 三级价格差别\\nD. 混合价格差别\\n答案:\\n', additional_kwargs={})])}\n",
      "INFO:httpx:HTTP Request: POST http://gemini2.sufe.edu.cn:27282/v1/chat/completions \"HTTP/1.1 200 OK\"\n",
      "INFO:httpx:HTTP Request: POST http://gemini2.sufe.edu.cn:27282/v1/embeddings \"HTTP/1.1 200 OK\"\n",
      "INFO:httpx:HTTP Request: POST http://gemini2.sufe.edu.cn:27282/v1/chat/completions \"HTTP/1.1 200 OK\"\n"
     ]
    },
    {
     "name": "stderr",
     "output_type": "stream",
     "text": [
      " 60%|██████    | 24/40 [01:37<01:10,  4.39s/it]"
     ]
    },
    {
     "name": "stdout",
     "output_type": "stream",
     "text": [
      "{'response_synthesizer:summary_template': ChatPromptTemplate(metadata={'prompt_type': <PromptType.CUSTOM: 'custom'>}, template_vars=['context_str', 'query_str'], kwargs={}, output_parser=None, template_var_mappings=None, function_mappings=None, message_templates=[ChatMessage(role=<MessageRole.SYSTEM: 'system'>, content='你是一个中文人工智能助手，以下是中国关于microeconomics考试的单项选择题以及相应的参考内容，请根据参考信息选出其中的正确答案。', additional_kwargs={}), ChatMessage(role=<MessageRole.USER: 'user'>, content='从不同来源获取的参考信息如下:\\n---------------------\\n{context_str}\\n---------------------\\n题目:{query_str}', additional_kwargs={}), ChatMessage(role=<MessageRole.USER: 'user'>, content='选项:\\nA. 生产中使用的要素供给曲线是垂直的\\nB. 行业的长期供给曲线有一正的斜率\\nC. 行业的长期供给曲线有一负的斜率\\nD. 短期平均成本曲线不是U型的\\n答案:\\n', additional_kwargs={})])}\n",
      "INFO:httpx:HTTP Request: POST http://gemini2.sufe.edu.cn:27282/v1/chat/completions \"HTTP/1.1 200 OK\"\n",
      "INFO:httpx:HTTP Request: POST http://gemini2.sufe.edu.cn:27282/v1/embeddings \"HTTP/1.1 200 OK\"\n",
      "INFO:httpx:HTTP Request: POST http://gemini2.sufe.edu.cn:27282/v1/chat/completions \"HTTP/1.1 200 OK\"\n"
     ]
    },
    {
     "name": "stderr",
     "output_type": "stream",
     "text": [
      " 62%|██████▎   | 25/40 [01:41<01:02,  4.15s/it]"
     ]
    },
    {
     "name": "stdout",
     "output_type": "stream",
     "text": [
      "{'response_synthesizer:summary_template': ChatPromptTemplate(metadata={'prompt_type': <PromptType.CUSTOM: 'custom'>}, template_vars=['context_str', 'query_str'], kwargs={}, output_parser=None, template_var_mappings=None, function_mappings=None, message_templates=[ChatMessage(role=<MessageRole.SYSTEM: 'system'>, content='你是一个中文人工智能助手，以下是中国关于microeconomics考试的单项选择题以及相应的参考内容，请根据参考信息选出其中的正确答案。', additional_kwargs={}), ChatMessage(role=<MessageRole.USER: 'user'>, content='从不同来源获取的参考信息如下:\\n---------------------\\n{context_str}\\n---------------------\\n题目:{query_str}', additional_kwargs={}), ChatMessage(role=<MessageRole.USER: 'user'>, content='选项:\\nA. 使总亏损最小\\nB. 使总亏损最小\\nC. 使总亏损最小，或使总盈利最大\\nD. 以上都不正确\\n答案:\\n', additional_kwargs={})])}\n",
      "INFO:httpx:HTTP Request: POST http://gemini2.sufe.edu.cn:27282/v1/chat/completions \"HTTP/1.1 200 OK\"\n",
      "INFO:httpx:HTTP Request: POST http://gemini2.sufe.edu.cn:27282/v1/embeddings \"HTTP/1.1 200 OK\"\n",
      "INFO:httpx:HTTP Request: POST http://gemini2.sufe.edu.cn:27282/v1/chat/completions \"HTTP/1.1 200 OK\"\n"
     ]
    },
    {
     "name": "stderr",
     "output_type": "stream",
     "text": [
      " 65%|██████▌   | 26/40 [01:43<00:49,  3.51s/it]"
     ]
    },
    {
     "name": "stdout",
     "output_type": "stream",
     "text": [
      "{'response_synthesizer:summary_template': ChatPromptTemplate(metadata={'prompt_type': <PromptType.CUSTOM: 'custom'>}, template_vars=['context_str', 'query_str'], kwargs={}, output_parser=None, template_var_mappings=None, function_mappings=None, message_templates=[ChatMessage(role=<MessageRole.SYSTEM: 'system'>, content='你是一个中文人工智能助手，以下是中国关于microeconomics考试的单项选择题以及相应的参考内容，请根据参考信息选出其中的正确答案。', additional_kwargs={}), ChatMessage(role=<MessageRole.USER: 'user'>, content='从不同来源获取的参考信息如下:\\n---------------------\\n{context_str}\\n---------------------\\n题目:{query_str}', additional_kwargs={}), ChatMessage(role=<MessageRole.USER: 'user'>, content='选项:\\nA. SAC曲线最低点的轨迹\\nB. SMC曲线最低点的轨迹\\nC. LAC曲线最低点的轨迹\\nD. LMC曲线最低点的轨迹\\n答案:\\n', additional_kwargs={})])}\n",
      "INFO:httpx:HTTP Request: POST http://gemini2.sufe.edu.cn:27282/v1/chat/completions \"HTTP/1.1 200 OK\"\n",
      "INFO:httpx:HTTP Request: POST http://gemini2.sufe.edu.cn:27282/v1/embeddings \"HTTP/1.1 200 OK\"\n",
      "INFO:httpx:HTTP Request: POST http://gemini2.sufe.edu.cn:27282/v1/chat/completions \"HTTP/1.1 200 OK\"\n"
     ]
    },
    {
     "name": "stderr",
     "output_type": "stream",
     "text": [
      " 68%|██████▊   | 27/40 [01:47<00:47,  3.62s/it]"
     ]
    },
    {
     "name": "stdout",
     "output_type": "stream",
     "text": [
      "{'response_synthesizer:summary_template': ChatPromptTemplate(metadata={'prompt_type': <PromptType.CUSTOM: 'custom'>}, template_vars=['context_str', 'query_str'], kwargs={}, output_parser=None, template_var_mappings=None, function_mappings=None, message_templates=[ChatMessage(role=<MessageRole.SYSTEM: 'system'>, content='你是一个中文人工智能助手，以下是中国关于microeconomics考试的单项选择题以及相应的参考内容，请根据参考信息选出其中的正确答案。', additional_kwargs={}), ChatMessage(role=<MessageRole.USER: 'user'>, content='从不同来源获取的参考信息如下:\\n---------------------\\n{context_str}\\n---------------------\\n题目:{query_str}', additional_kwargs={}), ChatMessage(role=<MessageRole.USER: 'user'>, content='选项:\\nA. 采用完全相同的生产工艺\\nB. 具有同一最低平均的成本\\nC. 都能获得经济利润\\nD. 以上全对\\n答案:\\n', additional_kwargs={})])}\n",
      "INFO:httpx:HTTP Request: POST http://gemini2.sufe.edu.cn:27282/v1/chat/completions \"HTTP/1.1 200 OK\"\n",
      "INFO:httpx:HTTP Request: POST http://gemini2.sufe.edu.cn:27282/v1/embeddings \"HTTP/1.1 200 OK\"\n",
      "INFO:httpx:HTTP Request: POST http://gemini2.sufe.edu.cn:27282/v1/chat/completions \"HTTP/1.1 200 OK\"\n"
     ]
    },
    {
     "name": "stderr",
     "output_type": "stream",
     "text": [
      " 70%|███████   | 28/40 [01:49<00:37,  3.16s/it]"
     ]
    },
    {
     "name": "stdout",
     "output_type": "stream",
     "text": [
      "{'response_synthesizer:summary_template': ChatPromptTemplate(metadata={'prompt_type': <PromptType.CUSTOM: 'custom'>}, template_vars=['context_str', 'query_str'], kwargs={}, output_parser=None, template_var_mappings=None, function_mappings=None, message_templates=[ChatMessage(role=<MessageRole.SYSTEM: 'system'>, content='你是一个中文人工智能助手，以下是中国关于microeconomics考试的单项选择题以及相应的参考内容，请根据参考信息选出其中的正确答案。', additional_kwargs={}), ChatMessage(role=<MessageRole.USER: 'user'>, content='从不同来源获取的参考信息如下:\\n---------------------\\n{context_str}\\n---------------------\\n题目:{query_str}', additional_kwargs={}), ChatMessage(role=<MessageRole.USER: 'user'>, content='选项:\\nA. 在长期边际成本曲线下降时，长期总成本曲线以越来越快的速度上升\\nB. 在长期边际成本曲线下降时，长期总成本曲线以以越来越慢的速度上升\\nC. 在长期边际成本曲线上升时，长期总成本曲线以越来越慢的速度上升\\nD. 以上均不正确\\n答案:\\n', additional_kwargs={})])}\n",
      "INFO:httpx:HTTP Request: POST http://gemini2.sufe.edu.cn:27282/v1/chat/completions \"HTTP/1.1 200 OK\"\n",
      "INFO:httpx:HTTP Request: POST http://gemini2.sufe.edu.cn:27282/v1/embeddings \"HTTP/1.1 200 OK\"\n",
      "INFO:httpx:HTTP Request: POST http://gemini2.sufe.edu.cn:27282/v1/chat/completions \"HTTP/1.1 200 OK\"\n"
     ]
    },
    {
     "name": "stderr",
     "output_type": "stream",
     "text": [
      " 72%|███████▎  | 29/40 [01:53<00:39,  3.58s/it]"
     ]
    },
    {
     "name": "stdout",
     "output_type": "stream",
     "text": [
      "{'response_synthesizer:summary_template': ChatPromptTemplate(metadata={'prompt_type': <PromptType.CUSTOM: 'custom'>}, template_vars=['context_str', 'query_str'], kwargs={}, output_parser=None, template_var_mappings=None, function_mappings=None, message_templates=[ChatMessage(role=<MessageRole.SYSTEM: 'system'>, content='你是一个中文人工智能助手，以下是中国关于microeconomics考试的单项选择题以及相应的参考内容，请根据参考信息选出其中的正确答案。', additional_kwargs={}), ChatMessage(role=<MessageRole.USER: 'user'>, content='从不同来源获取的参考信息如下:\\n---------------------\\n{context_str}\\n---------------------\\n题目:{query_str}', additional_kwargs={}), ChatMessage(role=<MessageRole.USER: 'user'>, content='选项:\\nA. 减少\\nB. 增加\\nC. 不变\\nD. 无法判断\\n答案:\\n', additional_kwargs={})])}\n",
      "INFO:httpx:HTTP Request: POST http://gemini2.sufe.edu.cn:27282/v1/chat/completions \"HTTP/1.1 200 OK\"\n",
      "INFO:httpx:HTTP Request: POST http://gemini2.sufe.edu.cn:27282/v1/embeddings \"HTTP/1.1 200 OK\"\n",
      "INFO:httpx:HTTP Request: POST http://gemini2.sufe.edu.cn:27282/v1/chat/completions \"HTTP/1.1 200 OK\"\n"
     ]
    },
    {
     "name": "stderr",
     "output_type": "stream",
     "text": [
      " 75%|███████▌  | 30/40 [01:56<00:32,  3.27s/it]"
     ]
    },
    {
     "name": "stdout",
     "output_type": "stream",
     "text": [
      "{'response_synthesizer:summary_template': ChatPromptTemplate(metadata={'prompt_type': <PromptType.CUSTOM: 'custom'>}, template_vars=['context_str', 'query_str'], kwargs={}, output_parser=None, template_var_mappings=None, function_mappings=None, message_templates=[ChatMessage(role=<MessageRole.SYSTEM: 'system'>, content='你是一个中文人工智能助手，以下是中国关于microeconomics考试的单项选择题以及相应的参考内容，请根据参考信息选出其中的正确答案。', additional_kwargs={}), ChatMessage(role=<MessageRole.USER: 'user'>, content='从不同来源获取的参考信息如下:\\n---------------------\\n{context_str}\\n---------------------\\n题目:{query_str}', additional_kwargs={}), ChatMessage(role=<MessageRole.USER: 'user'>, content='选项:\\nA. 不断上升\\nB. 不断下降\\nC. 先上升后下降\\nD. 先下降后上升\\n答案:\\n', additional_kwargs={})])}\n",
      "INFO:httpx:HTTP Request: POST http://gemini2.sufe.edu.cn:27282/v1/chat/completions \"HTTP/1.1 200 OK\"\n",
      "INFO:httpx:HTTP Request: POST http://gemini2.sufe.edu.cn:27282/v1/embeddings \"HTTP/1.1 200 OK\"\n",
      "INFO:httpx:HTTP Request: POST http://gemini2.sufe.edu.cn:27282/v1/chat/completions \"HTTP/1.1 200 OK\"\n"
     ]
    },
    {
     "name": "stderr",
     "output_type": "stream",
     "text": [
      " 78%|███████▊  | 31/40 [01:58<00:26,  2.90s/it]"
     ]
    },
    {
     "name": "stdout",
     "output_type": "stream",
     "text": [
      "{'response_synthesizer:summary_template': ChatPromptTemplate(metadata={'prompt_type': <PromptType.CUSTOM: 'custom'>}, template_vars=['context_str', 'query_str'], kwargs={}, output_parser=None, template_var_mappings=None, function_mappings=None, message_templates=[ChatMessage(role=<MessageRole.SYSTEM: 'system'>, content='你是一个中文人工智能助手，以下是中国关于microeconomics考试的单项选择题以及相应的参考内容，请根据参考信息选出其中的正确答案。', additional_kwargs={}), ChatMessage(role=<MessageRole.USER: 'user'>, content='从不同来源获取的参考信息如下:\\n---------------------\\n{context_str}\\n---------------------\\n题目:{query_str}', additional_kwargs={}), ChatMessage(role=<MessageRole.USER: 'user'>, content='选项:\\nA. 与纵轴相交\\nB. 经过原点\\nC. 与平均产量曲线相交\\nD. 与横轴相交\\n答案:\\n', additional_kwargs={})])}\n",
      "INFO:httpx:HTTP Request: POST http://gemini2.sufe.edu.cn:27282/v1/chat/completions \"HTTP/1.1 200 OK\"\n",
      "INFO:httpx:HTTP Request: POST http://gemini2.sufe.edu.cn:27282/v1/embeddings \"HTTP/1.1 200 OK\"\n",
      "INFO:httpx:HTTP Request: POST http://gemini2.sufe.edu.cn:27282/v1/chat/completions \"HTTP/1.1 200 OK\"\n"
     ]
    },
    {
     "name": "stderr",
     "output_type": "stream",
     "text": [
      " 80%|████████  | 32/40 [02:01<00:24,  3.02s/it]"
     ]
    },
    {
     "name": "stdout",
     "output_type": "stream",
     "text": [
      "{'response_synthesizer:summary_template': ChatPromptTemplate(metadata={'prompt_type': <PromptType.CUSTOM: 'custom'>}, template_vars=['context_str', 'query_str'], kwargs={}, output_parser=None, template_var_mappings=None, function_mappings=None, message_templates=[ChatMessage(role=<MessageRole.SYSTEM: 'system'>, content='你是一个中文人工智能助手，以下是中国关于microeconomics考试的单项选择题以及相应的参考内容，请根据参考信息选出其中的正确答案。', additional_kwargs={}), ChatMessage(role=<MessageRole.USER: 'user'>, content='从不同来源获取的参考信息如下:\\n---------------------\\n{context_str}\\n---------------------\\n题目:{query_str}', additional_kwargs={}), ChatMessage(role=<MessageRole.USER: 'user'>, content='选项:\\nA. 增加\\nB. 减少\\nC. 不变\\nD. 无法确定\\n答案:\\n', additional_kwargs={})])}\n",
      "INFO:httpx:HTTP Request: POST http://gemini2.sufe.edu.cn:27282/v1/chat/completions \"HTTP/1.1 200 OK\"\n",
      "INFO:httpx:HTTP Request: POST http://gemini2.sufe.edu.cn:27282/v1/embeddings \"HTTP/1.1 200 OK\"\n",
      "INFO:httpx:HTTP Request: POST http://gemini2.sufe.edu.cn:27282/v1/chat/completions \"HTTP/1.1 200 OK\"\n"
     ]
    },
    {
     "name": "stderr",
     "output_type": "stream",
     "text": [
      " 82%|████████▎ | 33/40 [02:03<00:19,  2.74s/it]"
     ]
    },
    {
     "name": "stdout",
     "output_type": "stream",
     "text": [
      "{'response_synthesizer:summary_template': ChatPromptTemplate(metadata={'prompt_type': <PromptType.CUSTOM: 'custom'>}, template_vars=['context_str', 'query_str'], kwargs={}, output_parser=None, template_var_mappings=None, function_mappings=None, message_templates=[ChatMessage(role=<MessageRole.SYSTEM: 'system'>, content='你是一个中文人工智能助手，以下是中国关于microeconomics考试的单项选择题以及相应的参考内容，请根据参考信息选出其中的正确答案。', additional_kwargs={}), ChatMessage(role=<MessageRole.USER: 'user'>, content='从不同来源获取的参考信息如下:\\n---------------------\\n{context_str}\\n---------------------\\n题目:{query_str}', additional_kwargs={}), ChatMessage(role=<MessageRole.USER: 'user'>, content='选项:\\nA. 消费者的荔枝对苹果的边际替代率相等\\nB. 荔枝对苹果的边际替代率，济南消费者要大于广东消费者\\nC. 苹果对荔枝的边际替代率，济南消费者要大于广东消费者\\nD. 无法确定\\n答案:\\n', additional_kwargs={})])}\n",
      "INFO:httpx:HTTP Request: POST http://gemini2.sufe.edu.cn:27282/v1/chat/completions \"HTTP/1.1 200 OK\"\n",
      "INFO:httpx:HTTP Request: POST http://gemini2.sufe.edu.cn:27282/v1/embeddings \"HTTP/1.1 200 OK\"\n",
      "INFO:httpx:HTTP Request: POST http://gemini2.sufe.edu.cn:27282/v1/chat/completions \"HTTP/1.1 200 OK\"\n"
     ]
    },
    {
     "name": "stderr",
     "output_type": "stream",
     "text": [
      " 85%|████████▌ | 34/40 [02:12<00:26,  4.43s/it]"
     ]
    },
    {
     "name": "stdout",
     "output_type": "stream",
     "text": [
      "{'response_synthesizer:summary_template': ChatPromptTemplate(metadata={'prompt_type': <PromptType.CUSTOM: 'custom'>}, template_vars=['context_str', 'query_str'], kwargs={}, output_parser=None, template_var_mappings=None, function_mappings=None, message_templates=[ChatMessage(role=<MessageRole.SYSTEM: 'system'>, content='你是一个中文人工智能助手，以下是中国关于microeconomics考试的单项选择题以及相应的参考内容，请根据参考信息选出其中的正确答案。', additional_kwargs={}), ChatMessage(role=<MessageRole.USER: 'user'>, content='从不同来源获取的参考信息如下:\\n---------------------\\n{context_str}\\n---------------------\\n题目:{query_str}', additional_kwargs={}), ChatMessage(role=<MessageRole.USER: 'user'>, content='选项:\\nA. 吉芬商品\\nB. 低档商品\\nC. 正常商品\\nD. 生活必需品\\n答案:\\n', additional_kwargs={})])}\n",
      "INFO:httpx:HTTP Request: POST http://gemini2.sufe.edu.cn:27282/v1/chat/completions \"HTTP/1.1 200 OK\"\n",
      "INFO:httpx:HTTP Request: POST http://gemini2.sufe.edu.cn:27282/v1/embeddings \"HTTP/1.1 200 OK\"\n",
      "INFO:httpx:HTTP Request: POST http://gemini2.sufe.edu.cn:27282/v1/chat/completions \"HTTP/1.1 200 OK\"\n"
     ]
    },
    {
     "name": "stderr",
     "output_type": "stream",
     "text": [
      " 88%|████████▊ | 35/40 [02:16<00:21,  4.35s/it]"
     ]
    },
    {
     "name": "stdout",
     "output_type": "stream",
     "text": [
      "{'response_synthesizer:summary_template': ChatPromptTemplate(metadata={'prompt_type': <PromptType.CUSTOM: 'custom'>}, template_vars=['context_str', 'query_str'], kwargs={}, output_parser=None, template_var_mappings=None, function_mappings=None, message_templates=[ChatMessage(role=<MessageRole.SYSTEM: 'system'>, content='你是一个中文人工智能助手，以下是中国关于microeconomics考试的单项选择题以及相应的参考内容，请根据参考信息选出其中的正确答案。', additional_kwargs={}), ChatMessage(role=<MessageRole.USER: 'user'>, content='从不同来源获取的参考信息如下:\\n---------------------\\n{context_str}\\n---------------------\\n题目:{query_str}', additional_kwargs={}), ChatMessage(role=<MessageRole.USER: 'user'>, content='选项:\\nA. 商品Y\\nB. 商品X\\nC. 商品X和Y\\nD. 以上都不正确\\n答案:\\n', additional_kwargs={})])}\n",
      "INFO:httpx:HTTP Request: POST http://gemini2.sufe.edu.cn:27282/v1/chat/completions \"HTTP/1.1 200 OK\"\n",
      "INFO:httpx:HTTP Request: POST http://gemini2.sufe.edu.cn:27282/v1/embeddings \"HTTP/1.1 200 OK\"\n",
      "INFO:httpx:HTTP Request: POST http://gemini2.sufe.edu.cn:27282/v1/chat/completions \"HTTP/1.1 200 OK\"\n"
     ]
    },
    {
     "name": "stderr",
     "output_type": "stream",
     "text": [
      " 90%|█████████ | 36/40 [02:18<00:15,  3.81s/it]"
     ]
    },
    {
     "name": "stdout",
     "output_type": "stream",
     "text": [
      "{'response_synthesizer:summary_template': ChatPromptTemplate(metadata={'prompt_type': <PromptType.CUSTOM: 'custom'>}, template_vars=['context_str', 'query_str'], kwargs={}, output_parser=None, template_var_mappings=None, function_mappings=None, message_templates=[ChatMessage(role=<MessageRole.SYSTEM: 'system'>, content='你是一个中文人工智能助手，以下是中国关于microeconomics考试的单项选择题以及相应的参考内容，请根据参考信息选出其中的正确答案。', additional_kwargs={}), ChatMessage(role=<MessageRole.USER: 'user'>, content='从不同来源获取的参考信息如下:\\n---------------------\\n{context_str}\\n---------------------\\n题目:{query_str}', additional_kwargs={}), ChatMessage(role=<MessageRole.USER: 'user'>, content='选项:\\nA. 增加税收\\nB. 实行农产品的配给制\\nC. 收购过剩的农产品\\nD. 对农民补贴\\n答案:\\n', additional_kwargs={})])}\n",
      "INFO:httpx:HTTP Request: POST http://gemini2.sufe.edu.cn:27282/v1/chat/completions \"HTTP/1.1 200 OK\"\n",
      "INFO:httpx:HTTP Request: POST http://gemini2.sufe.edu.cn:27282/v1/embeddings \"HTTP/1.1 200 OK\"\n",
      "INFO:httpx:HTTP Request: POST http://gemini2.sufe.edu.cn:27282/v1/chat/completions \"HTTP/1.1 200 OK\"\n"
     ]
    },
    {
     "name": "stderr",
     "output_type": "stream",
     "text": [
      " 92%|█████████▎| 37/40 [02:21<00:10,  3.43s/it]"
     ]
    },
    {
     "name": "stdout",
     "output_type": "stream",
     "text": [
      "{'response_synthesizer:summary_template': ChatPromptTemplate(metadata={'prompt_type': <PromptType.CUSTOM: 'custom'>}, template_vars=['context_str', 'query_str'], kwargs={}, output_parser=None, template_var_mappings=None, function_mappings=None, message_templates=[ChatMessage(role=<MessageRole.SYSTEM: 'system'>, content='你是一个中文人工智能助手，以下是中国关于microeconomics考试的单项选择题以及相应的参考内容，请根据参考信息选出其中的正确答案。', additional_kwargs={}), ChatMessage(role=<MessageRole.USER: 'user'>, content='从不同来源获取的参考信息如下:\\n---------------------\\n{context_str}\\n---------------------\\n题目:{query_str}', additional_kwargs={}), ChatMessage(role=<MessageRole.USER: 'user'>, content='选项:\\nA. 药品价格上升，使得药品质量得到改善\\nB. 汽油价格的提高，小汽车的销量减少\\nC. 照相机价格的下降导致其销量的增加\\nD. 牛肉价格提高导致羊肉的销量增加\\n答案:\\n', additional_kwargs={})])}\n",
      "INFO:httpx:HTTP Request: POST http://gemini2.sufe.edu.cn:27282/v1/chat/completions \"HTTP/1.1 200 OK\"\n",
      "INFO:httpx:HTTP Request: POST http://gemini2.sufe.edu.cn:27282/v1/embeddings \"HTTP/1.1 200 OK\"\n",
      "INFO:httpx:HTTP Request: POST http://gemini2.sufe.edu.cn:27282/v1/chat/completions \"HTTP/1.1 200 OK\"\n"
     ]
    },
    {
     "name": "stderr",
     "output_type": "stream",
     "text": [
      " 95%|█████████▌| 38/40 [02:23<00:06,  3.08s/it]"
     ]
    },
    {
     "name": "stdout",
     "output_type": "stream",
     "text": [
      "{'response_synthesizer:summary_template': ChatPromptTemplate(metadata={'prompt_type': <PromptType.CUSTOM: 'custom'>}, template_vars=['context_str', 'query_str'], kwargs={}, output_parser=None, template_var_mappings=None, function_mappings=None, message_templates=[ChatMessage(role=<MessageRole.SYSTEM: 'system'>, content='你是一个中文人工智能助手，以下是中国关于microeconomics考试的单项选择题以及相应的参考内容，请根据参考信息选出其中的正确答案。', additional_kwargs={}), ChatMessage(role=<MessageRole.USER: 'user'>, content='从不同来源获取的参考信息如下:\\n---------------------\\n{context_str}\\n---------------------\\n题目:{query_str}', additional_kwargs={}), ChatMessage(role=<MessageRole.USER: 'user'>, content='选项:\\nA. 双方在每一期都选择“坦白”\\nB. 双方在每一期都选择“抵赖”\\nC. 双方在前$N-1$期都选择“坦白”，在最后一期都选择“抵赖”\\nD. 双方在前$N-1$期都选择“抵赖”，在最后一期都选择“坦白”\\n答案:\\n', additional_kwargs={})])}\n",
      "INFO:httpx:HTTP Request: POST http://gemini2.sufe.edu.cn:27282/v1/chat/completions \"HTTP/1.1 200 OK\"\n",
      "INFO:httpx:HTTP Request: POST http://gemini2.sufe.edu.cn:27282/v1/embeddings \"HTTP/1.1 200 OK\"\n",
      "INFO:httpx:HTTP Request: POST http://gemini2.sufe.edu.cn:27282/v1/chat/completions \"HTTP/1.1 200 OK\"\n"
     ]
    },
    {
     "name": "stderr",
     "output_type": "stream",
     "text": [
      " 98%|█████████▊| 39/40 [02:35<00:05,  5.63s/it]"
     ]
    },
    {
     "name": "stdout",
     "output_type": "stream",
     "text": [
      "{'response_synthesizer:summary_template': ChatPromptTemplate(metadata={'prompt_type': <PromptType.CUSTOM: 'custom'>}, template_vars=['context_str', 'query_str'], kwargs={}, output_parser=None, template_var_mappings=None, function_mappings=None, message_templates=[ChatMessage(role=<MessageRole.SYSTEM: 'system'>, content='你是一个中文人工智能助手，以下是中国关于microeconomics考试的单项选择题以及相应的参考内容，请根据参考信息选出其中的正确答案。', additional_kwargs={}), ChatMessage(role=<MessageRole.USER: 'user'>, content='从不同来源获取的参考信息如下:\\n---------------------\\n{context_str}\\n---------------------\\n题目:{query_str}', additional_kwargs={}), ChatMessage(role=<MessageRole.USER: 'user'>, content='选项:\\nA. 收益\\nB. 支付\\nC. 决策\\nD. 利润\\n答案:\\n', additional_kwargs={})])}\n",
      "INFO:httpx:HTTP Request: POST http://gemini2.sufe.edu.cn:27282/v1/chat/completions \"HTTP/1.1 200 OK\"\n",
      "INFO:httpx:HTTP Request: POST http://gemini2.sufe.edu.cn:27282/v1/embeddings \"HTTP/1.1 200 OK\"\n",
      "INFO:httpx:HTTP Request: POST http://gemini2.sufe.edu.cn:27282/v1/chat/completions \"HTTP/1.1 200 OK\"\n"
     ]
    },
    {
     "name": "stderr",
     "output_type": "stream",
     "text": [
      "100%|██████████| 40/40 [02:37<00:00,  3.93s/it]\n"
     ]
    },
    {
     "name": "stdout",
     "output_type": "stream",
     "text": [
      "Subject: microeconomics\n",
      "Acc: 45.0\n",
      "Accuracy:\n",
      "microeconomics :  45.0\n",
      "--------------------------------------------------------------------------------\n",
      "Accuracy_subject:\n",
      "microeconomics :  45.0\n",
      "--------------------------------------------------------------------------------\n",
      "Accuracy_grouped:\n",
      "Economy :  0.45\n",
      "Avg: \n",
      "0.45\n",
      "############# nodes group: size_256_overlap_64 ###############\n",
      "0.0 Inference starts at 2024-04-11_23-34-19 on chatglm with subject of microeconomics!\n"
     ]
    },
    {
     "name": "stderr",
     "output_type": "stream",
     "text": [
      "  0%|          | 0/40 [00:00<?, ?it/s]"
     ]
    },
    {
     "name": "stdout",
     "output_type": "stream",
     "text": [
      "{'response_synthesizer:summary_template': ChatPromptTemplate(metadata={'prompt_type': <PromptType.CUSTOM: 'custom'>}, template_vars=['context_str', 'query_str'], kwargs={}, output_parser=None, template_var_mappings=None, function_mappings=None, message_templates=[ChatMessage(role=<MessageRole.SYSTEM: 'system'>, content='你是一个中文人工智能助手，以下是中国关于microeconomics考试的单项选择题以及相应的参考内容，请根据参考信息选出其中的正确答案。', additional_kwargs={}), ChatMessage(role=<MessageRole.USER: 'user'>, content='从不同来源获取的参考信息如下:\\n---------------------\\n{context_str}\\n---------------------\\n题目:{query_str}', additional_kwargs={}), ChatMessage(role=<MessageRole.USER: 'user'>, content='选项:\\nA. 平均总成本小于100\\nB. 平均固定成本小于100\\nC. 边际产量增加\\nD. 平均可变成本小于100\\n答案:\\n', additional_kwargs={})])}\n",
      "INFO:httpx:HTTP Request: POST http://gemini2.sufe.edu.cn:27282/v1/chat/completions \"HTTP/1.1 200 OK\"\n",
      "INFO:httpx:HTTP Request: POST http://gemini2.sufe.edu.cn:27282/v1/embeddings \"HTTP/1.1 200 OK\"\n",
      "INFO:httpx:HTTP Request: POST http://gemini2.sufe.edu.cn:27282/v1/chat/completions \"HTTP/1.1 200 OK\"\n"
     ]
    },
    {
     "name": "stderr",
     "output_type": "stream",
     "text": [
      "  2%|▎         | 1/40 [00:05<03:27,  5.32s/it]"
     ]
    },
    {
     "name": "stdout",
     "output_type": "stream",
     "text": [
      "{'response_synthesizer:summary_template': ChatPromptTemplate(metadata={'prompt_type': <PromptType.CUSTOM: 'custom'>}, template_vars=['context_str', 'query_str'], kwargs={}, output_parser=None, template_var_mappings=None, function_mappings=None, message_templates=[ChatMessage(role=<MessageRole.SYSTEM: 'system'>, content='你是一个中文人工智能助手，以下是中国关于microeconomics考试的单项选择题以及相应的参考内容，请根据参考信息选出其中的正确答案。', additional_kwargs={}), ChatMessage(role=<MessageRole.USER: 'user'>, content='从不同来源获取的参考信息如下:\\n---------------------\\n{context_str}\\n---------------------\\n题目:{query_str}', additional_kwargs={}), ChatMessage(role=<MessageRole.USER: 'user'>, content='选项:\\nA. 固定不变\\nB. 经常变动\\nC. 等于1\\nD. 等于0\\n答案:\\n', additional_kwargs={})])}\n",
      "INFO:httpx:HTTP Request: POST http://gemini2.sufe.edu.cn:27282/v1/chat/completions \"HTTP/1.1 200 OK\"\n",
      "INFO:httpx:HTTP Request: POST http://gemini2.sufe.edu.cn:27282/v1/embeddings \"HTTP/1.1 200 OK\"\n",
      "INFO:httpx:HTTP Request: POST http://gemini2.sufe.edu.cn:27282/v1/chat/completions \"HTTP/1.1 200 OK\"\n"
     ]
    },
    {
     "name": "stderr",
     "output_type": "stream",
     "text": [
      "  5%|▌         | 2/40 [00:08<02:24,  3.80s/it]"
     ]
    },
    {
     "name": "stdout",
     "output_type": "stream",
     "text": [
      "{'response_synthesizer:summary_template': ChatPromptTemplate(metadata={'prompt_type': <PromptType.CUSTOM: 'custom'>}, template_vars=['context_str', 'query_str'], kwargs={}, output_parser=None, template_var_mappings=None, function_mappings=None, message_templates=[ChatMessage(role=<MessageRole.SYSTEM: 'system'>, content='你是一个中文人工智能助手，以下是中国关于microeconomics考试的单项选择题以及相应的参考内容，请根据参考信息选出其中的正确答案。', additional_kwargs={}), ChatMessage(role=<MessageRole.USER: 'user'>, content='从不同来源获取的参考信息如下:\\n---------------------\\n{context_str}\\n---------------------\\n题目:{query_str}', additional_kwargs={}), ChatMessage(role=<MessageRole.USER: 'user'>, content='选项:\\nA. 既有厂商进入也有厂商退出该行业\\nB. 完全竞争被不完全竞争所取代\\nC. 新的厂商进入了该行业\\nD. 原有厂商退出了该行业\\n答案:\\n', additional_kwargs={})])}\n",
      "INFO:httpx:HTTP Request: POST http://gemini2.sufe.edu.cn:27282/v1/chat/completions \"HTTP/1.1 200 OK\"\n",
      "INFO:httpx:HTTP Request: POST http://gemini2.sufe.edu.cn:27282/v1/embeddings \"HTTP/1.1 200 OK\"\n",
      "INFO:httpx:HTTP Request: POST http://gemini2.sufe.edu.cn:27282/v1/chat/completions \"HTTP/1.1 200 OK\"\n"
     ]
    },
    {
     "name": "stderr",
     "output_type": "stream",
     "text": [
      "  8%|▊         | 3/40 [00:11<02:13,  3.60s/it]"
     ]
    },
    {
     "name": "stdout",
     "output_type": "stream",
     "text": [
      "{'response_synthesizer:summary_template': ChatPromptTemplate(metadata={'prompt_type': <PromptType.CUSTOM: 'custom'>}, template_vars=['context_str', 'query_str'], kwargs={}, output_parser=None, template_var_mappings=None, function_mappings=None, message_templates=[ChatMessage(role=<MessageRole.SYSTEM: 'system'>, content='你是一个中文人工智能助手，以下是中国关于microeconomics考试的单项选择题以及相应的参考内容，请根据参考信息选出其中的正确答案。', additional_kwargs={}), ChatMessage(role=<MessageRole.USER: 'user'>, content='从不同来源获取的参考信息如下:\\n---------------------\\n{context_str}\\n---------------------\\n题目:{query_str}', additional_kwargs={}), ChatMessage(role=<MessageRole.USER: 'user'>, content='选项:\\nA. 边际成本递减\\nB. 边际产量递减\\nC. 边际效益递减\\nD. 规模效益递减\\n答案:\\n', additional_kwargs={})])}\n",
      "INFO:httpx:HTTP Request: POST http://gemini2.sufe.edu.cn:27282/v1/chat/completions \"HTTP/1.1 200 OK\"\n",
      "INFO:httpx:HTTP Request: POST http://gemini2.sufe.edu.cn:27282/v1/embeddings \"HTTP/1.1 200 OK\"\n",
      "INFO:httpx:HTTP Request: POST http://gemini2.sufe.edu.cn:27282/v1/chat/completions \"HTTP/1.1 200 OK\"\n"
     ]
    },
    {
     "name": "stderr",
     "output_type": "stream",
     "text": [
      " 10%|█         | 4/40 [00:14<01:55,  3.21s/it]"
     ]
    },
    {
     "name": "stdout",
     "output_type": "stream",
     "text": [
      "{'response_synthesizer:summary_template': ChatPromptTemplate(metadata={'prompt_type': <PromptType.CUSTOM: 'custom'>}, template_vars=['context_str', 'query_str'], kwargs={}, output_parser=None, template_var_mappings=None, function_mappings=None, message_templates=[ChatMessage(role=<MessageRole.SYSTEM: 'system'>, content='你是一个中文人工智能助手，以下是中国关于microeconomics考试的单项选择题以及相应的参考内容，请根据参考信息选出其中的正确答案。', additional_kwargs={}), ChatMessage(role=<MessageRole.USER: 'user'>, content='从不同来源获取的参考信息如下:\\n---------------------\\n{context_str}\\n---------------------\\n题目:{query_str}', additional_kwargs={}), ChatMessage(role=<MessageRole.USER: 'user'>, content='选项:\\nA. 其下部向里偏转，即做顺时针转动\\nB. 其下部向外偏转，即做逆时针转动\\nC. 向下平行移动\\nD. 向上平行移动\\n答案:\\n', additional_kwargs={})])}\n",
      "INFO:httpx:HTTP Request: POST http://gemini2.sufe.edu.cn:27282/v1/chat/completions \"HTTP/1.1 200 OK\"\n",
      "INFO:httpx:HTTP Request: POST http://gemini2.sufe.edu.cn:27282/v1/embeddings \"HTTP/1.1 200 OK\"\n",
      "INFO:httpx:HTTP Request: POST http://gemini2.sufe.edu.cn:27282/v1/chat/completions \"HTTP/1.1 200 OK\"\n"
     ]
    },
    {
     "name": "stderr",
     "output_type": "stream",
     "text": [
      " 12%|█▎        | 5/40 [00:16<01:45,  3.01s/it]"
     ]
    },
    {
     "name": "stdout",
     "output_type": "stream",
     "text": [
      "{'response_synthesizer:summary_template': ChatPromptTemplate(metadata={'prompt_type': <PromptType.CUSTOM: 'custom'>}, template_vars=['context_str', 'query_str'], kwargs={}, output_parser=None, template_var_mappings=None, function_mappings=None, message_templates=[ChatMessage(role=<MessageRole.SYSTEM: 'system'>, content='你是一个中文人工智能助手，以下是中国关于microeconomics考试的单项选择题以及相应的参考内容，请根据参考信息选出其中的正确答案。', additional_kwargs={}), ChatMessage(role=<MessageRole.USER: 'user'>, content='从不同来源获取的参考信息如下:\\n---------------------\\n{context_str}\\n---------------------\\n题目:{query_str}', additional_kwargs={}), ChatMessage(role=<MessageRole.USER: 'user'>, content='选项:\\nA. 未达到利润最大化，应减少产量\\nB. 未达到利润最大化，应扩大产量\\nC. 生产出利润最大化，但是成本未达到最小化\\nD. 在成本最小条件下实现利润最大化产量\\n答案:\\n', additional_kwargs={})])}\n",
      "INFO:httpx:HTTP Request: POST http://gemini2.sufe.edu.cn:27282/v1/chat/completions \"HTTP/1.1 200 OK\"\n",
      "INFO:httpx:HTTP Request: POST http://gemini2.sufe.edu.cn:27282/v1/embeddings \"HTTP/1.1 200 OK\"\n",
      "INFO:httpx:HTTP Request: POST http://gemini2.sufe.edu.cn:27282/v1/chat/completions \"HTTP/1.1 200 OK\"\n"
     ]
    },
    {
     "name": "stderr",
     "output_type": "stream",
     "text": [
      " 15%|█▌        | 6/40 [00:25<02:50,  5.02s/it]"
     ]
    },
    {
     "name": "stdout",
     "output_type": "stream",
     "text": [
      "{'response_synthesizer:summary_template': ChatPromptTemplate(metadata={'prompt_type': <PromptType.CUSTOM: 'custom'>}, template_vars=['context_str', 'query_str'], kwargs={}, output_parser=None, template_var_mappings=None, function_mappings=None, message_templates=[ChatMessage(role=<MessageRole.SYSTEM: 'system'>, content='你是一个中文人工智能助手，以下是中国关于microeconomics考试的单项选择题以及相应的参考内容，请根据参考信息选出其中的正确答案。', additional_kwargs={}), ChatMessage(role=<MessageRole.USER: 'user'>, content='从不同来源获取的参考信息如下:\\n---------------------\\n{context_str}\\n---------------------\\n题目:{query_str}', additional_kwargs={}), ChatMessage(role=<MessageRole.USER: 'user'>, content='选项:\\nA. 边际产品价值降低；劳动的需求曲线右移\\nB. 边际产品价值增加；劳动的需求曲线左移\\nC. 边际产品价值增加；劳动的需求曲线右移\\nD. 边际产品价值降低；劳动的需求曲线左移\\n答案:\\n', additional_kwargs={})])}\n",
      "INFO:httpx:HTTP Request: POST http://gemini2.sufe.edu.cn:27282/v1/chat/completions \"HTTP/1.1 200 OK\"\n",
      "INFO:httpx:HTTP Request: POST http://gemini2.sufe.edu.cn:27282/v1/embeddings \"HTTP/1.1 200 OK\"\n",
      "INFO:httpx:HTTP Request: POST http://gemini2.sufe.edu.cn:27282/v1/chat/completions \"HTTP/1.1 200 OK\"\n"
     ]
    },
    {
     "name": "stderr",
     "output_type": "stream",
     "text": [
      " 18%|█▊        | 7/40 [00:30<02:44,  4.99s/it]"
     ]
    },
    {
     "name": "stdout",
     "output_type": "stream",
     "text": [
      "{'response_synthesizer:summary_template': ChatPromptTemplate(metadata={'prompt_type': <PromptType.CUSTOM: 'custom'>}, template_vars=['context_str', 'query_str'], kwargs={}, output_parser=None, template_var_mappings=None, function_mappings=None, message_templates=[ChatMessage(role=<MessageRole.SYSTEM: 'system'>, content='你是一个中文人工智能助手，以下是中国关于microeconomics考试的单项选择题以及相应的参考内容，请根据参考信息选出其中的正确答案。', additional_kwargs={}), ChatMessage(role=<MessageRole.USER: 'user'>, content='从不同来源获取的参考信息如下:\\n---------------------\\n{context_str}\\n---------------------\\n题目:{query_str}', additional_kwargs={}), ChatMessage(role=<MessageRole.USER: 'user'>, content='选项:\\nA. 向前弯曲\\nB. 向后弯曲\\nC. 仍保持向右上方倾斜\\nD. 向右下方倾斜\\n答案:\\n', additional_kwargs={})])}\n",
      "INFO:httpx:HTTP Request: POST http://gemini2.sufe.edu.cn:27282/v1/chat/completions \"HTTP/1.1 200 OK\"\n",
      "INFO:httpx:HTTP Request: POST http://gemini2.sufe.edu.cn:27282/v1/embeddings \"HTTP/1.1 200 OK\"\n",
      "INFO:httpx:HTTP Request: POST http://gemini2.sufe.edu.cn:27282/v1/chat/completions \"HTTP/1.1 200 OK\"\n"
     ]
    },
    {
     "name": "stderr",
     "output_type": "stream",
     "text": [
      " 20%|██        | 8/40 [00:33<02:14,  4.20s/it]"
     ]
    },
    {
     "name": "stdout",
     "output_type": "stream",
     "text": [
      "{'response_synthesizer:summary_template': ChatPromptTemplate(metadata={'prompt_type': <PromptType.CUSTOM: 'custom'>}, template_vars=['context_str', 'query_str'], kwargs={}, output_parser=None, template_var_mappings=None, function_mappings=None, message_templates=[ChatMessage(role=<MessageRole.SYSTEM: 'system'>, content='你是一个中文人工智能助手，以下是中国关于microeconomics考试的单项选择题以及相应的参考内容，请根据参考信息选出其中的正确答案。', additional_kwargs={}), ChatMessage(role=<MessageRole.USER: 'user'>, content='从不同来源获取的参考信息如下:\\n---------------------\\n{context_str}\\n---------------------\\n题目:{query_str}', additional_kwargs={}), ChatMessage(role=<MessageRole.USER: 'user'>, content='选项:\\nA. 它是指工资率对劳动者的收入，从而劳动时间产生的影响\\nB. 若劳动时间不变，工资率的提高使得劳动者的收入提高\\nC. 若劳动时间不变，工资率的提高使得劳动者有能力消费更多的闲暇\\nD. 工资率的提高的收入效应使得劳动供给增加\\n答案:\\n', additional_kwargs={})])}\n",
      "INFO:httpx:HTTP Request: POST http://gemini2.sufe.edu.cn:27282/v1/chat/completions \"HTTP/1.1 200 OK\"\n",
      "INFO:httpx:HTTP Request: POST http://gemini2.sufe.edu.cn:27282/v1/embeddings \"HTTP/1.1 200 OK\"\n",
      "INFO:httpx:HTTP Request: POST http://gemini2.sufe.edu.cn:27282/v1/chat/completions \"HTTP/1.1 200 OK\"\n"
     ]
    },
    {
     "name": "stderr",
     "output_type": "stream",
     "text": [
      " 22%|██▎       | 9/40 [00:35<01:55,  3.73s/it]"
     ]
    },
    {
     "name": "stdout",
     "output_type": "stream",
     "text": [
      "{'response_synthesizer:summary_template': ChatPromptTemplate(metadata={'prompt_type': <PromptType.CUSTOM: 'custom'>}, template_vars=['context_str', 'query_str'], kwargs={}, output_parser=None, template_var_mappings=None, function_mappings=None, message_templates=[ChatMessage(role=<MessageRole.SYSTEM: 'system'>, content='你是一个中文人工智能助手，以下是中国关于microeconomics考试的单项选择题以及相应的参考内容，请根据参考信息选出其中的正确答案。', additional_kwargs={}), ChatMessage(role=<MessageRole.USER: 'user'>, content='从不同来源获取的参考信息如下:\\n---------------------\\n{context_str}\\n---------------------\\n题目:{query_str}', additional_kwargs={}), ChatMessage(role=<MessageRole.USER: 'user'>, content='选项:\\nA. 乙用X向甲交换Y\\nB. 乙用Y向甲交换X\\nC. 甲和乙不会交换商品\\nD. 以上均不正确\\n答案:\\n', additional_kwargs={})])}\n",
      "INFO:httpx:HTTP Request: POST http://gemini2.sufe.edu.cn:27282/v1/chat/completions \"HTTP/1.1 200 OK\"\n",
      "INFO:httpx:HTTP Request: POST http://gemini2.sufe.edu.cn:27282/v1/embeddings \"HTTP/1.1 200 OK\"\n",
      "INFO:httpx:HTTP Request: POST http://gemini2.sufe.edu.cn:27282/v1/chat/completions \"HTTP/1.1 200 OK\"\n"
     ]
    },
    {
     "name": "stderr",
     "output_type": "stream",
     "text": [
      " 25%|██▌       | 10/40 [00:41<02:08,  4.27s/it]"
     ]
    },
    {
     "name": "stdout",
     "output_type": "stream",
     "text": [
      "{'response_synthesizer:summary_template': ChatPromptTemplate(metadata={'prompt_type': <PromptType.CUSTOM: 'custom'>}, template_vars=['context_str', 'query_str'], kwargs={}, output_parser=None, template_var_mappings=None, function_mappings=None, message_templates=[ChatMessage(role=<MessageRole.SYSTEM: 'system'>, content='你是一个中文人工智能助手，以下是中国关于microeconomics考试的单项选择题以及相应的参考内容，请根据参考信息选出其中的正确答案。', additional_kwargs={}), ChatMessage(role=<MessageRole.USER: 'user'>, content='从不同来源获取的参考信息如下:\\n---------------------\\n{context_str}\\n---------------------\\n题目:{query_str}', additional_kwargs={}), ChatMessage(role=<MessageRole.USER: 'user'>, content='选项:\\nA. 一个部门的变化对其他部门的影响\\nB. 与供给相独立的需求的变化\\nC. 一个市场出现的情况，忽视其他市场\\nD. 经济中所有的相互作用和相互依存关系\\n答案:\\n', additional_kwargs={})])}\n",
      "INFO:httpx:HTTP Request: POST http://gemini2.sufe.edu.cn:27282/v1/chat/completions \"HTTP/1.1 200 OK\"\n",
      "INFO:openai._base_client:Retrying request to /embeddings in 0.944433 seconds\n",
      "INFO:httpx:HTTP Request: POST http://gemini2.sufe.edu.cn:27282/v1/embeddings \"HTTP/1.1 200 OK\"\n",
      "INFO:httpx:HTTP Request: POST http://gemini2.sufe.edu.cn:27282/v1/chat/completions \"HTTP/1.1 200 OK\"\n"
     ]
    },
    {
     "name": "stderr",
     "output_type": "stream",
     "text": [
      " 28%|██▊       | 11/40 [00:43<01:50,  3.81s/it]"
     ]
    },
    {
     "name": "stdout",
     "output_type": "stream",
     "text": [
      "{'response_synthesizer:summary_template': ChatPromptTemplate(metadata={'prompt_type': <PromptType.CUSTOM: 'custom'>}, template_vars=['context_str', 'query_str'], kwargs={}, output_parser=None, template_var_mappings=None, function_mappings=None, message_templates=[ChatMessage(role=<MessageRole.SYSTEM: 'system'>, content='你是一个中文人工智能助手，以下是中国关于microeconomics考试的单项选择题以及相应的参考内容，请根据参考信息选出其中的正确答案。', additional_kwargs={}), ChatMessage(role=<MessageRole.USER: 'user'>, content='从不同来源获取的参考信息如下:\\n---------------------\\n{context_str}\\n---------------------\\n题目:{query_str}', additional_kwargs={}), ChatMessage(role=<MessageRole.USER: 'user'>, content='选项:\\nA. 一般均衡分析很可能推出错误的结论\\nB. 局部均衡分析很可能推出错误的结论\\nC. 局部均衡分析将提供合理可靠的预测\\nD. 以上说法都不对\\n答案:\\n', additional_kwargs={})])}\n",
      "INFO:httpx:HTTP Request: POST http://gemini2.sufe.edu.cn:27282/v1/chat/completions \"HTTP/1.1 200 OK\"\n",
      "INFO:httpx:HTTP Request: POST http://gemini2.sufe.edu.cn:27282/v1/embeddings \"HTTP/1.1 200 OK\"\n",
      "INFO:httpx:HTTP Request: POST http://gemini2.sufe.edu.cn:27282/v1/chat/completions \"HTTP/1.1 200 OK\"\n"
     ]
    },
    {
     "name": "stderr",
     "output_type": "stream",
     "text": [
      " 30%|███       | 12/40 [00:46<01:36,  3.44s/it]"
     ]
    },
    {
     "name": "stdout",
     "output_type": "stream",
     "text": [
      "{'response_synthesizer:summary_template': ChatPromptTemplate(metadata={'prompt_type': <PromptType.CUSTOM: 'custom'>}, template_vars=['context_str', 'query_str'], kwargs={}, output_parser=None, template_var_mappings=None, function_mappings=None, message_templates=[ChatMessage(role=<MessageRole.SYSTEM: 'system'>, content='你是一个中文人工智能助手，以下是中国关于microeconomics考试的单项选择题以及相应的参考内容，请根据参考信息选出其中的正确答案。', additional_kwargs={}), ChatMessage(role=<MessageRole.USER: 'user'>, content='从不同来源获取的参考信息如下:\\n---------------------\\n{context_str}\\n---------------------\\n题目:{query_str}', additional_kwargs={}), ChatMessage(role=<MessageRole.USER: 'user'>, content='选项:\\nA. 生产的效率\\nB. 交换的效率\\nC. 产品组合的效率\\nD. 收入的公平分配\\n答案:\\n', additional_kwargs={})])}\n",
      "INFO:httpx:HTTP Request: POST http://gemini2.sufe.edu.cn:27282/v1/chat/completions \"HTTP/1.1 200 OK\"\n",
      "INFO:httpx:HTTP Request: POST http://gemini2.sufe.edu.cn:27282/v1/embeddings \"HTTP/1.1 200 OK\"\n",
      "INFO:httpx:HTTP Request: POST http://gemini2.sufe.edu.cn:27282/v1/chat/completions \"HTTP/1.1 200 OK\"\n"
     ]
    },
    {
     "name": "stderr",
     "output_type": "stream",
     "text": [
      " 32%|███▎      | 13/40 [00:48<01:22,  3.04s/it]"
     ]
    },
    {
     "name": "stdout",
     "output_type": "stream",
     "text": [
      "{'response_synthesizer:summary_template': ChatPromptTemplate(metadata={'prompt_type': <PromptType.CUSTOM: 'custom'>}, template_vars=['context_str', 'query_str'], kwargs={}, output_parser=None, template_var_mappings=None, function_mappings=None, message_templates=[ChatMessage(role=<MessageRole.SYSTEM: 'system'>, content='你是一个中文人工智能助手，以下是中国关于microeconomics考试的单项选择题以及相应的参考内容，请根据参考信息选出其中的正确答案。', additional_kwargs={}), ChatMessage(role=<MessageRole.USER: 'user'>, content='从不同来源获取的参考信息如下:\\n---------------------\\n{context_str}\\n---------------------\\n题目:{query_str}', additional_kwargs={}), ChatMessage(role=<MessageRole.USER: 'user'>, content='选项:\\nA. 如果不使其中一个人受损失就不能使另一个人受益\\nB. 每个人都处在其消费契约曲线上\\nC. 每个人都处在其效用可能性曲线上\\nD. 包括以上所有条件\\n答案:\\n', additional_kwargs={})])}\n",
      "INFO:httpx:HTTP Request: POST http://gemini2.sufe.edu.cn:27282/v1/chat/completions \"HTTP/1.1 200 OK\"\n",
      "INFO:httpx:HTTP Request: POST http://gemini2.sufe.edu.cn:27282/v1/embeddings \"HTTP/1.1 200 OK\"\n",
      "INFO:httpx:HTTP Request: POST http://gemini2.sufe.edu.cn:27282/v1/chat/completions \"HTTP/1.1 200 OK\"\n"
     ]
    },
    {
     "name": "stderr",
     "output_type": "stream",
     "text": [
      " 35%|███▌      | 14/40 [00:51<01:13,  2.84s/it]"
     ]
    },
    {
     "name": "stdout",
     "output_type": "stream",
     "text": [
      "{'response_synthesizer:summary_template': ChatPromptTemplate(metadata={'prompt_type': <PromptType.CUSTOM: 'custom'>}, template_vars=['context_str', 'query_str'], kwargs={}, output_parser=None, template_var_mappings=None, function_mappings=None, message_templates=[ChatMessage(role=<MessageRole.SYSTEM: 'system'>, content='你是一个中文人工智能助手，以下是中国关于microeconomics考试的单项选择题以及相应的参考内容，请根据参考信息选出其中的正确答案。', additional_kwargs={}), ChatMessage(role=<MessageRole.USER: 'user'>, content='从不同来源获取的参考信息如下:\\n---------------------\\n{context_str}\\n---------------------\\n题目:{query_str}', additional_kwargs={}), ChatMessage(role=<MessageRole.USER: 'user'>, content='选项:\\nA. 当市场不能完全出清时\\nB. 当竞争建立在自身利益最大化的前提上时\\nC. 当厂商追求利润最大化目标时\\nD. 当市场价格不能反映一项交易的所有成本和收益时\\n答案:\\n', additional_kwargs={})])}\n",
      "INFO:httpx:HTTP Request: POST http://gemini2.sufe.edu.cn:27282/v1/chat/completions \"HTTP/1.1 200 OK\"\n",
      "INFO:httpx:HTTP Request: POST http://gemini2.sufe.edu.cn:27282/v1/embeddings \"HTTP/1.1 200 OK\"\n",
      "INFO:httpx:HTTP Request: POST http://gemini2.sufe.edu.cn:27282/v1/chat/completions \"HTTP/1.1 200 OK\"\n"
     ]
    },
    {
     "name": "stderr",
     "output_type": "stream",
     "text": [
      " 38%|███▊      | 15/40 [00:54<01:12,  2.91s/it]"
     ]
    },
    {
     "name": "stdout",
     "output_type": "stream",
     "text": [
      "{'response_synthesizer:summary_template': ChatPromptTemplate(metadata={'prompt_type': <PromptType.CUSTOM: 'custom'>}, template_vars=['context_str', 'query_str'], kwargs={}, output_parser=None, template_var_mappings=None, function_mappings=None, message_templates=[ChatMessage(role=<MessageRole.SYSTEM: 'system'>, content='你是一个中文人工智能助手，以下是中国关于microeconomics考试的单项选择题以及相应的参考内容，请根据参考信息选出其中的正确答案。', additional_kwargs={}), ChatMessage(role=<MessageRole.USER: 'user'>, content='从不同来源获取的参考信息如下:\\n---------------------\\n{context_str}\\n---------------------\\n题目:{query_str}', additional_kwargs={}), ChatMessage(role=<MessageRole.USER: 'user'>, content='选项:\\nA. 不能被证明是一种旨在提高效率合理的经济行为\\nB. 本质是非法的\\nC. 违反了克莱顿法\\nD. 导致纵向或横向兼并\\n答案:\\n', additional_kwargs={})])}\n",
      "INFO:httpx:HTTP Request: POST http://gemini2.sufe.edu.cn:27282/v1/chat/completions \"HTTP/1.1 200 OK\"\n",
      "INFO:httpx:HTTP Request: POST http://gemini2.sufe.edu.cn:27282/v1/embeddings \"HTTP/1.1 200 OK\"\n",
      "INFO:httpx:HTTP Request: POST http://gemini2.sufe.edu.cn:27282/v1/chat/completions \"HTTP/1.1 200 OK\"\n"
     ]
    },
    {
     "name": "stderr",
     "output_type": "stream",
     "text": [
      " 40%|████      | 16/40 [00:56<01:04,  2.69s/it]"
     ]
    },
    {
     "name": "stdout",
     "output_type": "stream",
     "text": [
      "{'response_synthesizer:summary_template': ChatPromptTemplate(metadata={'prompt_type': <PromptType.CUSTOM: 'custom'>}, template_vars=['context_str', 'query_str'], kwargs={}, output_parser=None, template_var_mappings=None, function_mappings=None, message_templates=[ChatMessage(role=<MessageRole.SYSTEM: 'system'>, content='你是一个中文人工智能助手，以下是中国关于microeconomics考试的单项选择题以及相应的参考内容，请根据参考信息选出其中的正确答案。', additional_kwargs={}), ChatMessage(role=<MessageRole.USER: 'user'>, content='从不同来源获取的参考信息如下:\\n---------------------\\n{context_str}\\n---------------------\\n题目:{query_str}', additional_kwargs={}), ChatMessage(role=<MessageRole.USER: 'user'>, content='选项:\\nA. 卖方故意要隐瞒自己一些情况\\nB. 买方认识能力有限\\nC. 完全掌握情况所费成本太高\\nD. 以上三种情况都有可能\\n答案:\\n', additional_kwargs={})])}\n",
      "INFO:httpx:HTTP Request: POST http://gemini2.sufe.edu.cn:27282/v1/chat/completions \"HTTP/1.1 200 OK\"\n",
      "INFO:httpx:HTTP Request: POST http://gemini2.sufe.edu.cn:27282/v1/embeddings \"HTTP/1.1 200 OK\"\n",
      "INFO:httpx:HTTP Request: POST http://gemini2.sufe.edu.cn:27282/v1/chat/completions \"HTTP/1.1 200 OK\"\n"
     ]
    },
    {
     "name": "stderr",
     "output_type": "stream",
     "text": [
      " 42%|████▎     | 17/40 [00:58<00:57,  2.52s/it]"
     ]
    },
    {
     "name": "stdout",
     "output_type": "stream",
     "text": [
      "{'response_synthesizer:summary_template': ChatPromptTemplate(metadata={'prompt_type': <PromptType.CUSTOM: 'custom'>}, template_vars=['context_str', 'query_str'], kwargs={}, output_parser=None, template_var_mappings=None, function_mappings=None, message_templates=[ChatMessage(role=<MessageRole.SYSTEM: 'system'>, content='你是一个中文人工智能助手，以下是中国关于microeconomics考试的单项选择题以及相应的参考内容，请根据参考信息选出其中的正确答案。', additional_kwargs={}), ChatMessage(role=<MessageRole.USER: 'user'>, content='从不同来源获取的参考信息如下:\\n---------------------\\n{context_str}\\n---------------------\\n题目:{query_str}', additional_kwargs={}), ChatMessage(role=<MessageRole.USER: 'user'>, content='选项:\\nA. 公共物品不具有排他性\\nB. 公共物品不具有竞争性\\nC. 消费者都想“免费乘车”\\nD. 以上三种情况都是\\n答案:\\n', additional_kwargs={})])}\n",
      "INFO:httpx:HTTP Request: POST http://gemini2.sufe.edu.cn:27282/v1/chat/completions \"HTTP/1.1 200 OK\"\n",
      "INFO:httpx:HTTP Request: POST http://gemini2.sufe.edu.cn:27282/v1/embeddings \"HTTP/1.1 200 OK\"\n",
      "INFO:httpx:HTTP Request: POST http://gemini2.sufe.edu.cn:27282/v1/chat/completions \"HTTP/1.1 200 OK\"\n"
     ]
    },
    {
     "name": "stderr",
     "output_type": "stream",
     "text": [
      " 45%|████▌     | 18/40 [01:01<00:56,  2.58s/it]"
     ]
    },
    {
     "name": "stdout",
     "output_type": "stream",
     "text": [
      "{'response_synthesizer:summary_template': ChatPromptTemplate(metadata={'prompt_type': <PromptType.CUSTOM: 'custom'>}, template_vars=['context_str', 'query_str'], kwargs={}, output_parser=None, template_var_mappings=None, function_mappings=None, message_templates=[ChatMessage(role=<MessageRole.SYSTEM: 'system'>, content='你是一个中文人工智能助手，以下是中国关于microeconomics考试的单项选择题以及相应的参考内容，请根据参考信息选出其中的正确答案。', additional_kwargs={}), ChatMessage(role=<MessageRole.USER: 'user'>, content='从不同来源获取的参考信息如下:\\n---------------------\\n{context_str}\\n---------------------\\n题目:{query_str}', additional_kwargs={}), ChatMessage(role=<MessageRole.USER: 'user'>, content='选项:\\nA. B用x向A交换y\\nB. B用y向A交换x\\nC. A和B不会交换商品\\nD. 无交换发生\\n答案:\\n', additional_kwargs={})])}\n",
      "INFO:httpx:HTTP Request: POST http://gemini2.sufe.edu.cn:27282/v1/chat/completions \"HTTP/1.1 200 OK\"\n",
      "INFO:httpx:HTTP Request: POST http://gemini2.sufe.edu.cn:27282/v1/embeddings \"HTTP/1.1 200 OK\"\n",
      "INFO:httpx:HTTP Request: POST http://gemini2.sufe.edu.cn:27282/v1/chat/completions \"HTTP/1.1 200 OK\"\n"
     ]
    },
    {
     "name": "stderr",
     "output_type": "stream",
     "text": [
      " 48%|████▊     | 19/40 [01:07<01:16,  3.66s/it]"
     ]
    },
    {
     "name": "stdout",
     "output_type": "stream",
     "text": [
      "{'response_synthesizer:summary_template': ChatPromptTemplate(metadata={'prompt_type': <PromptType.CUSTOM: 'custom'>}, template_vars=['context_str', 'query_str'], kwargs={}, output_parser=None, template_var_mappings=None, function_mappings=None, message_templates=[ChatMessage(role=<MessageRole.SYSTEM: 'system'>, content='你是一个中文人工智能助手，以下是中国关于microeconomics考试的单项选择题以及相应的参考内容，请根据参考信息选出其中的正确答案。', additional_kwargs={}), ChatMessage(role=<MessageRole.USER: 'user'>, content='从不同来源获取的参考信息如下:\\n---------------------\\n{context_str}\\n---------------------\\n题目:{query_str}', additional_kwargs={}), ChatMessage(role=<MessageRole.USER: 'user'>, content='选项:\\nA. 社会边际成本和私人边际成本之差\\nB. 私人边际成本\\nC. 治理污染设备的成本\\nD. 社会边际成本\\n答案:\\n', additional_kwargs={})])}\n",
      "INFO:httpx:HTTP Request: POST http://gemini2.sufe.edu.cn:27282/v1/chat/completions \"HTTP/1.1 200 OK\"\n",
      "INFO:httpx:HTTP Request: POST http://gemini2.sufe.edu.cn:27282/v1/embeddings \"HTTP/1.1 200 OK\"\n",
      "INFO:httpx:HTTP Request: POST http://gemini2.sufe.edu.cn:27282/v1/chat/completions \"HTTP/1.1 200 OK\"\n"
     ]
    },
    {
     "name": "stderr",
     "output_type": "stream",
     "text": [
      " 50%|█████     | 20/40 [01:10<01:08,  3.43s/it]"
     ]
    },
    {
     "name": "stdout",
     "output_type": "stream",
     "text": [
      "{'response_synthesizer:summary_template': ChatPromptTemplate(metadata={'prompt_type': <PromptType.CUSTOM: 'custom'>}, template_vars=['context_str', 'query_str'], kwargs={}, output_parser=None, template_var_mappings=None, function_mappings=None, message_templates=[ChatMessage(role=<MessageRole.SYSTEM: 'system'>, content='你是一个中文人工智能助手，以下是中国关于microeconomics考试的单项选择题以及相应的参考内容，请根据参考信息选出其中的正确答案。', additional_kwargs={}), ChatMessage(role=<MessageRole.USER: 'user'>, content='从不同来源获取的参考信息如下:\\n---------------------\\n{context_str}\\n---------------------\\n题目:{query_str}', additional_kwargs={}), ChatMessage(role=<MessageRole.USER: 'user'>, content='选项:\\nA. 一家公司设法增加在自己所有的财产上收取租金\\nB. 公司投入资源去劝说政府阻止新公司进入它的行业\\nC. 政府设法找出一家公司垄断租金的大小\\nD. 政府设法剥夺一家公司的垄断租金\\n答案:\\n', additional_kwargs={})])}\n",
      "INFO:httpx:HTTP Request: POST http://gemini2.sufe.edu.cn:27282/v1/chat/completions \"HTTP/1.1 200 OK\"\n",
      "INFO:httpx:HTTP Request: POST http://gemini2.sufe.edu.cn:27282/v1/embeddings \"HTTP/1.1 200 OK\"\n",
      "INFO:httpx:HTTP Request: POST http://gemini2.sufe.edu.cn:27282/v1/chat/completions \"HTTP/1.1 200 OK\"\n"
     ]
    },
    {
     "name": "stderr",
     "output_type": "stream",
     "text": [
      " 52%|█████▎    | 21/40 [01:12<00:56,  2.98s/it]"
     ]
    },
    {
     "name": "stdout",
     "output_type": "stream",
     "text": [
      "{'response_synthesizer:summary_template': ChatPromptTemplate(metadata={'prompt_type': <PromptType.CUSTOM: 'custom'>}, template_vars=['context_str', 'query_str'], kwargs={}, output_parser=None, template_var_mappings=None, function_mappings=None, message_templates=[ChatMessage(role=<MessageRole.SYSTEM: 'system'>, content='你是一个中文人工智能助手，以下是中国关于microeconomics考试的单项选择题以及相应的参考内容，请根据参考信息选出其中的正确答案。', additional_kwargs={}), ChatMessage(role=<MessageRole.USER: 'user'>, content='从不同来源获取的参考信息如下:\\n---------------------\\n{context_str}\\n---------------------\\n题目:{query_str}', additional_kwargs={}), ChatMessage(role=<MessageRole.USER: 'user'>, content='选项:\\nA. 价格竞争的市场\\nB. 产量竞争的市场\\nC. 产量领导的市场\\nD. 价格领导的市场\\n答案:\\n', additional_kwargs={})])}\n",
      "INFO:httpx:HTTP Request: POST http://gemini2.sufe.edu.cn:27282/v1/chat/completions \"HTTP/1.1 200 OK\"\n",
      "INFO:httpx:HTTP Request: POST http://gemini2.sufe.edu.cn:27282/v1/embeddings \"HTTP/1.1 200 OK\"\n",
      "INFO:httpx:HTTP Request: POST http://gemini2.sufe.edu.cn:27282/v1/chat/completions \"HTTP/1.1 200 OK\"\n"
     ]
    },
    {
     "name": "stderr",
     "output_type": "stream",
     "text": [
      " 55%|█████▌    | 22/40 [01:14<00:48,  2.68s/it]"
     ]
    },
    {
     "name": "stdout",
     "output_type": "stream",
     "text": [
      "{'response_synthesizer:summary_template': ChatPromptTemplate(metadata={'prompt_type': <PromptType.CUSTOM: 'custom'>}, template_vars=['context_str', 'query_str'], kwargs={}, output_parser=None, template_var_mappings=None, function_mappings=None, message_templates=[ChatMessage(role=<MessageRole.SYSTEM: 'system'>, content='你是一个中文人工智能助手，以下是中国关于microeconomics考试的单项选择题以及相应的参考内容，请根据参考信息选出其中的正确答案。', additional_kwargs={}), ChatMessage(role=<MessageRole.USER: 'user'>, content='从不同来源获取的参考信息如下:\\n---------------------\\n{context_str}\\n---------------------\\n题目:{query_str}', additional_kwargs={}), ChatMessage(role=<MessageRole.USER: 'user'>, content='选项:\\nA. 双方都独立依照自身利益行动，结果陷入最不利的局面\\nB. 双方都独立依照自身利益行事，导致最好的选择\\nC. 双方进行合作，得到了最好的结果\\nD. 双方进行合作，得到了次优的结果\\n答案:\\n', additional_kwargs={})])}\n",
      "INFO:httpx:HTTP Request: POST http://gemini2.sufe.edu.cn:27282/v1/chat/completions \"HTTP/1.1 200 OK\"\n",
      "INFO:httpx:HTTP Request: POST http://gemini2.sufe.edu.cn:27282/v1/embeddings \"HTTP/1.1 200 OK\"\n",
      "INFO:httpx:HTTP Request: POST http://gemini2.sufe.edu.cn:27282/v1/chat/completions \"HTTP/1.1 200 OK\"\n"
     ]
    },
    {
     "name": "stderr",
     "output_type": "stream",
     "text": [
      " 57%|█████▊    | 23/40 [01:16<00:44,  2.62s/it]"
     ]
    },
    {
     "name": "stdout",
     "output_type": "stream",
     "text": [
      "{'response_synthesizer:summary_template': ChatPromptTemplate(metadata={'prompt_type': <PromptType.CUSTOM: 'custom'>}, template_vars=['context_str', 'query_str'], kwargs={}, output_parser=None, template_var_mappings=None, function_mappings=None, message_templates=[ChatMessage(role=<MessageRole.SYSTEM: 'system'>, content='你是一个中文人工智能助手，以下是中国关于microeconomics考试的单项选择题以及相应的参考内容，请根据参考信息选出其中的正确答案。', additional_kwargs={}), ChatMessage(role=<MessageRole.USER: 'user'>, content='从不同来源获取的参考信息如下:\\n---------------------\\n{context_str}\\n---------------------\\n题目:{query_str}', additional_kwargs={}), ChatMessage(role=<MessageRole.USER: 'user'>, content='选项:\\nA. 一级价格差别\\nB. 二级价格差别\\nC. 三级价格差别\\nD. 混合价格差别\\n答案:\\n', additional_kwargs={})])}\n",
      "INFO:httpx:HTTP Request: POST http://gemini2.sufe.edu.cn:27282/v1/chat/completions \"HTTP/1.1 200 OK\"\n",
      "INFO:httpx:HTTP Request: POST http://gemini2.sufe.edu.cn:27282/v1/embeddings \"HTTP/1.1 200 OK\"\n",
      "INFO:httpx:HTTP Request: POST http://gemini2.sufe.edu.cn:27282/v1/chat/completions \"HTTP/1.1 200 OK\"\n"
     ]
    },
    {
     "name": "stderr",
     "output_type": "stream",
     "text": [
      " 60%|██████    | 24/40 [01:26<01:17,  4.87s/it]"
     ]
    },
    {
     "name": "stdout",
     "output_type": "stream",
     "text": [
      "{'response_synthesizer:summary_template': ChatPromptTemplate(metadata={'prompt_type': <PromptType.CUSTOM: 'custom'>}, template_vars=['context_str', 'query_str'], kwargs={}, output_parser=None, template_var_mappings=None, function_mappings=None, message_templates=[ChatMessage(role=<MessageRole.SYSTEM: 'system'>, content='你是一个中文人工智能助手，以下是中国关于microeconomics考试的单项选择题以及相应的参考内容，请根据参考信息选出其中的正确答案。', additional_kwargs={}), ChatMessage(role=<MessageRole.USER: 'user'>, content='从不同来源获取的参考信息如下:\\n---------------------\\n{context_str}\\n---------------------\\n题目:{query_str}', additional_kwargs={}), ChatMessage(role=<MessageRole.USER: 'user'>, content='选项:\\nA. 生产中使用的要素供给曲线是垂直的\\nB. 行业的长期供给曲线有一正的斜率\\nC. 行业的长期供给曲线有一负的斜率\\nD. 短期平均成本曲线不是U型的\\n答案:\\n', additional_kwargs={})])}\n",
      "INFO:httpx:HTTP Request: POST http://gemini2.sufe.edu.cn:27282/v1/chat/completions \"HTTP/1.1 200 OK\"\n",
      "INFO:httpx:HTTP Request: POST http://gemini2.sufe.edu.cn:27282/v1/embeddings \"HTTP/1.1 200 OK\"\n",
      "INFO:httpx:HTTP Request: POST http://gemini2.sufe.edu.cn:27282/v1/chat/completions \"HTTP/1.1 200 OK\"\n"
     ]
    },
    {
     "name": "stderr",
     "output_type": "stream",
     "text": [
      " 62%|██████▎   | 25/40 [01:33<01:20,  5.39s/it]"
     ]
    },
    {
     "name": "stdout",
     "output_type": "stream",
     "text": [
      "{'response_synthesizer:summary_template': ChatPromptTemplate(metadata={'prompt_type': <PromptType.CUSTOM: 'custom'>}, template_vars=['context_str', 'query_str'], kwargs={}, output_parser=None, template_var_mappings=None, function_mappings=None, message_templates=[ChatMessage(role=<MessageRole.SYSTEM: 'system'>, content='你是一个中文人工智能助手，以下是中国关于microeconomics考试的单项选择题以及相应的参考内容，请根据参考信息选出其中的正确答案。', additional_kwargs={}), ChatMessage(role=<MessageRole.USER: 'user'>, content='从不同来源获取的参考信息如下:\\n---------------------\\n{context_str}\\n---------------------\\n题目:{query_str}', additional_kwargs={}), ChatMessage(role=<MessageRole.USER: 'user'>, content='选项:\\nA. 使总亏损最小\\nB. 使总亏损最小\\nC. 使总亏损最小，或使总盈利最大\\nD. 以上都不正确\\n答案:\\n', additional_kwargs={})])}\n",
      "INFO:httpx:HTTP Request: POST http://gemini2.sufe.edu.cn:27282/v1/chat/completions \"HTTP/1.1 200 OK\"\n",
      "INFO:httpx:HTTP Request: POST http://gemini2.sufe.edu.cn:27282/v1/embeddings \"HTTP/1.1 200 OK\"\n",
      "INFO:httpx:HTTP Request: POST http://gemini2.sufe.edu.cn:27282/v1/chat/completions \"HTTP/1.1 200 OK\"\n"
     ]
    },
    {
     "name": "stderr",
     "output_type": "stream",
     "text": [
      " 65%|██████▌   | 26/40 [01:35<01:01,  4.41s/it]"
     ]
    },
    {
     "name": "stdout",
     "output_type": "stream",
     "text": [
      "{'response_synthesizer:summary_template': ChatPromptTemplate(metadata={'prompt_type': <PromptType.CUSTOM: 'custom'>}, template_vars=['context_str', 'query_str'], kwargs={}, output_parser=None, template_var_mappings=None, function_mappings=None, message_templates=[ChatMessage(role=<MessageRole.SYSTEM: 'system'>, content='你是一个中文人工智能助手，以下是中国关于microeconomics考试的单项选择题以及相应的参考内容，请根据参考信息选出其中的正确答案。', additional_kwargs={}), ChatMessage(role=<MessageRole.USER: 'user'>, content='从不同来源获取的参考信息如下:\\n---------------------\\n{context_str}\\n---------------------\\n题目:{query_str}', additional_kwargs={}), ChatMessage(role=<MessageRole.USER: 'user'>, content='选项:\\nA. SAC曲线最低点的轨迹\\nB. SMC曲线最低点的轨迹\\nC. LAC曲线最低点的轨迹\\nD. LMC曲线最低点的轨迹\\n答案:\\n', additional_kwargs={})])}\n",
      "INFO:httpx:HTTP Request: POST http://gemini2.sufe.edu.cn:27282/v1/chat/completions \"HTTP/1.1 200 OK\"\n",
      "INFO:httpx:HTTP Request: POST http://gemini2.sufe.edu.cn:27282/v1/embeddings \"HTTP/1.1 200 OK\"\n",
      "INFO:httpx:HTTP Request: POST http://gemini2.sufe.edu.cn:27282/v1/chat/completions \"HTTP/1.1 200 OK\"\n"
     ]
    },
    {
     "name": "stderr",
     "output_type": "stream",
     "text": [
      " 68%|██████▊   | 27/40 [01:39<00:55,  4.28s/it]"
     ]
    },
    {
     "name": "stdout",
     "output_type": "stream",
     "text": [
      "{'response_synthesizer:summary_template': ChatPromptTemplate(metadata={'prompt_type': <PromptType.CUSTOM: 'custom'>}, template_vars=['context_str', 'query_str'], kwargs={}, output_parser=None, template_var_mappings=None, function_mappings=None, message_templates=[ChatMessage(role=<MessageRole.SYSTEM: 'system'>, content='你是一个中文人工智能助手，以下是中国关于microeconomics考试的单项选择题以及相应的参考内容，请根据参考信息选出其中的正确答案。', additional_kwargs={}), ChatMessage(role=<MessageRole.USER: 'user'>, content='从不同来源获取的参考信息如下:\\n---------------------\\n{context_str}\\n---------------------\\n题目:{query_str}', additional_kwargs={}), ChatMessage(role=<MessageRole.USER: 'user'>, content='选项:\\nA. 采用完全相同的生产工艺\\nB. 具有同一最低平均的成本\\nC. 都能获得经济利润\\nD. 以上全对\\n答案:\\n', additional_kwargs={})])}\n",
      "INFO:httpx:HTTP Request: POST http://gemini2.sufe.edu.cn:27282/v1/chat/completions \"HTTP/1.1 200 OK\"\n",
      "INFO:httpx:HTTP Request: POST http://gemini2.sufe.edu.cn:27282/v1/embeddings \"HTTP/1.1 200 OK\"\n",
      "INFO:httpx:HTTP Request: POST http://gemini2.sufe.edu.cn:27282/v1/chat/completions \"HTTP/1.1 200 OK\"\n"
     ]
    },
    {
     "name": "stderr",
     "output_type": "stream",
     "text": [
      " 70%|███████   | 28/40 [01:41<00:44,  3.74s/it]"
     ]
    },
    {
     "name": "stdout",
     "output_type": "stream",
     "text": [
      "{'response_synthesizer:summary_template': ChatPromptTemplate(metadata={'prompt_type': <PromptType.CUSTOM: 'custom'>}, template_vars=['context_str', 'query_str'], kwargs={}, output_parser=None, template_var_mappings=None, function_mappings=None, message_templates=[ChatMessage(role=<MessageRole.SYSTEM: 'system'>, content='你是一个中文人工智能助手，以下是中国关于microeconomics考试的单项选择题以及相应的参考内容，请根据参考信息选出其中的正确答案。', additional_kwargs={}), ChatMessage(role=<MessageRole.USER: 'user'>, content='从不同来源获取的参考信息如下:\\n---------------------\\n{context_str}\\n---------------------\\n题目:{query_str}', additional_kwargs={}), ChatMessage(role=<MessageRole.USER: 'user'>, content='选项:\\nA. 在长期边际成本曲线下降时，长期总成本曲线以越来越快的速度上升\\nB. 在长期边际成本曲线下降时，长期总成本曲线以以越来越慢的速度上升\\nC. 在长期边际成本曲线上升时，长期总成本曲线以越来越慢的速度上升\\nD. 以上均不正确\\n答案:\\n', additional_kwargs={})])}\n",
      "INFO:httpx:HTTP Request: POST http://gemini2.sufe.edu.cn:27282/v1/chat/completions \"HTTP/1.1 200 OK\"\n",
      "INFO:httpx:HTTP Request: POST http://gemini2.sufe.edu.cn:27282/v1/embeddings \"HTTP/1.1 200 OK\"\n",
      "INFO:httpx:HTTP Request: POST http://gemini2.sufe.edu.cn:27282/v1/chat/completions \"HTTP/1.1 200 OK\"\n"
     ]
    },
    {
     "name": "stderr",
     "output_type": "stream",
     "text": [
      " 72%|███████▎  | 29/40 [01:46<00:43,  3.96s/it]"
     ]
    },
    {
     "name": "stdout",
     "output_type": "stream",
     "text": [
      "{'response_synthesizer:summary_template': ChatPromptTemplate(metadata={'prompt_type': <PromptType.CUSTOM: 'custom'>}, template_vars=['context_str', 'query_str'], kwargs={}, output_parser=None, template_var_mappings=None, function_mappings=None, message_templates=[ChatMessage(role=<MessageRole.SYSTEM: 'system'>, content='你是一个中文人工智能助手，以下是中国关于microeconomics考试的单项选择题以及相应的参考内容，请根据参考信息选出其中的正确答案。', additional_kwargs={}), ChatMessage(role=<MessageRole.USER: 'user'>, content='从不同来源获取的参考信息如下:\\n---------------------\\n{context_str}\\n---------------------\\n题目:{query_str}', additional_kwargs={}), ChatMessage(role=<MessageRole.USER: 'user'>, content='选项:\\nA. 减少\\nB. 增加\\nC. 不变\\nD. 无法判断\\n答案:\\n', additional_kwargs={})])}\n",
      "INFO:httpx:HTTP Request: POST http://gemini2.sufe.edu.cn:27282/v1/chat/completions \"HTTP/1.1 200 OK\"\n",
      "INFO:httpx:HTTP Request: POST http://gemini2.sufe.edu.cn:27282/v1/embeddings \"HTTP/1.1 200 OK\"\n",
      "INFO:httpx:HTTP Request: POST http://gemini2.sufe.edu.cn:27282/v1/chat/completions \"HTTP/1.1 200 OK\"\n"
     ]
    },
    {
     "name": "stderr",
     "output_type": "stream",
     "text": [
      " 75%|███████▌  | 30/40 [01:49<00:35,  3.59s/it]"
     ]
    },
    {
     "name": "stdout",
     "output_type": "stream",
     "text": [
      "{'response_synthesizer:summary_template': ChatPromptTemplate(metadata={'prompt_type': <PromptType.CUSTOM: 'custom'>}, template_vars=['context_str', 'query_str'], kwargs={}, output_parser=None, template_var_mappings=None, function_mappings=None, message_templates=[ChatMessage(role=<MessageRole.SYSTEM: 'system'>, content='你是一个中文人工智能助手，以下是中国关于microeconomics考试的单项选择题以及相应的参考内容，请根据参考信息选出其中的正确答案。', additional_kwargs={}), ChatMessage(role=<MessageRole.USER: 'user'>, content='从不同来源获取的参考信息如下:\\n---------------------\\n{context_str}\\n---------------------\\n题目:{query_str}', additional_kwargs={}), ChatMessage(role=<MessageRole.USER: 'user'>, content='选项:\\nA. 不断上升\\nB. 不断下降\\nC. 先上升后下降\\nD. 先下降后上升\\n答案:\\n', additional_kwargs={})])}\n",
      "INFO:httpx:HTTP Request: POST http://gemini2.sufe.edu.cn:27282/v1/chat/completions \"HTTP/1.1 200 OK\"\n",
      "INFO:httpx:HTTP Request: POST http://gemini2.sufe.edu.cn:27282/v1/embeddings \"HTTP/1.1 200 OK\"\n",
      "INFO:httpx:HTTP Request: POST http://gemini2.sufe.edu.cn:27282/v1/chat/completions \"HTTP/1.1 200 OK\"\n"
     ]
    },
    {
     "name": "stderr",
     "output_type": "stream",
     "text": [
      " 78%|███████▊  | 31/40 [01:53<00:34,  3.85s/it]"
     ]
    },
    {
     "name": "stdout",
     "output_type": "stream",
     "text": [
      "{'response_synthesizer:summary_template': ChatPromptTemplate(metadata={'prompt_type': <PromptType.CUSTOM: 'custom'>}, template_vars=['context_str', 'query_str'], kwargs={}, output_parser=None, template_var_mappings=None, function_mappings=None, message_templates=[ChatMessage(role=<MessageRole.SYSTEM: 'system'>, content='你是一个中文人工智能助手，以下是中国关于microeconomics考试的单项选择题以及相应的参考内容，请根据参考信息选出其中的正确答案。', additional_kwargs={}), ChatMessage(role=<MessageRole.USER: 'user'>, content='从不同来源获取的参考信息如下:\\n---------------------\\n{context_str}\\n---------------------\\n题目:{query_str}', additional_kwargs={}), ChatMessage(role=<MessageRole.USER: 'user'>, content='选项:\\nA. 与纵轴相交\\nB. 经过原点\\nC. 与平均产量曲线相交\\nD. 与横轴相交\\n答案:\\n', additional_kwargs={})])}\n",
      "INFO:httpx:HTTP Request: POST http://gemini2.sufe.edu.cn:27282/v1/chat/completions \"HTTP/1.1 200 OK\"\n",
      "INFO:httpx:HTTP Request: POST http://gemini2.sufe.edu.cn:27282/v1/embeddings \"HTTP/1.1 200 OK\"\n",
      "INFO:httpx:HTTP Request: POST http://gemini2.sufe.edu.cn:27282/v1/chat/completions \"HTTP/1.1 200 OK\"\n"
     ]
    },
    {
     "name": "stderr",
     "output_type": "stream",
     "text": [
      " 80%|████████  | 32/40 [01:57<00:30,  3.75s/it]"
     ]
    },
    {
     "name": "stdout",
     "output_type": "stream",
     "text": [
      "{'response_synthesizer:summary_template': ChatPromptTemplate(metadata={'prompt_type': <PromptType.CUSTOM: 'custom'>}, template_vars=['context_str', 'query_str'], kwargs={}, output_parser=None, template_var_mappings=None, function_mappings=None, message_templates=[ChatMessage(role=<MessageRole.SYSTEM: 'system'>, content='你是一个中文人工智能助手，以下是中国关于microeconomics考试的单项选择题以及相应的参考内容，请根据参考信息选出其中的正确答案。', additional_kwargs={}), ChatMessage(role=<MessageRole.USER: 'user'>, content='从不同来源获取的参考信息如下:\\n---------------------\\n{context_str}\\n---------------------\\n题目:{query_str}', additional_kwargs={}), ChatMessage(role=<MessageRole.USER: 'user'>, content='选项:\\nA. 增加\\nB. 减少\\nC. 不变\\nD. 无法确定\\n答案:\\n', additional_kwargs={})])}\n",
      "INFO:httpx:HTTP Request: POST http://gemini2.sufe.edu.cn:27282/v1/chat/completions \"HTTP/1.1 200 OK\"\n",
      "INFO:httpx:HTTP Request: POST http://gemini2.sufe.edu.cn:27282/v1/embeddings \"HTTP/1.1 200 OK\"\n",
      "INFO:httpx:HTTP Request: POST http://gemini2.sufe.edu.cn:27282/v1/chat/completions \"HTTP/1.1 200 OK\"\n"
     ]
    },
    {
     "name": "stderr",
     "output_type": "stream",
     "text": [
      " 82%|████████▎ | 33/40 [01:59<00:22,  3.25s/it]"
     ]
    },
    {
     "name": "stdout",
     "output_type": "stream",
     "text": [
      "{'response_synthesizer:summary_template': ChatPromptTemplate(metadata={'prompt_type': <PromptType.CUSTOM: 'custom'>}, template_vars=['context_str', 'query_str'], kwargs={}, output_parser=None, template_var_mappings=None, function_mappings=None, message_templates=[ChatMessage(role=<MessageRole.SYSTEM: 'system'>, content='你是一个中文人工智能助手，以下是中国关于microeconomics考试的单项选择题以及相应的参考内容，请根据参考信息选出其中的正确答案。', additional_kwargs={}), ChatMessage(role=<MessageRole.USER: 'user'>, content='从不同来源获取的参考信息如下:\\n---------------------\\n{context_str}\\n---------------------\\n题目:{query_str}', additional_kwargs={}), ChatMessage(role=<MessageRole.USER: 'user'>, content='选项:\\nA. 消费者的荔枝对苹果的边际替代率相等\\nB. 荔枝对苹果的边际替代率，济南消费者要大于广东消费者\\nC. 苹果对荔枝的边际替代率，济南消费者要大于广东消费者\\nD. 无法确定\\n答案:\\n', additional_kwargs={})])}\n",
      "INFO:httpx:HTTP Request: POST http://gemini2.sufe.edu.cn:27282/v1/chat/completions \"HTTP/1.1 200 OK\"\n",
      "INFO:httpx:HTTP Request: POST http://gemini2.sufe.edu.cn:27282/v1/embeddings \"HTTP/1.1 200 OK\"\n",
      "INFO:httpx:HTTP Request: POST http://gemini2.sufe.edu.cn:27282/v1/chat/completions \"HTTP/1.1 200 OK\"\n"
     ]
    },
    {
     "name": "stderr",
     "output_type": "stream",
     "text": [
      " 85%|████████▌ | 34/40 [02:06<00:26,  4.40s/it]"
     ]
    },
    {
     "name": "stdout",
     "output_type": "stream",
     "text": [
      "{'response_synthesizer:summary_template': ChatPromptTemplate(metadata={'prompt_type': <PromptType.CUSTOM: 'custom'>}, template_vars=['context_str', 'query_str'], kwargs={}, output_parser=None, template_var_mappings=None, function_mappings=None, message_templates=[ChatMessage(role=<MessageRole.SYSTEM: 'system'>, content='你是一个中文人工智能助手，以下是中国关于microeconomics考试的单项选择题以及相应的参考内容，请根据参考信息选出其中的正确答案。', additional_kwargs={}), ChatMessage(role=<MessageRole.USER: 'user'>, content='从不同来源获取的参考信息如下:\\n---------------------\\n{context_str}\\n---------------------\\n题目:{query_str}', additional_kwargs={}), ChatMessage(role=<MessageRole.USER: 'user'>, content='选项:\\nA. 吉芬商品\\nB. 低档商品\\nC. 正常商品\\nD. 生活必需品\\n答案:\\n', additional_kwargs={})])}\n",
      "INFO:httpx:HTTP Request: POST http://gemini2.sufe.edu.cn:27282/v1/chat/completions \"HTTP/1.1 200 OK\"\n",
      "INFO:httpx:HTTP Request: POST http://gemini2.sufe.edu.cn:27282/v1/embeddings \"HTTP/1.1 200 OK\"\n",
      "INFO:httpx:HTTP Request: POST http://gemini2.sufe.edu.cn:27282/v1/chat/completions \"HTTP/1.1 200 OK\"\n"
     ]
    },
    {
     "name": "stderr",
     "output_type": "stream",
     "text": [
      " 88%|████████▊ | 35/40 [02:10<00:21,  4.32s/it]"
     ]
    },
    {
     "name": "stdout",
     "output_type": "stream",
     "text": [
      "{'response_synthesizer:summary_template': ChatPromptTemplate(metadata={'prompt_type': <PromptType.CUSTOM: 'custom'>}, template_vars=['context_str', 'query_str'], kwargs={}, output_parser=None, template_var_mappings=None, function_mappings=None, message_templates=[ChatMessage(role=<MessageRole.SYSTEM: 'system'>, content='你是一个中文人工智能助手，以下是中国关于microeconomics考试的单项选择题以及相应的参考内容，请根据参考信息选出其中的正确答案。', additional_kwargs={}), ChatMessage(role=<MessageRole.USER: 'user'>, content='从不同来源获取的参考信息如下:\\n---------------------\\n{context_str}\\n---------------------\\n题目:{query_str}', additional_kwargs={}), ChatMessage(role=<MessageRole.USER: 'user'>, content='选项:\\nA. 商品Y\\nB. 商品X\\nC. 商品X和Y\\nD. 以上都不正确\\n答案:\\n', additional_kwargs={})])}\n",
      "INFO:httpx:HTTP Request: POST http://gemini2.sufe.edu.cn:27282/v1/chat/completions \"HTTP/1.1 200 OK\"\n",
      "INFO:httpx:HTTP Request: POST http://gemini2.sufe.edu.cn:27282/v1/embeddings \"HTTP/1.1 200 OK\"\n",
      "INFO:httpx:HTTP Request: POST http://gemini2.sufe.edu.cn:27282/v1/chat/completions \"HTTP/1.1 200 OK\"\n"
     ]
    },
    {
     "name": "stderr",
     "output_type": "stream",
     "text": [
      " 90%|█████████ | 36/40 [02:13<00:15,  3.81s/it]"
     ]
    },
    {
     "name": "stdout",
     "output_type": "stream",
     "text": [
      "{'response_synthesizer:summary_template': ChatPromptTemplate(metadata={'prompt_type': <PromptType.CUSTOM: 'custom'>}, template_vars=['context_str', 'query_str'], kwargs={}, output_parser=None, template_var_mappings=None, function_mappings=None, message_templates=[ChatMessage(role=<MessageRole.SYSTEM: 'system'>, content='你是一个中文人工智能助手，以下是中国关于microeconomics考试的单项选择题以及相应的参考内容，请根据参考信息选出其中的正确答案。', additional_kwargs={}), ChatMessage(role=<MessageRole.USER: 'user'>, content='从不同来源获取的参考信息如下:\\n---------------------\\n{context_str}\\n---------------------\\n题目:{query_str}', additional_kwargs={}), ChatMessage(role=<MessageRole.USER: 'user'>, content='选项:\\nA. 增加税收\\nB. 实行农产品的配给制\\nC. 收购过剩的农产品\\nD. 对农民补贴\\n答案:\\n', additional_kwargs={})])}\n",
      "INFO:httpx:HTTP Request: POST http://gemini2.sufe.edu.cn:27282/v1/chat/completions \"HTTP/1.1 200 OK\"\n",
      "INFO:httpx:HTTP Request: POST http://gemini2.sufe.edu.cn:27282/v1/embeddings \"HTTP/1.1 200 OK\"\n",
      "INFO:httpx:HTTP Request: POST http://gemini2.sufe.edu.cn:27282/v1/chat/completions \"HTTP/1.1 200 OK\"\n"
     ]
    },
    {
     "name": "stderr",
     "output_type": "stream",
     "text": [
      " 92%|█████████▎| 37/40 [02:15<00:10,  3.44s/it]"
     ]
    },
    {
     "name": "stdout",
     "output_type": "stream",
     "text": [
      "{'response_synthesizer:summary_template': ChatPromptTemplate(metadata={'prompt_type': <PromptType.CUSTOM: 'custom'>}, template_vars=['context_str', 'query_str'], kwargs={}, output_parser=None, template_var_mappings=None, function_mappings=None, message_templates=[ChatMessage(role=<MessageRole.SYSTEM: 'system'>, content='你是一个中文人工智能助手，以下是中国关于microeconomics考试的单项选择题以及相应的参考内容，请根据参考信息选出其中的正确答案。', additional_kwargs={}), ChatMessage(role=<MessageRole.USER: 'user'>, content='从不同来源获取的参考信息如下:\\n---------------------\\n{context_str}\\n---------------------\\n题目:{query_str}', additional_kwargs={}), ChatMessage(role=<MessageRole.USER: 'user'>, content='选项:\\nA. 药品价格上升，使得药品质量得到改善\\nB. 汽油价格的提高，小汽车的销量减少\\nC. 照相机价格的下降导致其销量的增加\\nD. 牛肉价格提高导致羊肉的销量增加\\n答案:\\n', additional_kwargs={})])}\n",
      "INFO:httpx:HTTP Request: POST http://gemini2.sufe.edu.cn:27282/v1/chat/completions \"HTTP/1.1 200 OK\"\n",
      "INFO:httpx:HTTP Request: POST http://gemini2.sufe.edu.cn:27282/v1/embeddings \"HTTP/1.1 200 OK\"\n",
      "INFO:httpx:HTTP Request: POST http://gemini2.sufe.edu.cn:27282/v1/chat/completions \"HTTP/1.1 200 OK\"\n"
     ]
    },
    {
     "name": "stderr",
     "output_type": "stream",
     "text": [
      " 95%|█████████▌| 38/40 [02:17<00:06,  3.11s/it]"
     ]
    },
    {
     "name": "stdout",
     "output_type": "stream",
     "text": [
      "{'response_synthesizer:summary_template': ChatPromptTemplate(metadata={'prompt_type': <PromptType.CUSTOM: 'custom'>}, template_vars=['context_str', 'query_str'], kwargs={}, output_parser=None, template_var_mappings=None, function_mappings=None, message_templates=[ChatMessage(role=<MessageRole.SYSTEM: 'system'>, content='你是一个中文人工智能助手，以下是中国关于microeconomics考试的单项选择题以及相应的参考内容，请根据参考信息选出其中的正确答案。', additional_kwargs={}), ChatMessage(role=<MessageRole.USER: 'user'>, content='从不同来源获取的参考信息如下:\\n---------------------\\n{context_str}\\n---------------------\\n题目:{query_str}', additional_kwargs={}), ChatMessage(role=<MessageRole.USER: 'user'>, content='选项:\\nA. 双方在每一期都选择“坦白”\\nB. 双方在每一期都选择“抵赖”\\nC. 双方在前$N-1$期都选择“坦白”，在最后一期都选择“抵赖”\\nD. 双方在前$N-1$期都选择“抵赖”，在最后一期都选择“坦白”\\n答案:\\n', additional_kwargs={})])}\n",
      "INFO:httpx:HTTP Request: POST http://gemini2.sufe.edu.cn:27282/v1/chat/completions \"HTTP/1.1 200 OK\"\n",
      "INFO:httpx:HTTP Request: POST http://gemini2.sufe.edu.cn:27282/v1/embeddings \"HTTP/1.1 200 OK\"\n",
      "INFO:httpx:HTTP Request: POST http://gemini2.sufe.edu.cn:27282/v1/chat/completions \"HTTP/1.1 200 OK\"\n"
     ]
    },
    {
     "name": "stderr",
     "output_type": "stream",
     "text": [
      " 98%|█████████▊| 39/40 [02:21<00:03,  3.29s/it]"
     ]
    },
    {
     "name": "stdout",
     "output_type": "stream",
     "text": [
      "{'response_synthesizer:summary_template': ChatPromptTemplate(metadata={'prompt_type': <PromptType.CUSTOM: 'custom'>}, template_vars=['context_str', 'query_str'], kwargs={}, output_parser=None, template_var_mappings=None, function_mappings=None, message_templates=[ChatMessage(role=<MessageRole.SYSTEM: 'system'>, content='你是一个中文人工智能助手，以下是中国关于microeconomics考试的单项选择题以及相应的参考内容，请根据参考信息选出其中的正确答案。', additional_kwargs={}), ChatMessage(role=<MessageRole.USER: 'user'>, content='从不同来源获取的参考信息如下:\\n---------------------\\n{context_str}\\n---------------------\\n题目:{query_str}', additional_kwargs={}), ChatMessage(role=<MessageRole.USER: 'user'>, content='选项:\\nA. 收益\\nB. 支付\\nC. 决策\\nD. 利润\\n答案:\\n', additional_kwargs={})])}\n",
      "INFO:httpx:HTTP Request: POST http://gemini2.sufe.edu.cn:27282/v1/chat/completions \"HTTP/1.1 200 OK\"\n",
      "INFO:httpx:HTTP Request: POST http://gemini2.sufe.edu.cn:27282/v1/embeddings \"HTTP/1.1 200 OK\"\n",
      "INFO:httpx:HTTP Request: POST http://gemini2.sufe.edu.cn:27282/v1/chat/completions \"HTTP/1.1 200 OK\"\n"
     ]
    },
    {
     "name": "stderr",
     "output_type": "stream",
     "text": [
      "100%|██████████| 40/40 [02:23<00:00,  3.60s/it]\n"
     ]
    },
    {
     "name": "stdout",
     "output_type": "stream",
     "text": [
      "Subject: microeconomics\n",
      "Acc: 37.5\n",
      "Accuracy:\n",
      "microeconomics :  37.5\n",
      "--------------------------------------------------------------------------------\n",
      "Accuracy_subject:\n",
      "microeconomics :  37.5\n",
      "--------------------------------------------------------------------------------\n",
      "Accuracy_grouped:\n",
      "Economy :  0.375\n",
      "Avg: \n",
      "0.375\n",
      "############# nodes group: size_512_overlap_64 ###############\n",
      "0.0 Inference starts at 2024-04-11_23-36-43 on chatglm with subject of microeconomics!\n"
     ]
    },
    {
     "name": "stderr",
     "output_type": "stream",
     "text": [
      "  0%|          | 0/40 [00:00<?, ?it/s]"
     ]
    },
    {
     "name": "stdout",
     "output_type": "stream",
     "text": [
      "{'response_synthesizer:summary_template': ChatPromptTemplate(metadata={'prompt_type': <PromptType.CUSTOM: 'custom'>}, template_vars=['context_str', 'query_str'], kwargs={}, output_parser=None, template_var_mappings=None, function_mappings=None, message_templates=[ChatMessage(role=<MessageRole.SYSTEM: 'system'>, content='你是一个中文人工智能助手，以下是中国关于microeconomics考试的单项选择题以及相应的参考内容，请根据参考信息选出其中的正确答案。', additional_kwargs={}), ChatMessage(role=<MessageRole.USER: 'user'>, content='从不同来源获取的参考信息如下:\\n---------------------\\n{context_str}\\n---------------------\\n题目:{query_str}', additional_kwargs={}), ChatMessage(role=<MessageRole.USER: 'user'>, content='选项:\\nA. 平均总成本小于100\\nB. 平均固定成本小于100\\nC. 边际产量增加\\nD. 平均可变成本小于100\\n答案:\\n', additional_kwargs={})])}\n",
      "INFO:httpx:HTTP Request: POST http://gemini2.sufe.edu.cn:27282/v1/chat/completions \"HTTP/1.1 200 OK\"\n",
      "INFO:httpx:HTTP Request: POST http://gemini2.sufe.edu.cn:27282/v1/embeddings \"HTTP/1.1 200 OK\"\n",
      "INFO:httpx:HTTP Request: POST http://gemini2.sufe.edu.cn:27282/v1/chat/completions \"HTTP/1.1 200 OK\"\n"
     ]
    },
    {
     "name": "stderr",
     "output_type": "stream",
     "text": [
      "  2%|▎         | 1/40 [00:03<02:32,  3.90s/it]"
     ]
    },
    {
     "name": "stdout",
     "output_type": "stream",
     "text": [
      "{'response_synthesizer:summary_template': ChatPromptTemplate(metadata={'prompt_type': <PromptType.CUSTOM: 'custom'>}, template_vars=['context_str', 'query_str'], kwargs={}, output_parser=None, template_var_mappings=None, function_mappings=None, message_templates=[ChatMessage(role=<MessageRole.SYSTEM: 'system'>, content='你是一个中文人工智能助手，以下是中国关于microeconomics考试的单项选择题以及相应的参考内容，请根据参考信息选出其中的正确答案。', additional_kwargs={}), ChatMessage(role=<MessageRole.USER: 'user'>, content='从不同来源获取的参考信息如下:\\n---------------------\\n{context_str}\\n---------------------\\n题目:{query_str}', additional_kwargs={}), ChatMessage(role=<MessageRole.USER: 'user'>, content='选项:\\nA. 固定不变\\nB. 经常变动\\nC. 等于1\\nD. 等于0\\n答案:\\n', additional_kwargs={})])}\n",
      "INFO:httpx:HTTP Request: POST http://gemini2.sufe.edu.cn:27282/v1/chat/completions \"HTTP/1.1 200 OK\"\n",
      "INFO:httpx:HTTP Request: POST http://gemini2.sufe.edu.cn:27282/v1/embeddings \"HTTP/1.1 200 OK\"\n",
      "INFO:httpx:HTTP Request: POST http://gemini2.sufe.edu.cn:27282/v1/chat/completions \"HTTP/1.1 200 OK\"\n"
     ]
    },
    {
     "name": "stderr",
     "output_type": "stream",
     "text": [
      "  5%|▌         | 2/40 [00:05<01:46,  2.81s/it]"
     ]
    },
    {
     "name": "stdout",
     "output_type": "stream",
     "text": [
      "{'response_synthesizer:summary_template': ChatPromptTemplate(metadata={'prompt_type': <PromptType.CUSTOM: 'custom'>}, template_vars=['context_str', 'query_str'], kwargs={}, output_parser=None, template_var_mappings=None, function_mappings=None, message_templates=[ChatMessage(role=<MessageRole.SYSTEM: 'system'>, content='你是一个中文人工智能助手，以下是中国关于microeconomics考试的单项选择题以及相应的参考内容，请根据参考信息选出其中的正确答案。', additional_kwargs={}), ChatMessage(role=<MessageRole.USER: 'user'>, content='从不同来源获取的参考信息如下:\\n---------------------\\n{context_str}\\n---------------------\\n题目:{query_str}', additional_kwargs={}), ChatMessage(role=<MessageRole.USER: 'user'>, content='选项:\\nA. 既有厂商进入也有厂商退出该行业\\nB. 完全竞争被不完全竞争所取代\\nC. 新的厂商进入了该行业\\nD. 原有厂商退出了该行业\\n答案:\\n', additional_kwargs={})])}\n",
      "INFO:httpx:HTTP Request: POST http://gemini2.sufe.edu.cn:27282/v1/chat/completions \"HTTP/1.1 200 OK\"\n",
      "INFO:httpx:HTTP Request: POST http://gemini2.sufe.edu.cn:27282/v1/embeddings \"HTTP/1.1 200 OK\"\n",
      "INFO:httpx:HTTP Request: POST http://gemini2.sufe.edu.cn:27282/v1/chat/completions \"HTTP/1.1 200 OK\"\n"
     ]
    },
    {
     "name": "stderr",
     "output_type": "stream",
     "text": [
      "  8%|▊         | 3/40 [00:08<01:34,  2.56s/it]"
     ]
    },
    {
     "name": "stdout",
     "output_type": "stream",
     "text": [
      "{'response_synthesizer:summary_template': ChatPromptTemplate(metadata={'prompt_type': <PromptType.CUSTOM: 'custom'>}, template_vars=['context_str', 'query_str'], kwargs={}, output_parser=None, template_var_mappings=None, function_mappings=None, message_templates=[ChatMessage(role=<MessageRole.SYSTEM: 'system'>, content='你是一个中文人工智能助手，以下是中国关于microeconomics考试的单项选择题以及相应的参考内容，请根据参考信息选出其中的正确答案。', additional_kwargs={}), ChatMessage(role=<MessageRole.USER: 'user'>, content='从不同来源获取的参考信息如下:\\n---------------------\\n{context_str}\\n---------------------\\n题目:{query_str}', additional_kwargs={}), ChatMessage(role=<MessageRole.USER: 'user'>, content='选项:\\nA. 边际成本递减\\nB. 边际产量递减\\nC. 边际效益递减\\nD. 规模效益递减\\n答案:\\n', additional_kwargs={})])}\n",
      "INFO:httpx:HTTP Request: POST http://gemini2.sufe.edu.cn:27282/v1/chat/completions \"HTTP/1.1 200 OK\"\n",
      "INFO:httpx:HTTP Request: POST http://gemini2.sufe.edu.cn:27282/v1/embeddings \"HTTP/1.1 200 OK\"\n",
      "INFO:httpx:HTTP Request: POST http://gemini2.sufe.edu.cn:27282/v1/chat/completions \"HTTP/1.1 200 OK\"\n"
     ]
    },
    {
     "name": "stderr",
     "output_type": "stream",
     "text": [
      " 10%|█         | 4/40 [00:10<01:26,  2.39s/it]"
     ]
    },
    {
     "name": "stdout",
     "output_type": "stream",
     "text": [
      "{'response_synthesizer:summary_template': ChatPromptTemplate(metadata={'prompt_type': <PromptType.CUSTOM: 'custom'>}, template_vars=['context_str', 'query_str'], kwargs={}, output_parser=None, template_var_mappings=None, function_mappings=None, message_templates=[ChatMessage(role=<MessageRole.SYSTEM: 'system'>, content='你是一个中文人工智能助手，以下是中国关于microeconomics考试的单项选择题以及相应的参考内容，请根据参考信息选出其中的正确答案。', additional_kwargs={}), ChatMessage(role=<MessageRole.USER: 'user'>, content='从不同来源获取的参考信息如下:\\n---------------------\\n{context_str}\\n---------------------\\n题目:{query_str}', additional_kwargs={}), ChatMessage(role=<MessageRole.USER: 'user'>, content='选项:\\nA. 其下部向里偏转，即做顺时针转动\\nB. 其下部向外偏转，即做逆时针转动\\nC. 向下平行移动\\nD. 向上平行移动\\n答案:\\n', additional_kwargs={})])}\n",
      "INFO:httpx:HTTP Request: POST http://gemini2.sufe.edu.cn:27282/v1/chat/completions \"HTTP/1.1 200 OK\"\n",
      "INFO:httpx:HTTP Request: POST http://gemini2.sufe.edu.cn:27282/v1/embeddings \"HTTP/1.1 200 OK\"\n",
      "INFO:httpx:HTTP Request: POST http://gemini2.sufe.edu.cn:27282/v1/chat/completions \"HTTP/1.1 200 OK\"\n"
     ]
    },
    {
     "name": "stderr",
     "output_type": "stream",
     "text": [
      " 12%|█▎        | 5/40 [00:12<01:25,  2.43s/it]"
     ]
    },
    {
     "name": "stdout",
     "output_type": "stream",
     "text": [
      "{'response_synthesizer:summary_template': ChatPromptTemplate(metadata={'prompt_type': <PromptType.CUSTOM: 'custom'>}, template_vars=['context_str', 'query_str'], kwargs={}, output_parser=None, template_var_mappings=None, function_mappings=None, message_templates=[ChatMessage(role=<MessageRole.SYSTEM: 'system'>, content='你是一个中文人工智能助手，以下是中国关于microeconomics考试的单项选择题以及相应的参考内容，请根据参考信息选出其中的正确答案。', additional_kwargs={}), ChatMessage(role=<MessageRole.USER: 'user'>, content='从不同来源获取的参考信息如下:\\n---------------------\\n{context_str}\\n---------------------\\n题目:{query_str}', additional_kwargs={}), ChatMessage(role=<MessageRole.USER: 'user'>, content='选项:\\nA. 未达到利润最大化，应减少产量\\nB. 未达到利润最大化，应扩大产量\\nC. 生产出利润最大化，但是成本未达到最小化\\nD. 在成本最小条件下实现利润最大化产量\\n答案:\\n', additional_kwargs={})])}\n",
      "INFO:httpx:HTTP Request: POST http://gemini2.sufe.edu.cn:27282/v1/chat/completions \"HTTP/1.1 200 OK\"\n",
      "INFO:httpx:HTTP Request: POST http://gemini2.sufe.edu.cn:27282/v1/embeddings \"HTTP/1.1 200 OK\"\n",
      "INFO:httpx:HTTP Request: POST http://gemini2.sufe.edu.cn:27282/v1/chat/completions \"HTTP/1.1 200 OK\"\n"
     ]
    },
    {
     "name": "stderr",
     "output_type": "stream",
     "text": [
      " 15%|█▌        | 6/40 [00:22<02:42,  4.78s/it]"
     ]
    },
    {
     "name": "stdout",
     "output_type": "stream",
     "text": [
      "{'response_synthesizer:summary_template': ChatPromptTemplate(metadata={'prompt_type': <PromptType.CUSTOM: 'custom'>}, template_vars=['context_str', 'query_str'], kwargs={}, output_parser=None, template_var_mappings=None, function_mappings=None, message_templates=[ChatMessage(role=<MessageRole.SYSTEM: 'system'>, content='你是一个中文人工智能助手，以下是中国关于microeconomics考试的单项选择题以及相应的参考内容，请根据参考信息选出其中的正确答案。', additional_kwargs={}), ChatMessage(role=<MessageRole.USER: 'user'>, content='从不同来源获取的参考信息如下:\\n---------------------\\n{context_str}\\n---------------------\\n题目:{query_str}', additional_kwargs={}), ChatMessage(role=<MessageRole.USER: 'user'>, content='选项:\\nA. 边际产品价值降低；劳动的需求曲线右移\\nB. 边际产品价值增加；劳动的需求曲线左移\\nC. 边际产品价值增加；劳动的需求曲线右移\\nD. 边际产品价值降低；劳动的需求曲线左移\\n答案:\\n', additional_kwargs={})])}\n",
      "INFO:httpx:HTTP Request: POST http://gemini2.sufe.edu.cn:27282/v1/chat/completions \"HTTP/1.1 200 OK\"\n",
      "INFO:httpx:HTTP Request: POST http://gemini2.sufe.edu.cn:27282/v1/embeddings \"HTTP/1.1 200 OK\"\n",
      "INFO:httpx:HTTP Request: POST http://gemini2.sufe.edu.cn:27282/v1/chat/completions \"HTTP/1.1 200 OK\"\n"
     ]
    },
    {
     "name": "stderr",
     "output_type": "stream",
     "text": [
      " 18%|█▊        | 7/40 [00:29<03:04,  5.59s/it]"
     ]
    },
    {
     "name": "stdout",
     "output_type": "stream",
     "text": [
      "{'response_synthesizer:summary_template': ChatPromptTemplate(metadata={'prompt_type': <PromptType.CUSTOM: 'custom'>}, template_vars=['context_str', 'query_str'], kwargs={}, output_parser=None, template_var_mappings=None, function_mappings=None, message_templates=[ChatMessage(role=<MessageRole.SYSTEM: 'system'>, content='你是一个中文人工智能助手，以下是中国关于microeconomics考试的单项选择题以及相应的参考内容，请根据参考信息选出其中的正确答案。', additional_kwargs={}), ChatMessage(role=<MessageRole.USER: 'user'>, content='从不同来源获取的参考信息如下:\\n---------------------\\n{context_str}\\n---------------------\\n题目:{query_str}', additional_kwargs={}), ChatMessage(role=<MessageRole.USER: 'user'>, content='选项:\\nA. 向前弯曲\\nB. 向后弯曲\\nC. 仍保持向右上方倾斜\\nD. 向右下方倾斜\\n答案:\\n', additional_kwargs={})])}\n",
      "INFO:httpx:HTTP Request: POST http://gemini2.sufe.edu.cn:27282/v1/chat/completions \"HTTP/1.1 200 OK\"\n",
      "INFO:httpx:HTTP Request: POST http://gemini2.sufe.edu.cn:27282/v1/embeddings \"HTTP/1.1 200 OK\"\n",
      "INFO:httpx:HTTP Request: POST http://gemini2.sufe.edu.cn:27282/v1/chat/completions \"HTTP/1.1 200 OK\"\n"
     ]
    },
    {
     "name": "stderr",
     "output_type": "stream",
     "text": [
      " 20%|██        | 8/40 [00:31<02:23,  4.47s/it]"
     ]
    },
    {
     "name": "stdout",
     "output_type": "stream",
     "text": [
      "{'response_synthesizer:summary_template': ChatPromptTemplate(metadata={'prompt_type': <PromptType.CUSTOM: 'custom'>}, template_vars=['context_str', 'query_str'], kwargs={}, output_parser=None, template_var_mappings=None, function_mappings=None, message_templates=[ChatMessage(role=<MessageRole.SYSTEM: 'system'>, content='你是一个中文人工智能助手，以下是中国关于microeconomics考试的单项选择题以及相应的参考内容，请根据参考信息选出其中的正确答案。', additional_kwargs={}), ChatMessage(role=<MessageRole.USER: 'user'>, content='从不同来源获取的参考信息如下:\\n---------------------\\n{context_str}\\n---------------------\\n题目:{query_str}', additional_kwargs={}), ChatMessage(role=<MessageRole.USER: 'user'>, content='选项:\\nA. 它是指工资率对劳动者的收入，从而劳动时间产生的影响\\nB. 若劳动时间不变，工资率的提高使得劳动者的收入提高\\nC. 若劳动时间不变，工资率的提高使得劳动者有能力消费更多的闲暇\\nD. 工资率的提高的收入效应使得劳动供给增加\\n答案:\\n', additional_kwargs={})])}\n",
      "INFO:httpx:HTTP Request: POST http://gemini2.sufe.edu.cn:27282/v1/chat/completions \"HTTP/1.1 200 OK\"\n",
      "INFO:httpx:HTTP Request: POST http://gemini2.sufe.edu.cn:27282/v1/embeddings \"HTTP/1.1 200 OK\"\n",
      "INFO:httpx:HTTP Request: POST http://gemini2.sufe.edu.cn:27282/v1/chat/completions \"HTTP/1.1 200 OK\"\n"
     ]
    },
    {
     "name": "stderr",
     "output_type": "stream",
     "text": [
      " 22%|██▎       | 9/40 [00:34<02:03,  3.98s/it]"
     ]
    },
    {
     "name": "stdout",
     "output_type": "stream",
     "text": [
      "{'response_synthesizer:summary_template': ChatPromptTemplate(metadata={'prompt_type': <PromptType.CUSTOM: 'custom'>}, template_vars=['context_str', 'query_str'], kwargs={}, output_parser=None, template_var_mappings=None, function_mappings=None, message_templates=[ChatMessage(role=<MessageRole.SYSTEM: 'system'>, content='你是一个中文人工智能助手，以下是中国关于microeconomics考试的单项选择题以及相应的参考内容，请根据参考信息选出其中的正确答案。', additional_kwargs={}), ChatMessage(role=<MessageRole.USER: 'user'>, content='从不同来源获取的参考信息如下:\\n---------------------\\n{context_str}\\n---------------------\\n题目:{query_str}', additional_kwargs={}), ChatMessage(role=<MessageRole.USER: 'user'>, content='选项:\\nA. 乙用X向甲交换Y\\nB. 乙用Y向甲交换X\\nC. 甲和乙不会交换商品\\nD. 以上均不正确\\n答案:\\n', additional_kwargs={})])}\n",
      "INFO:httpx:HTTP Request: POST http://gemini2.sufe.edu.cn:27282/v1/chat/completions \"HTTP/1.1 200 OK\"\n",
      "INFO:httpx:HTTP Request: POST http://gemini2.sufe.edu.cn:27282/v1/embeddings \"HTTP/1.1 200 OK\"\n",
      "INFO:httpx:HTTP Request: POST http://gemini2.sufe.edu.cn:27282/v1/chat/completions \"HTTP/1.1 200 OK\"\n"
     ]
    },
    {
     "name": "stderr",
     "output_type": "stream",
     "text": [
      " 25%|██▌       | 10/40 [00:39<02:10,  4.36s/it]"
     ]
    },
    {
     "name": "stdout",
     "output_type": "stream",
     "text": [
      "{'response_synthesizer:summary_template': ChatPromptTemplate(metadata={'prompt_type': <PromptType.CUSTOM: 'custom'>}, template_vars=['context_str', 'query_str'], kwargs={}, output_parser=None, template_var_mappings=None, function_mappings=None, message_templates=[ChatMessage(role=<MessageRole.SYSTEM: 'system'>, content='你是一个中文人工智能助手，以下是中国关于microeconomics考试的单项选择题以及相应的参考内容，请根据参考信息选出其中的正确答案。', additional_kwargs={}), ChatMessage(role=<MessageRole.USER: 'user'>, content='从不同来源获取的参考信息如下:\\n---------------------\\n{context_str}\\n---------------------\\n题目:{query_str}', additional_kwargs={}), ChatMessage(role=<MessageRole.USER: 'user'>, content='选项:\\nA. 一个部门的变化对其他部门的影响\\nB. 与供给相独立的需求的变化\\nC. 一个市场出现的情况，忽视其他市场\\nD. 经济中所有的相互作用和相互依存关系\\n答案:\\n', additional_kwargs={})])}\n",
      "INFO:httpx:HTTP Request: POST http://gemini2.sufe.edu.cn:27282/v1/chat/completions \"HTTP/1.1 200 OK\"\n",
      "INFO:httpx:HTTP Request: POST http://gemini2.sufe.edu.cn:27282/v1/embeddings \"HTTP/1.1 200 OK\"\n",
      "INFO:httpx:HTTP Request: POST http://gemini2.sufe.edu.cn:27282/v1/chat/completions \"HTTP/1.1 200 OK\"\n"
     ]
    },
    {
     "name": "stderr",
     "output_type": "stream",
     "text": [
      " 28%|██▊       | 11/40 [00:41<01:41,  3.50s/it]"
     ]
    },
    {
     "name": "stdout",
     "output_type": "stream",
     "text": [
      "{'response_synthesizer:summary_template': ChatPromptTemplate(metadata={'prompt_type': <PromptType.CUSTOM: 'custom'>}, template_vars=['context_str', 'query_str'], kwargs={}, output_parser=None, template_var_mappings=None, function_mappings=None, message_templates=[ChatMessage(role=<MessageRole.SYSTEM: 'system'>, content='你是一个中文人工智能助手，以下是中国关于microeconomics考试的单项选择题以及相应的参考内容，请根据参考信息选出其中的正确答案。', additional_kwargs={}), ChatMessage(role=<MessageRole.USER: 'user'>, content='从不同来源获取的参考信息如下:\\n---------------------\\n{context_str}\\n---------------------\\n题目:{query_str}', additional_kwargs={}), ChatMessage(role=<MessageRole.USER: 'user'>, content='选项:\\nA. 一般均衡分析很可能推出错误的结论\\nB. 局部均衡分析很可能推出错误的结论\\nC. 局部均衡分析将提供合理可靠的预测\\nD. 以上说法都不对\\n答案:\\n', additional_kwargs={})])}\n",
      "INFO:httpx:HTTP Request: POST http://gemini2.sufe.edu.cn:27282/v1/chat/completions \"HTTP/1.1 200 OK\"\n",
      "INFO:httpx:HTTP Request: POST http://gemini2.sufe.edu.cn:27282/v1/embeddings \"HTTP/1.1 200 OK\"\n",
      "INFO:httpx:HTTP Request: POST http://gemini2.sufe.edu.cn:27282/v1/chat/completions \"HTTP/1.1 200 OK\"\n"
     ]
    },
    {
     "name": "stderr",
     "output_type": "stream",
     "text": [
      " 30%|███       | 12/40 [00:43<01:29,  3.19s/it]"
     ]
    },
    {
     "name": "stdout",
     "output_type": "stream",
     "text": [
      "{'response_synthesizer:summary_template': ChatPromptTemplate(metadata={'prompt_type': <PromptType.CUSTOM: 'custom'>}, template_vars=['context_str', 'query_str'], kwargs={}, output_parser=None, template_var_mappings=None, function_mappings=None, message_templates=[ChatMessage(role=<MessageRole.SYSTEM: 'system'>, content='你是一个中文人工智能助手，以下是中国关于microeconomics考试的单项选择题以及相应的参考内容，请根据参考信息选出其中的正确答案。', additional_kwargs={}), ChatMessage(role=<MessageRole.USER: 'user'>, content='从不同来源获取的参考信息如下:\\n---------------------\\n{context_str}\\n---------------------\\n题目:{query_str}', additional_kwargs={}), ChatMessage(role=<MessageRole.USER: 'user'>, content='选项:\\nA. 生产的效率\\nB. 交换的效率\\nC. 产品组合的效率\\nD. 收入的公平分配\\n答案:\\n', additional_kwargs={})])}\n",
      "INFO:httpx:HTTP Request: POST http://gemini2.sufe.edu.cn:27282/v1/chat/completions \"HTTP/1.1 200 OK\"\n",
      "INFO:httpx:HTTP Request: POST http://gemini2.sufe.edu.cn:27282/v1/embeddings \"HTTP/1.1 200 OK\"\n",
      "INFO:httpx:HTTP Request: POST http://gemini2.sufe.edu.cn:27282/v1/chat/completions \"HTTP/1.1 200 OK\"\n"
     ]
    },
    {
     "name": "stderr",
     "output_type": "stream",
     "text": [
      " 32%|███▎      | 13/40 [00:47<01:30,  3.35s/it]"
     ]
    },
    {
     "name": "stdout",
     "output_type": "stream",
     "text": [
      "{'response_synthesizer:summary_template': ChatPromptTemplate(metadata={'prompt_type': <PromptType.CUSTOM: 'custom'>}, template_vars=['context_str', 'query_str'], kwargs={}, output_parser=None, template_var_mappings=None, function_mappings=None, message_templates=[ChatMessage(role=<MessageRole.SYSTEM: 'system'>, content='你是一个中文人工智能助手，以下是中国关于microeconomics考试的单项选择题以及相应的参考内容，请根据参考信息选出其中的正确答案。', additional_kwargs={}), ChatMessage(role=<MessageRole.USER: 'user'>, content='从不同来源获取的参考信息如下:\\n---------------------\\n{context_str}\\n---------------------\\n题目:{query_str}', additional_kwargs={}), ChatMessage(role=<MessageRole.USER: 'user'>, content='选项:\\nA. 如果不使其中一个人受损失就不能使另一个人受益\\nB. 每个人都处在其消费契约曲线上\\nC. 每个人都处在其效用可能性曲线上\\nD. 包括以上所有条件\\n答案:\\n', additional_kwargs={})])}\n",
      "INFO:httpx:HTTP Request: POST http://gemini2.sufe.edu.cn:27282/v1/chat/completions \"HTTP/1.1 200 OK\"\n",
      "INFO:httpx:HTTP Request: POST http://gemini2.sufe.edu.cn:27282/v1/embeddings \"HTTP/1.1 200 OK\"\n",
      "INFO:httpx:HTTP Request: POST http://gemini2.sufe.edu.cn:27282/v1/chat/completions \"HTTP/1.1 200 OK\"\n"
     ]
    },
    {
     "name": "stderr",
     "output_type": "stream",
     "text": [
      " 35%|███▌      | 14/40 [00:49<01:17,  2.97s/it]"
     ]
    },
    {
     "name": "stdout",
     "output_type": "stream",
     "text": [
      "{'response_synthesizer:summary_template': ChatPromptTemplate(metadata={'prompt_type': <PromptType.CUSTOM: 'custom'>}, template_vars=['context_str', 'query_str'], kwargs={}, output_parser=None, template_var_mappings=None, function_mappings=None, message_templates=[ChatMessage(role=<MessageRole.SYSTEM: 'system'>, content='你是一个中文人工智能助手，以下是中国关于microeconomics考试的单项选择题以及相应的参考内容，请根据参考信息选出其中的正确答案。', additional_kwargs={}), ChatMessage(role=<MessageRole.USER: 'user'>, content='从不同来源获取的参考信息如下:\\n---------------------\\n{context_str}\\n---------------------\\n题目:{query_str}', additional_kwargs={}), ChatMessage(role=<MessageRole.USER: 'user'>, content='选项:\\nA. 当市场不能完全出清时\\nB. 当竞争建立在自身利益最大化的前提上时\\nC. 当厂商追求利润最大化目标时\\nD. 当市场价格不能反映一项交易的所有成本和收益时\\n答案:\\n', additional_kwargs={})])}\n",
      "INFO:httpx:HTTP Request: POST http://gemini2.sufe.edu.cn:27282/v1/chat/completions \"HTTP/1.1 200 OK\"\n",
      "INFO:httpx:HTTP Request: POST http://gemini2.sufe.edu.cn:27282/v1/embeddings \"HTTP/1.1 200 OK\"\n",
      "INFO:httpx:HTTP Request: POST http://gemini2.sufe.edu.cn:27282/v1/chat/completions \"HTTP/1.1 200 OK\"\n"
     ]
    },
    {
     "name": "stderr",
     "output_type": "stream",
     "text": [
      " 38%|███▊      | 15/40 [00:51<01:06,  2.68s/it]"
     ]
    },
    {
     "name": "stdout",
     "output_type": "stream",
     "text": [
      "{'response_synthesizer:summary_template': ChatPromptTemplate(metadata={'prompt_type': <PromptType.CUSTOM: 'custom'>}, template_vars=['context_str', 'query_str'], kwargs={}, output_parser=None, template_var_mappings=None, function_mappings=None, message_templates=[ChatMessage(role=<MessageRole.SYSTEM: 'system'>, content='你是一个中文人工智能助手，以下是中国关于microeconomics考试的单项选择题以及相应的参考内容，请根据参考信息选出其中的正确答案。', additional_kwargs={}), ChatMessage(role=<MessageRole.USER: 'user'>, content='从不同来源获取的参考信息如下:\\n---------------------\\n{context_str}\\n---------------------\\n题目:{query_str}', additional_kwargs={}), ChatMessage(role=<MessageRole.USER: 'user'>, content='选项:\\nA. 不能被证明是一种旨在提高效率合理的经济行为\\nB. 本质是非法的\\nC. 违反了克莱顿法\\nD. 导致纵向或横向兼并\\n答案:\\n', additional_kwargs={})])}\n",
      "INFO:httpx:HTTP Request: POST http://gemini2.sufe.edu.cn:27282/v1/chat/completions \"HTTP/1.1 200 OK\"\n",
      "INFO:httpx:HTTP Request: POST http://gemini2.sufe.edu.cn:27282/v1/embeddings \"HTTP/1.1 200 OK\"\n",
      "INFO:httpx:HTTP Request: POST http://gemini2.sufe.edu.cn:27282/v1/chat/completions \"HTTP/1.1 200 OK\"\n"
     ]
    },
    {
     "name": "stderr",
     "output_type": "stream",
     "text": [
      " 40%|████      | 16/40 [00:53<00:58,  2.42s/it]"
     ]
    },
    {
     "name": "stdout",
     "output_type": "stream",
     "text": [
      "{'response_synthesizer:summary_template': ChatPromptTemplate(metadata={'prompt_type': <PromptType.CUSTOM: 'custom'>}, template_vars=['context_str', 'query_str'], kwargs={}, output_parser=None, template_var_mappings=None, function_mappings=None, message_templates=[ChatMessage(role=<MessageRole.SYSTEM: 'system'>, content='你是一个中文人工智能助手，以下是中国关于microeconomics考试的单项选择题以及相应的参考内容，请根据参考信息选出其中的正确答案。', additional_kwargs={}), ChatMessage(role=<MessageRole.USER: 'user'>, content='从不同来源获取的参考信息如下:\\n---------------------\\n{context_str}\\n---------------------\\n题目:{query_str}', additional_kwargs={}), ChatMessage(role=<MessageRole.USER: 'user'>, content='选项:\\nA. 卖方故意要隐瞒自己一些情况\\nB. 买方认识能力有限\\nC. 完全掌握情况所费成本太高\\nD. 以上三种情况都有可能\\n答案:\\n', additional_kwargs={})])}\n",
      "INFO:httpx:HTTP Request: POST http://gemini2.sufe.edu.cn:27282/v1/chat/completions \"HTTP/1.1 200 OK\"\n",
      "INFO:httpx:HTTP Request: POST http://gemini2.sufe.edu.cn:27282/v1/embeddings \"HTTP/1.1 200 OK\"\n",
      "INFO:httpx:HTTP Request: POST http://gemini2.sufe.edu.cn:27282/v1/chat/completions \"HTTP/1.1 200 OK\"\n"
     ]
    },
    {
     "name": "stderr",
     "output_type": "stream",
     "text": [
      " 42%|████▎     | 17/40 [00:55<00:52,  2.28s/it]"
     ]
    },
    {
     "name": "stdout",
     "output_type": "stream",
     "text": [
      "{'response_synthesizer:summary_template': ChatPromptTemplate(metadata={'prompt_type': <PromptType.CUSTOM: 'custom'>}, template_vars=['context_str', 'query_str'], kwargs={}, output_parser=None, template_var_mappings=None, function_mappings=None, message_templates=[ChatMessage(role=<MessageRole.SYSTEM: 'system'>, content='你是一个中文人工智能助手，以下是中国关于microeconomics考试的单项选择题以及相应的参考内容，请根据参考信息选出其中的正确答案。', additional_kwargs={}), ChatMessage(role=<MessageRole.USER: 'user'>, content='从不同来源获取的参考信息如下:\\n---------------------\\n{context_str}\\n---------------------\\n题目:{query_str}', additional_kwargs={}), ChatMessage(role=<MessageRole.USER: 'user'>, content='选项:\\nA. 公共物品不具有排他性\\nB. 公共物品不具有竞争性\\nC. 消费者都想“免费乘车”\\nD. 以上三种情况都是\\n答案:\\n', additional_kwargs={})])}\n",
      "INFO:httpx:HTTP Request: POST http://gemini2.sufe.edu.cn:27282/v1/chat/completions \"HTTP/1.1 200 OK\"\n",
      "INFO:httpx:HTTP Request: POST http://gemini2.sufe.edu.cn:27282/v1/embeddings \"HTTP/1.1 200 OK\"\n",
      "INFO:httpx:HTTP Request: POST http://gemini2.sufe.edu.cn:27282/v1/chat/completions \"HTTP/1.1 200 OK\"\n"
     ]
    },
    {
     "name": "stderr",
     "output_type": "stream",
     "text": [
      " 45%|████▌     | 18/40 [00:57<00:49,  2.26s/it]"
     ]
    },
    {
     "name": "stdout",
     "output_type": "stream",
     "text": [
      "{'response_synthesizer:summary_template': ChatPromptTemplate(metadata={'prompt_type': <PromptType.CUSTOM: 'custom'>}, template_vars=['context_str', 'query_str'], kwargs={}, output_parser=None, template_var_mappings=None, function_mappings=None, message_templates=[ChatMessage(role=<MessageRole.SYSTEM: 'system'>, content='你是一个中文人工智能助手，以下是中国关于microeconomics考试的单项选择题以及相应的参考内容，请根据参考信息选出其中的正确答案。', additional_kwargs={}), ChatMessage(role=<MessageRole.USER: 'user'>, content='从不同来源获取的参考信息如下:\\n---------------------\\n{context_str}\\n---------------------\\n题目:{query_str}', additional_kwargs={}), ChatMessage(role=<MessageRole.USER: 'user'>, content='选项:\\nA. B用x向A交换y\\nB. B用y向A交换x\\nC. A和B不会交换商品\\nD. 无交换发生\\n答案:\\n', additional_kwargs={})])}\n",
      "INFO:httpx:HTTP Request: POST http://gemini2.sufe.edu.cn:27282/v1/chat/completions \"HTTP/1.1 200 OK\"\n",
      "INFO:httpx:HTTP Request: POST http://gemini2.sufe.edu.cn:27282/v1/embeddings \"HTTP/1.1 200 OK\"\n",
      "INFO:httpx:HTTP Request: POST http://gemini2.sufe.edu.cn:27282/v1/chat/completions \"HTTP/1.1 200 OK\"\n"
     ]
    },
    {
     "name": "stderr",
     "output_type": "stream",
     "text": [
      " 48%|████▊     | 19/40 [01:05<01:22,  3.91s/it]"
     ]
    },
    {
     "name": "stdout",
     "output_type": "stream",
     "text": [
      "{'response_synthesizer:summary_template': ChatPromptTemplate(metadata={'prompt_type': <PromptType.CUSTOM: 'custom'>}, template_vars=['context_str', 'query_str'], kwargs={}, output_parser=None, template_var_mappings=None, function_mappings=None, message_templates=[ChatMessage(role=<MessageRole.SYSTEM: 'system'>, content='你是一个中文人工智能助手，以下是中国关于microeconomics考试的单项选择题以及相应的参考内容，请根据参考信息选出其中的正确答案。', additional_kwargs={}), ChatMessage(role=<MessageRole.USER: 'user'>, content='从不同来源获取的参考信息如下:\\n---------------------\\n{context_str}\\n---------------------\\n题目:{query_str}', additional_kwargs={}), ChatMessage(role=<MessageRole.USER: 'user'>, content='选项:\\nA. 社会边际成本和私人边际成本之差\\nB. 私人边际成本\\nC. 治理污染设备的成本\\nD. 社会边际成本\\n答案:\\n', additional_kwargs={})])}\n",
      "INFO:httpx:HTTP Request: POST http://gemini2.sufe.edu.cn:27282/v1/chat/completions \"HTTP/1.1 200 OK\"\n",
      "INFO:httpx:HTTP Request: POST http://gemini2.sufe.edu.cn:27282/v1/embeddings \"HTTP/1.1 200 OK\"\n",
      "INFO:httpx:HTTP Request: POST http://gemini2.sufe.edu.cn:27282/v1/chat/completions \"HTTP/1.1 200 OK\"\n"
     ]
    },
    {
     "name": "stderr",
     "output_type": "stream",
     "text": [
      " 50%|█████     | 20/40 [01:07<01:10,  3.53s/it]"
     ]
    },
    {
     "name": "stdout",
     "output_type": "stream",
     "text": [
      "{'response_synthesizer:summary_template': ChatPromptTemplate(metadata={'prompt_type': <PromptType.CUSTOM: 'custom'>}, template_vars=['context_str', 'query_str'], kwargs={}, output_parser=None, template_var_mappings=None, function_mappings=None, message_templates=[ChatMessage(role=<MessageRole.SYSTEM: 'system'>, content='你是一个中文人工智能助手，以下是中国关于microeconomics考试的单项选择题以及相应的参考内容，请根据参考信息选出其中的正确答案。', additional_kwargs={}), ChatMessage(role=<MessageRole.USER: 'user'>, content='从不同来源获取的参考信息如下:\\n---------------------\\n{context_str}\\n---------------------\\n题目:{query_str}', additional_kwargs={}), ChatMessage(role=<MessageRole.USER: 'user'>, content='选项:\\nA. 一家公司设法增加在自己所有的财产上收取租金\\nB. 公司投入资源去劝说政府阻止新公司进入它的行业\\nC. 政府设法找出一家公司垄断租金的大小\\nD. 政府设法剥夺一家公司的垄断租金\\n答案:\\n', additional_kwargs={})])}\n",
      "INFO:httpx:HTTP Request: POST http://gemini2.sufe.edu.cn:27282/v1/chat/completions \"HTTP/1.1 200 OK\"\n",
      "INFO:httpx:HTTP Request: POST http://gemini2.sufe.edu.cn:27282/v1/embeddings \"HTTP/1.1 200 OK\"\n",
      "INFO:httpx:HTTP Request: POST http://gemini2.sufe.edu.cn:27282/v1/chat/completions \"HTTP/1.1 200 OK\"\n"
     ]
    },
    {
     "name": "stderr",
     "output_type": "stream",
     "text": [
      " 52%|█████▎    | 21/40 [01:09<00:57,  3.04s/it]"
     ]
    },
    {
     "name": "stdout",
     "output_type": "stream",
     "text": [
      "{'response_synthesizer:summary_template': ChatPromptTemplate(metadata={'prompt_type': <PromptType.CUSTOM: 'custom'>}, template_vars=['context_str', 'query_str'], kwargs={}, output_parser=None, template_var_mappings=None, function_mappings=None, message_templates=[ChatMessage(role=<MessageRole.SYSTEM: 'system'>, content='你是一个中文人工智能助手，以下是中国关于microeconomics考试的单项选择题以及相应的参考内容，请根据参考信息选出其中的正确答案。', additional_kwargs={}), ChatMessage(role=<MessageRole.USER: 'user'>, content='从不同来源获取的参考信息如下:\\n---------------------\\n{context_str}\\n---------------------\\n题目:{query_str}', additional_kwargs={}), ChatMessage(role=<MessageRole.USER: 'user'>, content='选项:\\nA. 价格竞争的市场\\nB. 产量竞争的市场\\nC. 产量领导的市场\\nD. 价格领导的市场\\n答案:\\n', additional_kwargs={})])}\n",
      "INFO:httpx:HTTP Request: POST http://gemini2.sufe.edu.cn:27282/v1/chat/completions \"HTTP/1.1 200 OK\"\n",
      "INFO:httpx:HTTP Request: POST http://gemini2.sufe.edu.cn:27282/v1/embeddings \"HTTP/1.1 200 OK\"\n",
      "INFO:httpx:HTTP Request: POST http://gemini2.sufe.edu.cn:27282/v1/chat/completions \"HTTP/1.1 200 OK\"\n"
     ]
    },
    {
     "name": "stderr",
     "output_type": "stream",
     "text": [
      " 55%|█████▌    | 22/40 [01:11<00:46,  2.61s/it]"
     ]
    },
    {
     "name": "stdout",
     "output_type": "stream",
     "text": [
      "{'response_synthesizer:summary_template': ChatPromptTemplate(metadata={'prompt_type': <PromptType.CUSTOM: 'custom'>}, template_vars=['context_str', 'query_str'], kwargs={}, output_parser=None, template_var_mappings=None, function_mappings=None, message_templates=[ChatMessage(role=<MessageRole.SYSTEM: 'system'>, content='你是一个中文人工智能助手，以下是中国关于microeconomics考试的单项选择题以及相应的参考内容，请根据参考信息选出其中的正确答案。', additional_kwargs={}), ChatMessage(role=<MessageRole.USER: 'user'>, content='从不同来源获取的参考信息如下:\\n---------------------\\n{context_str}\\n---------------------\\n题目:{query_str}', additional_kwargs={}), ChatMessage(role=<MessageRole.USER: 'user'>, content='选项:\\nA. 双方都独立依照自身利益行动，结果陷入最不利的局面\\nB. 双方都独立依照自身利益行事，导致最好的选择\\nC. 双方进行合作，得到了最好的结果\\nD. 双方进行合作，得到了次优的结果\\n答案:\\n', additional_kwargs={})])}\n",
      "INFO:httpx:HTTP Request: POST http://gemini2.sufe.edu.cn:27282/v1/chat/completions \"HTTP/1.1 200 OK\"\n",
      "INFO:httpx:HTTP Request: POST http://gemini2.sufe.edu.cn:27282/v1/embeddings \"HTTP/1.1 200 OK\"\n",
      "INFO:httpx:HTTP Request: POST http://gemini2.sufe.edu.cn:27282/v1/chat/completions \"HTTP/1.1 200 OK\"\n"
     ]
    },
    {
     "name": "stderr",
     "output_type": "stream",
     "text": [
      " 57%|█████▊    | 23/40 [01:13<00:41,  2.46s/it]"
     ]
    },
    {
     "name": "stdout",
     "output_type": "stream",
     "text": [
      "{'response_synthesizer:summary_template': ChatPromptTemplate(metadata={'prompt_type': <PromptType.CUSTOM: 'custom'>}, template_vars=['context_str', 'query_str'], kwargs={}, output_parser=None, template_var_mappings=None, function_mappings=None, message_templates=[ChatMessage(role=<MessageRole.SYSTEM: 'system'>, content='你是一个中文人工智能助手，以下是中国关于microeconomics考试的单项选择题以及相应的参考内容，请根据参考信息选出其中的正确答案。', additional_kwargs={}), ChatMessage(role=<MessageRole.USER: 'user'>, content='从不同来源获取的参考信息如下:\\n---------------------\\n{context_str}\\n---------------------\\n题目:{query_str}', additional_kwargs={}), ChatMessage(role=<MessageRole.USER: 'user'>, content='选项:\\nA. 一级价格差别\\nB. 二级价格差别\\nC. 三级价格差别\\nD. 混合价格差别\\n答案:\\n', additional_kwargs={})])}\n",
      "INFO:httpx:HTTP Request: POST http://gemini2.sufe.edu.cn:27282/v1/chat/completions \"HTTP/1.1 200 OK\"\n",
      "INFO:httpx:HTTP Request: POST http://gemini2.sufe.edu.cn:27282/v1/embeddings \"HTTP/1.1 200 OK\"\n",
      "INFO:httpx:HTTP Request: POST http://gemini2.sufe.edu.cn:27282/v1/chat/completions \"HTTP/1.1 200 OK\"\n"
     ]
    },
    {
     "name": "stderr",
     "output_type": "stream",
     "text": [
      " 60%|██████    | 24/40 [01:16<00:41,  2.61s/it]"
     ]
    },
    {
     "name": "stdout",
     "output_type": "stream",
     "text": [
      "{'response_synthesizer:summary_template': ChatPromptTemplate(metadata={'prompt_type': <PromptType.CUSTOM: 'custom'>}, template_vars=['context_str', 'query_str'], kwargs={}, output_parser=None, template_var_mappings=None, function_mappings=None, message_templates=[ChatMessage(role=<MessageRole.SYSTEM: 'system'>, content='你是一个中文人工智能助手，以下是中国关于microeconomics考试的单项选择题以及相应的参考内容，请根据参考信息选出其中的正确答案。', additional_kwargs={}), ChatMessage(role=<MessageRole.USER: 'user'>, content='从不同来源获取的参考信息如下:\\n---------------------\\n{context_str}\\n---------------------\\n题目:{query_str}', additional_kwargs={}), ChatMessage(role=<MessageRole.USER: 'user'>, content='选项:\\nA. 生产中使用的要素供给曲线是垂直的\\nB. 行业的长期供给曲线有一正的斜率\\nC. 行业的长期供给曲线有一负的斜率\\nD. 短期平均成本曲线不是U型的\\n答案:\\n', additional_kwargs={})])}\n",
      "INFO:httpx:HTTP Request: POST http://gemini2.sufe.edu.cn:27282/v1/chat/completions \"HTTP/1.1 200 OK\"\n",
      "INFO:httpx:HTTP Request: POST http://gemini2.sufe.edu.cn:27282/v1/embeddings \"HTTP/1.1 200 OK\"\n",
      "INFO:httpx:HTTP Request: POST http://gemini2.sufe.edu.cn:27282/v1/chat/completions \"HTTP/1.1 200 OK\"\n"
     ]
    },
    {
     "name": "stderr",
     "output_type": "stream",
     "text": [
      " 62%|██████▎   | 25/40 [01:23<00:58,  3.91s/it]"
     ]
    },
    {
     "name": "stdout",
     "output_type": "stream",
     "text": [
      "{'response_synthesizer:summary_template': ChatPromptTemplate(metadata={'prompt_type': <PromptType.CUSTOM: 'custom'>}, template_vars=['context_str', 'query_str'], kwargs={}, output_parser=None, template_var_mappings=None, function_mappings=None, message_templates=[ChatMessage(role=<MessageRole.SYSTEM: 'system'>, content='你是一个中文人工智能助手，以下是中国关于microeconomics考试的单项选择题以及相应的参考内容，请根据参考信息选出其中的正确答案。', additional_kwargs={}), ChatMessage(role=<MessageRole.USER: 'user'>, content='从不同来源获取的参考信息如下:\\n---------------------\\n{context_str}\\n---------------------\\n题目:{query_str}', additional_kwargs={}), ChatMessage(role=<MessageRole.USER: 'user'>, content='选项:\\nA. 使总亏损最小\\nB. 使总亏损最小\\nC. 使总亏损最小，或使总盈利最大\\nD. 以上都不正确\\n答案:\\n', additional_kwargs={})])}\n",
      "INFO:httpx:HTTP Request: POST http://gemini2.sufe.edu.cn:27282/v1/chat/completions \"HTTP/1.1 200 OK\"\n",
      "INFO:httpx:HTTP Request: POST http://gemini2.sufe.edu.cn:27282/v1/embeddings \"HTTP/1.1 200 OK\"\n",
      "INFO:httpx:HTTP Request: POST http://gemini2.sufe.edu.cn:27282/v1/chat/completions \"HTTP/1.1 200 OK\"\n"
     ]
    },
    {
     "name": "stderr",
     "output_type": "stream",
     "text": [
      " 65%|██████▌   | 26/40 [01:25<00:46,  3.32s/it]"
     ]
    },
    {
     "name": "stdout",
     "output_type": "stream",
     "text": [
      "{'response_synthesizer:summary_template': ChatPromptTemplate(metadata={'prompt_type': <PromptType.CUSTOM: 'custom'>}, template_vars=['context_str', 'query_str'], kwargs={}, output_parser=None, template_var_mappings=None, function_mappings=None, message_templates=[ChatMessage(role=<MessageRole.SYSTEM: 'system'>, content='你是一个中文人工智能助手，以下是中国关于microeconomics考试的单项选择题以及相应的参考内容，请根据参考信息选出其中的正确答案。', additional_kwargs={}), ChatMessage(role=<MessageRole.USER: 'user'>, content='从不同来源获取的参考信息如下:\\n---------------------\\n{context_str}\\n---------------------\\n题目:{query_str}', additional_kwargs={}), ChatMessage(role=<MessageRole.USER: 'user'>, content='选项:\\nA. SAC曲线最低点的轨迹\\nB. SMC曲线最低点的轨迹\\nC. LAC曲线最低点的轨迹\\nD. LMC曲线最低点的轨迹\\n答案:\\n', additional_kwargs={})])}\n",
      "INFO:httpx:HTTP Request: POST http://gemini2.sufe.edu.cn:27282/v1/chat/completions \"HTTP/1.1 200 OK\"\n",
      "INFO:httpx:HTTP Request: POST http://gemini2.sufe.edu.cn:27282/v1/embeddings \"HTTP/1.1 200 OK\"\n",
      "INFO:httpx:HTTP Request: POST http://gemini2.sufe.edu.cn:27282/v1/chat/completions \"HTTP/1.1 200 OK\"\n"
     ]
    },
    {
     "name": "stderr",
     "output_type": "stream",
     "text": [
      " 68%|██████▊   | 27/40 [01:28<00:43,  3.34s/it]"
     ]
    },
    {
     "name": "stdout",
     "output_type": "stream",
     "text": [
      "{'response_synthesizer:summary_template': ChatPromptTemplate(metadata={'prompt_type': <PromptType.CUSTOM: 'custom'>}, template_vars=['context_str', 'query_str'], kwargs={}, output_parser=None, template_var_mappings=None, function_mappings=None, message_templates=[ChatMessage(role=<MessageRole.SYSTEM: 'system'>, content='你是一个中文人工智能助手，以下是中国关于microeconomics考试的单项选择题以及相应的参考内容，请根据参考信息选出其中的正确答案。', additional_kwargs={}), ChatMessage(role=<MessageRole.USER: 'user'>, content='从不同来源获取的参考信息如下:\\n---------------------\\n{context_str}\\n---------------------\\n题目:{query_str}', additional_kwargs={}), ChatMessage(role=<MessageRole.USER: 'user'>, content='选项:\\nA. 采用完全相同的生产工艺\\nB. 具有同一最低平均的成本\\nC. 都能获得经济利润\\nD. 以上全对\\n答案:\\n', additional_kwargs={})])}\n",
      "INFO:httpx:HTTP Request: POST http://gemini2.sufe.edu.cn:27282/v1/chat/completions \"HTTP/1.1 200 OK\"\n",
      "INFO:httpx:HTTP Request: POST http://gemini2.sufe.edu.cn:27282/v1/embeddings \"HTTP/1.1 200 OK\"\n",
      "INFO:httpx:HTTP Request: POST http://gemini2.sufe.edu.cn:27282/v1/chat/completions \"HTTP/1.1 200 OK\"\n"
     ]
    },
    {
     "name": "stderr",
     "output_type": "stream",
     "text": [
      " 70%|███████   | 28/40 [01:30<00:34,  2.87s/it]"
     ]
    },
    {
     "name": "stdout",
     "output_type": "stream",
     "text": [
      "{'response_synthesizer:summary_template': ChatPromptTemplate(metadata={'prompt_type': <PromptType.CUSTOM: 'custom'>}, template_vars=['context_str', 'query_str'], kwargs={}, output_parser=None, template_var_mappings=None, function_mappings=None, message_templates=[ChatMessage(role=<MessageRole.SYSTEM: 'system'>, content='你是一个中文人工智能助手，以下是中国关于microeconomics考试的单项选择题以及相应的参考内容，请根据参考信息选出其中的正确答案。', additional_kwargs={}), ChatMessage(role=<MessageRole.USER: 'user'>, content='从不同来源获取的参考信息如下:\\n---------------------\\n{context_str}\\n---------------------\\n题目:{query_str}', additional_kwargs={}), ChatMessage(role=<MessageRole.USER: 'user'>, content='选项:\\nA. 在长期边际成本曲线下降时，长期总成本曲线以越来越快的速度上升\\nB. 在长期边际成本曲线下降时，长期总成本曲线以以越来越慢的速度上升\\nC. 在长期边际成本曲线上升时，长期总成本曲线以越来越慢的速度上升\\nD. 以上均不正确\\n答案:\\n', additional_kwargs={})])}\n",
      "INFO:httpx:HTTP Request: POST http://gemini2.sufe.edu.cn:27282/v1/chat/completions \"HTTP/1.1 200 OK\"\n",
      "INFO:httpx:HTTP Request: POST http://gemini2.sufe.edu.cn:27282/v1/embeddings \"HTTP/1.1 200 OK\"\n",
      "INFO:httpx:HTTP Request: POST http://gemini2.sufe.edu.cn:27282/v1/chat/completions \"HTTP/1.1 200 OK\"\n"
     ]
    },
    {
     "name": "stderr",
     "output_type": "stream",
     "text": [
      " 72%|███████▎  | 29/40 [01:34<00:34,  3.14s/it]"
     ]
    },
    {
     "name": "stdout",
     "output_type": "stream",
     "text": [
      "{'response_synthesizer:summary_template': ChatPromptTemplate(metadata={'prompt_type': <PromptType.CUSTOM: 'custom'>}, template_vars=['context_str', 'query_str'], kwargs={}, output_parser=None, template_var_mappings=None, function_mappings=None, message_templates=[ChatMessage(role=<MessageRole.SYSTEM: 'system'>, content='你是一个中文人工智能助手，以下是中国关于microeconomics考试的单项选择题以及相应的参考内容，请根据参考信息选出其中的正确答案。', additional_kwargs={}), ChatMessage(role=<MessageRole.USER: 'user'>, content='从不同来源获取的参考信息如下:\\n---------------------\\n{context_str}\\n---------------------\\n题目:{query_str}', additional_kwargs={}), ChatMessage(role=<MessageRole.USER: 'user'>, content='选项:\\nA. 减少\\nB. 增加\\nC. 不变\\nD. 无法判断\\n答案:\\n', additional_kwargs={})])}\n",
      "INFO:httpx:HTTP Request: POST http://gemini2.sufe.edu.cn:27282/v1/chat/completions \"HTTP/1.1 200 OK\"\n",
      "INFO:httpx:HTTP Request: POST http://gemini2.sufe.edu.cn:27282/v1/embeddings \"HTTP/1.1 200 OK\"\n",
      "INFO:httpx:HTTP Request: POST http://gemini2.sufe.edu.cn:27282/v1/chat/completions \"HTTP/1.1 200 OK\"\n"
     ]
    },
    {
     "name": "stderr",
     "output_type": "stream",
     "text": [
      " 75%|███████▌  | 30/40 [01:36<00:28,  2.90s/it]"
     ]
    },
    {
     "name": "stdout",
     "output_type": "stream",
     "text": [
      "{'response_synthesizer:summary_template': ChatPromptTemplate(metadata={'prompt_type': <PromptType.CUSTOM: 'custom'>}, template_vars=['context_str', 'query_str'], kwargs={}, output_parser=None, template_var_mappings=None, function_mappings=None, message_templates=[ChatMessage(role=<MessageRole.SYSTEM: 'system'>, content='你是一个中文人工智能助手，以下是中国关于microeconomics考试的单项选择题以及相应的参考内容，请根据参考信息选出其中的正确答案。', additional_kwargs={}), ChatMessage(role=<MessageRole.USER: 'user'>, content='从不同来源获取的参考信息如下:\\n---------------------\\n{context_str}\\n---------------------\\n题目:{query_str}', additional_kwargs={}), ChatMessage(role=<MessageRole.USER: 'user'>, content='选项:\\nA. 不断上升\\nB. 不断下降\\nC. 先上升后下降\\nD. 先下降后上升\\n答案:\\n', additional_kwargs={})])}\n",
      "INFO:httpx:HTTP Request: POST http://gemini2.sufe.edu.cn:27282/v1/chat/completions \"HTTP/1.1 200 OK\"\n",
      "INFO:httpx:HTTP Request: POST http://gemini2.sufe.edu.cn:27282/v1/embeddings \"HTTP/1.1 200 OK\"\n",
      "INFO:httpx:HTTP Request: POST http://gemini2.sufe.edu.cn:27282/v1/chat/completions \"HTTP/1.1 200 OK\"\n"
     ]
    },
    {
     "name": "stderr",
     "output_type": "stream",
     "text": [
      " 78%|███████▊  | 31/40 [01:38<00:23,  2.59s/it]"
     ]
    },
    {
     "name": "stdout",
     "output_type": "stream",
     "text": [
      "{'response_synthesizer:summary_template': ChatPromptTemplate(metadata={'prompt_type': <PromptType.CUSTOM: 'custom'>}, template_vars=['context_str', 'query_str'], kwargs={}, output_parser=None, template_var_mappings=None, function_mappings=None, message_templates=[ChatMessage(role=<MessageRole.SYSTEM: 'system'>, content='你是一个中文人工智能助手，以下是中国关于microeconomics考试的单项选择题以及相应的参考内容，请根据参考信息选出其中的正确答案。', additional_kwargs={}), ChatMessage(role=<MessageRole.USER: 'user'>, content='从不同来源获取的参考信息如下:\\n---------------------\\n{context_str}\\n---------------------\\n题目:{query_str}', additional_kwargs={}), ChatMessage(role=<MessageRole.USER: 'user'>, content='选项:\\nA. 与纵轴相交\\nB. 经过原点\\nC. 与平均产量曲线相交\\nD. 与横轴相交\\n答案:\\n', additional_kwargs={})])}\n",
      "INFO:httpx:HTTP Request: POST http://gemini2.sufe.edu.cn:27282/v1/chat/completions \"HTTP/1.1 200 OK\"\n",
      "INFO:httpx:HTTP Request: POST http://gemini2.sufe.edu.cn:27282/v1/embeddings \"HTTP/1.1 200 OK\"\n",
      "INFO:httpx:HTTP Request: POST http://gemini2.sufe.edu.cn:27282/v1/chat/completions \"HTTP/1.1 200 OK\"\n"
     ]
    },
    {
     "name": "stderr",
     "output_type": "stream",
     "text": [
      " 80%|████████  | 32/40 [01:42<00:23,  2.92s/it]"
     ]
    },
    {
     "name": "stdout",
     "output_type": "stream",
     "text": [
      "{'response_synthesizer:summary_template': ChatPromptTemplate(metadata={'prompt_type': <PromptType.CUSTOM: 'custom'>}, template_vars=['context_str', 'query_str'], kwargs={}, output_parser=None, template_var_mappings=None, function_mappings=None, message_templates=[ChatMessage(role=<MessageRole.SYSTEM: 'system'>, content='你是一个中文人工智能助手，以下是中国关于microeconomics考试的单项选择题以及相应的参考内容，请根据参考信息选出其中的正确答案。', additional_kwargs={}), ChatMessage(role=<MessageRole.USER: 'user'>, content='从不同来源获取的参考信息如下:\\n---------------------\\n{context_str}\\n---------------------\\n题目:{query_str}', additional_kwargs={}), ChatMessage(role=<MessageRole.USER: 'user'>, content='选项:\\nA. 增加\\nB. 减少\\nC. 不变\\nD. 无法确定\\n答案:\\n', additional_kwargs={})])}\n",
      "INFO:httpx:HTTP Request: POST http://gemini2.sufe.edu.cn:27282/v1/chat/completions \"HTTP/1.1 200 OK\"\n",
      "INFO:httpx:HTTP Request: POST http://gemini2.sufe.edu.cn:27282/v1/embeddings \"HTTP/1.1 200 OK\"\n",
      "INFO:httpx:HTTP Request: POST http://gemini2.sufe.edu.cn:27282/v1/chat/completions \"HTTP/1.1 200 OK\"\n"
     ]
    },
    {
     "name": "stderr",
     "output_type": "stream",
     "text": [
      " 82%|████████▎ | 33/40 [01:44<00:18,  2.63s/it]"
     ]
    },
    {
     "name": "stdout",
     "output_type": "stream",
     "text": [
      "{'response_synthesizer:summary_template': ChatPromptTemplate(metadata={'prompt_type': <PromptType.CUSTOM: 'custom'>}, template_vars=['context_str', 'query_str'], kwargs={}, output_parser=None, template_var_mappings=None, function_mappings=None, message_templates=[ChatMessage(role=<MessageRole.SYSTEM: 'system'>, content='你是一个中文人工智能助手，以下是中国关于microeconomics考试的单项选择题以及相应的参考内容，请根据参考信息选出其中的正确答案。', additional_kwargs={}), ChatMessage(role=<MessageRole.USER: 'user'>, content='从不同来源获取的参考信息如下:\\n---------------------\\n{context_str}\\n---------------------\\n题目:{query_str}', additional_kwargs={}), ChatMessage(role=<MessageRole.USER: 'user'>, content='选项:\\nA. 消费者的荔枝对苹果的边际替代率相等\\nB. 荔枝对苹果的边际替代率，济南消费者要大于广东消费者\\nC. 苹果对荔枝的边际替代率，济南消费者要大于广东消费者\\nD. 无法确定\\n答案:\\n', additional_kwargs={})])}\n",
      "INFO:httpx:HTTP Request: POST http://gemini2.sufe.edu.cn:27282/v1/chat/completions \"HTTP/1.1 200 OK\"\n",
      "INFO:httpx:HTTP Request: POST http://gemini2.sufe.edu.cn:27282/v1/embeddings \"HTTP/1.1 200 OK\"\n",
      "INFO:httpx:HTTP Request: POST http://gemini2.sufe.edu.cn:27282/v1/chat/completions \"HTTP/1.1 200 OK\"\n"
     ]
    },
    {
     "name": "stderr",
     "output_type": "stream",
     "text": [
      " 85%|████████▌ | 34/40 [01:52<00:25,  4.31s/it]"
     ]
    },
    {
     "name": "stdout",
     "output_type": "stream",
     "text": [
      "{'response_synthesizer:summary_template': ChatPromptTemplate(metadata={'prompt_type': <PromptType.CUSTOM: 'custom'>}, template_vars=['context_str', 'query_str'], kwargs={}, output_parser=None, template_var_mappings=None, function_mappings=None, message_templates=[ChatMessage(role=<MessageRole.SYSTEM: 'system'>, content='你是一个中文人工智能助手，以下是中国关于microeconomics考试的单项选择题以及相应的参考内容，请根据参考信息选出其中的正确答案。', additional_kwargs={}), ChatMessage(role=<MessageRole.USER: 'user'>, content='从不同来源获取的参考信息如下:\\n---------------------\\n{context_str}\\n---------------------\\n题目:{query_str}', additional_kwargs={}), ChatMessage(role=<MessageRole.USER: 'user'>, content='选项:\\nA. 吉芬商品\\nB. 低档商品\\nC. 正常商品\\nD. 生活必需品\\n答案:\\n', additional_kwargs={})])}\n",
      "INFO:httpx:HTTP Request: POST http://gemini2.sufe.edu.cn:27282/v1/chat/completions \"HTTP/1.1 200 OK\"\n",
      "INFO:httpx:HTTP Request: POST http://gemini2.sufe.edu.cn:27282/v1/embeddings \"HTTP/1.1 200 OK\"\n",
      "INFO:httpx:HTTP Request: POST http://gemini2.sufe.edu.cn:27282/v1/chat/completions \"HTTP/1.1 200 OK\"\n"
     ]
    },
    {
     "name": "stderr",
     "output_type": "stream",
     "text": [
      " 88%|████████▊ | 35/40 [01:54<00:18,  3.68s/it]"
     ]
    },
    {
     "name": "stdout",
     "output_type": "stream",
     "text": [
      "{'response_synthesizer:summary_template': ChatPromptTemplate(metadata={'prompt_type': <PromptType.CUSTOM: 'custom'>}, template_vars=['context_str', 'query_str'], kwargs={}, output_parser=None, template_var_mappings=None, function_mappings=None, message_templates=[ChatMessage(role=<MessageRole.SYSTEM: 'system'>, content='你是一个中文人工智能助手，以下是中国关于microeconomics考试的单项选择题以及相应的参考内容，请根据参考信息选出其中的正确答案。', additional_kwargs={}), ChatMessage(role=<MessageRole.USER: 'user'>, content='从不同来源获取的参考信息如下:\\n---------------------\\n{context_str}\\n---------------------\\n题目:{query_str}', additional_kwargs={}), ChatMessage(role=<MessageRole.USER: 'user'>, content='选项:\\nA. 商品Y\\nB. 商品X\\nC. 商品X和Y\\nD. 以上都不正确\\n答案:\\n', additional_kwargs={})])}\n",
      "INFO:httpx:HTTP Request: POST http://gemini2.sufe.edu.cn:27282/v1/chat/completions \"HTTP/1.1 200 OK\"\n",
      "INFO:httpx:HTTP Request: POST http://gemini2.sufe.edu.cn:27282/v1/embeddings \"HTTP/1.1 200 OK\"\n",
      "INFO:httpx:HTTP Request: POST http://gemini2.sufe.edu.cn:27282/v1/chat/completions \"HTTP/1.1 200 OK\"\n"
     ]
    },
    {
     "name": "stderr",
     "output_type": "stream",
     "text": [
      " 90%|█████████ | 36/40 [01:56<00:13,  3.27s/it]"
     ]
    },
    {
     "name": "stdout",
     "output_type": "stream",
     "text": [
      "{'response_synthesizer:summary_template': ChatPromptTemplate(metadata={'prompt_type': <PromptType.CUSTOM: 'custom'>}, template_vars=['context_str', 'query_str'], kwargs={}, output_parser=None, template_var_mappings=None, function_mappings=None, message_templates=[ChatMessage(role=<MessageRole.SYSTEM: 'system'>, content='你是一个中文人工智能助手，以下是中国关于microeconomics考试的单项选择题以及相应的参考内容，请根据参考信息选出其中的正确答案。', additional_kwargs={}), ChatMessage(role=<MessageRole.USER: 'user'>, content='从不同来源获取的参考信息如下:\\n---------------------\\n{context_str}\\n---------------------\\n题目:{query_str}', additional_kwargs={}), ChatMessage(role=<MessageRole.USER: 'user'>, content='选项:\\nA. 增加税收\\nB. 实行农产品的配给制\\nC. 收购过剩的农产品\\nD. 对农民补贴\\n答案:\\n', additional_kwargs={})])}\n",
      "INFO:httpx:HTTP Request: POST http://gemini2.sufe.edu.cn:27282/v1/chat/completions \"HTTP/1.1 200 OK\"\n",
      "INFO:httpx:HTTP Request: POST http://gemini2.sufe.edu.cn:27282/v1/embeddings \"HTTP/1.1 200 OK\"\n",
      "INFO:httpx:HTTP Request: POST http://gemini2.sufe.edu.cn:27282/v1/chat/completions \"HTTP/1.1 200 OK\"\n"
     ]
    },
    {
     "name": "stderr",
     "output_type": "stream",
     "text": [
      " 92%|█████████▎| 37/40 [01:59<00:08,  2.94s/it]"
     ]
    },
    {
     "name": "stdout",
     "output_type": "stream",
     "text": [
      "{'response_synthesizer:summary_template': ChatPromptTemplate(metadata={'prompt_type': <PromptType.CUSTOM: 'custom'>}, template_vars=['context_str', 'query_str'], kwargs={}, output_parser=None, template_var_mappings=None, function_mappings=None, message_templates=[ChatMessage(role=<MessageRole.SYSTEM: 'system'>, content='你是一个中文人工智能助手，以下是中国关于microeconomics考试的单项选择题以及相应的参考内容，请根据参考信息选出其中的正确答案。', additional_kwargs={}), ChatMessage(role=<MessageRole.USER: 'user'>, content='从不同来源获取的参考信息如下:\\n---------------------\\n{context_str}\\n---------------------\\n题目:{query_str}', additional_kwargs={}), ChatMessage(role=<MessageRole.USER: 'user'>, content='选项:\\nA. 药品价格上升，使得药品质量得到改善\\nB. 汽油价格的提高，小汽车的销量减少\\nC. 照相机价格的下降导致其销量的增加\\nD. 牛肉价格提高导致羊肉的销量增加\\n答案:\\n', additional_kwargs={})])}\n",
      "INFO:httpx:HTTP Request: POST http://gemini2.sufe.edu.cn:27282/v1/chat/completions \"HTTP/1.1 200 OK\"\n",
      "INFO:httpx:HTTP Request: POST http://gemini2.sufe.edu.cn:27282/v1/embeddings \"HTTP/1.1 200 OK\"\n",
      "INFO:httpx:HTTP Request: POST http://gemini2.sufe.edu.cn:27282/v1/chat/completions \"HTTP/1.1 200 OK\"\n"
     ]
    },
    {
     "name": "stderr",
     "output_type": "stream",
     "text": [
      " 95%|█████████▌| 38/40 [02:01<00:05,  2.66s/it]"
     ]
    },
    {
     "name": "stdout",
     "output_type": "stream",
     "text": [
      "{'response_synthesizer:summary_template': ChatPromptTemplate(metadata={'prompt_type': <PromptType.CUSTOM: 'custom'>}, template_vars=['context_str', 'query_str'], kwargs={}, output_parser=None, template_var_mappings=None, function_mappings=None, message_templates=[ChatMessage(role=<MessageRole.SYSTEM: 'system'>, content='你是一个中文人工智能助手，以下是中国关于microeconomics考试的单项选择题以及相应的参考内容，请根据参考信息选出其中的正确答案。', additional_kwargs={}), ChatMessage(role=<MessageRole.USER: 'user'>, content='从不同来源获取的参考信息如下:\\n---------------------\\n{context_str}\\n---------------------\\n题目:{query_str}', additional_kwargs={}), ChatMessage(role=<MessageRole.USER: 'user'>, content='选项:\\nA. 双方在每一期都选择“坦白”\\nB. 双方在每一期都选择“抵赖”\\nC. 双方在前$N-1$期都选择“坦白”，在最后一期都选择“抵赖”\\nD. 双方在前$N-1$期都选择“抵赖”，在最后一期都选择“坦白”\\n答案:\\n', additional_kwargs={})])}\n",
      "INFO:httpx:HTTP Request: POST http://gemini2.sufe.edu.cn:27282/v1/chat/completions \"HTTP/1.1 200 OK\"\n",
      "INFO:httpx:HTTP Request: POST http://gemini2.sufe.edu.cn:27282/v1/embeddings \"HTTP/1.1 200 OK\"\n",
      "INFO:httpx:HTTP Request: POST http://gemini2.sufe.edu.cn:27282/v1/chat/completions \"HTTP/1.1 200 OK\"\n"
     ]
    },
    {
     "name": "stderr",
     "output_type": "stream",
     "text": [
      " 98%|█████████▊| 39/40 [02:14<00:05,  5.77s/it]"
     ]
    },
    {
     "name": "stdout",
     "output_type": "stream",
     "text": [
      "{'response_synthesizer:summary_template': ChatPromptTemplate(metadata={'prompt_type': <PromptType.CUSTOM: 'custom'>}, template_vars=['context_str', 'query_str'], kwargs={}, output_parser=None, template_var_mappings=None, function_mappings=None, message_templates=[ChatMessage(role=<MessageRole.SYSTEM: 'system'>, content='你是一个中文人工智能助手，以下是中国关于microeconomics考试的单项选择题以及相应的参考内容，请根据参考信息选出其中的正确答案。', additional_kwargs={}), ChatMessage(role=<MessageRole.USER: 'user'>, content='从不同来源获取的参考信息如下:\\n---------------------\\n{context_str}\\n---------------------\\n题目:{query_str}', additional_kwargs={}), ChatMessage(role=<MessageRole.USER: 'user'>, content='选项:\\nA. 收益\\nB. 支付\\nC. 决策\\nD. 利润\\n答案:\\n', additional_kwargs={})])}\n",
      "INFO:httpx:HTTP Request: POST http://gemini2.sufe.edu.cn:27282/v1/chat/completions \"HTTP/1.1 200 OK\"\n",
      "INFO:httpx:HTTP Request: POST http://gemini2.sufe.edu.cn:27282/v1/embeddings \"HTTP/1.1 200 OK\"\n",
      "INFO:httpx:HTTP Request: POST http://gemini2.sufe.edu.cn:27282/v1/chat/completions \"HTTP/1.1 200 OK\"\n"
     ]
    },
    {
     "name": "stderr",
     "output_type": "stream",
     "text": [
      "100%|██████████| 40/40 [02:16<00:00,  3.40s/it]\n"
     ]
    },
    {
     "name": "stdout",
     "output_type": "stream",
     "text": [
      "Subject: microeconomics\n",
      "Acc: 32.5\n",
      "Accuracy:\n",
      "microeconomics :  32.5\n",
      "--------------------------------------------------------------------------------\n",
      "Accuracy_subject:\n",
      "microeconomics :  32.5\n",
      "--------------------------------------------------------------------------------\n",
      "Accuracy_grouped:\n",
      "Economy :  0.325\n",
      "Avg: \n",
      "0.325\n",
      "############# nodes group: size_512_overlap_128 ###############\n",
      "0.0 Inference starts at 2024-04-11_23-38-59 on chatglm with subject of microeconomics!\n"
     ]
    },
    {
     "name": "stderr",
     "output_type": "stream",
     "text": [
      "  0%|          | 0/40 [00:00<?, ?it/s]"
     ]
    },
    {
     "name": "stdout",
     "output_type": "stream",
     "text": [
      "{'response_synthesizer:summary_template': ChatPromptTemplate(metadata={'prompt_type': <PromptType.CUSTOM: 'custom'>}, template_vars=['context_str', 'query_str'], kwargs={}, output_parser=None, template_var_mappings=None, function_mappings=None, message_templates=[ChatMessage(role=<MessageRole.SYSTEM: 'system'>, content='你是一个中文人工智能助手，以下是中国关于microeconomics考试的单项选择题以及相应的参考内容，请根据参考信息选出其中的正确答案。', additional_kwargs={}), ChatMessage(role=<MessageRole.USER: 'user'>, content='从不同来源获取的参考信息如下:\\n---------------------\\n{context_str}\\n---------------------\\n题目:{query_str}', additional_kwargs={}), ChatMessage(role=<MessageRole.USER: 'user'>, content='选项:\\nA. 平均总成本小于100\\nB. 平均固定成本小于100\\nC. 边际产量增加\\nD. 平均可变成本小于100\\n答案:\\n', additional_kwargs={})])}\n",
      "INFO:httpx:HTTP Request: POST http://gemini2.sufe.edu.cn:27282/v1/chat/completions \"HTTP/1.1 200 OK\"\n",
      "INFO:httpx:HTTP Request: POST http://gemini2.sufe.edu.cn:27282/v1/embeddings \"HTTP/1.1 200 OK\"\n",
      "INFO:httpx:HTTP Request: POST http://gemini2.sufe.edu.cn:27282/v1/chat/completions \"HTTP/1.1 200 OK\"\n"
     ]
    },
    {
     "name": "stderr",
     "output_type": "stream",
     "text": [
      "  2%|▎         | 1/40 [00:03<02:25,  3.72s/it]"
     ]
    },
    {
     "name": "stdout",
     "output_type": "stream",
     "text": [
      "{'response_synthesizer:summary_template': ChatPromptTemplate(metadata={'prompt_type': <PromptType.CUSTOM: 'custom'>}, template_vars=['context_str', 'query_str'], kwargs={}, output_parser=None, template_var_mappings=None, function_mappings=None, message_templates=[ChatMessage(role=<MessageRole.SYSTEM: 'system'>, content='你是一个中文人工智能助手，以下是中国关于microeconomics考试的单项选择题以及相应的参考内容，请根据参考信息选出其中的正确答案。', additional_kwargs={}), ChatMessage(role=<MessageRole.USER: 'user'>, content='从不同来源获取的参考信息如下:\\n---------------------\\n{context_str}\\n---------------------\\n题目:{query_str}', additional_kwargs={}), ChatMessage(role=<MessageRole.USER: 'user'>, content='选项:\\nA. 固定不变\\nB. 经常变动\\nC. 等于1\\nD. 等于0\\n答案:\\n', additional_kwargs={})])}\n",
      "INFO:httpx:HTTP Request: POST http://gemini2.sufe.edu.cn:27282/v1/chat/completions \"HTTP/1.1 200 OK\"\n",
      "INFO:httpx:HTTP Request: POST http://gemini2.sufe.edu.cn:27282/v1/embeddings \"HTTP/1.1 200 OK\"\n",
      "INFO:httpx:HTTP Request: POST http://gemini2.sufe.edu.cn:27282/v1/chat/completions \"HTTP/1.1 200 OK\"\n"
     ]
    },
    {
     "name": "stderr",
     "output_type": "stream",
     "text": [
      "  5%|▌         | 2/40 [00:05<01:42,  2.69s/it]"
     ]
    },
    {
     "name": "stdout",
     "output_type": "stream",
     "text": [
      "{'response_synthesizer:summary_template': ChatPromptTemplate(metadata={'prompt_type': <PromptType.CUSTOM: 'custom'>}, template_vars=['context_str', 'query_str'], kwargs={}, output_parser=None, template_var_mappings=None, function_mappings=None, message_templates=[ChatMessage(role=<MessageRole.SYSTEM: 'system'>, content='你是一个中文人工智能助手，以下是中国关于microeconomics考试的单项选择题以及相应的参考内容，请根据参考信息选出其中的正确答案。', additional_kwargs={}), ChatMessage(role=<MessageRole.USER: 'user'>, content='从不同来源获取的参考信息如下:\\n---------------------\\n{context_str}\\n---------------------\\n题目:{query_str}', additional_kwargs={}), ChatMessage(role=<MessageRole.USER: 'user'>, content='选项:\\nA. 既有厂商进入也有厂商退出该行业\\nB. 完全竞争被不完全竞争所取代\\nC. 新的厂商进入了该行业\\nD. 原有厂商退出了该行业\\n答案:\\n', additional_kwargs={})])}\n",
      "INFO:httpx:HTTP Request: POST http://gemini2.sufe.edu.cn:27282/v1/chat/completions \"HTTP/1.1 200 OK\"\n",
      "INFO:httpx:HTTP Request: POST http://gemini2.sufe.edu.cn:27282/v1/embeddings \"HTTP/1.1 200 OK\"\n",
      "INFO:httpx:HTTP Request: POST http://gemini2.sufe.edu.cn:27282/v1/chat/completions \"HTTP/1.1 200 OK\"\n"
     ]
    },
    {
     "name": "stderr",
     "output_type": "stream",
     "text": [
      "  8%|▊         | 3/40 [00:07<01:24,  2.27s/it]"
     ]
    },
    {
     "name": "stdout",
     "output_type": "stream",
     "text": [
      "{'response_synthesizer:summary_template': ChatPromptTemplate(metadata={'prompt_type': <PromptType.CUSTOM: 'custom'>}, template_vars=['context_str', 'query_str'], kwargs={}, output_parser=None, template_var_mappings=None, function_mappings=None, message_templates=[ChatMessage(role=<MessageRole.SYSTEM: 'system'>, content='你是一个中文人工智能助手，以下是中国关于microeconomics考试的单项选择题以及相应的参考内容，请根据参考信息选出其中的正确答案。', additional_kwargs={}), ChatMessage(role=<MessageRole.USER: 'user'>, content='从不同来源获取的参考信息如下:\\n---------------------\\n{context_str}\\n---------------------\\n题目:{query_str}', additional_kwargs={}), ChatMessage(role=<MessageRole.USER: 'user'>, content='选项:\\nA. 边际成本递减\\nB. 边际产量递减\\nC. 边际效益递减\\nD. 规模效益递减\\n答案:\\n', additional_kwargs={})])}\n",
      "INFO:httpx:HTTP Request: POST http://gemini2.sufe.edu.cn:27282/v1/chat/completions \"HTTP/1.1 200 OK\"\n",
      "INFO:httpx:HTTP Request: POST http://gemini2.sufe.edu.cn:27282/v1/embeddings \"HTTP/1.1 200 OK\"\n",
      "INFO:httpx:HTTP Request: POST http://gemini2.sufe.edu.cn:27282/v1/chat/completions \"HTTP/1.1 200 OK\"\n"
     ]
    },
    {
     "name": "stderr",
     "output_type": "stream",
     "text": [
      " 10%|█         | 4/40 [00:09<01:24,  2.34s/it]"
     ]
    },
    {
     "name": "stdout",
     "output_type": "stream",
     "text": [
      "{'response_synthesizer:summary_template': ChatPromptTemplate(metadata={'prompt_type': <PromptType.CUSTOM: 'custom'>}, template_vars=['context_str', 'query_str'], kwargs={}, output_parser=None, template_var_mappings=None, function_mappings=None, message_templates=[ChatMessage(role=<MessageRole.SYSTEM: 'system'>, content='你是一个中文人工智能助手，以下是中国关于microeconomics考试的单项选择题以及相应的参考内容，请根据参考信息选出其中的正确答案。', additional_kwargs={}), ChatMessage(role=<MessageRole.USER: 'user'>, content='从不同来源获取的参考信息如下:\\n---------------------\\n{context_str}\\n---------------------\\n题目:{query_str}', additional_kwargs={}), ChatMessage(role=<MessageRole.USER: 'user'>, content='选项:\\nA. 其下部向里偏转，即做顺时针转动\\nB. 其下部向外偏转，即做逆时针转动\\nC. 向下平行移动\\nD. 向上平行移动\\n答案:\\n', additional_kwargs={})])}\n",
      "INFO:httpx:HTTP Request: POST http://gemini2.sufe.edu.cn:27282/v1/chat/completions \"HTTP/1.1 200 OK\"\n",
      "INFO:httpx:HTTP Request: POST http://gemini2.sufe.edu.cn:27282/v1/embeddings \"HTTP/1.1 200 OK\"\n",
      "INFO:httpx:HTTP Request: POST http://gemini2.sufe.edu.cn:27282/v1/chat/completions \"HTTP/1.1 200 OK\"\n"
     ]
    },
    {
     "name": "stderr",
     "output_type": "stream",
     "text": [
      " 12%|█▎        | 5/40 [00:12<01:23,  2.39s/it]"
     ]
    },
    {
     "name": "stdout",
     "output_type": "stream",
     "text": [
      "{'response_synthesizer:summary_template': ChatPromptTemplate(metadata={'prompt_type': <PromptType.CUSTOM: 'custom'>}, template_vars=['context_str', 'query_str'], kwargs={}, output_parser=None, template_var_mappings=None, function_mappings=None, message_templates=[ChatMessage(role=<MessageRole.SYSTEM: 'system'>, content='你是一个中文人工智能助手，以下是中国关于microeconomics考试的单项选择题以及相应的参考内容，请根据参考信息选出其中的正确答案。', additional_kwargs={}), ChatMessage(role=<MessageRole.USER: 'user'>, content='从不同来源获取的参考信息如下:\\n---------------------\\n{context_str}\\n---------------------\\n题目:{query_str}', additional_kwargs={}), ChatMessage(role=<MessageRole.USER: 'user'>, content='选项:\\nA. 未达到利润最大化，应减少产量\\nB. 未达到利润最大化，应扩大产量\\nC. 生产出利润最大化，但是成本未达到最小化\\nD. 在成本最小条件下实现利润最大化产量\\n答案:\\n', additional_kwargs={})])}\n",
      "INFO:httpx:HTTP Request: POST http://gemini2.sufe.edu.cn:27282/v1/chat/completions \"HTTP/1.1 200 OK\"\n",
      "INFO:httpx:HTTP Request: POST http://gemini2.sufe.edu.cn:27282/v1/embeddings \"HTTP/1.1 200 OK\"\n",
      "INFO:httpx:HTTP Request: POST http://gemini2.sufe.edu.cn:27282/v1/chat/completions \"HTTP/1.1 200 OK\"\n"
     ]
    },
    {
     "name": "stderr",
     "output_type": "stream",
     "text": [
      " 15%|█▌        | 6/40 [00:19<02:16,  4.02s/it]"
     ]
    },
    {
     "name": "stdout",
     "output_type": "stream",
     "text": [
      "{'response_synthesizer:summary_template': ChatPromptTemplate(metadata={'prompt_type': <PromptType.CUSTOM: 'custom'>}, template_vars=['context_str', 'query_str'], kwargs={}, output_parser=None, template_var_mappings=None, function_mappings=None, message_templates=[ChatMessage(role=<MessageRole.SYSTEM: 'system'>, content='你是一个中文人工智能助手，以下是中国关于microeconomics考试的单项选择题以及相应的参考内容，请根据参考信息选出其中的正确答案。', additional_kwargs={}), ChatMessage(role=<MessageRole.USER: 'user'>, content='从不同来源获取的参考信息如下:\\n---------------------\\n{context_str}\\n---------------------\\n题目:{query_str}', additional_kwargs={}), ChatMessage(role=<MessageRole.USER: 'user'>, content='选项:\\nA. 边际产品价值降低；劳动的需求曲线右移\\nB. 边际产品价值增加；劳动的需求曲线左移\\nC. 边际产品价值增加；劳动的需求曲线右移\\nD. 边际产品价值降低；劳动的需求曲线左移\\n答案:\\n', additional_kwargs={})])}\n",
      "INFO:httpx:HTTP Request: POST http://gemini2.sufe.edu.cn:27282/v1/chat/completions \"HTTP/1.1 200 OK\"\n",
      "INFO:httpx:HTTP Request: POST http://gemini2.sufe.edu.cn:27282/v1/embeddings \"HTTP/1.1 200 OK\"\n",
      "INFO:httpx:HTTP Request: POST http://gemini2.sufe.edu.cn:27282/v1/chat/completions \"HTTP/1.1 200 OK\"\n"
     ]
    },
    {
     "name": "stderr",
     "output_type": "stream",
     "text": [
      " 18%|█▊        | 7/40 [00:23<02:10,  3.97s/it]"
     ]
    },
    {
     "name": "stdout",
     "output_type": "stream",
     "text": [
      "{'response_synthesizer:summary_template': ChatPromptTemplate(metadata={'prompt_type': <PromptType.CUSTOM: 'custom'>}, template_vars=['context_str', 'query_str'], kwargs={}, output_parser=None, template_var_mappings=None, function_mappings=None, message_templates=[ChatMessage(role=<MessageRole.SYSTEM: 'system'>, content='你是一个中文人工智能助手，以下是中国关于microeconomics考试的单项选择题以及相应的参考内容，请根据参考信息选出其中的正确答案。', additional_kwargs={}), ChatMessage(role=<MessageRole.USER: 'user'>, content='从不同来源获取的参考信息如下:\\n---------------------\\n{context_str}\\n---------------------\\n题目:{query_str}', additional_kwargs={}), ChatMessage(role=<MessageRole.USER: 'user'>, content='选项:\\nA. 向前弯曲\\nB. 向后弯曲\\nC. 仍保持向右上方倾斜\\nD. 向右下方倾斜\\n答案:\\n', additional_kwargs={})])}\n",
      "INFO:httpx:HTTP Request: POST http://gemini2.sufe.edu.cn:27282/v1/chat/completions \"HTTP/1.1 200 OK\"\n",
      "INFO:httpx:HTTP Request: POST http://gemini2.sufe.edu.cn:27282/v1/embeddings \"HTTP/1.1 200 OK\"\n",
      "INFO:httpx:HTTP Request: POST http://gemini2.sufe.edu.cn:27282/v1/chat/completions \"HTTP/1.1 200 OK\"\n"
     ]
    },
    {
     "name": "stderr",
     "output_type": "stream",
     "text": [
      " 20%|██        | 8/40 [00:25<01:46,  3.33s/it]"
     ]
    },
    {
     "name": "stdout",
     "output_type": "stream",
     "text": [
      "{'response_synthesizer:summary_template': ChatPromptTemplate(metadata={'prompt_type': <PromptType.CUSTOM: 'custom'>}, template_vars=['context_str', 'query_str'], kwargs={}, output_parser=None, template_var_mappings=None, function_mappings=None, message_templates=[ChatMessage(role=<MessageRole.SYSTEM: 'system'>, content='你是一个中文人工智能助手，以下是中国关于microeconomics考试的单项选择题以及相应的参考内容，请根据参考信息选出其中的正确答案。', additional_kwargs={}), ChatMessage(role=<MessageRole.USER: 'user'>, content='从不同来源获取的参考信息如下:\\n---------------------\\n{context_str}\\n---------------------\\n题目:{query_str}', additional_kwargs={}), ChatMessage(role=<MessageRole.USER: 'user'>, content='选项:\\nA. 它是指工资率对劳动者的收入，从而劳动时间产生的影响\\nB. 若劳动时间不变，工资率的提高使得劳动者的收入提高\\nC. 若劳动时间不变，工资率的提高使得劳动者有能力消费更多的闲暇\\nD. 工资率的提高的收入效应使得劳动供给增加\\n答案:\\n', additional_kwargs={})])}\n",
      "INFO:httpx:HTTP Request: POST http://gemini2.sufe.edu.cn:27282/v1/chat/completions \"HTTP/1.1 200 OK\"\n",
      "INFO:httpx:HTTP Request: POST http://gemini2.sufe.edu.cn:27282/v1/embeddings \"HTTP/1.1 200 OK\"\n",
      "INFO:httpx:HTTP Request: POST http://gemini2.sufe.edu.cn:27282/v1/chat/completions \"HTTP/1.1 200 OK\"\n"
     ]
    },
    {
     "name": "stderr",
     "output_type": "stream",
     "text": [
      " 22%|██▎       | 9/40 [00:28<01:41,  3.28s/it]"
     ]
    },
    {
     "name": "stdout",
     "output_type": "stream",
     "text": [
      "{'response_synthesizer:summary_template': ChatPromptTemplate(metadata={'prompt_type': <PromptType.CUSTOM: 'custom'>}, template_vars=['context_str', 'query_str'], kwargs={}, output_parser=None, template_var_mappings=None, function_mappings=None, message_templates=[ChatMessage(role=<MessageRole.SYSTEM: 'system'>, content='你是一个中文人工智能助手，以下是中国关于microeconomics考试的单项选择题以及相应的参考内容，请根据参考信息选出其中的正确答案。', additional_kwargs={}), ChatMessage(role=<MessageRole.USER: 'user'>, content='从不同来源获取的参考信息如下:\\n---------------------\\n{context_str}\\n---------------------\\n题目:{query_str}', additional_kwargs={}), ChatMessage(role=<MessageRole.USER: 'user'>, content='选项:\\nA. 乙用X向甲交换Y\\nB. 乙用Y向甲交换X\\nC. 甲和乙不会交换商品\\nD. 以上均不正确\\n答案:\\n', additional_kwargs={})])}\n",
      "INFO:httpx:HTTP Request: POST http://gemini2.sufe.edu.cn:27282/v1/chat/completions \"HTTP/1.1 200 OK\"\n",
      "INFO:httpx:HTTP Request: POST http://gemini2.sufe.edu.cn:27282/v1/embeddings \"HTTP/1.1 200 OK\"\n",
      "INFO:httpx:HTTP Request: POST http://gemini2.sufe.edu.cn:27282/v1/chat/completions \"HTTP/1.1 200 OK\"\n"
     ]
    },
    {
     "name": "stderr",
     "output_type": "stream",
     "text": [
      " 25%|██▌       | 10/40 [00:34<01:58,  3.96s/it]"
     ]
    },
    {
     "name": "stdout",
     "output_type": "stream",
     "text": [
      "{'response_synthesizer:summary_template': ChatPromptTemplate(metadata={'prompt_type': <PromptType.CUSTOM: 'custom'>}, template_vars=['context_str', 'query_str'], kwargs={}, output_parser=None, template_var_mappings=None, function_mappings=None, message_templates=[ChatMessage(role=<MessageRole.SYSTEM: 'system'>, content='你是一个中文人工智能助手，以下是中国关于microeconomics考试的单项选择题以及相应的参考内容，请根据参考信息选出其中的正确答案。', additional_kwargs={}), ChatMessage(role=<MessageRole.USER: 'user'>, content='从不同来源获取的参考信息如下:\\n---------------------\\n{context_str}\\n---------------------\\n题目:{query_str}', additional_kwargs={}), ChatMessage(role=<MessageRole.USER: 'user'>, content='选项:\\nA. 一个部门的变化对其他部门的影响\\nB. 与供给相独立的需求的变化\\nC. 一个市场出现的情况，忽视其他市场\\nD. 经济中所有的相互作用和相互依存关系\\n答案:\\n', additional_kwargs={})])}\n",
      "INFO:httpx:HTTP Request: POST http://gemini2.sufe.edu.cn:27282/v1/chat/completions \"HTTP/1.1 200 OK\"\n",
      "INFO:httpx:HTTP Request: POST http://gemini2.sufe.edu.cn:27282/v1/embeddings \"HTTP/1.1 200 OK\"\n",
      "INFO:httpx:HTTP Request: POST http://gemini2.sufe.edu.cn:27282/v1/chat/completions \"HTTP/1.1 200 OK\"\n"
     ]
    },
    {
     "name": "stderr",
     "output_type": "stream",
     "text": [
      " 28%|██▊       | 11/40 [00:35<01:35,  3.29s/it]"
     ]
    },
    {
     "name": "stdout",
     "output_type": "stream",
     "text": [
      "{'response_synthesizer:summary_template': ChatPromptTemplate(metadata={'prompt_type': <PromptType.CUSTOM: 'custom'>}, template_vars=['context_str', 'query_str'], kwargs={}, output_parser=None, template_var_mappings=None, function_mappings=None, message_templates=[ChatMessage(role=<MessageRole.SYSTEM: 'system'>, content='你是一个中文人工智能助手，以下是中国关于microeconomics考试的单项选择题以及相应的参考内容，请根据参考信息选出其中的正确答案。', additional_kwargs={}), ChatMessage(role=<MessageRole.USER: 'user'>, content='从不同来源获取的参考信息如下:\\n---------------------\\n{context_str}\\n---------------------\\n题目:{query_str}', additional_kwargs={}), ChatMessage(role=<MessageRole.USER: 'user'>, content='选项:\\nA. 一般均衡分析很可能推出错误的结论\\nB. 局部均衡分析很可能推出错误的结论\\nC. 局部均衡分析将提供合理可靠的预测\\nD. 以上说法都不对\\n答案:\\n', additional_kwargs={})])}\n",
      "INFO:httpx:HTTP Request: POST http://gemini2.sufe.edu.cn:27282/v1/chat/completions \"HTTP/1.1 200 OK\"\n",
      "INFO:httpx:HTTP Request: POST http://gemini2.sufe.edu.cn:27282/v1/embeddings \"HTTP/1.1 200 OK\"\n",
      "INFO:httpx:HTTP Request: POST http://gemini2.sufe.edu.cn:27282/v1/chat/completions \"HTTP/1.1 200 OK\"\n"
     ]
    },
    {
     "name": "stderr",
     "output_type": "stream",
     "text": [
      " 30%|███       | 12/40 [00:38<01:23,  3.00s/it]"
     ]
    },
    {
     "name": "stdout",
     "output_type": "stream",
     "text": [
      "{'response_synthesizer:summary_template': ChatPromptTemplate(metadata={'prompt_type': <PromptType.CUSTOM: 'custom'>}, template_vars=['context_str', 'query_str'], kwargs={}, output_parser=None, template_var_mappings=None, function_mappings=None, message_templates=[ChatMessage(role=<MessageRole.SYSTEM: 'system'>, content='你是一个中文人工智能助手，以下是中国关于microeconomics考试的单项选择题以及相应的参考内容，请根据参考信息选出其中的正确答案。', additional_kwargs={}), ChatMessage(role=<MessageRole.USER: 'user'>, content='从不同来源获取的参考信息如下:\\n---------------------\\n{context_str}\\n---------------------\\n题目:{query_str}', additional_kwargs={}), ChatMessage(role=<MessageRole.USER: 'user'>, content='选项:\\nA. 生产的效率\\nB. 交换的效率\\nC. 产品组合的效率\\nD. 收入的公平分配\\n答案:\\n', additional_kwargs={})])}\n",
      "INFO:httpx:HTTP Request: POST http://gemini2.sufe.edu.cn:27282/v1/chat/completions \"HTTP/1.1 200 OK\"\n",
      "INFO:httpx:HTTP Request: POST http://gemini2.sufe.edu.cn:27282/v1/embeddings \"HTTP/1.1 200 OK\"\n",
      "INFO:httpx:HTTP Request: POST http://gemini2.sufe.edu.cn:27282/v1/chat/completions \"HTTP/1.1 200 OK\"\n"
     ]
    },
    {
     "name": "stderr",
     "output_type": "stream",
     "text": [
      " 32%|███▎      | 13/40 [00:39<01:11,  2.65s/it]"
     ]
    },
    {
     "name": "stdout",
     "output_type": "stream",
     "text": [
      "{'response_synthesizer:summary_template': ChatPromptTemplate(metadata={'prompt_type': <PromptType.CUSTOM: 'custom'>}, template_vars=['context_str', 'query_str'], kwargs={}, output_parser=None, template_var_mappings=None, function_mappings=None, message_templates=[ChatMessage(role=<MessageRole.SYSTEM: 'system'>, content='你是一个中文人工智能助手，以下是中国关于microeconomics考试的单项选择题以及相应的参考内容，请根据参考信息选出其中的正确答案。', additional_kwargs={}), ChatMessage(role=<MessageRole.USER: 'user'>, content='从不同来源获取的参考信息如下:\\n---------------------\\n{context_str}\\n---------------------\\n题目:{query_str}', additional_kwargs={}), ChatMessage(role=<MessageRole.USER: 'user'>, content='选项:\\nA. 如果不使其中一个人受损失就不能使另一个人受益\\nB. 每个人都处在其消费契约曲线上\\nC. 每个人都处在其效用可能性曲线上\\nD. 包括以上所有条件\\n答案:\\n', additional_kwargs={})])}\n",
      "INFO:httpx:HTTP Request: POST http://gemini2.sufe.edu.cn:27282/v1/chat/completions \"HTTP/1.1 200 OK\"\n",
      "INFO:httpx:HTTP Request: POST http://gemini2.sufe.edu.cn:27282/v1/embeddings \"HTTP/1.1 200 OK\"\n",
      "INFO:httpx:HTTP Request: POST http://gemini2.sufe.edu.cn:27282/v1/chat/completions \"HTTP/1.1 200 OK\"\n"
     ]
    },
    {
     "name": "stderr",
     "output_type": "stream",
     "text": [
      " 35%|███▌      | 14/40 [00:47<01:44,  4.04s/it]"
     ]
    },
    {
     "name": "stdout",
     "output_type": "stream",
     "text": [
      "{'response_synthesizer:summary_template': ChatPromptTemplate(metadata={'prompt_type': <PromptType.CUSTOM: 'custom'>}, template_vars=['context_str', 'query_str'], kwargs={}, output_parser=None, template_var_mappings=None, function_mappings=None, message_templates=[ChatMessage(role=<MessageRole.SYSTEM: 'system'>, content='你是一个中文人工智能助手，以下是中国关于microeconomics考试的单项选择题以及相应的参考内容，请根据参考信息选出其中的正确答案。', additional_kwargs={}), ChatMessage(role=<MessageRole.USER: 'user'>, content='从不同来源获取的参考信息如下:\\n---------------------\\n{context_str}\\n---------------------\\n题目:{query_str}', additional_kwargs={}), ChatMessage(role=<MessageRole.USER: 'user'>, content='选项:\\nA. 当市场不能完全出清时\\nB. 当竞争建立在自身利益最大化的前提上时\\nC. 当厂商追求利润最大化目标时\\nD. 当市场价格不能反映一项交易的所有成本和收益时\\n答案:\\n', additional_kwargs={})])}\n",
      "INFO:httpx:HTTP Request: POST http://gemini2.sufe.edu.cn:27282/v1/chat/completions \"HTTP/1.1 200 OK\"\n",
      "INFO:httpx:HTTP Request: POST http://gemini2.sufe.edu.cn:27282/v1/embeddings \"HTTP/1.1 200 OK\"\n",
      "INFO:httpx:HTTP Request: POST http://gemini2.sufe.edu.cn:27282/v1/chat/completions \"HTTP/1.1 200 OK\"\n"
     ]
    },
    {
     "name": "stderr",
     "output_type": "stream",
     "text": [
      " 38%|███▊      | 15/40 [00:49<01:24,  3.38s/it]"
     ]
    },
    {
     "name": "stdout",
     "output_type": "stream",
     "text": [
      "{'response_synthesizer:summary_template': ChatPromptTemplate(metadata={'prompt_type': <PromptType.CUSTOM: 'custom'>}, template_vars=['context_str', 'query_str'], kwargs={}, output_parser=None, template_var_mappings=None, function_mappings=None, message_templates=[ChatMessage(role=<MessageRole.SYSTEM: 'system'>, content='你是一个中文人工智能助手，以下是中国关于microeconomics考试的单项选择题以及相应的参考内容，请根据参考信息选出其中的正确答案。', additional_kwargs={}), ChatMessage(role=<MessageRole.USER: 'user'>, content='从不同来源获取的参考信息如下:\\n---------------------\\n{context_str}\\n---------------------\\n题目:{query_str}', additional_kwargs={}), ChatMessage(role=<MessageRole.USER: 'user'>, content='选项:\\nA. 不能被证明是一种旨在提高效率合理的经济行为\\nB. 本质是非法的\\nC. 违反了克莱顿法\\nD. 导致纵向或横向兼并\\n答案:\\n', additional_kwargs={})])}\n",
      "INFO:httpx:HTTP Request: POST http://gemini2.sufe.edu.cn:27282/v1/chat/completions \"HTTP/1.1 200 OK\"\n",
      "INFO:httpx:HTTP Request: POST http://gemini2.sufe.edu.cn:27282/v1/embeddings \"HTTP/1.1 200 OK\"\n",
      "INFO:httpx:HTTP Request: POST http://gemini2.sufe.edu.cn:27282/v1/chat/completions \"HTTP/1.1 200 OK\"\n"
     ]
    },
    {
     "name": "stderr",
     "output_type": "stream",
     "text": [
      " 40%|████      | 16/40 [00:50<01:08,  2.85s/it]"
     ]
    },
    {
     "name": "stdout",
     "output_type": "stream",
     "text": [
      "{'response_synthesizer:summary_template': ChatPromptTemplate(metadata={'prompt_type': <PromptType.CUSTOM: 'custom'>}, template_vars=['context_str', 'query_str'], kwargs={}, output_parser=None, template_var_mappings=None, function_mappings=None, message_templates=[ChatMessage(role=<MessageRole.SYSTEM: 'system'>, content='你是一个中文人工智能助手，以下是中国关于microeconomics考试的单项选择题以及相应的参考内容，请根据参考信息选出其中的正确答案。', additional_kwargs={}), ChatMessage(role=<MessageRole.USER: 'user'>, content='从不同来源获取的参考信息如下:\\n---------------------\\n{context_str}\\n---------------------\\n题目:{query_str}', additional_kwargs={}), ChatMessage(role=<MessageRole.USER: 'user'>, content='选项:\\nA. 卖方故意要隐瞒自己一些情况\\nB. 买方认识能力有限\\nC. 完全掌握情况所费成本太高\\nD. 以上三种情况都有可能\\n答案:\\n', additional_kwargs={})])}\n",
      "INFO:httpx:HTTP Request: POST http://gemini2.sufe.edu.cn:27282/v1/chat/completions \"HTTP/1.1 200 OK\"\n",
      "INFO:httpx:HTTP Request: POST http://gemini2.sufe.edu.cn:27282/v1/embeddings \"HTTP/1.1 200 OK\"\n",
      "INFO:httpx:HTTP Request: POST http://gemini2.sufe.edu.cn:27282/v1/chat/completions \"HTTP/1.1 200 OK\"\n"
     ]
    },
    {
     "name": "stderr",
     "output_type": "stream",
     "text": [
      " 42%|████▎     | 17/40 [00:52<00:58,  2.53s/it]"
     ]
    },
    {
     "name": "stdout",
     "output_type": "stream",
     "text": [
      "{'response_synthesizer:summary_template': ChatPromptTemplate(metadata={'prompt_type': <PromptType.CUSTOM: 'custom'>}, template_vars=['context_str', 'query_str'], kwargs={}, output_parser=None, template_var_mappings=None, function_mappings=None, message_templates=[ChatMessage(role=<MessageRole.SYSTEM: 'system'>, content='你是一个中文人工智能助手，以下是中国关于microeconomics考试的单项选择题以及相应的参考内容，请根据参考信息选出其中的正确答案。', additional_kwargs={}), ChatMessage(role=<MessageRole.USER: 'user'>, content='从不同来源获取的参考信息如下:\\n---------------------\\n{context_str}\\n---------------------\\n题目:{query_str}', additional_kwargs={}), ChatMessage(role=<MessageRole.USER: 'user'>, content='选项:\\nA. 公共物品不具有排他性\\nB. 公共物品不具有竞争性\\nC. 消费者都想“免费乘车”\\nD. 以上三种情况都是\\n答案:\\n', additional_kwargs={})])}\n",
      "INFO:httpx:HTTP Request: POST http://gemini2.sufe.edu.cn:27282/v1/chat/completions \"HTTP/1.1 200 OK\"\n",
      "INFO:httpx:HTTP Request: POST http://gemini2.sufe.edu.cn:27282/v1/embeddings \"HTTP/1.1 200 OK\"\n",
      "INFO:httpx:HTTP Request: POST http://gemini2.sufe.edu.cn:27282/v1/chat/completions \"HTTP/1.1 200 OK\"\n"
     ]
    },
    {
     "name": "stderr",
     "output_type": "stream",
     "text": [
      " 45%|████▌     | 18/40 [00:54<00:53,  2.44s/it]"
     ]
    },
    {
     "name": "stdout",
     "output_type": "stream",
     "text": [
      "{'response_synthesizer:summary_template': ChatPromptTemplate(metadata={'prompt_type': <PromptType.CUSTOM: 'custom'>}, template_vars=['context_str', 'query_str'], kwargs={}, output_parser=None, template_var_mappings=None, function_mappings=None, message_templates=[ChatMessage(role=<MessageRole.SYSTEM: 'system'>, content='你是一个中文人工智能助手，以下是中国关于microeconomics考试的单项选择题以及相应的参考内容，请根据参考信息选出其中的正确答案。', additional_kwargs={}), ChatMessage(role=<MessageRole.USER: 'user'>, content='从不同来源获取的参考信息如下:\\n---------------------\\n{context_str}\\n---------------------\\n题目:{query_str}', additional_kwargs={}), ChatMessage(role=<MessageRole.USER: 'user'>, content='选项:\\nA. B用x向A交换y\\nB. B用y向A交换x\\nC. A和B不会交换商品\\nD. 无交换发生\\n答案:\\n', additional_kwargs={})])}\n",
      "INFO:httpx:HTTP Request: POST http://gemini2.sufe.edu.cn:27282/v1/chat/completions \"HTTP/1.1 200 OK\"\n",
      "INFO:httpx:HTTP Request: POST http://gemini2.sufe.edu.cn:27282/v1/embeddings \"HTTP/1.1 200 OK\"\n",
      "INFO:httpx:HTTP Request: POST http://gemini2.sufe.edu.cn:27282/v1/chat/completions \"HTTP/1.1 200 OK\"\n"
     ]
    },
    {
     "name": "stderr",
     "output_type": "stream",
     "text": [
      " 48%|████▊     | 19/40 [00:59<01:05,  3.11s/it]"
     ]
    },
    {
     "name": "stdout",
     "output_type": "stream",
     "text": [
      "{'response_synthesizer:summary_template': ChatPromptTemplate(metadata={'prompt_type': <PromptType.CUSTOM: 'custom'>}, template_vars=['context_str', 'query_str'], kwargs={}, output_parser=None, template_var_mappings=None, function_mappings=None, message_templates=[ChatMessage(role=<MessageRole.SYSTEM: 'system'>, content='你是一个中文人工智能助手，以下是中国关于microeconomics考试的单项选择题以及相应的参考内容，请根据参考信息选出其中的正确答案。', additional_kwargs={}), ChatMessage(role=<MessageRole.USER: 'user'>, content='从不同来源获取的参考信息如下:\\n---------------------\\n{context_str}\\n---------------------\\n题目:{query_str}', additional_kwargs={}), ChatMessage(role=<MessageRole.USER: 'user'>, content='选项:\\nA. 社会边际成本和私人边际成本之差\\nB. 私人边际成本\\nC. 治理污染设备的成本\\nD. 社会边际成本\\n答案:\\n', additional_kwargs={})])}\n",
      "INFO:httpx:HTTP Request: POST http://gemini2.sufe.edu.cn:27282/v1/chat/completions \"HTTP/1.1 200 OK\"\n",
      "INFO:httpx:HTTP Request: POST http://gemini2.sufe.edu.cn:27282/v1/embeddings \"HTTP/1.1 200 OK\"\n",
      "INFO:httpx:HTTP Request: POST http://gemini2.sufe.edu.cn:27282/v1/chat/completions \"HTTP/1.1 200 OK\"\n"
     ]
    },
    {
     "name": "stderr",
     "output_type": "stream",
     "text": [
      " 50%|█████     | 20/40 [01:02<01:00,  3.01s/it]"
     ]
    },
    {
     "name": "stdout",
     "output_type": "stream",
     "text": [
      "{'response_synthesizer:summary_template': ChatPromptTemplate(metadata={'prompt_type': <PromptType.CUSTOM: 'custom'>}, template_vars=['context_str', 'query_str'], kwargs={}, output_parser=None, template_var_mappings=None, function_mappings=None, message_templates=[ChatMessage(role=<MessageRole.SYSTEM: 'system'>, content='你是一个中文人工智能助手，以下是中国关于microeconomics考试的单项选择题以及相应的参考内容，请根据参考信息选出其中的正确答案。', additional_kwargs={}), ChatMessage(role=<MessageRole.USER: 'user'>, content='从不同来源获取的参考信息如下:\\n---------------------\\n{context_str}\\n---------------------\\n题目:{query_str}', additional_kwargs={}), ChatMessage(role=<MessageRole.USER: 'user'>, content='选项:\\nA. 一家公司设法增加在自己所有的财产上收取租金\\nB. 公司投入资源去劝说政府阻止新公司进入它的行业\\nC. 政府设法找出一家公司垄断租金的大小\\nD. 政府设法剥夺一家公司的垄断租金\\n答案:\\n', additional_kwargs={})])}\n",
      "INFO:httpx:HTTP Request: POST http://gemini2.sufe.edu.cn:27282/v1/chat/completions \"HTTP/1.1 200 OK\"\n",
      "INFO:httpx:HTTP Request: POST http://gemini2.sufe.edu.cn:27282/v1/embeddings \"HTTP/1.1 200 OK\"\n",
      "INFO:httpx:HTTP Request: POST http://gemini2.sufe.edu.cn:27282/v1/chat/completions \"HTTP/1.1 200 OK\"\n"
     ]
    },
    {
     "name": "stderr",
     "output_type": "stream",
     "text": [
      " 52%|█████▎    | 21/40 [01:04<00:50,  2.66s/it]"
     ]
    },
    {
     "name": "stdout",
     "output_type": "stream",
     "text": [
      "{'response_synthesizer:summary_template': ChatPromptTemplate(metadata={'prompt_type': <PromptType.CUSTOM: 'custom'>}, template_vars=['context_str', 'query_str'], kwargs={}, output_parser=None, template_var_mappings=None, function_mappings=None, message_templates=[ChatMessage(role=<MessageRole.SYSTEM: 'system'>, content='你是一个中文人工智能助手，以下是中国关于microeconomics考试的单项选择题以及相应的参考内容，请根据参考信息选出其中的正确答案。', additional_kwargs={}), ChatMessage(role=<MessageRole.USER: 'user'>, content='从不同来源获取的参考信息如下:\\n---------------------\\n{context_str}\\n---------------------\\n题目:{query_str}', additional_kwargs={}), ChatMessage(role=<MessageRole.USER: 'user'>, content='选项:\\nA. 价格竞争的市场\\nB. 产量竞争的市场\\nC. 产量领导的市场\\nD. 价格领导的市场\\n答案:\\n', additional_kwargs={})])}\n",
      "INFO:httpx:HTTP Request: POST http://gemini2.sufe.edu.cn:27282/v1/chat/completions \"HTTP/1.1 200 OK\"\n",
      "INFO:httpx:HTTP Request: POST http://gemini2.sufe.edu.cn:27282/v1/embeddings \"HTTP/1.1 200 OK\"\n",
      "INFO:httpx:HTTP Request: POST http://gemini2.sufe.edu.cn:27282/v1/chat/completions \"HTTP/1.1 200 OK\"\n"
     ]
    },
    {
     "name": "stderr",
     "output_type": "stream",
     "text": [
      " 55%|█████▌    | 22/40 [01:05<00:43,  2.43s/it]"
     ]
    },
    {
     "name": "stdout",
     "output_type": "stream",
     "text": [
      "{'response_synthesizer:summary_template': ChatPromptTemplate(metadata={'prompt_type': <PromptType.CUSTOM: 'custom'>}, template_vars=['context_str', 'query_str'], kwargs={}, output_parser=None, template_var_mappings=None, function_mappings=None, message_templates=[ChatMessage(role=<MessageRole.SYSTEM: 'system'>, content='你是一个中文人工智能助手，以下是中国关于microeconomics考试的单项选择题以及相应的参考内容，请根据参考信息选出其中的正确答案。', additional_kwargs={}), ChatMessage(role=<MessageRole.USER: 'user'>, content='从不同来源获取的参考信息如下:\\n---------------------\\n{context_str}\\n---------------------\\n题目:{query_str}', additional_kwargs={}), ChatMessage(role=<MessageRole.USER: 'user'>, content='选项:\\nA. 双方都独立依照自身利益行动，结果陷入最不利的局面\\nB. 双方都独立依照自身利益行事，导致最好的选择\\nC. 双方进行合作，得到了最好的结果\\nD. 双方进行合作，得到了次优的结果\\n答案:\\n', additional_kwargs={})])}\n",
      "INFO:httpx:HTTP Request: POST http://gemini2.sufe.edu.cn:27282/v1/chat/completions \"HTTP/1.1 200 OK\"\n",
      "INFO:httpx:HTTP Request: POST http://gemini2.sufe.edu.cn:27282/v1/embeddings \"HTTP/1.1 200 OK\"\n",
      "INFO:httpx:HTTP Request: POST http://gemini2.sufe.edu.cn:27282/v1/chat/completions \"HTTP/1.1 200 OK\"\n"
     ]
    },
    {
     "name": "stderr",
     "output_type": "stream",
     "text": [
      " 57%|█████▊    | 23/40 [01:07<00:37,  2.20s/it]"
     ]
    },
    {
     "name": "stdout",
     "output_type": "stream",
     "text": [
      "{'response_synthesizer:summary_template': ChatPromptTemplate(metadata={'prompt_type': <PromptType.CUSTOM: 'custom'>}, template_vars=['context_str', 'query_str'], kwargs={}, output_parser=None, template_var_mappings=None, function_mappings=None, message_templates=[ChatMessage(role=<MessageRole.SYSTEM: 'system'>, content='你是一个中文人工智能助手，以下是中国关于microeconomics考试的单项选择题以及相应的参考内容，请根据参考信息选出其中的正确答案。', additional_kwargs={}), ChatMessage(role=<MessageRole.USER: 'user'>, content='从不同来源获取的参考信息如下:\\n---------------------\\n{context_str}\\n---------------------\\n题目:{query_str}', additional_kwargs={}), ChatMessage(role=<MessageRole.USER: 'user'>, content='选项:\\nA. 一级价格差别\\nB. 二级价格差别\\nC. 三级价格差别\\nD. 混合价格差别\\n答案:\\n', additional_kwargs={})])}\n",
      "INFO:httpx:HTTP Request: POST http://gemini2.sufe.edu.cn:27282/v1/chat/completions \"HTTP/1.1 200 OK\"\n",
      "INFO:httpx:HTTP Request: POST http://gemini2.sufe.edu.cn:27282/v1/embeddings \"HTTP/1.1 200 OK\"\n",
      "INFO:httpx:HTTP Request: POST http://gemini2.sufe.edu.cn:27282/v1/chat/completions \"HTTP/1.1 200 OK\"\n"
     ]
    },
    {
     "name": "stderr",
     "output_type": "stream",
     "text": [
      " 60%|██████    | 24/40 [01:17<01:14,  4.64s/it]"
     ]
    },
    {
     "name": "stdout",
     "output_type": "stream",
     "text": [
      "{'response_synthesizer:summary_template': ChatPromptTemplate(metadata={'prompt_type': <PromptType.CUSTOM: 'custom'>}, template_vars=['context_str', 'query_str'], kwargs={}, output_parser=None, template_var_mappings=None, function_mappings=None, message_templates=[ChatMessage(role=<MessageRole.SYSTEM: 'system'>, content='你是一个中文人工智能助手，以下是中国关于microeconomics考试的单项选择题以及相应的参考内容，请根据参考信息选出其中的正确答案。', additional_kwargs={}), ChatMessage(role=<MessageRole.USER: 'user'>, content='从不同来源获取的参考信息如下:\\n---------------------\\n{context_str}\\n---------------------\\n题目:{query_str}', additional_kwargs={}), ChatMessage(role=<MessageRole.USER: 'user'>, content='选项:\\nA. 生产中使用的要素供给曲线是垂直的\\nB. 行业的长期供给曲线有一正的斜率\\nC. 行业的长期供给曲线有一负的斜率\\nD. 短期平均成本曲线不是U型的\\n答案:\\n', additional_kwargs={})])}\n",
      "INFO:httpx:HTTP Request: POST http://gemini2.sufe.edu.cn:27282/v1/chat/completions \"HTTP/1.1 200 OK\"\n",
      "INFO:httpx:HTTP Request: POST http://gemini2.sufe.edu.cn:27282/v1/embeddings \"HTTP/1.1 200 OK\"\n",
      "INFO:httpx:HTTP Request: POST http://gemini2.sufe.edu.cn:27282/v1/chat/completions \"HTTP/1.1 200 OK\"\n"
     ]
    },
    {
     "name": "stderr",
     "output_type": "stream",
     "text": [
      " 62%|██████▎   | 25/40 [01:20<01:02,  4.15s/it]"
     ]
    },
    {
     "name": "stdout",
     "output_type": "stream",
     "text": [
      "{'response_synthesizer:summary_template': ChatPromptTemplate(metadata={'prompt_type': <PromptType.CUSTOM: 'custom'>}, template_vars=['context_str', 'query_str'], kwargs={}, output_parser=None, template_var_mappings=None, function_mappings=None, message_templates=[ChatMessage(role=<MessageRole.SYSTEM: 'system'>, content='你是一个中文人工智能助手，以下是中国关于microeconomics考试的单项选择题以及相应的参考内容，请根据参考信息选出其中的正确答案。', additional_kwargs={}), ChatMessage(role=<MessageRole.USER: 'user'>, content='从不同来源获取的参考信息如下:\\n---------------------\\n{context_str}\\n---------------------\\n题目:{query_str}', additional_kwargs={}), ChatMessage(role=<MessageRole.USER: 'user'>, content='选项:\\nA. 使总亏损最小\\nB. 使总亏损最小\\nC. 使总亏损最小，或使总盈利最大\\nD. 以上都不正确\\n答案:\\n', additional_kwargs={})])}\n",
      "INFO:httpx:HTTP Request: POST http://gemini2.sufe.edu.cn:27282/v1/chat/completions \"HTTP/1.1 200 OK\"\n",
      "INFO:httpx:HTTP Request: POST http://gemini2.sufe.edu.cn:27282/v1/embeddings \"HTTP/1.1 200 OK\"\n",
      "INFO:httpx:HTTP Request: POST http://gemini2.sufe.edu.cn:27282/v1/chat/completions \"HTTP/1.1 200 OK\"\n"
     ]
    },
    {
     "name": "stderr",
     "output_type": "stream",
     "text": [
      " 65%|██████▌   | 26/40 [01:22<00:48,  3.46s/it]"
     ]
    },
    {
     "name": "stdout",
     "output_type": "stream",
     "text": [
      "{'response_synthesizer:summary_template': ChatPromptTemplate(metadata={'prompt_type': <PromptType.CUSTOM: 'custom'>}, template_vars=['context_str', 'query_str'], kwargs={}, output_parser=None, template_var_mappings=None, function_mappings=None, message_templates=[ChatMessage(role=<MessageRole.SYSTEM: 'system'>, content='你是一个中文人工智能助手，以下是中国关于microeconomics考试的单项选择题以及相应的参考内容，请根据参考信息选出其中的正确答案。', additional_kwargs={}), ChatMessage(role=<MessageRole.USER: 'user'>, content='从不同来源获取的参考信息如下:\\n---------------------\\n{context_str}\\n---------------------\\n题目:{query_str}', additional_kwargs={}), ChatMessage(role=<MessageRole.USER: 'user'>, content='选项:\\nA. SAC曲线最低点的轨迹\\nB. SMC曲线最低点的轨迹\\nC. LAC曲线最低点的轨迹\\nD. LMC曲线最低点的轨迹\\n答案:\\n', additional_kwargs={})])}\n",
      "INFO:httpx:HTTP Request: POST http://gemini2.sufe.edu.cn:27282/v1/chat/completions \"HTTP/1.1 200 OK\"\n",
      "INFO:httpx:HTTP Request: POST http://gemini2.sufe.edu.cn:27282/v1/embeddings \"HTTP/1.1 200 OK\"\n",
      "INFO:httpx:HTTP Request: POST http://gemini2.sufe.edu.cn:27282/v1/chat/completions \"HTTP/1.1 200 OK\"\n"
     ]
    },
    {
     "name": "stderr",
     "output_type": "stream",
     "text": [
      " 68%|██████▊   | 27/40 [01:26<00:44,  3.43s/it]"
     ]
    },
    {
     "name": "stdout",
     "output_type": "stream",
     "text": [
      "{'response_synthesizer:summary_template': ChatPromptTemplate(metadata={'prompt_type': <PromptType.CUSTOM: 'custom'>}, template_vars=['context_str', 'query_str'], kwargs={}, output_parser=None, template_var_mappings=None, function_mappings=None, message_templates=[ChatMessage(role=<MessageRole.SYSTEM: 'system'>, content='你是一个中文人工智能助手，以下是中国关于microeconomics考试的单项选择题以及相应的参考内容，请根据参考信息选出其中的正确答案。', additional_kwargs={}), ChatMessage(role=<MessageRole.USER: 'user'>, content='从不同来源获取的参考信息如下:\\n---------------------\\n{context_str}\\n---------------------\\n题目:{query_str}', additional_kwargs={}), ChatMessage(role=<MessageRole.USER: 'user'>, content='选项:\\nA. 采用完全相同的生产工艺\\nB. 具有同一最低平均的成本\\nC. 都能获得经济利润\\nD. 以上全对\\n答案:\\n', additional_kwargs={})])}\n",
      "INFO:httpx:HTTP Request: POST http://gemini2.sufe.edu.cn:27282/v1/chat/completions \"HTTP/1.1 200 OK\"\n",
      "INFO:httpx:HTTP Request: POST http://gemini2.sufe.edu.cn:27282/v1/embeddings \"HTTP/1.1 200 OK\"\n",
      "INFO:httpx:HTTP Request: POST http://gemini2.sufe.edu.cn:27282/v1/chat/completions \"HTTP/1.1 200 OK\"\n"
     ]
    },
    {
     "name": "stderr",
     "output_type": "stream",
     "text": [
      " 70%|███████   | 28/40 [01:28<00:35,  2.96s/it]"
     ]
    },
    {
     "name": "stdout",
     "output_type": "stream",
     "text": [
      "{'response_synthesizer:summary_template': ChatPromptTemplate(metadata={'prompt_type': <PromptType.CUSTOM: 'custom'>}, template_vars=['context_str', 'query_str'], kwargs={}, output_parser=None, template_var_mappings=None, function_mappings=None, message_templates=[ChatMessage(role=<MessageRole.SYSTEM: 'system'>, content='你是一个中文人工智能助手，以下是中国关于microeconomics考试的单项选择题以及相应的参考内容，请根据参考信息选出其中的正确答案。', additional_kwargs={}), ChatMessage(role=<MessageRole.USER: 'user'>, content='从不同来源获取的参考信息如下:\\n---------------------\\n{context_str}\\n---------------------\\n题目:{query_str}', additional_kwargs={}), ChatMessage(role=<MessageRole.USER: 'user'>, content='选项:\\nA. 在长期边际成本曲线下降时，长期总成本曲线以越来越快的速度上升\\nB. 在长期边际成本曲线下降时，长期总成本曲线以以越来越慢的速度上升\\nC. 在长期边际成本曲线上升时，长期总成本曲线以越来越慢的速度上升\\nD. 以上均不正确\\n答案:\\n', additional_kwargs={})])}\n",
      "INFO:httpx:HTTP Request: POST http://gemini2.sufe.edu.cn:27282/v1/chat/completions \"HTTP/1.1 200 OK\"\n",
      "INFO:httpx:HTTP Request: POST http://gemini2.sufe.edu.cn:27282/v1/embeddings \"HTTP/1.1 200 OK\"\n",
      "INFO:httpx:HTTP Request: POST http://gemini2.sufe.edu.cn:27282/v1/chat/completions \"HTTP/1.1 200 OK\"\n"
     ]
    },
    {
     "name": "stderr",
     "output_type": "stream",
     "text": [
      " 72%|███████▎  | 29/40 [01:32<00:39,  3.56s/it]"
     ]
    },
    {
     "name": "stdout",
     "output_type": "stream",
     "text": [
      "{'response_synthesizer:summary_template': ChatPromptTemplate(metadata={'prompt_type': <PromptType.CUSTOM: 'custom'>}, template_vars=['context_str', 'query_str'], kwargs={}, output_parser=None, template_var_mappings=None, function_mappings=None, message_templates=[ChatMessage(role=<MessageRole.SYSTEM: 'system'>, content='你是一个中文人工智能助手，以下是中国关于microeconomics考试的单项选择题以及相应的参考内容，请根据参考信息选出其中的正确答案。', additional_kwargs={}), ChatMessage(role=<MessageRole.USER: 'user'>, content='从不同来源获取的参考信息如下:\\n---------------------\\n{context_str}\\n---------------------\\n题目:{query_str}', additional_kwargs={}), ChatMessage(role=<MessageRole.USER: 'user'>, content='选项:\\nA. 减少\\nB. 增加\\nC. 不变\\nD. 无法判断\\n答案:\\n', additional_kwargs={})])}\n",
      "INFO:httpx:HTTP Request: POST http://gemini2.sufe.edu.cn:27282/v1/chat/completions \"HTTP/1.1 200 OK\"\n",
      "INFO:httpx:HTTP Request: POST http://gemini2.sufe.edu.cn:27282/v1/embeddings \"HTTP/1.1 200 OK\"\n",
      "INFO:httpx:HTTP Request: POST http://gemini2.sufe.edu.cn:27282/v1/chat/completions \"HTTP/1.1 200 OK\"\n"
     ]
    },
    {
     "name": "stderr",
     "output_type": "stream",
     "text": [
      " 75%|███████▌  | 30/40 [01:35<00:31,  3.20s/it]"
     ]
    },
    {
     "name": "stdout",
     "output_type": "stream",
     "text": [
      "{'response_synthesizer:summary_template': ChatPromptTemplate(metadata={'prompt_type': <PromptType.CUSTOM: 'custom'>}, template_vars=['context_str', 'query_str'], kwargs={}, output_parser=None, template_var_mappings=None, function_mappings=None, message_templates=[ChatMessage(role=<MessageRole.SYSTEM: 'system'>, content='你是一个中文人工智能助手，以下是中国关于microeconomics考试的单项选择题以及相应的参考内容，请根据参考信息选出其中的正确答案。', additional_kwargs={}), ChatMessage(role=<MessageRole.USER: 'user'>, content='从不同来源获取的参考信息如下:\\n---------------------\\n{context_str}\\n---------------------\\n题目:{query_str}', additional_kwargs={}), ChatMessage(role=<MessageRole.USER: 'user'>, content='选项:\\nA. 不断上升\\nB. 不断下降\\nC. 先上升后下降\\nD. 先下降后上升\\n答案:\\n', additional_kwargs={})])}\n",
      "INFO:httpx:HTTP Request: POST http://gemini2.sufe.edu.cn:27282/v1/chat/completions \"HTTP/1.1 200 OK\"\n",
      "INFO:httpx:HTTP Request: POST http://gemini2.sufe.edu.cn:27282/v1/embeddings \"HTTP/1.1 200 OK\"\n",
      "INFO:httpx:HTTP Request: POST http://gemini2.sufe.edu.cn:27282/v1/chat/completions \"HTTP/1.1 200 OK\"\n"
     ]
    },
    {
     "name": "stderr",
     "output_type": "stream",
     "text": [
      " 78%|███████▊  | 31/40 [01:37<00:25,  2.80s/it]"
     ]
    },
    {
     "name": "stdout",
     "output_type": "stream",
     "text": [
      "{'response_synthesizer:summary_template': ChatPromptTemplate(metadata={'prompt_type': <PromptType.CUSTOM: 'custom'>}, template_vars=['context_str', 'query_str'], kwargs={}, output_parser=None, template_var_mappings=None, function_mappings=None, message_templates=[ChatMessage(role=<MessageRole.SYSTEM: 'system'>, content='你是一个中文人工智能助手，以下是中国关于microeconomics考试的单项选择题以及相应的参考内容，请根据参考信息选出其中的正确答案。', additional_kwargs={}), ChatMessage(role=<MessageRole.USER: 'user'>, content='从不同来源获取的参考信息如下:\\n---------------------\\n{context_str}\\n---------------------\\n题目:{query_str}', additional_kwargs={}), ChatMessage(role=<MessageRole.USER: 'user'>, content='选项:\\nA. 与纵轴相交\\nB. 经过原点\\nC. 与平均产量曲线相交\\nD. 与横轴相交\\n答案:\\n', additional_kwargs={})])}\n",
      "INFO:httpx:HTTP Request: POST http://gemini2.sufe.edu.cn:27282/v1/chat/completions \"HTTP/1.1 200 OK\"\n",
      "INFO:httpx:HTTP Request: POST http://gemini2.sufe.edu.cn:27282/v1/embeddings \"HTTP/1.1 200 OK\"\n",
      "INFO:httpx:HTTP Request: POST http://gemini2.sufe.edu.cn:27282/v1/chat/completions \"HTTP/1.1 200 OK\"\n"
     ]
    },
    {
     "name": "stderr",
     "output_type": "stream",
     "text": [
      " 80%|████████  | 32/40 [01:41<00:24,  3.11s/it]"
     ]
    },
    {
     "name": "stdout",
     "output_type": "stream",
     "text": [
      "{'response_synthesizer:summary_template': ChatPromptTemplate(metadata={'prompt_type': <PromptType.CUSTOM: 'custom'>}, template_vars=['context_str', 'query_str'], kwargs={}, output_parser=None, template_var_mappings=None, function_mappings=None, message_templates=[ChatMessage(role=<MessageRole.SYSTEM: 'system'>, content='你是一个中文人工智能助手，以下是中国关于microeconomics考试的单项选择题以及相应的参考内容，请根据参考信息选出其中的正确答案。', additional_kwargs={}), ChatMessage(role=<MessageRole.USER: 'user'>, content='从不同来源获取的参考信息如下:\\n---------------------\\n{context_str}\\n---------------------\\n题目:{query_str}', additional_kwargs={}), ChatMessage(role=<MessageRole.USER: 'user'>, content='选项:\\nA. 增加\\nB. 减少\\nC. 不变\\nD. 无法确定\\n答案:\\n', additional_kwargs={})])}\n",
      "INFO:httpx:HTTP Request: POST http://gemini2.sufe.edu.cn:27282/v1/chat/completions \"HTTP/1.1 200 OK\"\n",
      "INFO:httpx:HTTP Request: POST http://gemini2.sufe.edu.cn:27282/v1/embeddings \"HTTP/1.1 200 OK\"\n",
      "INFO:httpx:HTTP Request: POST http://gemini2.sufe.edu.cn:27282/v1/chat/completions \"HTTP/1.1 200 OK\"\n"
     ]
    },
    {
     "name": "stderr",
     "output_type": "stream",
     "text": [
      " 82%|████████▎ | 33/40 [01:42<00:19,  2.77s/it]"
     ]
    },
    {
     "name": "stdout",
     "output_type": "stream",
     "text": [
      "{'response_synthesizer:summary_template': ChatPromptTemplate(metadata={'prompt_type': <PromptType.CUSTOM: 'custom'>}, template_vars=['context_str', 'query_str'], kwargs={}, output_parser=None, template_var_mappings=None, function_mappings=None, message_templates=[ChatMessage(role=<MessageRole.SYSTEM: 'system'>, content='你是一个中文人工智能助手，以下是中国关于microeconomics考试的单项选择题以及相应的参考内容，请根据参考信息选出其中的正确答案。', additional_kwargs={}), ChatMessage(role=<MessageRole.USER: 'user'>, content='从不同来源获取的参考信息如下:\\n---------------------\\n{context_str}\\n---------------------\\n题目:{query_str}', additional_kwargs={}), ChatMessage(role=<MessageRole.USER: 'user'>, content='选项:\\nA. 消费者的荔枝对苹果的边际替代率相等\\nB. 荔枝对苹果的边际替代率，济南消费者要大于广东消费者\\nC. 苹果对荔枝的边际替代率，济南消费者要大于广东消费者\\nD. 无法确定\\n答案:\\n', additional_kwargs={})])}\n",
      "INFO:httpx:HTTP Request: POST http://gemini2.sufe.edu.cn:27282/v1/chat/completions \"HTTP/1.1 200 OK\"\n",
      "INFO:httpx:HTTP Request: POST http://gemini2.sufe.edu.cn:27282/v1/embeddings \"HTTP/1.1 200 OK\"\n",
      "INFO:httpx:HTTP Request: POST http://gemini2.sufe.edu.cn:27282/v1/chat/completions \"HTTP/1.1 200 OK\"\n"
     ]
    },
    {
     "name": "stderr",
     "output_type": "stream",
     "text": [
      " 85%|████████▌ | 34/40 [01:50<00:25,  4.31s/it]"
     ]
    },
    {
     "name": "stdout",
     "output_type": "stream",
     "text": [
      "{'response_synthesizer:summary_template': ChatPromptTemplate(metadata={'prompt_type': <PromptType.CUSTOM: 'custom'>}, template_vars=['context_str', 'query_str'], kwargs={}, output_parser=None, template_var_mappings=None, function_mappings=None, message_templates=[ChatMessage(role=<MessageRole.SYSTEM: 'system'>, content='你是一个中文人工智能助手，以下是中国关于microeconomics考试的单项选择题以及相应的参考内容，请根据参考信息选出其中的正确答案。', additional_kwargs={}), ChatMessage(role=<MessageRole.USER: 'user'>, content='从不同来源获取的参考信息如下:\\n---------------------\\n{context_str}\\n---------------------\\n题目:{query_str}', additional_kwargs={}), ChatMessage(role=<MessageRole.USER: 'user'>, content='选项:\\nA. 吉芬商品\\nB. 低档商品\\nC. 正常商品\\nD. 生活必需品\\n答案:\\n', additional_kwargs={})])}\n",
      "INFO:httpx:HTTP Request: POST http://gemini2.sufe.edu.cn:27282/v1/chat/completions \"HTTP/1.1 200 OK\"\n",
      "INFO:httpx:HTTP Request: POST http://gemini2.sufe.edu.cn:27282/v1/embeddings \"HTTP/1.1 200 OK\"\n",
      "INFO:httpx:HTTP Request: POST http://gemini2.sufe.edu.cn:27282/v1/chat/completions \"HTTP/1.1 200 OK\"\n"
     ]
    },
    {
     "name": "stderr",
     "output_type": "stream",
     "text": [
      " 88%|████████▊ | 35/40 [01:53<00:18,  3.75s/it]"
     ]
    },
    {
     "name": "stdout",
     "output_type": "stream",
     "text": [
      "{'response_synthesizer:summary_template': ChatPromptTemplate(metadata={'prompt_type': <PromptType.CUSTOM: 'custom'>}, template_vars=['context_str', 'query_str'], kwargs={}, output_parser=None, template_var_mappings=None, function_mappings=None, message_templates=[ChatMessage(role=<MessageRole.SYSTEM: 'system'>, content='你是一个中文人工智能助手，以下是中国关于microeconomics考试的单项选择题以及相应的参考内容，请根据参考信息选出其中的正确答案。', additional_kwargs={}), ChatMessage(role=<MessageRole.USER: 'user'>, content='从不同来源获取的参考信息如下:\\n---------------------\\n{context_str}\\n---------------------\\n题目:{query_str}', additional_kwargs={}), ChatMessage(role=<MessageRole.USER: 'user'>, content='选项:\\nA. 商品Y\\nB. 商品X\\nC. 商品X和Y\\nD. 以上都不正确\\n答案:\\n', additional_kwargs={})])}\n",
      "INFO:httpx:HTTP Request: POST http://gemini2.sufe.edu.cn:27282/v1/chat/completions \"HTTP/1.1 200 OK\"\n",
      "INFO:httpx:HTTP Request: POST http://gemini2.sufe.edu.cn:27282/v1/embeddings \"HTTP/1.1 200 OK\"\n",
      "INFO:httpx:HTTP Request: POST http://gemini2.sufe.edu.cn:27282/v1/chat/completions \"HTTP/1.1 200 OK\"\n"
     ]
    },
    {
     "name": "stderr",
     "output_type": "stream",
     "text": [
      " 90%|█████████ | 36/40 [01:55<00:13,  3.33s/it]"
     ]
    },
    {
     "name": "stdout",
     "output_type": "stream",
     "text": [
      "{'response_synthesizer:summary_template': ChatPromptTemplate(metadata={'prompt_type': <PromptType.CUSTOM: 'custom'>}, template_vars=['context_str', 'query_str'], kwargs={}, output_parser=None, template_var_mappings=None, function_mappings=None, message_templates=[ChatMessage(role=<MessageRole.SYSTEM: 'system'>, content='你是一个中文人工智能助手，以下是中国关于microeconomics考试的单项选择题以及相应的参考内容，请根据参考信息选出其中的正确答案。', additional_kwargs={}), ChatMessage(role=<MessageRole.USER: 'user'>, content='从不同来源获取的参考信息如下:\\n---------------------\\n{context_str}\\n---------------------\\n题目:{query_str}', additional_kwargs={}), ChatMessage(role=<MessageRole.USER: 'user'>, content='选项:\\nA. 增加税收\\nB. 实行农产品的配给制\\nC. 收购过剩的农产品\\nD. 对农民补贴\\n答案:\\n', additional_kwargs={})])}\n",
      "INFO:httpx:HTTP Request: POST http://gemini2.sufe.edu.cn:27282/v1/chat/completions \"HTTP/1.1 200 OK\"\n",
      "INFO:httpx:HTTP Request: POST http://gemini2.sufe.edu.cn:27282/v1/embeddings \"HTTP/1.1 200 OK\"\n",
      "INFO:httpx:HTTP Request: POST http://gemini2.sufe.edu.cn:27282/v1/chat/completions \"HTTP/1.1 200 OK\"\n"
     ]
    },
    {
     "name": "stderr",
     "output_type": "stream",
     "text": [
      " 92%|█████████▎| 37/40 [01:57<00:09,  3.01s/it]"
     ]
    },
    {
     "name": "stdout",
     "output_type": "stream",
     "text": [
      "{'response_synthesizer:summary_template': ChatPromptTemplate(metadata={'prompt_type': <PromptType.CUSTOM: 'custom'>}, template_vars=['context_str', 'query_str'], kwargs={}, output_parser=None, template_var_mappings=None, function_mappings=None, message_templates=[ChatMessage(role=<MessageRole.SYSTEM: 'system'>, content='你是一个中文人工智能助手，以下是中国关于microeconomics考试的单项选择题以及相应的参考内容，请根据参考信息选出其中的正确答案。', additional_kwargs={}), ChatMessage(role=<MessageRole.USER: 'user'>, content='从不同来源获取的参考信息如下:\\n---------------------\\n{context_str}\\n---------------------\\n题目:{query_str}', additional_kwargs={}), ChatMessage(role=<MessageRole.USER: 'user'>, content='选项:\\nA. 药品价格上升，使得药品质量得到改善\\nB. 汽油价格的提高，小汽车的销量减少\\nC. 照相机价格的下降导致其销量的增加\\nD. 牛肉价格提高导致羊肉的销量增加\\n答案:\\n', additional_kwargs={})])}\n",
      "INFO:httpx:HTTP Request: POST http://gemini2.sufe.edu.cn:27282/v1/chat/completions \"HTTP/1.1 200 OK\"\n",
      "INFO:httpx:HTTP Request: POST http://gemini2.sufe.edu.cn:27282/v1/embeddings \"HTTP/1.1 200 OK\"\n",
      "INFO:httpx:HTTP Request: POST http://gemini2.sufe.edu.cn:27282/v1/chat/completions \"HTTP/1.1 200 OK\"\n"
     ]
    },
    {
     "name": "stderr",
     "output_type": "stream",
     "text": [
      " 95%|█████████▌| 38/40 [02:00<00:05,  2.73s/it]"
     ]
    },
    {
     "name": "stdout",
     "output_type": "stream",
     "text": [
      "{'response_synthesizer:summary_template': ChatPromptTemplate(metadata={'prompt_type': <PromptType.CUSTOM: 'custom'>}, template_vars=['context_str', 'query_str'], kwargs={}, output_parser=None, template_var_mappings=None, function_mappings=None, message_templates=[ChatMessage(role=<MessageRole.SYSTEM: 'system'>, content='你是一个中文人工智能助手，以下是中国关于microeconomics考试的单项选择题以及相应的参考内容，请根据参考信息选出其中的正确答案。', additional_kwargs={}), ChatMessage(role=<MessageRole.USER: 'user'>, content='从不同来源获取的参考信息如下:\\n---------------------\\n{context_str}\\n---------------------\\n题目:{query_str}', additional_kwargs={}), ChatMessage(role=<MessageRole.USER: 'user'>, content='选项:\\nA. 双方在每一期都选择“坦白”\\nB. 双方在每一期都选择“抵赖”\\nC. 双方在前$N-1$期都选择“坦白”，在最后一期都选择“抵赖”\\nD. 双方在前$N-1$期都选择“抵赖”，在最后一期都选择“坦白”\\n答案:\\n', additional_kwargs={})])}\n",
      "INFO:httpx:HTTP Request: POST http://gemini2.sufe.edu.cn:27282/v1/chat/completions \"HTTP/1.1 200 OK\"\n",
      "INFO:httpx:HTTP Request: POST http://gemini2.sufe.edu.cn:27282/v1/embeddings \"HTTP/1.1 200 OK\"\n",
      "INFO:httpx:HTTP Request: POST http://gemini2.sufe.edu.cn:27282/v1/chat/completions \"HTTP/1.1 200 OK\"\n"
     ]
    },
    {
     "name": "stderr",
     "output_type": "stream",
     "text": [
      " 98%|█████████▊| 39/40 [02:07<00:04,  4.19s/it]"
     ]
    },
    {
     "name": "stdout",
     "output_type": "stream",
     "text": [
      "{'response_synthesizer:summary_template': ChatPromptTemplate(metadata={'prompt_type': <PromptType.CUSTOM: 'custom'>}, template_vars=['context_str', 'query_str'], kwargs={}, output_parser=None, template_var_mappings=None, function_mappings=None, message_templates=[ChatMessage(role=<MessageRole.SYSTEM: 'system'>, content='你是一个中文人工智能助手，以下是中国关于microeconomics考试的单项选择题以及相应的参考内容，请根据参考信息选出其中的正确答案。', additional_kwargs={}), ChatMessage(role=<MessageRole.USER: 'user'>, content='从不同来源获取的参考信息如下:\\n---------------------\\n{context_str}\\n---------------------\\n题目:{query_str}', additional_kwargs={}), ChatMessage(role=<MessageRole.USER: 'user'>, content='选项:\\nA. 收益\\nB. 支付\\nC. 决策\\nD. 利润\\n答案:\\n', additional_kwargs={})])}\n",
      "INFO:httpx:HTTP Request: POST http://gemini2.sufe.edu.cn:27282/v1/chat/completions \"HTTP/1.1 200 OK\"\n",
      "INFO:httpx:HTTP Request: POST http://gemini2.sufe.edu.cn:27282/v1/embeddings \"HTTP/1.1 200 OK\"\n",
      "INFO:httpx:HTTP Request: POST http://gemini2.sufe.edu.cn:27282/v1/chat/completions \"HTTP/1.1 200 OK\"\n"
     ]
    },
    {
     "name": "stderr",
     "output_type": "stream",
     "text": [
      "100%|██████████| 40/40 [02:09<00:00,  3.24s/it]\n"
     ]
    },
    {
     "name": "stdout",
     "output_type": "stream",
     "text": [
      "Subject: microeconomics\n",
      "Acc: 40.0\n",
      "Accuracy:\n",
      "microeconomics :  40.0\n",
      "--------------------------------------------------------------------------------\n",
      "Accuracy_subject:\n",
      "microeconomics :  40.0\n",
      "--------------------------------------------------------------------------------\n",
      "Accuracy_grouped:\n",
      "Economy :  0.4\n",
      "Avg: \n",
      "0.4\n",
      "############# nodes group: size_1024_overlap_128 ###############\n",
      "0.0 Inference starts at 2024-04-11_23-41-09 on chatglm with subject of microeconomics!\n"
     ]
    },
    {
     "name": "stderr",
     "output_type": "stream",
     "text": [
      "  0%|          | 0/40 [00:00<?, ?it/s]"
     ]
    },
    {
     "name": "stdout",
     "output_type": "stream",
     "text": [
      "{'response_synthesizer:summary_template': ChatPromptTemplate(metadata={'prompt_type': <PromptType.CUSTOM: 'custom'>}, template_vars=['context_str', 'query_str'], kwargs={}, output_parser=None, template_var_mappings=None, function_mappings=None, message_templates=[ChatMessage(role=<MessageRole.SYSTEM: 'system'>, content='你是一个中文人工智能助手，以下是中国关于microeconomics考试的单项选择题以及相应的参考内容，请根据参考信息选出其中的正确答案。', additional_kwargs={}), ChatMessage(role=<MessageRole.USER: 'user'>, content='从不同来源获取的参考信息如下:\\n---------------------\\n{context_str}\\n---------------------\\n题目:{query_str}', additional_kwargs={}), ChatMessage(role=<MessageRole.USER: 'user'>, content='选项:\\nA. 平均总成本小于100\\nB. 平均固定成本小于100\\nC. 边际产量增加\\nD. 平均可变成本小于100\\n答案:\\n', additional_kwargs={})])}\n",
      "INFO:httpx:HTTP Request: POST http://gemini2.sufe.edu.cn:27282/v1/chat/completions \"HTTP/1.1 200 OK\"\n",
      "INFO:httpx:HTTP Request: POST http://gemini2.sufe.edu.cn:27282/v1/embeddings \"HTTP/1.1 200 OK\"\n",
      "INFO:httpx:HTTP Request: POST http://gemini2.sufe.edu.cn:27282/v1/chat/completions \"HTTP/1.1 200 OK\"\n"
     ]
    },
    {
     "name": "stderr",
     "output_type": "stream",
     "text": [
      "  2%|▎         | 1/40 [00:09<06:24,  9.87s/it]"
     ]
    },
    {
     "name": "stdout",
     "output_type": "stream",
     "text": [
      "{'response_synthesizer:summary_template': ChatPromptTemplate(metadata={'prompt_type': <PromptType.CUSTOM: 'custom'>}, template_vars=['context_str', 'query_str'], kwargs={}, output_parser=None, template_var_mappings=None, function_mappings=None, message_templates=[ChatMessage(role=<MessageRole.SYSTEM: 'system'>, content='你是一个中文人工智能助手，以下是中国关于microeconomics考试的单项选择题以及相应的参考内容，请根据参考信息选出其中的正确答案。', additional_kwargs={}), ChatMessage(role=<MessageRole.USER: 'user'>, content='从不同来源获取的参考信息如下:\\n---------------------\\n{context_str}\\n---------------------\\n题目:{query_str}', additional_kwargs={}), ChatMessage(role=<MessageRole.USER: 'user'>, content='选项:\\nA. 固定不变\\nB. 经常变动\\nC. 等于1\\nD. 等于0\\n答案:\\n', additional_kwargs={})])}\n",
      "INFO:httpx:HTTP Request: POST http://gemini2.sufe.edu.cn:27282/v1/chat/completions \"HTTP/1.1 200 OK\"\n",
      "INFO:httpx:HTTP Request: POST http://gemini2.sufe.edu.cn:27282/v1/embeddings \"HTTP/1.1 200 OK\"\n",
      "INFO:httpx:HTTP Request: POST http://gemini2.sufe.edu.cn:27282/v1/chat/completions \"HTTP/1.1 200 OK\"\n"
     ]
    },
    {
     "name": "stderr",
     "output_type": "stream",
     "text": [
      "  5%|▌         | 2/40 [00:11<03:16,  5.17s/it]"
     ]
    },
    {
     "name": "stdout",
     "output_type": "stream",
     "text": [
      "{'response_synthesizer:summary_template': ChatPromptTemplate(metadata={'prompt_type': <PromptType.CUSTOM: 'custom'>}, template_vars=['context_str', 'query_str'], kwargs={}, output_parser=None, template_var_mappings=None, function_mappings=None, message_templates=[ChatMessage(role=<MessageRole.SYSTEM: 'system'>, content='你是一个中文人工智能助手，以下是中国关于microeconomics考试的单项选择题以及相应的参考内容，请根据参考信息选出其中的正确答案。', additional_kwargs={}), ChatMessage(role=<MessageRole.USER: 'user'>, content='从不同来源获取的参考信息如下:\\n---------------------\\n{context_str}\\n---------------------\\n题目:{query_str}', additional_kwargs={}), ChatMessage(role=<MessageRole.USER: 'user'>, content='选项:\\nA. 既有厂商进入也有厂商退出该行业\\nB. 完全竞争被不完全竞争所取代\\nC. 新的厂商进入了该行业\\nD. 原有厂商退出了该行业\\n答案:\\n', additional_kwargs={})])}\n",
      "INFO:httpx:HTTP Request: POST http://gemini2.sufe.edu.cn:27282/v1/chat/completions \"HTTP/1.1 200 OK\"\n",
      "INFO:httpx:HTTP Request: POST http://gemini2.sufe.edu.cn:27282/v1/embeddings \"HTTP/1.1 200 OK\"\n",
      "INFO:httpx:HTTP Request: POST http://gemini2.sufe.edu.cn:27282/v1/chat/completions \"HTTP/1.1 200 OK\"\n"
     ]
    },
    {
     "name": "stderr",
     "output_type": "stream",
     "text": [
      "  8%|▊         | 3/40 [00:15<02:52,  4.67s/it]"
     ]
    },
    {
     "name": "stdout",
     "output_type": "stream",
     "text": [
      "{'response_synthesizer:summary_template': ChatPromptTemplate(metadata={'prompt_type': <PromptType.CUSTOM: 'custom'>}, template_vars=['context_str', 'query_str'], kwargs={}, output_parser=None, template_var_mappings=None, function_mappings=None, message_templates=[ChatMessage(role=<MessageRole.SYSTEM: 'system'>, content='你是一个中文人工智能助手，以下是中国关于microeconomics考试的单项选择题以及相应的参考内容，请根据参考信息选出其中的正确答案。', additional_kwargs={}), ChatMessage(role=<MessageRole.USER: 'user'>, content='从不同来源获取的参考信息如下:\\n---------------------\\n{context_str}\\n---------------------\\n题目:{query_str}', additional_kwargs={}), ChatMessage(role=<MessageRole.USER: 'user'>, content='选项:\\nA. 边际成本递减\\nB. 边际产量递减\\nC. 边际效益递减\\nD. 规模效益递减\\n答案:\\n', additional_kwargs={})])}\n",
      "INFO:httpx:HTTP Request: POST http://gemini2.sufe.edu.cn:27282/v1/chat/completions \"HTTP/1.1 200 OK\"\n",
      "INFO:httpx:HTTP Request: POST http://gemini2.sufe.edu.cn:27282/v1/embeddings \"HTTP/1.1 200 OK\"\n",
      "INFO:httpx:HTTP Request: POST http://gemini2.sufe.edu.cn:27282/v1/chat/completions \"HTTP/1.1 200 OK\"\n"
     ]
    },
    {
     "name": "stderr",
     "output_type": "stream",
     "text": [
      " 10%|█         | 4/40 [00:17<02:08,  3.56s/it]"
     ]
    },
    {
     "name": "stdout",
     "output_type": "stream",
     "text": [
      "{'response_synthesizer:summary_template': ChatPromptTemplate(metadata={'prompt_type': <PromptType.CUSTOM: 'custom'>}, template_vars=['context_str', 'query_str'], kwargs={}, output_parser=None, template_var_mappings=None, function_mappings=None, message_templates=[ChatMessage(role=<MessageRole.SYSTEM: 'system'>, content='你是一个中文人工智能助手，以下是中国关于microeconomics考试的单项选择题以及相应的参考内容，请根据参考信息选出其中的正确答案。', additional_kwargs={}), ChatMessage(role=<MessageRole.USER: 'user'>, content='从不同来源获取的参考信息如下:\\n---------------------\\n{context_str}\\n---------------------\\n题目:{query_str}', additional_kwargs={}), ChatMessage(role=<MessageRole.USER: 'user'>, content='选项:\\nA. 其下部向里偏转，即做顺时针转动\\nB. 其下部向外偏转，即做逆时针转动\\nC. 向下平行移动\\nD. 向上平行移动\\n答案:\\n', additional_kwargs={})])}\n",
      "INFO:httpx:HTTP Request: POST http://gemini2.sufe.edu.cn:27282/v1/chat/completions \"HTTP/1.1 200 OK\"\n",
      "INFO:httpx:HTTP Request: POST http://gemini2.sufe.edu.cn:27282/v1/embeddings \"HTTP/1.1 200 OK\"\n",
      "INFO:httpx:HTTP Request: POST http://gemini2.sufe.edu.cn:27282/v1/chat/completions \"HTTP/1.1 200 OK\"\n"
     ]
    },
    {
     "name": "stderr",
     "output_type": "stream",
     "text": [
      " 12%|█▎        | 5/40 [00:19<01:44,  2.99s/it]"
     ]
    },
    {
     "name": "stdout",
     "output_type": "stream",
     "text": [
      "{'response_synthesizer:summary_template': ChatPromptTemplate(metadata={'prompt_type': <PromptType.CUSTOM: 'custom'>}, template_vars=['context_str', 'query_str'], kwargs={}, output_parser=None, template_var_mappings=None, function_mappings=None, message_templates=[ChatMessage(role=<MessageRole.SYSTEM: 'system'>, content='你是一个中文人工智能助手，以下是中国关于microeconomics考试的单项选择题以及相应的参考内容，请根据参考信息选出其中的正确答案。', additional_kwargs={}), ChatMessage(role=<MessageRole.USER: 'user'>, content='从不同来源获取的参考信息如下:\\n---------------------\\n{context_str}\\n---------------------\\n题目:{query_str}', additional_kwargs={}), ChatMessage(role=<MessageRole.USER: 'user'>, content='选项:\\nA. 未达到利润最大化，应减少产量\\nB. 未达到利润最大化，应扩大产量\\nC. 生产出利润最大化，但是成本未达到最小化\\nD. 在成本最小条件下实现利润最大化产量\\n答案:\\n', additional_kwargs={})])}\n",
      "INFO:httpx:HTTP Request: POST http://gemini2.sufe.edu.cn:27282/v1/chat/completions \"HTTP/1.1 200 OK\"\n",
      "INFO:httpx:HTTP Request: POST http://gemini2.sufe.edu.cn:27282/v1/embeddings \"HTTP/1.1 200 OK\"\n",
      "INFO:httpx:HTTP Request: POST http://gemini2.sufe.edu.cn:27282/v1/chat/completions \"HTTP/1.1 200 OK\"\n"
     ]
    },
    {
     "name": "stderr",
     "output_type": "stream",
     "text": [
      " 15%|█▌        | 6/40 [00:28<02:47,  4.92s/it]"
     ]
    },
    {
     "name": "stdout",
     "output_type": "stream",
     "text": [
      "{'response_synthesizer:summary_template': ChatPromptTemplate(metadata={'prompt_type': <PromptType.CUSTOM: 'custom'>}, template_vars=['context_str', 'query_str'], kwargs={}, output_parser=None, template_var_mappings=None, function_mappings=None, message_templates=[ChatMessage(role=<MessageRole.SYSTEM: 'system'>, content='你是一个中文人工智能助手，以下是中国关于microeconomics考试的单项选择题以及相应的参考内容，请根据参考信息选出其中的正确答案。', additional_kwargs={}), ChatMessage(role=<MessageRole.USER: 'user'>, content='从不同来源获取的参考信息如下:\\n---------------------\\n{context_str}\\n---------------------\\n题目:{query_str}', additional_kwargs={}), ChatMessage(role=<MessageRole.USER: 'user'>, content='选项:\\nA. 边际产品价值降低；劳动的需求曲线右移\\nB. 边际产品价值增加；劳动的需求曲线左移\\nC. 边际产品价值增加；劳动的需求曲线右移\\nD. 边际产品价值降低；劳动的需求曲线左移\\n答案:\\n', additional_kwargs={})])}\n",
      "INFO:httpx:HTTP Request: POST http://gemini2.sufe.edu.cn:27282/v1/chat/completions \"HTTP/1.1 200 OK\"\n",
      "INFO:httpx:HTTP Request: POST http://gemini2.sufe.edu.cn:27282/v1/embeddings \"HTTP/1.1 200 OK\"\n",
      "INFO:httpx:HTTP Request: POST http://gemini2.sufe.edu.cn:27282/v1/chat/completions \"HTTP/1.1 200 OK\"\n"
     ]
    },
    {
     "name": "stderr",
     "output_type": "stream",
     "text": [
      " 18%|█▊        | 7/40 [00:33<02:41,  4.91s/it]"
     ]
    },
    {
     "name": "stdout",
     "output_type": "stream",
     "text": [
      "{'response_synthesizer:summary_template': ChatPromptTemplate(metadata={'prompt_type': <PromptType.CUSTOM: 'custom'>}, template_vars=['context_str', 'query_str'], kwargs={}, output_parser=None, template_var_mappings=None, function_mappings=None, message_templates=[ChatMessage(role=<MessageRole.SYSTEM: 'system'>, content='你是一个中文人工智能助手，以下是中国关于microeconomics考试的单项选择题以及相应的参考内容，请根据参考信息选出其中的正确答案。', additional_kwargs={}), ChatMessage(role=<MessageRole.USER: 'user'>, content='从不同来源获取的参考信息如下:\\n---------------------\\n{context_str}\\n---------------------\\n题目:{query_str}', additional_kwargs={}), ChatMessage(role=<MessageRole.USER: 'user'>, content='选项:\\nA. 向前弯曲\\nB. 向后弯曲\\nC. 仍保持向右上方倾斜\\nD. 向右下方倾斜\\n答案:\\n', additional_kwargs={})])}\n",
      "INFO:httpx:HTTP Request: POST http://gemini2.sufe.edu.cn:27282/v1/chat/completions \"HTTP/1.1 200 OK\"\n",
      "INFO:httpx:HTTP Request: POST http://gemini2.sufe.edu.cn:27282/v1/embeddings \"HTTP/1.1 200 OK\"\n",
      "INFO:httpx:HTTP Request: POST http://gemini2.sufe.edu.cn:27282/v1/chat/completions \"HTTP/1.1 200 OK\"\n"
     ]
    },
    {
     "name": "stderr",
     "output_type": "stream",
     "text": [
      " 20%|██        | 8/40 [00:34<02:05,  3.91s/it]"
     ]
    },
    {
     "name": "stdout",
     "output_type": "stream",
     "text": [
      "{'response_synthesizer:summary_template': ChatPromptTemplate(metadata={'prompt_type': <PromptType.CUSTOM: 'custom'>}, template_vars=['context_str', 'query_str'], kwargs={}, output_parser=None, template_var_mappings=None, function_mappings=None, message_templates=[ChatMessage(role=<MessageRole.SYSTEM: 'system'>, content='你是一个中文人工智能助手，以下是中国关于microeconomics考试的单项选择题以及相应的参考内容，请根据参考信息选出其中的正确答案。', additional_kwargs={}), ChatMessage(role=<MessageRole.USER: 'user'>, content='从不同来源获取的参考信息如下:\\n---------------------\\n{context_str}\\n---------------------\\n题目:{query_str}', additional_kwargs={}), ChatMessage(role=<MessageRole.USER: 'user'>, content='选项:\\nA. 它是指工资率对劳动者的收入，从而劳动时间产生的影响\\nB. 若劳动时间不变，工资率的提高使得劳动者的收入提高\\nC. 若劳动时间不变，工资率的提高使得劳动者有能力消费更多的闲暇\\nD. 工资率的提高的收入效应使得劳动供给增加\\n答案:\\n', additional_kwargs={})])}\n",
      "INFO:httpx:HTTP Request: POST http://gemini2.sufe.edu.cn:27282/v1/chat/completions \"HTTP/1.1 200 OK\"\n",
      "INFO:httpx:HTTP Request: POST http://gemini2.sufe.edu.cn:27282/v1/embeddings \"HTTP/1.1 200 OK\"\n",
      "INFO:httpx:HTTP Request: POST http://gemini2.sufe.edu.cn:27282/v1/chat/completions \"HTTP/1.1 200 OK\"\n"
     ]
    },
    {
     "name": "stderr",
     "output_type": "stream",
     "text": [
      " 22%|██▎       | 9/40 [00:39<02:03,  4.00s/it]"
     ]
    },
    {
     "name": "stdout",
     "output_type": "stream",
     "text": [
      "{'response_synthesizer:summary_template': ChatPromptTemplate(metadata={'prompt_type': <PromptType.CUSTOM: 'custom'>}, template_vars=['context_str', 'query_str'], kwargs={}, output_parser=None, template_var_mappings=None, function_mappings=None, message_templates=[ChatMessage(role=<MessageRole.SYSTEM: 'system'>, content='你是一个中文人工智能助手，以下是中国关于microeconomics考试的单项选择题以及相应的参考内容，请根据参考信息选出其中的正确答案。', additional_kwargs={}), ChatMessage(role=<MessageRole.USER: 'user'>, content='从不同来源获取的参考信息如下:\\n---------------------\\n{context_str}\\n---------------------\\n题目:{query_str}', additional_kwargs={}), ChatMessage(role=<MessageRole.USER: 'user'>, content='选项:\\nA. 乙用X向甲交换Y\\nB. 乙用Y向甲交换X\\nC. 甲和乙不会交换商品\\nD. 以上均不正确\\n答案:\\n', additional_kwargs={})])}\n",
      "INFO:httpx:HTTP Request: POST http://gemini2.sufe.edu.cn:27282/v1/chat/completions \"HTTP/1.1 200 OK\"\n",
      "INFO:httpx:HTTP Request: POST http://gemini2.sufe.edu.cn:27282/v1/embeddings \"HTTP/1.1 200 OK\"\n",
      "INFO:httpx:HTTP Request: POST http://gemini2.sufe.edu.cn:27282/v1/chat/completions \"HTTP/1.1 200 OK\"\n"
     ]
    },
    {
     "name": "stderr",
     "output_type": "stream",
     "text": [
      " 25%|██▌       | 10/40 [00:43<02:05,  4.20s/it]"
     ]
    },
    {
     "name": "stdout",
     "output_type": "stream",
     "text": [
      "{'response_synthesizer:summary_template': ChatPromptTemplate(metadata={'prompt_type': <PromptType.CUSTOM: 'custom'>}, template_vars=['context_str', 'query_str'], kwargs={}, output_parser=None, template_var_mappings=None, function_mappings=None, message_templates=[ChatMessage(role=<MessageRole.SYSTEM: 'system'>, content='你是一个中文人工智能助手，以下是中国关于microeconomics考试的单项选择题以及相应的参考内容，请根据参考信息选出其中的正确答案。', additional_kwargs={}), ChatMessage(role=<MessageRole.USER: 'user'>, content='从不同来源获取的参考信息如下:\\n---------------------\\n{context_str}\\n---------------------\\n题目:{query_str}', additional_kwargs={}), ChatMessage(role=<MessageRole.USER: 'user'>, content='选项:\\nA. 一个部门的变化对其他部门的影响\\nB. 与供给相独立的需求的变化\\nC. 一个市场出现的情况，忽视其他市场\\nD. 经济中所有的相互作用和相互依存关系\\n答案:\\n', additional_kwargs={})])}\n",
      "INFO:httpx:HTTP Request: POST http://gemini2.sufe.edu.cn:27282/v1/chat/completions \"HTTP/1.1 200 OK\"\n",
      "INFO:httpx:HTTP Request: POST http://gemini2.sufe.edu.cn:27282/v1/embeddings \"HTTP/1.1 200 OK\"\n",
      "INFO:httpx:HTTP Request: POST http://gemini2.sufe.edu.cn:27282/v1/chat/completions \"HTTP/1.1 200 OK\"\n"
     ]
    },
    {
     "name": "stderr",
     "output_type": "stream",
     "text": [
      " 28%|██▊       | 11/40 [00:45<01:37,  3.38s/it]"
     ]
    },
    {
     "name": "stdout",
     "output_type": "stream",
     "text": [
      "{'response_synthesizer:summary_template': ChatPromptTemplate(metadata={'prompt_type': <PromptType.CUSTOM: 'custom'>}, template_vars=['context_str', 'query_str'], kwargs={}, output_parser=None, template_var_mappings=None, function_mappings=None, message_templates=[ChatMessage(role=<MessageRole.SYSTEM: 'system'>, content='你是一个中文人工智能助手，以下是中国关于microeconomics考试的单项选择题以及相应的参考内容，请根据参考信息选出其中的正确答案。', additional_kwargs={}), ChatMessage(role=<MessageRole.USER: 'user'>, content='从不同来源获取的参考信息如下:\\n---------------------\\n{context_str}\\n---------------------\\n题目:{query_str}', additional_kwargs={}), ChatMessage(role=<MessageRole.USER: 'user'>, content='选项:\\nA. 一般均衡分析很可能推出错误的结论\\nB. 局部均衡分析很可能推出错误的结论\\nC. 局部均衡分析将提供合理可靠的预测\\nD. 以上说法都不对\\n答案:\\n', additional_kwargs={})])}\n",
      "INFO:httpx:HTTP Request: POST http://gemini2.sufe.edu.cn:27282/v1/chat/completions \"HTTP/1.1 200 OK\"\n",
      "INFO:httpx:HTTP Request: POST http://gemini2.sufe.edu.cn:27282/v1/embeddings \"HTTP/1.1 200 OK\"\n",
      "INFO:httpx:HTTP Request: POST http://gemini2.sufe.edu.cn:27282/v1/chat/completions \"HTTP/1.1 200 OK\"\n"
     ]
    },
    {
     "name": "stderr",
     "output_type": "stream",
     "text": [
      " 30%|███       | 12/40 [00:47<01:24,  3.00s/it]"
     ]
    },
    {
     "name": "stdout",
     "output_type": "stream",
     "text": [
      "{'response_synthesizer:summary_template': ChatPromptTemplate(metadata={'prompt_type': <PromptType.CUSTOM: 'custom'>}, template_vars=['context_str', 'query_str'], kwargs={}, output_parser=None, template_var_mappings=None, function_mappings=None, message_templates=[ChatMessage(role=<MessageRole.SYSTEM: 'system'>, content='你是一个中文人工智能助手，以下是中国关于microeconomics考试的单项选择题以及相应的参考内容，请根据参考信息选出其中的正确答案。', additional_kwargs={}), ChatMessage(role=<MessageRole.USER: 'user'>, content='从不同来源获取的参考信息如下:\\n---------------------\\n{context_str}\\n---------------------\\n题目:{query_str}', additional_kwargs={}), ChatMessage(role=<MessageRole.USER: 'user'>, content='选项:\\nA. 生产的效率\\nB. 交换的效率\\nC. 产品组合的效率\\nD. 收入的公平分配\\n答案:\\n', additional_kwargs={})])}\n",
      "INFO:httpx:HTTP Request: POST http://gemini2.sufe.edu.cn:27282/v1/chat/completions \"HTTP/1.1 200 OK\"\n",
      "INFO:httpx:HTTP Request: POST http://gemini2.sufe.edu.cn:27282/v1/embeddings \"HTTP/1.1 200 OK\"\n",
      "INFO:httpx:HTTP Request: POST http://gemini2.sufe.edu.cn:27282/v1/chat/completions \"HTTP/1.1 200 OK\"\n"
     ]
    },
    {
     "name": "stderr",
     "output_type": "stream",
     "text": [
      " 32%|███▎      | 13/40 [00:49<01:10,  2.62s/it]"
     ]
    },
    {
     "name": "stdout",
     "output_type": "stream",
     "text": [
      "{'response_synthesizer:summary_template': ChatPromptTemplate(metadata={'prompt_type': <PromptType.CUSTOM: 'custom'>}, template_vars=['context_str', 'query_str'], kwargs={}, output_parser=None, template_var_mappings=None, function_mappings=None, message_templates=[ChatMessage(role=<MessageRole.SYSTEM: 'system'>, content='你是一个中文人工智能助手，以下是中国关于microeconomics考试的单项选择题以及相应的参考内容，请根据参考信息选出其中的正确答案。', additional_kwargs={}), ChatMessage(role=<MessageRole.USER: 'user'>, content='从不同来源获取的参考信息如下:\\n---------------------\\n{context_str}\\n---------------------\\n题目:{query_str}', additional_kwargs={}), ChatMessage(role=<MessageRole.USER: 'user'>, content='选项:\\nA. 如果不使其中一个人受损失就不能使另一个人受益\\nB. 每个人都处在其消费契约曲线上\\nC. 每个人都处在其效用可能性曲线上\\nD. 包括以上所有条件\\n答案:\\n', additional_kwargs={})])}\n",
      "INFO:httpx:HTTP Request: POST http://gemini2.sufe.edu.cn:27282/v1/chat/completions \"HTTP/1.1 200 OK\"\n",
      "INFO:httpx:HTTP Request: POST http://gemini2.sufe.edu.cn:27282/v1/embeddings \"HTTP/1.1 200 OK\"\n",
      "INFO:httpx:HTTP Request: POST http://gemini2.sufe.edu.cn:27282/v1/chat/completions \"HTTP/1.1 200 OK\"\n"
     ]
    },
    {
     "name": "stderr",
     "output_type": "stream",
     "text": [
      " 35%|███▌      | 14/40 [00:51<01:01,  2.38s/it]"
     ]
    },
    {
     "name": "stdout",
     "output_type": "stream",
     "text": [
      "{'response_synthesizer:summary_template': ChatPromptTemplate(metadata={'prompt_type': <PromptType.CUSTOM: 'custom'>}, template_vars=['context_str', 'query_str'], kwargs={}, output_parser=None, template_var_mappings=None, function_mappings=None, message_templates=[ChatMessage(role=<MessageRole.SYSTEM: 'system'>, content='你是一个中文人工智能助手，以下是中国关于microeconomics考试的单项选择题以及相应的参考内容，请根据参考信息选出其中的正确答案。', additional_kwargs={}), ChatMessage(role=<MessageRole.USER: 'user'>, content='从不同来源获取的参考信息如下:\\n---------------------\\n{context_str}\\n---------------------\\n题目:{query_str}', additional_kwargs={}), ChatMessage(role=<MessageRole.USER: 'user'>, content='选项:\\nA. 当市场不能完全出清时\\nB. 当竞争建立在自身利益最大化的前提上时\\nC. 当厂商追求利润最大化目标时\\nD. 当市场价格不能反映一项交易的所有成本和收益时\\n答案:\\n', additional_kwargs={})])}\n",
      "INFO:httpx:HTTP Request: POST http://gemini2.sufe.edu.cn:27282/v1/chat/completions \"HTTP/1.1 200 OK\"\n",
      "INFO:httpx:HTTP Request: POST http://gemini2.sufe.edu.cn:27282/v1/embeddings \"HTTP/1.1 200 OK\"\n",
      "INFO:httpx:HTTP Request: POST http://gemini2.sufe.edu.cn:27282/v1/chat/completions \"HTTP/1.1 200 OK\"\n"
     ]
    },
    {
     "name": "stderr",
     "output_type": "stream",
     "text": [
      " 38%|███▊      | 15/40 [00:53<01:03,  2.54s/it]"
     ]
    },
    {
     "name": "stdout",
     "output_type": "stream",
     "text": [
      "{'response_synthesizer:summary_template': ChatPromptTemplate(metadata={'prompt_type': <PromptType.CUSTOM: 'custom'>}, template_vars=['context_str', 'query_str'], kwargs={}, output_parser=None, template_var_mappings=None, function_mappings=None, message_templates=[ChatMessage(role=<MessageRole.SYSTEM: 'system'>, content='你是一个中文人工智能助手，以下是中国关于microeconomics考试的单项选择题以及相应的参考内容，请根据参考信息选出其中的正确答案。', additional_kwargs={}), ChatMessage(role=<MessageRole.USER: 'user'>, content='从不同来源获取的参考信息如下:\\n---------------------\\n{context_str}\\n---------------------\\n题目:{query_str}', additional_kwargs={}), ChatMessage(role=<MessageRole.USER: 'user'>, content='选项:\\nA. 不能被证明是一种旨在提高效率合理的经济行为\\nB. 本质是非法的\\nC. 违反了克莱顿法\\nD. 导致纵向或横向兼并\\n答案:\\n', additional_kwargs={})])}\n",
      "INFO:httpx:HTTP Request: POST http://gemini2.sufe.edu.cn:27282/v1/chat/completions \"HTTP/1.1 200 OK\"\n",
      "INFO:httpx:HTTP Request: POST http://gemini2.sufe.edu.cn:27282/v1/embeddings \"HTTP/1.1 200 OK\"\n",
      "INFO:httpx:HTTP Request: POST http://gemini2.sufe.edu.cn:27282/v1/chat/completions \"HTTP/1.1 200 OK\"\n"
     ]
    },
    {
     "name": "stderr",
     "output_type": "stream",
     "text": [
      " 40%|████      | 16/40 [00:55<00:53,  2.22s/it]"
     ]
    },
    {
     "name": "stdout",
     "output_type": "stream",
     "text": [
      "{'response_synthesizer:summary_template': ChatPromptTemplate(metadata={'prompt_type': <PromptType.CUSTOM: 'custom'>}, template_vars=['context_str', 'query_str'], kwargs={}, output_parser=None, template_var_mappings=None, function_mappings=None, message_templates=[ChatMessage(role=<MessageRole.SYSTEM: 'system'>, content='你是一个中文人工智能助手，以下是中国关于microeconomics考试的单项选择题以及相应的参考内容，请根据参考信息选出其中的正确答案。', additional_kwargs={}), ChatMessage(role=<MessageRole.USER: 'user'>, content='从不同来源获取的参考信息如下:\\n---------------------\\n{context_str}\\n---------------------\\n题目:{query_str}', additional_kwargs={}), ChatMessage(role=<MessageRole.USER: 'user'>, content='选项:\\nA. 卖方故意要隐瞒自己一些情况\\nB. 买方认识能力有限\\nC. 完全掌握情况所费成本太高\\nD. 以上三种情况都有可能\\n答案:\\n', additional_kwargs={})])}\n",
      "INFO:httpx:HTTP Request: POST http://gemini2.sufe.edu.cn:27282/v1/chat/completions \"HTTP/1.1 200 OK\"\n",
      "INFO:httpx:HTTP Request: POST http://gemini2.sufe.edu.cn:27282/v1/embeddings \"HTTP/1.1 200 OK\"\n",
      "INFO:httpx:HTTP Request: POST http://gemini2.sufe.edu.cn:27282/v1/chat/completions \"HTTP/1.1 200 OK\"\n"
     ]
    },
    {
     "name": "stderr",
     "output_type": "stream",
     "text": [
      " 42%|████▎     | 17/40 [00:57<00:48,  2.10s/it]"
     ]
    },
    {
     "name": "stdout",
     "output_type": "stream",
     "text": [
      "{'response_synthesizer:summary_template': ChatPromptTemplate(metadata={'prompt_type': <PromptType.CUSTOM: 'custom'>}, template_vars=['context_str', 'query_str'], kwargs={}, output_parser=None, template_var_mappings=None, function_mappings=None, message_templates=[ChatMessage(role=<MessageRole.SYSTEM: 'system'>, content='你是一个中文人工智能助手，以下是中国关于microeconomics考试的单项选择题以及相应的参考内容，请根据参考信息选出其中的正确答案。', additional_kwargs={}), ChatMessage(role=<MessageRole.USER: 'user'>, content='从不同来源获取的参考信息如下:\\n---------------------\\n{context_str}\\n---------------------\\n题目:{query_str}', additional_kwargs={}), ChatMessage(role=<MessageRole.USER: 'user'>, content='选项:\\nA. 公共物品不具有排他性\\nB. 公共物品不具有竞争性\\nC. 消费者都想“免费乘车”\\nD. 以上三种情况都是\\n答案:\\n', additional_kwargs={})])}\n",
      "INFO:httpx:HTTP Request: POST http://gemini2.sufe.edu.cn:27282/v1/chat/completions \"HTTP/1.1 200 OK\"\n",
      "INFO:httpx:HTTP Request: POST http://gemini2.sufe.edu.cn:27282/v1/embeddings \"HTTP/1.1 200 OK\"\n",
      "INFO:httpx:HTTP Request: POST http://gemini2.sufe.edu.cn:27282/v1/chat/completions \"HTTP/1.1 200 OK\"\n"
     ]
    },
    {
     "name": "stderr",
     "output_type": "stream",
     "text": [
      " 45%|████▌     | 18/40 [00:59<00:46,  2.10s/it]"
     ]
    },
    {
     "name": "stdout",
     "output_type": "stream",
     "text": [
      "{'response_synthesizer:summary_template': ChatPromptTemplate(metadata={'prompt_type': <PromptType.CUSTOM: 'custom'>}, template_vars=['context_str', 'query_str'], kwargs={}, output_parser=None, template_var_mappings=None, function_mappings=None, message_templates=[ChatMessage(role=<MessageRole.SYSTEM: 'system'>, content='你是一个中文人工智能助手，以下是中国关于microeconomics考试的单项选择题以及相应的参考内容，请根据参考信息选出其中的正确答案。', additional_kwargs={}), ChatMessage(role=<MessageRole.USER: 'user'>, content='从不同来源获取的参考信息如下:\\n---------------------\\n{context_str}\\n---------------------\\n题目:{query_str}', additional_kwargs={}), ChatMessage(role=<MessageRole.USER: 'user'>, content='选项:\\nA. B用x向A交换y\\nB. B用y向A交换x\\nC. A和B不会交换商品\\nD. 无交换发生\\n答案:\\n', additional_kwargs={})])}\n",
      "INFO:httpx:HTTP Request: POST http://gemini2.sufe.edu.cn:27282/v1/chat/completions \"HTTP/1.1 200 OK\"\n",
      "INFO:httpx:HTTP Request: POST http://gemini2.sufe.edu.cn:27282/v1/embeddings \"HTTP/1.1 200 OK\"\n",
      "INFO:httpx:HTTP Request: POST http://gemini2.sufe.edu.cn:27282/v1/chat/completions \"HTTP/1.1 200 OK\"\n"
     ]
    },
    {
     "name": "stderr",
     "output_type": "stream",
     "text": [
      " 48%|████▊     | 19/40 [01:03<00:58,  2.80s/it]"
     ]
    },
    {
     "name": "stdout",
     "output_type": "stream",
     "text": [
      "{'response_synthesizer:summary_template': ChatPromptTemplate(metadata={'prompt_type': <PromptType.CUSTOM: 'custom'>}, template_vars=['context_str', 'query_str'], kwargs={}, output_parser=None, template_var_mappings=None, function_mappings=None, message_templates=[ChatMessage(role=<MessageRole.SYSTEM: 'system'>, content='你是一个中文人工智能助手，以下是中国关于microeconomics考试的单项选择题以及相应的参考内容，请根据参考信息选出其中的正确答案。', additional_kwargs={}), ChatMessage(role=<MessageRole.USER: 'user'>, content='从不同来源获取的参考信息如下:\\n---------------------\\n{context_str}\\n---------------------\\n题目:{query_str}', additional_kwargs={}), ChatMessage(role=<MessageRole.USER: 'user'>, content='选项:\\nA. 社会边际成本和私人边际成本之差\\nB. 私人边际成本\\nC. 治理污染设备的成本\\nD. 社会边际成本\\n答案:\\n', additional_kwargs={})])}\n",
      "INFO:httpx:HTTP Request: POST http://gemini2.sufe.edu.cn:27282/v1/chat/completions \"HTTP/1.1 200 OK\"\n",
      "INFO:httpx:HTTP Request: POST http://gemini2.sufe.edu.cn:27282/v1/embeddings \"HTTP/1.1 200 OK\"\n",
      "INFO:httpx:HTTP Request: POST http://gemini2.sufe.edu.cn:27282/v1/chat/completions \"HTTP/1.1 200 OK\"\n"
     ]
    },
    {
     "name": "stderr",
     "output_type": "stream",
     "text": [
      " 50%|█████     | 20/40 [01:06<00:55,  2.76s/it]"
     ]
    },
    {
     "name": "stdout",
     "output_type": "stream",
     "text": [
      "{'response_synthesizer:summary_template': ChatPromptTemplate(metadata={'prompt_type': <PromptType.CUSTOM: 'custom'>}, template_vars=['context_str', 'query_str'], kwargs={}, output_parser=None, template_var_mappings=None, function_mappings=None, message_templates=[ChatMessage(role=<MessageRole.SYSTEM: 'system'>, content='你是一个中文人工智能助手，以下是中国关于microeconomics考试的单项选择题以及相应的参考内容，请根据参考信息选出其中的正确答案。', additional_kwargs={}), ChatMessage(role=<MessageRole.USER: 'user'>, content='从不同来源获取的参考信息如下:\\n---------------------\\n{context_str}\\n---------------------\\n题目:{query_str}', additional_kwargs={}), ChatMessage(role=<MessageRole.USER: 'user'>, content='选项:\\nA. 一家公司设法增加在自己所有的财产上收取租金\\nB. 公司投入资源去劝说政府阻止新公司进入它的行业\\nC. 政府设法找出一家公司垄断租金的大小\\nD. 政府设法剥夺一家公司的垄断租金\\n答案:\\n', additional_kwargs={})])}\n",
      "INFO:httpx:HTTP Request: POST http://gemini2.sufe.edu.cn:27282/v1/chat/completions \"HTTP/1.1 200 OK\"\n",
      "INFO:httpx:HTTP Request: POST http://gemini2.sufe.edu.cn:27282/v1/embeddings \"HTTP/1.1 200 OK\"\n",
      "INFO:httpx:HTTP Request: POST http://gemini2.sufe.edu.cn:27282/v1/chat/completions \"HTTP/1.1 200 OK\"\n"
     ]
    },
    {
     "name": "stderr",
     "output_type": "stream",
     "text": [
      " 52%|█████▎    | 21/40 [01:08<00:46,  2.47s/it]"
     ]
    },
    {
     "name": "stdout",
     "output_type": "stream",
     "text": [
      "{'response_synthesizer:summary_template': ChatPromptTemplate(metadata={'prompt_type': <PromptType.CUSTOM: 'custom'>}, template_vars=['context_str', 'query_str'], kwargs={}, output_parser=None, template_var_mappings=None, function_mappings=None, message_templates=[ChatMessage(role=<MessageRole.SYSTEM: 'system'>, content='你是一个中文人工智能助手，以下是中国关于microeconomics考试的单项选择题以及相应的参考内容，请根据参考信息选出其中的正确答案。', additional_kwargs={}), ChatMessage(role=<MessageRole.USER: 'user'>, content='从不同来源获取的参考信息如下:\\n---------------------\\n{context_str}\\n---------------------\\n题目:{query_str}', additional_kwargs={}), ChatMessage(role=<MessageRole.USER: 'user'>, content='选项:\\nA. 价格竞争的市场\\nB. 产量竞争的市场\\nC. 产量领导的市场\\nD. 价格领导的市场\\n答案:\\n', additional_kwargs={})])}\n",
      "INFO:httpx:HTTP Request: POST http://gemini2.sufe.edu.cn:27282/v1/chat/completions \"HTTP/1.1 200 OK\"\n",
      "INFO:httpx:HTTP Request: POST http://gemini2.sufe.edu.cn:27282/v1/embeddings \"HTTP/1.1 200 OK\"\n",
      "INFO:httpx:HTTP Request: POST http://gemini2.sufe.edu.cn:27282/v1/chat/completions \"HTTP/1.1 200 OK\"\n"
     ]
    },
    {
     "name": "stderr",
     "output_type": "stream",
     "text": [
      " 55%|█████▌    | 22/40 [01:09<00:40,  2.23s/it]"
     ]
    },
    {
     "name": "stdout",
     "output_type": "stream",
     "text": [
      "{'response_synthesizer:summary_template': ChatPromptTemplate(metadata={'prompt_type': <PromptType.CUSTOM: 'custom'>}, template_vars=['context_str', 'query_str'], kwargs={}, output_parser=None, template_var_mappings=None, function_mappings=None, message_templates=[ChatMessage(role=<MessageRole.SYSTEM: 'system'>, content='你是一个中文人工智能助手，以下是中国关于microeconomics考试的单项选择题以及相应的参考内容，请根据参考信息选出其中的正确答案。', additional_kwargs={}), ChatMessage(role=<MessageRole.USER: 'user'>, content='从不同来源获取的参考信息如下:\\n---------------------\\n{context_str}\\n---------------------\\n题目:{query_str}', additional_kwargs={}), ChatMessage(role=<MessageRole.USER: 'user'>, content='选项:\\nA. 双方都独立依照自身利益行动，结果陷入最不利的局面\\nB. 双方都独立依照自身利益行事，导致最好的选择\\nC. 双方进行合作，得到了最好的结果\\nD. 双方进行合作，得到了次优的结果\\n答案:\\n', additional_kwargs={})])}\n",
      "INFO:httpx:HTTP Request: POST http://gemini2.sufe.edu.cn:27282/v1/chat/completions \"HTTP/1.1 200 OK\"\n",
      "INFO:httpx:HTTP Request: POST http://gemini2.sufe.edu.cn:27282/v1/embeddings \"HTTP/1.1 200 OK\"\n",
      "INFO:httpx:HTTP Request: POST http://gemini2.sufe.edu.cn:27282/v1/chat/completions \"HTTP/1.1 200 OK\"\n"
     ]
    },
    {
     "name": "stderr",
     "output_type": "stream",
     "text": [
      " 57%|█████▊    | 23/40 [01:11<00:37,  2.19s/it]"
     ]
    },
    {
     "name": "stdout",
     "output_type": "stream",
     "text": [
      "{'response_synthesizer:summary_template': ChatPromptTemplate(metadata={'prompt_type': <PromptType.CUSTOM: 'custom'>}, template_vars=['context_str', 'query_str'], kwargs={}, output_parser=None, template_var_mappings=None, function_mappings=None, message_templates=[ChatMessage(role=<MessageRole.SYSTEM: 'system'>, content='你是一个中文人工智能助手，以下是中国关于microeconomics考试的单项选择题以及相应的参考内容，请根据参考信息选出其中的正确答案。', additional_kwargs={}), ChatMessage(role=<MessageRole.USER: 'user'>, content='从不同来源获取的参考信息如下:\\n---------------------\\n{context_str}\\n---------------------\\n题目:{query_str}', additional_kwargs={}), ChatMessage(role=<MessageRole.USER: 'user'>, content='选项:\\nA. 一级价格差别\\nB. 二级价格差别\\nC. 三级价格差别\\nD. 混合价格差别\\n答案:\\n', additional_kwargs={})])}\n",
      "INFO:httpx:HTTP Request: POST http://gemini2.sufe.edu.cn:27282/v1/chat/completions \"HTTP/1.1 200 OK\"\n",
      "INFO:httpx:HTTP Request: POST http://gemini2.sufe.edu.cn:27282/v1/embeddings \"HTTP/1.1 200 OK\"\n",
      "INFO:httpx:HTTP Request: POST http://gemini2.sufe.edu.cn:27282/v1/chat/completions \"HTTP/1.1 200 OK\"\n"
     ]
    },
    {
     "name": "stderr",
     "output_type": "stream",
     "text": [
      " 60%|██████    | 24/40 [01:19<01:02,  3.88s/it]"
     ]
    },
    {
     "name": "stdout",
     "output_type": "stream",
     "text": [
      "{'response_synthesizer:summary_template': ChatPromptTemplate(metadata={'prompt_type': <PromptType.CUSTOM: 'custom'>}, template_vars=['context_str', 'query_str'], kwargs={}, output_parser=None, template_var_mappings=None, function_mappings=None, message_templates=[ChatMessage(role=<MessageRole.SYSTEM: 'system'>, content='你是一个中文人工智能助手，以下是中国关于microeconomics考试的单项选择题以及相应的参考内容，请根据参考信息选出其中的正确答案。', additional_kwargs={}), ChatMessage(role=<MessageRole.USER: 'user'>, content='从不同来源获取的参考信息如下:\\n---------------------\\n{context_str}\\n---------------------\\n题目:{query_str}', additional_kwargs={}), ChatMessage(role=<MessageRole.USER: 'user'>, content='选项:\\nA. 生产中使用的要素供给曲线是垂直的\\nB. 行业的长期供给曲线有一正的斜率\\nC. 行业的长期供给曲线有一负的斜率\\nD. 短期平均成本曲线不是U型的\\n答案:\\n', additional_kwargs={})])}\n",
      "INFO:httpx:HTTP Request: POST http://gemini2.sufe.edu.cn:27282/v1/chat/completions \"HTTP/1.1 200 OK\"\n",
      "INFO:httpx:HTTP Request: POST http://gemini2.sufe.edu.cn:27282/v1/embeddings \"HTTP/1.1 200 OK\"\n",
      "INFO:httpx:HTTP Request: POST http://gemini2.sufe.edu.cn:27282/v1/chat/completions \"HTTP/1.1 200 OK\"\n"
     ]
    },
    {
     "name": "stderr",
     "output_type": "stream",
     "text": [
      " 62%|██████▎   | 25/40 [01:22<00:53,  3.59s/it]"
     ]
    },
    {
     "name": "stdout",
     "output_type": "stream",
     "text": [
      "{'response_synthesizer:summary_template': ChatPromptTemplate(metadata={'prompt_type': <PromptType.CUSTOM: 'custom'>}, template_vars=['context_str', 'query_str'], kwargs={}, output_parser=None, template_var_mappings=None, function_mappings=None, message_templates=[ChatMessage(role=<MessageRole.SYSTEM: 'system'>, content='你是一个中文人工智能助手，以下是中国关于microeconomics考试的单项选择题以及相应的参考内容，请根据参考信息选出其中的正确答案。', additional_kwargs={}), ChatMessage(role=<MessageRole.USER: 'user'>, content='从不同来源获取的参考信息如下:\\n---------------------\\n{context_str}\\n---------------------\\n题目:{query_str}', additional_kwargs={}), ChatMessage(role=<MessageRole.USER: 'user'>, content='选项:\\nA. 使总亏损最小\\nB. 使总亏损最小\\nC. 使总亏损最小，或使总盈利最大\\nD. 以上都不正确\\n答案:\\n', additional_kwargs={})])}\n",
      "INFO:httpx:HTTP Request: POST http://gemini2.sufe.edu.cn:27282/v1/chat/completions \"HTTP/1.1 200 OK\"\n",
      "INFO:httpx:HTTP Request: POST http://gemini2.sufe.edu.cn:27282/v1/embeddings \"HTTP/1.1 200 OK\"\n",
      "INFO:httpx:HTTP Request: POST http://gemini2.sufe.edu.cn:27282/v1/chat/completions \"HTTP/1.1 200 OK\"\n"
     ]
    },
    {
     "name": "stderr",
     "output_type": "stream",
     "text": [
      " 65%|██████▌   | 26/40 [01:24<00:42,  3.04s/it]"
     ]
    },
    {
     "name": "stdout",
     "output_type": "stream",
     "text": [
      "{'response_synthesizer:summary_template': ChatPromptTemplate(metadata={'prompt_type': <PromptType.CUSTOM: 'custom'>}, template_vars=['context_str', 'query_str'], kwargs={}, output_parser=None, template_var_mappings=None, function_mappings=None, message_templates=[ChatMessage(role=<MessageRole.SYSTEM: 'system'>, content='你是一个中文人工智能助手，以下是中国关于microeconomics考试的单项选择题以及相应的参考内容，请根据参考信息选出其中的正确答案。', additional_kwargs={}), ChatMessage(role=<MessageRole.USER: 'user'>, content='从不同来源获取的参考信息如下:\\n---------------------\\n{context_str}\\n---------------------\\n题目:{query_str}', additional_kwargs={}), ChatMessage(role=<MessageRole.USER: 'user'>, content='选项:\\nA. SAC曲线最低点的轨迹\\nB. SMC曲线最低点的轨迹\\nC. LAC曲线最低点的轨迹\\nD. LMC曲线最低点的轨迹\\n答案:\\n', additional_kwargs={})])}\n",
      "INFO:httpx:HTTP Request: POST http://gemini2.sufe.edu.cn:27282/v1/chat/completions \"HTTP/1.1 200 OK\"\n",
      "INFO:httpx:HTTP Request: POST http://gemini2.sufe.edu.cn:27282/v1/embeddings \"HTTP/1.1 200 OK\"\n",
      "INFO:httpx:HTTP Request: POST http://gemini2.sufe.edu.cn:27282/v1/chat/completions \"HTTP/1.1 200 OK\"\n"
     ]
    },
    {
     "name": "stderr",
     "output_type": "stream",
     "text": [
      " 68%|██████▊   | 27/40 [01:27<00:40,  3.15s/it]"
     ]
    },
    {
     "name": "stdout",
     "output_type": "stream",
     "text": [
      "{'response_synthesizer:summary_template': ChatPromptTemplate(metadata={'prompt_type': <PromptType.CUSTOM: 'custom'>}, template_vars=['context_str', 'query_str'], kwargs={}, output_parser=None, template_var_mappings=None, function_mappings=None, message_templates=[ChatMessage(role=<MessageRole.SYSTEM: 'system'>, content='你是一个中文人工智能助手，以下是中国关于microeconomics考试的单项选择题以及相应的参考内容，请根据参考信息选出其中的正确答案。', additional_kwargs={}), ChatMessage(role=<MessageRole.USER: 'user'>, content='从不同来源获取的参考信息如下:\\n---------------------\\n{context_str}\\n---------------------\\n题目:{query_str}', additional_kwargs={}), ChatMessage(role=<MessageRole.USER: 'user'>, content='选项:\\nA. 采用完全相同的生产工艺\\nB. 具有同一最低平均的成本\\nC. 都能获得经济利润\\nD. 以上全对\\n答案:\\n', additional_kwargs={})])}\n",
      "INFO:httpx:HTTP Request: POST http://gemini2.sufe.edu.cn:27282/v1/chat/completions \"HTTP/1.1 200 OK\"\n",
      "INFO:httpx:HTTP Request: POST http://gemini2.sufe.edu.cn:27282/v1/embeddings \"HTTP/1.1 200 OK\"\n",
      "INFO:httpx:HTTP Request: POST http://gemini2.sufe.edu.cn:27282/v1/chat/completions \"HTTP/1.1 200 OK\"\n"
     ]
    },
    {
     "name": "stderr",
     "output_type": "stream",
     "text": [
      " 70%|███████   | 28/40 [01:29<00:32,  2.70s/it]"
     ]
    },
    {
     "name": "stdout",
     "output_type": "stream",
     "text": [
      "{'response_synthesizer:summary_template': ChatPromptTemplate(metadata={'prompt_type': <PromptType.CUSTOM: 'custom'>}, template_vars=['context_str', 'query_str'], kwargs={}, output_parser=None, template_var_mappings=None, function_mappings=None, message_templates=[ChatMessage(role=<MessageRole.SYSTEM: 'system'>, content='你是一个中文人工智能助手，以下是中国关于microeconomics考试的单项选择题以及相应的参考内容，请根据参考信息选出其中的正确答案。', additional_kwargs={}), ChatMessage(role=<MessageRole.USER: 'user'>, content='从不同来源获取的参考信息如下:\\n---------------------\\n{context_str}\\n---------------------\\n题目:{query_str}', additional_kwargs={}), ChatMessage(role=<MessageRole.USER: 'user'>, content='选项:\\nA. 在长期边际成本曲线下降时，长期总成本曲线以越来越快的速度上升\\nB. 在长期边际成本曲线下降时，长期总成本曲线以以越来越慢的速度上升\\nC. 在长期边际成本曲线上升时，长期总成本曲线以越来越慢的速度上升\\nD. 以上均不正确\\n答案:\\n', additional_kwargs={})])}\n",
      "INFO:httpx:HTTP Request: POST http://gemini2.sufe.edu.cn:27282/v1/chat/completions \"HTTP/1.1 200 OK\"\n",
      "INFO:httpx:HTTP Request: POST http://gemini2.sufe.edu.cn:27282/v1/embeddings \"HTTP/1.1 200 OK\"\n",
      "INFO:httpx:HTTP Request: POST http://gemini2.sufe.edu.cn:27282/v1/chat/completions \"HTTP/1.1 200 OK\"\n"
     ]
    },
    {
     "name": "stderr",
     "output_type": "stream",
     "text": [
      " 72%|███████▎  | 29/40 [01:35<00:40,  3.71s/it]"
     ]
    },
    {
     "name": "stdout",
     "output_type": "stream",
     "text": [
      "{'response_synthesizer:summary_template': ChatPromptTemplate(metadata={'prompt_type': <PromptType.CUSTOM: 'custom'>}, template_vars=['context_str', 'query_str'], kwargs={}, output_parser=None, template_var_mappings=None, function_mappings=None, message_templates=[ChatMessage(role=<MessageRole.SYSTEM: 'system'>, content='你是一个中文人工智能助手，以下是中国关于microeconomics考试的单项选择题以及相应的参考内容，请根据参考信息选出其中的正确答案。', additional_kwargs={}), ChatMessage(role=<MessageRole.USER: 'user'>, content='从不同来源获取的参考信息如下:\\n---------------------\\n{context_str}\\n---------------------\\n题目:{query_str}', additional_kwargs={}), ChatMessage(role=<MessageRole.USER: 'user'>, content='选项:\\nA. 减少\\nB. 增加\\nC. 不变\\nD. 无法判断\\n答案:\\n', additional_kwargs={})])}\n",
      "INFO:httpx:HTTP Request: POST http://gemini2.sufe.edu.cn:27282/v1/chat/completions \"HTTP/1.1 200 OK\"\n",
      "INFO:httpx:HTTP Request: POST http://gemini2.sufe.edu.cn:27282/v1/embeddings \"HTTP/1.1 200 OK\"\n",
      "INFO:httpx:HTTP Request: POST http://gemini2.sufe.edu.cn:27282/v1/chat/completions \"HTTP/1.1 200 OK\"\n"
     ]
    },
    {
     "name": "stderr",
     "output_type": "stream",
     "text": [
      " 75%|███████▌  | 30/40 [01:37<00:32,  3.24s/it]"
     ]
    },
    {
     "name": "stdout",
     "output_type": "stream",
     "text": [
      "{'response_synthesizer:summary_template': ChatPromptTemplate(metadata={'prompt_type': <PromptType.CUSTOM: 'custom'>}, template_vars=['context_str', 'query_str'], kwargs={}, output_parser=None, template_var_mappings=None, function_mappings=None, message_templates=[ChatMessage(role=<MessageRole.SYSTEM: 'system'>, content='你是一个中文人工智能助手，以下是中国关于microeconomics考试的单项选择题以及相应的参考内容，请根据参考信息选出其中的正确答案。', additional_kwargs={}), ChatMessage(role=<MessageRole.USER: 'user'>, content='从不同来源获取的参考信息如下:\\n---------------------\\n{context_str}\\n---------------------\\n题目:{query_str}', additional_kwargs={}), ChatMessage(role=<MessageRole.USER: 'user'>, content='选项:\\nA. 不断上升\\nB. 不断下降\\nC. 先上升后下降\\nD. 先下降后上升\\n答案:\\n', additional_kwargs={})])}\n",
      "INFO:httpx:HTTP Request: POST http://gemini2.sufe.edu.cn:27282/v1/chat/completions \"HTTP/1.1 200 OK\"\n",
      "INFO:httpx:HTTP Request: POST http://gemini2.sufe.edu.cn:27282/v1/embeddings \"HTTP/1.1 200 OK\"\n",
      "INFO:httpx:HTTP Request: POST http://gemini2.sufe.edu.cn:27282/v1/chat/completions \"HTTP/1.1 200 OK\"\n"
     ]
    },
    {
     "name": "stderr",
     "output_type": "stream",
     "text": [
      " 78%|███████▊  | 31/40 [01:42<00:32,  3.65s/it]"
     ]
    },
    {
     "name": "stdout",
     "output_type": "stream",
     "text": [
      "{'response_synthesizer:summary_template': ChatPromptTemplate(metadata={'prompt_type': <PromptType.CUSTOM: 'custom'>}, template_vars=['context_str', 'query_str'], kwargs={}, output_parser=None, template_var_mappings=None, function_mappings=None, message_templates=[ChatMessage(role=<MessageRole.SYSTEM: 'system'>, content='你是一个中文人工智能助手，以下是中国关于microeconomics考试的单项选择题以及相应的参考内容，请根据参考信息选出其中的正确答案。', additional_kwargs={}), ChatMessage(role=<MessageRole.USER: 'user'>, content='从不同来源获取的参考信息如下:\\n---------------------\\n{context_str}\\n---------------------\\n题目:{query_str}', additional_kwargs={}), ChatMessage(role=<MessageRole.USER: 'user'>, content='选项:\\nA. 与纵轴相交\\nB. 经过原点\\nC. 与平均产量曲线相交\\nD. 与横轴相交\\n答案:\\n', additional_kwargs={})])}\n",
      "INFO:httpx:HTTP Request: POST http://gemini2.sufe.edu.cn:27282/v1/chat/completions \"HTTP/1.1 200 OK\"\n",
      "INFO:httpx:HTTP Request: POST http://gemini2.sufe.edu.cn:27282/v1/embeddings \"HTTP/1.1 200 OK\"\n",
      "INFO:httpx:HTTP Request: POST http://gemini2.sufe.edu.cn:27282/v1/chat/completions \"HTTP/1.1 200 OK\"\n"
     ]
    },
    {
     "name": "stderr",
     "output_type": "stream",
     "text": [
      " 80%|████████  | 32/40 [01:44<00:25,  3.15s/it]"
     ]
    },
    {
     "name": "stdout",
     "output_type": "stream",
     "text": [
      "{'response_synthesizer:summary_template': ChatPromptTemplate(metadata={'prompt_type': <PromptType.CUSTOM: 'custom'>}, template_vars=['context_str', 'query_str'], kwargs={}, output_parser=None, template_var_mappings=None, function_mappings=None, message_templates=[ChatMessage(role=<MessageRole.SYSTEM: 'system'>, content='你是一个中文人工智能助手，以下是中国关于microeconomics考试的单项选择题以及相应的参考内容，请根据参考信息选出其中的正确答案。', additional_kwargs={}), ChatMessage(role=<MessageRole.USER: 'user'>, content='从不同来源获取的参考信息如下:\\n---------------------\\n{context_str}\\n---------------------\\n题目:{query_str}', additional_kwargs={}), ChatMessage(role=<MessageRole.USER: 'user'>, content='选项:\\nA. 增加\\nB. 减少\\nC. 不变\\nD. 无法确定\\n答案:\\n', additional_kwargs={})])}\n",
      "INFO:httpx:HTTP Request: POST http://gemini2.sufe.edu.cn:27282/v1/chat/completions \"HTTP/1.1 200 OK\"\n",
      "INFO:httpx:HTTP Request: POST http://gemini2.sufe.edu.cn:27282/v1/embeddings \"HTTP/1.1 200 OK\"\n",
      "INFO:httpx:HTTP Request: POST http://gemini2.sufe.edu.cn:27282/v1/chat/completions \"HTTP/1.1 200 OK\"\n"
     ]
    },
    {
     "name": "stderr",
     "output_type": "stream",
     "text": [
      " 82%|████████▎ | 33/40 [01:46<00:18,  2.71s/it]"
     ]
    },
    {
     "name": "stdout",
     "output_type": "stream",
     "text": [
      "{'response_synthesizer:summary_template': ChatPromptTemplate(metadata={'prompt_type': <PromptType.CUSTOM: 'custom'>}, template_vars=['context_str', 'query_str'], kwargs={}, output_parser=None, template_var_mappings=None, function_mappings=None, message_templates=[ChatMessage(role=<MessageRole.SYSTEM: 'system'>, content='你是一个中文人工智能助手，以下是中国关于microeconomics考试的单项选择题以及相应的参考内容，请根据参考信息选出其中的正确答案。', additional_kwargs={}), ChatMessage(role=<MessageRole.USER: 'user'>, content='从不同来源获取的参考信息如下:\\n---------------------\\n{context_str}\\n---------------------\\n题目:{query_str}', additional_kwargs={}), ChatMessage(role=<MessageRole.USER: 'user'>, content='选项:\\nA. 消费者的荔枝对苹果的边际替代率相等\\nB. 荔枝对苹果的边际替代率，济南消费者要大于广东消费者\\nC. 苹果对荔枝的边际替代率，济南消费者要大于广东消费者\\nD. 无法确定\\n答案:\\n', additional_kwargs={})])}\n",
      "INFO:httpx:HTTP Request: POST http://gemini2.sufe.edu.cn:27282/v1/chat/completions \"HTTP/1.1 200 OK\"\n",
      "INFO:httpx:HTTP Request: POST http://gemini2.sufe.edu.cn:27282/v1/embeddings \"HTTP/1.1 200 OK\"\n",
      "INFO:httpx:HTTP Request: POST http://gemini2.sufe.edu.cn:27282/v1/chat/completions \"HTTP/1.1 200 OK\"\n"
     ]
    },
    {
     "name": "stderr",
     "output_type": "stream",
     "text": [
      " 85%|████████▌ | 34/40 [01:57<00:31,  5.27s/it]"
     ]
    },
    {
     "name": "stdout",
     "output_type": "stream",
     "text": [
      "{'response_synthesizer:summary_template': ChatPromptTemplate(metadata={'prompt_type': <PromptType.CUSTOM: 'custom'>}, template_vars=['context_str', 'query_str'], kwargs={}, output_parser=None, template_var_mappings=None, function_mappings=None, message_templates=[ChatMessage(role=<MessageRole.SYSTEM: 'system'>, content='你是一个中文人工智能助手，以下是中国关于microeconomics考试的单项选择题以及相应的参考内容，请根据参考信息选出其中的正确答案。', additional_kwargs={}), ChatMessage(role=<MessageRole.USER: 'user'>, content='从不同来源获取的参考信息如下:\\n---------------------\\n{context_str}\\n---------------------\\n题目:{query_str}', additional_kwargs={}), ChatMessage(role=<MessageRole.USER: 'user'>, content='选项:\\nA. 吉芬商品\\nB. 低档商品\\nC. 正常商品\\nD. 生活必需品\\n答案:\\n', additional_kwargs={})])}\n",
      "INFO:httpx:HTTP Request: POST http://gemini2.sufe.edu.cn:27282/v1/chat/completions \"HTTP/1.1 200 OK\"\n",
      "INFO:httpx:HTTP Request: POST http://gemini2.sufe.edu.cn:27282/v1/embeddings \"HTTP/1.1 200 OK\"\n",
      "INFO:httpx:HTTP Request: POST http://gemini2.sufe.edu.cn:27282/v1/chat/completions \"HTTP/1.1 200 OK\"\n"
     ]
    },
    {
     "name": "stderr",
     "output_type": "stream",
     "text": [
      " 88%|████████▊ | 35/40 [01:59<00:21,  4.34s/it]"
     ]
    },
    {
     "name": "stdout",
     "output_type": "stream",
     "text": [
      "{'response_synthesizer:summary_template': ChatPromptTemplate(metadata={'prompt_type': <PromptType.CUSTOM: 'custom'>}, template_vars=['context_str', 'query_str'], kwargs={}, output_parser=None, template_var_mappings=None, function_mappings=None, message_templates=[ChatMessage(role=<MessageRole.SYSTEM: 'system'>, content='你是一个中文人工智能助手，以下是中国关于microeconomics考试的单项选择题以及相应的参考内容，请根据参考信息选出其中的正确答案。', additional_kwargs={}), ChatMessage(role=<MessageRole.USER: 'user'>, content='从不同来源获取的参考信息如下:\\n---------------------\\n{context_str}\\n---------------------\\n题目:{query_str}', additional_kwargs={}), ChatMessage(role=<MessageRole.USER: 'user'>, content='选项:\\nA. 商品Y\\nB. 商品X\\nC. 商品X和Y\\nD. 以上都不正确\\n答案:\\n', additional_kwargs={})])}\n",
      "INFO:httpx:HTTP Request: POST http://gemini2.sufe.edu.cn:27282/v1/chat/completions \"HTTP/1.1 200 OK\"\n",
      "INFO:httpx:HTTP Request: POST http://gemini2.sufe.edu.cn:27282/v1/embeddings \"HTTP/1.1 200 OK\"\n",
      "INFO:httpx:HTTP Request: POST http://gemini2.sufe.edu.cn:27282/v1/chat/completions \"HTTP/1.1 200 OK\"\n"
     ]
    },
    {
     "name": "stderr",
     "output_type": "stream",
     "text": [
      " 90%|█████████ | 36/40 [02:04<00:18,  4.67s/it]"
     ]
    },
    {
     "name": "stdout",
     "output_type": "stream",
     "text": [
      "{'response_synthesizer:summary_template': ChatPromptTemplate(metadata={'prompt_type': <PromptType.CUSTOM: 'custom'>}, template_vars=['context_str', 'query_str'], kwargs={}, output_parser=None, template_var_mappings=None, function_mappings=None, message_templates=[ChatMessage(role=<MessageRole.SYSTEM: 'system'>, content='你是一个中文人工智能助手，以下是中国关于microeconomics考试的单项选择题以及相应的参考内容，请根据参考信息选出其中的正确答案。', additional_kwargs={}), ChatMessage(role=<MessageRole.USER: 'user'>, content='从不同来源获取的参考信息如下:\\n---------------------\\n{context_str}\\n---------------------\\n题目:{query_str}', additional_kwargs={}), ChatMessage(role=<MessageRole.USER: 'user'>, content='选项:\\nA. 增加税收\\nB. 实行农产品的配给制\\nC. 收购过剩的农产品\\nD. 对农民补贴\\n答案:\\n', additional_kwargs={})])}\n",
      "INFO:httpx:HTTP Request: POST http://gemini2.sufe.edu.cn:27282/v1/chat/completions \"HTTP/1.1 200 OK\"\n",
      "INFO:httpx:HTTP Request: POST http://gemini2.sufe.edu.cn:27282/v1/embeddings \"HTTP/1.1 200 OK\"\n",
      "INFO:httpx:HTTP Request: POST http://gemini2.sufe.edu.cn:27282/v1/chat/completions \"HTTP/1.1 200 OK\"\n"
     ]
    },
    {
     "name": "stderr",
     "output_type": "stream",
     "text": [
      " 92%|█████████▎| 37/40 [02:07<00:11,  3.97s/it]"
     ]
    },
    {
     "name": "stdout",
     "output_type": "stream",
     "text": [
      "{'response_synthesizer:summary_template': ChatPromptTemplate(metadata={'prompt_type': <PromptType.CUSTOM: 'custom'>}, template_vars=['context_str', 'query_str'], kwargs={}, output_parser=None, template_var_mappings=None, function_mappings=None, message_templates=[ChatMessage(role=<MessageRole.SYSTEM: 'system'>, content='你是一个中文人工智能助手，以下是中国关于microeconomics考试的单项选择题以及相应的参考内容，请根据参考信息选出其中的正确答案。', additional_kwargs={}), ChatMessage(role=<MessageRole.USER: 'user'>, content='从不同来源获取的参考信息如下:\\n---------------------\\n{context_str}\\n---------------------\\n题目:{query_str}', additional_kwargs={}), ChatMessage(role=<MessageRole.USER: 'user'>, content='选项:\\nA. 药品价格上升，使得药品质量得到改善\\nB. 汽油价格的提高，小汽车的销量减少\\nC. 照相机价格的下降导致其销量的增加\\nD. 牛肉价格提高导致羊肉的销量增加\\n答案:\\n', additional_kwargs={})])}\n",
      "INFO:httpx:HTTP Request: POST http://gemini2.sufe.edu.cn:27282/v1/chat/completions \"HTTP/1.1 200 OK\"\n",
      "INFO:httpx:HTTP Request: POST http://gemini2.sufe.edu.cn:27282/v1/embeddings \"HTTP/1.1 200 OK\"\n",
      "INFO:httpx:HTTP Request: POST http://gemini2.sufe.edu.cn:27282/v1/chat/completions \"HTTP/1.1 200 OK\"\n"
     ]
    },
    {
     "name": "stderr",
     "output_type": "stream",
     "text": [
      " 95%|█████████▌| 38/40 [02:09<00:06,  3.31s/it]"
     ]
    },
    {
     "name": "stdout",
     "output_type": "stream",
     "text": [
      "{'response_synthesizer:summary_template': ChatPromptTemplate(metadata={'prompt_type': <PromptType.CUSTOM: 'custom'>}, template_vars=['context_str', 'query_str'], kwargs={}, output_parser=None, template_var_mappings=None, function_mappings=None, message_templates=[ChatMessage(role=<MessageRole.SYSTEM: 'system'>, content='你是一个中文人工智能助手，以下是中国关于microeconomics考试的单项选择题以及相应的参考内容，请根据参考信息选出其中的正确答案。', additional_kwargs={}), ChatMessage(role=<MessageRole.USER: 'user'>, content='从不同来源获取的参考信息如下:\\n---------------------\\n{context_str}\\n---------------------\\n题目:{query_str}', additional_kwargs={}), ChatMessage(role=<MessageRole.USER: 'user'>, content='选项:\\nA. 双方在每一期都选择“坦白”\\nB. 双方在每一期都选择“抵赖”\\nC. 双方在前$N-1$期都选择“坦白”，在最后一期都选择“抵赖”\\nD. 双方在前$N-1$期都选择“抵赖”，在最后一期都选择“坦白”\\n答案:\\n', additional_kwargs={})])}\n",
      "INFO:httpx:HTTP Request: POST http://gemini2.sufe.edu.cn:27282/v1/chat/completions \"HTTP/1.1 200 OK\"\n",
      "INFO:httpx:HTTP Request: POST http://gemini2.sufe.edu.cn:27282/v1/embeddings \"HTTP/1.1 200 OK\"\n",
      "INFO:httpx:HTTP Request: POST http://gemini2.sufe.edu.cn:27282/v1/chat/completions \"HTTP/1.1 200 OK\"\n"
     ]
    },
    {
     "name": "stderr",
     "output_type": "stream",
     "text": [
      " 98%|█████████▊| 39/40 [02:19<00:05,  5.43s/it]"
     ]
    },
    {
     "name": "stdout",
     "output_type": "stream",
     "text": [
      "{'response_synthesizer:summary_template': ChatPromptTemplate(metadata={'prompt_type': <PromptType.CUSTOM: 'custom'>}, template_vars=['context_str', 'query_str'], kwargs={}, output_parser=None, template_var_mappings=None, function_mappings=None, message_templates=[ChatMessage(role=<MessageRole.SYSTEM: 'system'>, content='你是一个中文人工智能助手，以下是中国关于microeconomics考试的单项选择题以及相应的参考内容，请根据参考信息选出其中的正确答案。', additional_kwargs={}), ChatMessage(role=<MessageRole.USER: 'user'>, content='从不同来源获取的参考信息如下:\\n---------------------\\n{context_str}\\n---------------------\\n题目:{query_str}', additional_kwargs={}), ChatMessage(role=<MessageRole.USER: 'user'>, content='选项:\\nA. 收益\\nB. 支付\\nC. 决策\\nD. 利润\\n答案:\\n', additional_kwargs={})])}\n",
      "INFO:httpx:HTTP Request: POST http://gemini2.sufe.edu.cn:27282/v1/chat/completions \"HTTP/1.1 200 OK\"\n",
      "INFO:httpx:HTTP Request: POST http://gemini2.sufe.edu.cn:27282/v1/embeddings \"HTTP/1.1 200 OK\"\n",
      "INFO:httpx:HTTP Request: POST http://gemini2.sufe.edu.cn:27282/v1/chat/completions \"HTTP/1.1 200 OK\"\n"
     ]
    },
    {
     "name": "stderr",
     "output_type": "stream",
     "text": [
      "100%|██████████| 40/40 [02:21<00:00,  3.53s/it]\n"
     ]
    },
    {
     "name": "stdout",
     "output_type": "stream",
     "text": [
      "Subject: microeconomics\n",
      "Acc: 52.5\n",
      "Accuracy:\n",
      "microeconomics :  52.5\n",
      "--------------------------------------------------------------------------------\n",
      "Accuracy_subject:\n",
      "microeconomics :  52.5\n",
      "--------------------------------------------------------------------------------\n",
      "Accuracy_grouped:\n",
      "Economy :  0.525\n",
      "Avg: \n",
      "0.525\n",
      "############# nodes group: size_1024_overlap_256 ###############\n",
      "0.0 Inference starts at 2024-04-11_23-43-30 on chatglm with subject of microeconomics!\n"
     ]
    },
    {
     "name": "stderr",
     "output_type": "stream",
     "text": [
      "  0%|          | 0/40 [00:00<?, ?it/s]"
     ]
    },
    {
     "name": "stdout",
     "output_type": "stream",
     "text": [
      "{'response_synthesizer:summary_template': ChatPromptTemplate(metadata={'prompt_type': <PromptType.CUSTOM: 'custom'>}, template_vars=['context_str', 'query_str'], kwargs={}, output_parser=None, template_var_mappings=None, function_mappings=None, message_templates=[ChatMessage(role=<MessageRole.SYSTEM: 'system'>, content='你是一个中文人工智能助手，以下是中国关于microeconomics考试的单项选择题以及相应的参考内容，请根据参考信息选出其中的正确答案。', additional_kwargs={}), ChatMessage(role=<MessageRole.USER: 'user'>, content='从不同来源获取的参考信息如下:\\n---------------------\\n{context_str}\\n---------------------\\n题目:{query_str}', additional_kwargs={}), ChatMessage(role=<MessageRole.USER: 'user'>, content='选项:\\nA. 平均总成本小于100\\nB. 平均固定成本小于100\\nC. 边际产量增加\\nD. 平均可变成本小于100\\n答案:\\n', additional_kwargs={})])}\n",
      "INFO:httpx:HTTP Request: POST http://gemini2.sufe.edu.cn:27282/v1/chat/completions \"HTTP/1.1 200 OK\"\n",
      "INFO:httpx:HTTP Request: POST http://gemini2.sufe.edu.cn:27282/v1/embeddings \"HTTP/1.1 200 OK\"\n",
      "INFO:httpx:HTTP Request: POST http://gemini2.sufe.edu.cn:27282/v1/chat/completions \"HTTP/1.1 200 OK\"\n"
     ]
    },
    {
     "name": "stderr",
     "output_type": "stream",
     "text": [
      "  2%|▎         | 1/40 [00:03<02:21,  3.63s/it]"
     ]
    },
    {
     "name": "stdout",
     "output_type": "stream",
     "text": [
      "{'response_synthesizer:summary_template': ChatPromptTemplate(metadata={'prompt_type': <PromptType.CUSTOM: 'custom'>}, template_vars=['context_str', 'query_str'], kwargs={}, output_parser=None, template_var_mappings=None, function_mappings=None, message_templates=[ChatMessage(role=<MessageRole.SYSTEM: 'system'>, content='你是一个中文人工智能助手，以下是中国关于microeconomics考试的单项选择题以及相应的参考内容，请根据参考信息选出其中的正确答案。', additional_kwargs={}), ChatMessage(role=<MessageRole.USER: 'user'>, content='从不同来源获取的参考信息如下:\\n---------------------\\n{context_str}\\n---------------------\\n题目:{query_str}', additional_kwargs={}), ChatMessage(role=<MessageRole.USER: 'user'>, content='选项:\\nA. 固定不变\\nB. 经常变动\\nC. 等于1\\nD. 等于0\\n答案:\\n', additional_kwargs={})])}\n",
      "INFO:httpx:HTTP Request: POST http://gemini2.sufe.edu.cn:27282/v1/chat/completions \"HTTP/1.1 200 OK\"\n",
      "INFO:httpx:HTTP Request: POST http://gemini2.sufe.edu.cn:27282/v1/embeddings \"HTTP/1.1 200 OK\"\n",
      "INFO:httpx:HTTP Request: POST http://gemini2.sufe.edu.cn:27282/v1/chat/completions \"HTTP/1.1 200 OK\"\n"
     ]
    },
    {
     "name": "stderr",
     "output_type": "stream",
     "text": [
      "  5%|▌         | 2/40 [00:05<01:45,  2.78s/it]"
     ]
    },
    {
     "name": "stdout",
     "output_type": "stream",
     "text": [
      "{'response_synthesizer:summary_template': ChatPromptTemplate(metadata={'prompt_type': <PromptType.CUSTOM: 'custom'>}, template_vars=['context_str', 'query_str'], kwargs={}, output_parser=None, template_var_mappings=None, function_mappings=None, message_templates=[ChatMessage(role=<MessageRole.SYSTEM: 'system'>, content='你是一个中文人工智能助手，以下是中国关于microeconomics考试的单项选择题以及相应的参考内容，请根据参考信息选出其中的正确答案。', additional_kwargs={}), ChatMessage(role=<MessageRole.USER: 'user'>, content='从不同来源获取的参考信息如下:\\n---------------------\\n{context_str}\\n---------------------\\n题目:{query_str}', additional_kwargs={}), ChatMessage(role=<MessageRole.USER: 'user'>, content='选项:\\nA. 既有厂商进入也有厂商退出该行业\\nB. 完全竞争被不完全竞争所取代\\nC. 新的厂商进入了该行业\\nD. 原有厂商退出了该行业\\n答案:\\n', additional_kwargs={})])}\n",
      "INFO:httpx:HTTP Request: POST http://gemini2.sufe.edu.cn:27282/v1/chat/completions \"HTTP/1.1 200 OK\"\n",
      "INFO:httpx:HTTP Request: POST http://gemini2.sufe.edu.cn:27282/v1/embeddings \"HTTP/1.1 200 OK\"\n",
      "INFO:httpx:HTTP Request: POST http://gemini2.sufe.edu.cn:27282/v1/chat/completions \"HTTP/1.1 200 OK\"\n"
     ]
    },
    {
     "name": "stderr",
     "output_type": "stream",
     "text": [
      "  8%|▊         | 3/40 [00:07<01:26,  2.35s/it]"
     ]
    },
    {
     "name": "stdout",
     "output_type": "stream",
     "text": [
      "{'response_synthesizer:summary_template': ChatPromptTemplate(metadata={'prompt_type': <PromptType.CUSTOM: 'custom'>}, template_vars=['context_str', 'query_str'], kwargs={}, output_parser=None, template_var_mappings=None, function_mappings=None, message_templates=[ChatMessage(role=<MessageRole.SYSTEM: 'system'>, content='你是一个中文人工智能助手，以下是中国关于microeconomics考试的单项选择题以及相应的参考内容，请根据参考信息选出其中的正确答案。', additional_kwargs={}), ChatMessage(role=<MessageRole.USER: 'user'>, content='从不同来源获取的参考信息如下:\\n---------------------\\n{context_str}\\n---------------------\\n题目:{query_str}', additional_kwargs={}), ChatMessage(role=<MessageRole.USER: 'user'>, content='选项:\\nA. 边际成本递减\\nB. 边际产量递减\\nC. 边际效益递减\\nD. 规模效益递减\\n答案:\\n', additional_kwargs={})])}\n",
      "INFO:httpx:HTTP Request: POST http://gemini2.sufe.edu.cn:27282/v1/chat/completions \"HTTP/1.1 200 OK\"\n",
      "INFO:httpx:HTTP Request: POST http://gemini2.sufe.edu.cn:27282/v1/embeddings \"HTTP/1.1 200 OK\"\n",
      "INFO:httpx:HTTP Request: POST http://gemini2.sufe.edu.cn:27282/v1/chat/completions \"HTTP/1.1 200 OK\"\n"
     ]
    },
    {
     "name": "stderr",
     "output_type": "stream",
     "text": [
      " 10%|█         | 4/40 [00:09<01:18,  2.18s/it]"
     ]
    },
    {
     "name": "stdout",
     "output_type": "stream",
     "text": [
      "{'response_synthesizer:summary_template': ChatPromptTemplate(metadata={'prompt_type': <PromptType.CUSTOM: 'custom'>}, template_vars=['context_str', 'query_str'], kwargs={}, output_parser=None, template_var_mappings=None, function_mappings=None, message_templates=[ChatMessage(role=<MessageRole.SYSTEM: 'system'>, content='你是一个中文人工智能助手，以下是中国关于microeconomics考试的单项选择题以及相应的参考内容，请根据参考信息选出其中的正确答案。', additional_kwargs={}), ChatMessage(role=<MessageRole.USER: 'user'>, content='从不同来源获取的参考信息如下:\\n---------------------\\n{context_str}\\n---------------------\\n题目:{query_str}', additional_kwargs={}), ChatMessage(role=<MessageRole.USER: 'user'>, content='选项:\\nA. 其下部向里偏转，即做顺时针转动\\nB. 其下部向外偏转，即做逆时针转动\\nC. 向下平行移动\\nD. 向上平行移动\\n答案:\\n', additional_kwargs={})])}\n",
      "INFO:httpx:HTTP Request: POST http://gemini2.sufe.edu.cn:27282/v1/chat/completions \"HTTP/1.1 200 OK\"\n",
      "INFO:httpx:HTTP Request: POST http://gemini2.sufe.edu.cn:27282/v1/embeddings \"HTTP/1.1 200 OK\"\n",
      "INFO:httpx:HTTP Request: POST http://gemini2.sufe.edu.cn:27282/v1/chat/completions \"HTTP/1.1 200 OK\"\n"
     ]
    },
    {
     "name": "stderr",
     "output_type": "stream",
     "text": [
      " 12%|█▎        | 5/40 [00:11<01:14,  2.12s/it]"
     ]
    },
    {
     "name": "stdout",
     "output_type": "stream",
     "text": [
      "{'response_synthesizer:summary_template': ChatPromptTemplate(metadata={'prompt_type': <PromptType.CUSTOM: 'custom'>}, template_vars=['context_str', 'query_str'], kwargs={}, output_parser=None, template_var_mappings=None, function_mappings=None, message_templates=[ChatMessage(role=<MessageRole.SYSTEM: 'system'>, content='你是一个中文人工智能助手，以下是中国关于microeconomics考试的单项选择题以及相应的参考内容，请根据参考信息选出其中的正确答案。', additional_kwargs={}), ChatMessage(role=<MessageRole.USER: 'user'>, content='从不同来源获取的参考信息如下:\\n---------------------\\n{context_str}\\n---------------------\\n题目:{query_str}', additional_kwargs={}), ChatMessage(role=<MessageRole.USER: 'user'>, content='选项:\\nA. 未达到利润最大化，应减少产量\\nB. 未达到利润最大化，应扩大产量\\nC. 生产出利润最大化，但是成本未达到最小化\\nD. 在成本最小条件下实现利润最大化产量\\n答案:\\n', additional_kwargs={})])}\n",
      "INFO:httpx:HTTP Request: POST http://gemini2.sufe.edu.cn:27282/v1/chat/completions \"HTTP/1.1 200 OK\"\n",
      "INFO:httpx:HTTP Request: POST http://gemini2.sufe.edu.cn:27282/v1/embeddings \"HTTP/1.1 200 OK\"\n",
      "INFO:httpx:HTTP Request: POST http://gemini2.sufe.edu.cn:27282/v1/chat/completions \"HTTP/1.1 200 OK\"\n"
     ]
    },
    {
     "name": "stderr",
     "output_type": "stream",
     "text": [
      " 15%|█▌        | 6/40 [00:17<01:54,  3.37s/it]"
     ]
    },
    {
     "name": "stdout",
     "output_type": "stream",
     "text": [
      "{'response_synthesizer:summary_template': ChatPromptTemplate(metadata={'prompt_type': <PromptType.CUSTOM: 'custom'>}, template_vars=['context_str', 'query_str'], kwargs={}, output_parser=None, template_var_mappings=None, function_mappings=None, message_templates=[ChatMessage(role=<MessageRole.SYSTEM: 'system'>, content='你是一个中文人工智能助手，以下是中国关于microeconomics考试的单项选择题以及相应的参考内容，请根据参考信息选出其中的正确答案。', additional_kwargs={}), ChatMessage(role=<MessageRole.USER: 'user'>, content='从不同来源获取的参考信息如下:\\n---------------------\\n{context_str}\\n---------------------\\n题目:{query_str}', additional_kwargs={}), ChatMessage(role=<MessageRole.USER: 'user'>, content='选项:\\nA. 边际产品价值降低；劳动的需求曲线右移\\nB. 边际产品价值增加；劳动的需求曲线左移\\nC. 边际产品价值增加；劳动的需求曲线右移\\nD. 边际产品价值降低；劳动的需求曲线左移\\n答案:\\n', additional_kwargs={})])}\n",
      "INFO:httpx:HTTP Request: POST http://gemini2.sufe.edu.cn:27282/v1/chat/completions \"HTTP/1.1 200 OK\"\n",
      "INFO:httpx:HTTP Request: POST http://gemini2.sufe.edu.cn:27282/v1/embeddings \"HTTP/1.1 200 OK\"\n",
      "INFO:httpx:HTTP Request: POST http://gemini2.sufe.edu.cn:27282/v1/chat/completions \"HTTP/1.1 200 OK\"\n"
     ]
    },
    {
     "name": "stderr",
     "output_type": "stream",
     "text": [
      " 18%|█▊        | 7/40 [00:22<02:06,  3.83s/it]"
     ]
    },
    {
     "name": "stdout",
     "output_type": "stream",
     "text": [
      "{'response_synthesizer:summary_template': ChatPromptTemplate(metadata={'prompt_type': <PromptType.CUSTOM: 'custom'>}, template_vars=['context_str', 'query_str'], kwargs={}, output_parser=None, template_var_mappings=None, function_mappings=None, message_templates=[ChatMessage(role=<MessageRole.SYSTEM: 'system'>, content='你是一个中文人工智能助手，以下是中国关于microeconomics考试的单项选择题以及相应的参考内容，请根据参考信息选出其中的正确答案。', additional_kwargs={}), ChatMessage(role=<MessageRole.USER: 'user'>, content='从不同来源获取的参考信息如下:\\n---------------------\\n{context_str}\\n---------------------\\n题目:{query_str}', additional_kwargs={}), ChatMessage(role=<MessageRole.USER: 'user'>, content='选项:\\nA. 向前弯曲\\nB. 向后弯曲\\nC. 仍保持向右上方倾斜\\nD. 向右下方倾斜\\n答案:\\n', additional_kwargs={})])}\n",
      "INFO:httpx:HTTP Request: POST http://gemini2.sufe.edu.cn:27282/v1/chat/completions \"HTTP/1.1 200 OK\"\n",
      "INFO:httpx:HTTP Request: POST http://gemini2.sufe.edu.cn:27282/v1/embeddings \"HTTP/1.1 200 OK\"\n",
      "INFO:httpx:HTTP Request: POST http://gemini2.sufe.edu.cn:27282/v1/chat/completions \"HTTP/1.1 200 OK\"\n"
     ]
    },
    {
     "name": "stderr",
     "output_type": "stream",
     "text": [
      " 20%|██        | 8/40 [00:23<01:41,  3.16s/it]"
     ]
    },
    {
     "name": "stdout",
     "output_type": "stream",
     "text": [
      "{'response_synthesizer:summary_template': ChatPromptTemplate(metadata={'prompt_type': <PromptType.CUSTOM: 'custom'>}, template_vars=['context_str', 'query_str'], kwargs={}, output_parser=None, template_var_mappings=None, function_mappings=None, message_templates=[ChatMessage(role=<MessageRole.SYSTEM: 'system'>, content='你是一个中文人工智能助手，以下是中国关于microeconomics考试的单项选择题以及相应的参考内容，请根据参考信息选出其中的正确答案。', additional_kwargs={}), ChatMessage(role=<MessageRole.USER: 'user'>, content='从不同来源获取的参考信息如下:\\n---------------------\\n{context_str}\\n---------------------\\n题目:{query_str}', additional_kwargs={}), ChatMessage(role=<MessageRole.USER: 'user'>, content='选项:\\nA. 它是指工资率对劳动者的收入，从而劳动时间产生的影响\\nB. 若劳动时间不变，工资率的提高使得劳动者的收入提高\\nC. 若劳动时间不变，工资率的提高使得劳动者有能力消费更多的闲暇\\nD. 工资率的提高的收入效应使得劳动供给增加\\n答案:\\n', additional_kwargs={})])}\n",
      "INFO:httpx:HTTP Request: POST http://gemini2.sufe.edu.cn:27282/v1/chat/completions \"HTTP/1.1 200 OK\"\n",
      "INFO:httpx:HTTP Request: POST http://gemini2.sufe.edu.cn:27282/v1/embeddings \"HTTP/1.1 200 OK\"\n",
      "INFO:httpx:HTTP Request: POST http://gemini2.sufe.edu.cn:27282/v1/chat/completions \"HTTP/1.1 200 OK\"\n"
     ]
    },
    {
     "name": "stderr",
     "output_type": "stream",
     "text": [
      " 22%|██▎       | 9/40 [00:26<01:32,  2.99s/it]"
     ]
    },
    {
     "name": "stdout",
     "output_type": "stream",
     "text": [
      "{'response_synthesizer:summary_template': ChatPromptTemplate(metadata={'prompt_type': <PromptType.CUSTOM: 'custom'>}, template_vars=['context_str', 'query_str'], kwargs={}, output_parser=None, template_var_mappings=None, function_mappings=None, message_templates=[ChatMessage(role=<MessageRole.SYSTEM: 'system'>, content='你是一个中文人工智能助手，以下是中国关于microeconomics考试的单项选择题以及相应的参考内容，请根据参考信息选出其中的正确答案。', additional_kwargs={}), ChatMessage(role=<MessageRole.USER: 'user'>, content='从不同来源获取的参考信息如下:\\n---------------------\\n{context_str}\\n---------------------\\n题目:{query_str}', additional_kwargs={}), ChatMessage(role=<MessageRole.USER: 'user'>, content='选项:\\nA. 乙用X向甲交换Y\\nB. 乙用Y向甲交换X\\nC. 甲和乙不会交换商品\\nD. 以上均不正确\\n答案:\\n', additional_kwargs={})])}\n",
      "INFO:httpx:HTTP Request: POST http://gemini2.sufe.edu.cn:27282/v1/chat/completions \"HTTP/1.1 200 OK\"\n",
      "INFO:httpx:HTTP Request: POST http://gemini2.sufe.edu.cn:27282/v1/embeddings \"HTTP/1.1 200 OK\"\n",
      "INFO:httpx:HTTP Request: POST http://gemini2.sufe.edu.cn:27282/v1/chat/completions \"HTTP/1.1 200 OK\"\n"
     ]
    },
    {
     "name": "stderr",
     "output_type": "stream",
     "text": [
      " 25%|██▌       | 10/40 [00:31<01:50,  3.68s/it]"
     ]
    },
    {
     "name": "stdout",
     "output_type": "stream",
     "text": [
      "{'response_synthesizer:summary_template': ChatPromptTemplate(metadata={'prompt_type': <PromptType.CUSTOM: 'custom'>}, template_vars=['context_str', 'query_str'], kwargs={}, output_parser=None, template_var_mappings=None, function_mappings=None, message_templates=[ChatMessage(role=<MessageRole.SYSTEM: 'system'>, content='你是一个中文人工智能助手，以下是中国关于microeconomics考试的单项选择题以及相应的参考内容，请根据参考信息选出其中的正确答案。', additional_kwargs={}), ChatMessage(role=<MessageRole.USER: 'user'>, content='从不同来源获取的参考信息如下:\\n---------------------\\n{context_str}\\n---------------------\\n题目:{query_str}', additional_kwargs={}), ChatMessage(role=<MessageRole.USER: 'user'>, content='选项:\\nA. 一个部门的变化对其他部门的影响\\nB. 与供给相独立的需求的变化\\nC. 一个市场出现的情况，忽视其他市场\\nD. 经济中所有的相互作用和相互依存关系\\n答案:\\n', additional_kwargs={})])}\n",
      "INFO:httpx:HTTP Request: POST http://gemini2.sufe.edu.cn:27282/v1/chat/completions \"HTTP/1.1 200 OK\"\n",
      "INFO:httpx:HTTP Request: POST http://gemini2.sufe.edu.cn:27282/v1/embeddings \"HTTP/1.1 200 OK\"\n",
      "INFO:httpx:HTTP Request: POST http://gemini2.sufe.edu.cn:27282/v1/chat/completions \"HTTP/1.1 200 OK\"\n"
     ]
    },
    {
     "name": "stderr",
     "output_type": "stream",
     "text": [
      " 28%|██▊       | 11/40 [00:33<01:26,  3.00s/it]"
     ]
    },
    {
     "name": "stdout",
     "output_type": "stream",
     "text": [
      "{'response_synthesizer:summary_template': ChatPromptTemplate(metadata={'prompt_type': <PromptType.CUSTOM: 'custom'>}, template_vars=['context_str', 'query_str'], kwargs={}, output_parser=None, template_var_mappings=None, function_mappings=None, message_templates=[ChatMessage(role=<MessageRole.SYSTEM: 'system'>, content='你是一个中文人工智能助手，以下是中国关于microeconomics考试的单项选择题以及相应的参考内容，请根据参考信息选出其中的正确答案。', additional_kwargs={}), ChatMessage(role=<MessageRole.USER: 'user'>, content='从不同来源获取的参考信息如下:\\n---------------------\\n{context_str}\\n---------------------\\n题目:{query_str}', additional_kwargs={}), ChatMessage(role=<MessageRole.USER: 'user'>, content='选项:\\nA. 一般均衡分析很可能推出错误的结论\\nB. 局部均衡分析很可能推出错误的结论\\nC. 局部均衡分析将提供合理可靠的预测\\nD. 以上说法都不对\\n答案:\\n', additional_kwargs={})])}\n",
      "INFO:httpx:HTTP Request: POST http://gemini2.sufe.edu.cn:27282/v1/chat/completions \"HTTP/1.1 200 OK\"\n",
      "INFO:httpx:HTTP Request: POST http://gemini2.sufe.edu.cn:27282/v1/embeddings \"HTTP/1.1 200 OK\"\n",
      "INFO:httpx:HTTP Request: POST http://gemini2.sufe.edu.cn:27282/v1/chat/completions \"HTTP/1.1 200 OK\"\n"
     ]
    },
    {
     "name": "stderr",
     "output_type": "stream",
     "text": [
      " 30%|███       | 12/40 [00:36<01:27,  3.13s/it]"
     ]
    },
    {
     "name": "stdout",
     "output_type": "stream",
     "text": [
      "{'response_synthesizer:summary_template': ChatPromptTemplate(metadata={'prompt_type': <PromptType.CUSTOM: 'custom'>}, template_vars=['context_str', 'query_str'], kwargs={}, output_parser=None, template_var_mappings=None, function_mappings=None, message_templates=[ChatMessage(role=<MessageRole.SYSTEM: 'system'>, content='你是一个中文人工智能助手，以下是中国关于microeconomics考试的单项选择题以及相应的参考内容，请根据参考信息选出其中的正确答案。', additional_kwargs={}), ChatMessage(role=<MessageRole.USER: 'user'>, content='从不同来源获取的参考信息如下:\\n---------------------\\n{context_str}\\n---------------------\\n题目:{query_str}', additional_kwargs={}), ChatMessage(role=<MessageRole.USER: 'user'>, content='选项:\\nA. 生产的效率\\nB. 交换的效率\\nC. 产品组合的效率\\nD. 收入的公平分配\\n答案:\\n', additional_kwargs={})])}\n",
      "INFO:httpx:HTTP Request: POST http://gemini2.sufe.edu.cn:27282/v1/chat/completions \"HTTP/1.1 200 OK\"\n",
      "INFO:httpx:HTTP Request: POST http://gemini2.sufe.edu.cn:27282/v1/embeddings \"HTTP/1.1 200 OK\"\n",
      "INFO:httpx:HTTP Request: POST http://gemini2.sufe.edu.cn:27282/v1/chat/completions \"HTTP/1.1 200 OK\"\n"
     ]
    },
    {
     "name": "stderr",
     "output_type": "stream",
     "text": [
      " 32%|███▎      | 13/40 [00:38<01:12,  2.70s/it]"
     ]
    },
    {
     "name": "stdout",
     "output_type": "stream",
     "text": [
      "{'response_synthesizer:summary_template': ChatPromptTemplate(metadata={'prompt_type': <PromptType.CUSTOM: 'custom'>}, template_vars=['context_str', 'query_str'], kwargs={}, output_parser=None, template_var_mappings=None, function_mappings=None, message_templates=[ChatMessage(role=<MessageRole.SYSTEM: 'system'>, content='你是一个中文人工智能助手，以下是中国关于microeconomics考试的单项选择题以及相应的参考内容，请根据参考信息选出其中的正确答案。', additional_kwargs={}), ChatMessage(role=<MessageRole.USER: 'user'>, content='从不同来源获取的参考信息如下:\\n---------------------\\n{context_str}\\n---------------------\\n题目:{query_str}', additional_kwargs={}), ChatMessage(role=<MessageRole.USER: 'user'>, content='选项:\\nA. 如果不使其中一个人受损失就不能使另一个人受益\\nB. 每个人都处在其消费契约曲线上\\nC. 每个人都处在其效用可能性曲线上\\nD. 包括以上所有条件\\n答案:\\n', additional_kwargs={})])}\n",
      "INFO:httpx:HTTP Request: POST http://gemini2.sufe.edu.cn:27282/v1/chat/completions \"HTTP/1.1 200 OK\"\n",
      "INFO:httpx:HTTP Request: POST http://gemini2.sufe.edu.cn:27282/v1/embeddings \"HTTP/1.1 200 OK\"\n",
      "INFO:httpx:HTTP Request: POST http://gemini2.sufe.edu.cn:27282/v1/chat/completions \"HTTP/1.1 200 OK\"\n"
     ]
    },
    {
     "name": "stderr",
     "output_type": "stream",
     "text": [
      " 35%|███▌      | 14/40 [00:44<01:38,  3.77s/it]"
     ]
    },
    {
     "name": "stdout",
     "output_type": "stream",
     "text": [
      "{'response_synthesizer:summary_template': ChatPromptTemplate(metadata={'prompt_type': <PromptType.CUSTOM: 'custom'>}, template_vars=['context_str', 'query_str'], kwargs={}, output_parser=None, template_var_mappings=None, function_mappings=None, message_templates=[ChatMessage(role=<MessageRole.SYSTEM: 'system'>, content='你是一个中文人工智能助手，以下是中国关于microeconomics考试的单项选择题以及相应的参考内容，请根据参考信息选出其中的正确答案。', additional_kwargs={}), ChatMessage(role=<MessageRole.USER: 'user'>, content='从不同来源获取的参考信息如下:\\n---------------------\\n{context_str}\\n---------------------\\n题目:{query_str}', additional_kwargs={}), ChatMessage(role=<MessageRole.USER: 'user'>, content='选项:\\nA. 当市场不能完全出清时\\nB. 当竞争建立在自身利益最大化的前提上时\\nC. 当厂商追求利润最大化目标时\\nD. 当市场价格不能反映一项交易的所有成本和收益时\\n答案:\\n', additional_kwargs={})])}\n",
      "INFO:httpx:HTTP Request: POST http://gemini2.sufe.edu.cn:27282/v1/chat/completions \"HTTP/1.1 200 OK\"\n",
      "INFO:httpx:HTTP Request: POST http://gemini2.sufe.edu.cn:27282/v1/embeddings \"HTTP/1.1 200 OK\"\n",
      "INFO:httpx:HTTP Request: POST http://gemini2.sufe.edu.cn:27282/v1/chat/completions \"HTTP/1.1 200 OK\"\n"
     ]
    },
    {
     "name": "stderr",
     "output_type": "stream",
     "text": [
      " 38%|███▊      | 15/40 [00:46<01:17,  3.10s/it]"
     ]
    },
    {
     "name": "stdout",
     "output_type": "stream",
     "text": [
      "{'response_synthesizer:summary_template': ChatPromptTemplate(metadata={'prompt_type': <PromptType.CUSTOM: 'custom'>}, template_vars=['context_str', 'query_str'], kwargs={}, output_parser=None, template_var_mappings=None, function_mappings=None, message_templates=[ChatMessage(role=<MessageRole.SYSTEM: 'system'>, content='你是一个中文人工智能助手，以下是中国关于microeconomics考试的单项选择题以及相应的参考内容，请根据参考信息选出其中的正确答案。', additional_kwargs={}), ChatMessage(role=<MessageRole.USER: 'user'>, content='从不同来源获取的参考信息如下:\\n---------------------\\n{context_str}\\n---------------------\\n题目:{query_str}', additional_kwargs={}), ChatMessage(role=<MessageRole.USER: 'user'>, content='选项:\\nA. 不能被证明是一种旨在提高效率合理的经济行为\\nB. 本质是非法的\\nC. 违反了克莱顿法\\nD. 导致纵向或横向兼并\\n答案:\\n', additional_kwargs={})])}\n",
      "INFO:httpx:HTTP Request: POST http://gemini2.sufe.edu.cn:27282/v1/chat/completions \"HTTP/1.1 200 OK\"\n",
      "INFO:httpx:HTTP Request: POST http://gemini2.sufe.edu.cn:27282/v1/embeddings \"HTTP/1.1 200 OK\"\n",
      "INFO:httpx:HTTP Request: POST http://gemini2.sufe.edu.cn:27282/v1/chat/completions \"HTTP/1.1 200 OK\"\n"
     ]
    },
    {
     "name": "stderr",
     "output_type": "stream",
     "text": [
      " 40%|████      | 16/40 [00:47<01:02,  2.62s/it]"
     ]
    },
    {
     "name": "stdout",
     "output_type": "stream",
     "text": [
      "{'response_synthesizer:summary_template': ChatPromptTemplate(metadata={'prompt_type': <PromptType.CUSTOM: 'custom'>}, template_vars=['context_str', 'query_str'], kwargs={}, output_parser=None, template_var_mappings=None, function_mappings=None, message_templates=[ChatMessage(role=<MessageRole.SYSTEM: 'system'>, content='你是一个中文人工智能助手，以下是中国关于microeconomics考试的单项选择题以及相应的参考内容，请根据参考信息选出其中的正确答案。', additional_kwargs={}), ChatMessage(role=<MessageRole.USER: 'user'>, content='从不同来源获取的参考信息如下:\\n---------------------\\n{context_str}\\n---------------------\\n题目:{query_str}', additional_kwargs={}), ChatMessage(role=<MessageRole.USER: 'user'>, content='选项:\\nA. 卖方故意要隐瞒自己一些情况\\nB. 买方认识能力有限\\nC. 完全掌握情况所费成本太高\\nD. 以上三种情况都有可能\\n答案:\\n', additional_kwargs={})])}\n",
      "INFO:httpx:HTTP Request: POST http://gemini2.sufe.edu.cn:27282/v1/chat/completions \"HTTP/1.1 200 OK\"\n",
      "INFO:httpx:HTTP Request: POST http://gemini2.sufe.edu.cn:27282/v1/embeddings \"HTTP/1.1 200 OK\"\n",
      "INFO:httpx:HTTP Request: POST http://gemini2.sufe.edu.cn:27282/v1/chat/completions \"HTTP/1.1 200 OK\"\n"
     ]
    },
    {
     "name": "stderr",
     "output_type": "stream",
     "text": [
      " 42%|████▎     | 17/40 [00:49<00:53,  2.33s/it]"
     ]
    },
    {
     "name": "stdout",
     "output_type": "stream",
     "text": [
      "{'response_synthesizer:summary_template': ChatPromptTemplate(metadata={'prompt_type': <PromptType.CUSTOM: 'custom'>}, template_vars=['context_str', 'query_str'], kwargs={}, output_parser=None, template_var_mappings=None, function_mappings=None, message_templates=[ChatMessage(role=<MessageRole.SYSTEM: 'system'>, content='你是一个中文人工智能助手，以下是中国关于microeconomics考试的单项选择题以及相应的参考内容，请根据参考信息选出其中的正确答案。', additional_kwargs={}), ChatMessage(role=<MessageRole.USER: 'user'>, content='从不同来源获取的参考信息如下:\\n---------------------\\n{context_str}\\n---------------------\\n题目:{query_str}', additional_kwargs={}), ChatMessage(role=<MessageRole.USER: 'user'>, content='选项:\\nA. 公共物品不具有排他性\\nB. 公共物品不具有竞争性\\nC. 消费者都想“免费乘车”\\nD. 以上三种情况都是\\n答案:\\n', additional_kwargs={})])}\n",
      "INFO:httpx:HTTP Request: POST http://gemini2.sufe.edu.cn:27282/v1/chat/completions \"HTTP/1.1 200 OK\"\n",
      "INFO:httpx:HTTP Request: POST http://gemini2.sufe.edu.cn:27282/v1/embeddings \"HTTP/1.1 200 OK\"\n",
      "INFO:httpx:HTTP Request: POST http://gemini2.sufe.edu.cn:27282/v1/chat/completions \"HTTP/1.1 200 OK\"\n"
     ]
    },
    {
     "name": "stderr",
     "output_type": "stream",
     "text": [
      " 45%|████▌     | 18/40 [00:51<00:49,  2.27s/it]"
     ]
    },
    {
     "name": "stdout",
     "output_type": "stream",
     "text": [
      "{'response_synthesizer:summary_template': ChatPromptTemplate(metadata={'prompt_type': <PromptType.CUSTOM: 'custom'>}, template_vars=['context_str', 'query_str'], kwargs={}, output_parser=None, template_var_mappings=None, function_mappings=None, message_templates=[ChatMessage(role=<MessageRole.SYSTEM: 'system'>, content='你是一个中文人工智能助手，以下是中国关于microeconomics考试的单项选择题以及相应的参考内容，请根据参考信息选出其中的正确答案。', additional_kwargs={}), ChatMessage(role=<MessageRole.USER: 'user'>, content='从不同来源获取的参考信息如下:\\n---------------------\\n{context_str}\\n---------------------\\n题目:{query_str}', additional_kwargs={}), ChatMessage(role=<MessageRole.USER: 'user'>, content='选项:\\nA. B用x向A交换y\\nB. B用y向A交换x\\nC. A和B不会交换商品\\nD. 无交换发生\\n答案:\\n', additional_kwargs={})])}\n",
      "INFO:httpx:HTTP Request: POST http://gemini2.sufe.edu.cn:27282/v1/chat/completions \"HTTP/1.1 200 OK\"\n",
      "INFO:httpx:HTTP Request: POST http://gemini2.sufe.edu.cn:27282/v1/embeddings \"HTTP/1.1 200 OK\"\n",
      "INFO:httpx:HTTP Request: POST http://gemini2.sufe.edu.cn:27282/v1/chat/completions \"HTTP/1.1 200 OK\"\n"
     ]
    },
    {
     "name": "stderr",
     "output_type": "stream",
     "text": [
      " 48%|████▊     | 19/40 [00:56<01:05,  3.13s/it]"
     ]
    },
    {
     "name": "stdout",
     "output_type": "stream",
     "text": [
      "{'response_synthesizer:summary_template': ChatPromptTemplate(metadata={'prompt_type': <PromptType.CUSTOM: 'custom'>}, template_vars=['context_str', 'query_str'], kwargs={}, output_parser=None, template_var_mappings=None, function_mappings=None, message_templates=[ChatMessage(role=<MessageRole.SYSTEM: 'system'>, content='你是一个中文人工智能助手，以下是中国关于microeconomics考试的单项选择题以及相应的参考内容，请根据参考信息选出其中的正确答案。', additional_kwargs={}), ChatMessage(role=<MessageRole.USER: 'user'>, content='从不同来源获取的参考信息如下:\\n---------------------\\n{context_str}\\n---------------------\\n题目:{query_str}', additional_kwargs={}), ChatMessage(role=<MessageRole.USER: 'user'>, content='选项:\\nA. 社会边际成本和私人边际成本之差\\nB. 私人边际成本\\nC. 治理污染设备的成本\\nD. 社会边际成本\\n答案:\\n', additional_kwargs={})])}\n",
      "INFO:httpx:HTTP Request: POST http://gemini2.sufe.edu.cn:27282/v1/chat/completions \"HTTP/1.1 200 OK\"\n",
      "INFO:httpx:HTTP Request: POST http://gemini2.sufe.edu.cn:27282/v1/embeddings \"HTTP/1.1 200 OK\"\n",
      "INFO:httpx:HTTP Request: POST http://gemini2.sufe.edu.cn:27282/v1/chat/completions \"HTTP/1.1 200 OK\"\n"
     ]
    },
    {
     "name": "stderr",
     "output_type": "stream",
     "text": [
      " 50%|█████     | 20/40 [00:59<00:58,  2.94s/it]"
     ]
    },
    {
     "name": "stdout",
     "output_type": "stream",
     "text": [
      "{'response_synthesizer:summary_template': ChatPromptTemplate(metadata={'prompt_type': <PromptType.CUSTOM: 'custom'>}, template_vars=['context_str', 'query_str'], kwargs={}, output_parser=None, template_var_mappings=None, function_mappings=None, message_templates=[ChatMessage(role=<MessageRole.SYSTEM: 'system'>, content='你是一个中文人工智能助手，以下是中国关于microeconomics考试的单项选择题以及相应的参考内容，请根据参考信息选出其中的正确答案。', additional_kwargs={}), ChatMessage(role=<MessageRole.USER: 'user'>, content='从不同来源获取的参考信息如下:\\n---------------------\\n{context_str}\\n---------------------\\n题目:{query_str}', additional_kwargs={}), ChatMessage(role=<MessageRole.USER: 'user'>, content='选项:\\nA. 一家公司设法增加在自己所有的财产上收取租金\\nB. 公司投入资源去劝说政府阻止新公司进入它的行业\\nC. 政府设法找出一家公司垄断租金的大小\\nD. 政府设法剥夺一家公司的垄断租金\\n答案:\\n', additional_kwargs={})])}\n",
      "INFO:httpx:HTTP Request: POST http://gemini2.sufe.edu.cn:27282/v1/chat/completions \"HTTP/1.1 200 OK\"\n",
      "INFO:httpx:HTTP Request: POST http://gemini2.sufe.edu.cn:27282/v1/embeddings \"HTTP/1.1 200 OK\"\n",
      "INFO:httpx:HTTP Request: POST http://gemini2.sufe.edu.cn:27282/v1/chat/completions \"HTTP/1.1 200 OK\"\n"
     ]
    },
    {
     "name": "stderr",
     "output_type": "stream",
     "text": [
      " 52%|█████▎    | 21/40 [01:00<00:48,  2.56s/it]"
     ]
    },
    {
     "name": "stdout",
     "output_type": "stream",
     "text": [
      "{'response_synthesizer:summary_template': ChatPromptTemplate(metadata={'prompt_type': <PromptType.CUSTOM: 'custom'>}, template_vars=['context_str', 'query_str'], kwargs={}, output_parser=None, template_var_mappings=None, function_mappings=None, message_templates=[ChatMessage(role=<MessageRole.SYSTEM: 'system'>, content='你是一个中文人工智能助手，以下是中国关于microeconomics考试的单项选择题以及相应的参考内容，请根据参考信息选出其中的正确答案。', additional_kwargs={}), ChatMessage(role=<MessageRole.USER: 'user'>, content='从不同来源获取的参考信息如下:\\n---------------------\\n{context_str}\\n---------------------\\n题目:{query_str}', additional_kwargs={}), ChatMessage(role=<MessageRole.USER: 'user'>, content='选项:\\nA. 价格竞争的市场\\nB. 产量竞争的市场\\nC. 产量领导的市场\\nD. 价格领导的市场\\n答案:\\n', additional_kwargs={})])}\n",
      "INFO:httpx:HTTP Request: POST http://gemini2.sufe.edu.cn:27282/v1/chat/completions \"HTTP/1.1 200 OK\"\n",
      "INFO:httpx:HTTP Request: POST http://gemini2.sufe.edu.cn:27282/v1/embeddings \"HTTP/1.1 200 OK\"\n",
      "INFO:httpx:HTTP Request: POST http://gemini2.sufe.edu.cn:27282/v1/chat/completions \"HTTP/1.1 200 OK\"\n"
     ]
    },
    {
     "name": "stderr",
     "output_type": "stream",
     "text": [
      " 55%|█████▌    | 22/40 [01:02<00:40,  2.24s/it]"
     ]
    },
    {
     "name": "stdout",
     "output_type": "stream",
     "text": [
      "{'response_synthesizer:summary_template': ChatPromptTemplate(metadata={'prompt_type': <PromptType.CUSTOM: 'custom'>}, template_vars=['context_str', 'query_str'], kwargs={}, output_parser=None, template_var_mappings=None, function_mappings=None, message_templates=[ChatMessage(role=<MessageRole.SYSTEM: 'system'>, content='你是一个中文人工智能助手，以下是中国关于microeconomics考试的单项选择题以及相应的参考内容，请根据参考信息选出其中的正确答案。', additional_kwargs={}), ChatMessage(role=<MessageRole.USER: 'user'>, content='从不同来源获取的参考信息如下:\\n---------------------\\n{context_str}\\n---------------------\\n题目:{query_str}', additional_kwargs={}), ChatMessage(role=<MessageRole.USER: 'user'>, content='选项:\\nA. 双方都独立依照自身利益行动，结果陷入最不利的局面\\nB. 双方都独立依照自身利益行事，导致最好的选择\\nC. 双方进行合作，得到了最好的结果\\nD. 双方进行合作，得到了次优的结果\\n答案:\\n', additional_kwargs={})])}\n",
      "INFO:httpx:HTTP Request: POST http://gemini2.sufe.edu.cn:27282/v1/chat/completions \"HTTP/1.1 200 OK\"\n",
      "INFO:httpx:HTTP Request: POST http://gemini2.sufe.edu.cn:27282/v1/embeddings \"HTTP/1.1 200 OK\"\n",
      "INFO:httpx:HTTP Request: POST http://gemini2.sufe.edu.cn:27282/v1/chat/completions \"HTTP/1.1 200 OK\"\n"
     ]
    },
    {
     "name": "stderr",
     "output_type": "stream",
     "text": [
      " 57%|█████▊    | 23/40 [01:03<00:34,  2.03s/it]"
     ]
    },
    {
     "name": "stdout",
     "output_type": "stream",
     "text": [
      "{'response_synthesizer:summary_template': ChatPromptTemplate(metadata={'prompt_type': <PromptType.CUSTOM: 'custom'>}, template_vars=['context_str', 'query_str'], kwargs={}, output_parser=None, template_var_mappings=None, function_mappings=None, message_templates=[ChatMessage(role=<MessageRole.SYSTEM: 'system'>, content='你是一个中文人工智能助手，以下是中国关于microeconomics考试的单项选择题以及相应的参考内容，请根据参考信息选出其中的正确答案。', additional_kwargs={}), ChatMessage(role=<MessageRole.USER: 'user'>, content='从不同来源获取的参考信息如下:\\n---------------------\\n{context_str}\\n---------------------\\n题目:{query_str}', additional_kwargs={}), ChatMessage(role=<MessageRole.USER: 'user'>, content='选项:\\nA. 一级价格差别\\nB. 二级价格差别\\nC. 三级价格差别\\nD. 混合价格差别\\n答案:\\n', additional_kwargs={})])}\n",
      "INFO:httpx:HTTP Request: POST http://gemini2.sufe.edu.cn:27282/v1/chat/completions \"HTTP/1.1 200 OK\"\n",
      "INFO:httpx:HTTP Request: POST http://gemini2.sufe.edu.cn:27282/v1/embeddings \"HTTP/1.1 200 OK\"\n",
      "INFO:httpx:HTTP Request: POST http://gemini2.sufe.edu.cn:27282/v1/chat/completions \"HTTP/1.1 200 OK\"\n"
     ]
    },
    {
     "name": "stderr",
     "output_type": "stream",
     "text": [
      " 60%|██████    | 24/40 [01:05<00:31,  1.97s/it]"
     ]
    },
    {
     "name": "stdout",
     "output_type": "stream",
     "text": [
      "{'response_synthesizer:summary_template': ChatPromptTemplate(metadata={'prompt_type': <PromptType.CUSTOM: 'custom'>}, template_vars=['context_str', 'query_str'], kwargs={}, output_parser=None, template_var_mappings=None, function_mappings=None, message_templates=[ChatMessage(role=<MessageRole.SYSTEM: 'system'>, content='你是一个中文人工智能助手，以下是中国关于microeconomics考试的单项选择题以及相应的参考内容，请根据参考信息选出其中的正确答案。', additional_kwargs={}), ChatMessage(role=<MessageRole.USER: 'user'>, content='从不同来源获取的参考信息如下:\\n---------------------\\n{context_str}\\n---------------------\\n题目:{query_str}', additional_kwargs={}), ChatMessage(role=<MessageRole.USER: 'user'>, content='选项:\\nA. 生产中使用的要素供给曲线是垂直的\\nB. 行业的长期供给曲线有一正的斜率\\nC. 行业的长期供给曲线有一负的斜率\\nD. 短期平均成本曲线不是U型的\\n答案:\\n', additional_kwargs={})])}\n",
      "INFO:httpx:HTTP Request: POST http://gemini2.sufe.edu.cn:27282/v1/chat/completions \"HTTP/1.1 200 OK\"\n",
      "INFO:httpx:HTTP Request: POST http://gemini2.sufe.edu.cn:27282/v1/embeddings \"HTTP/1.1 200 OK\"\n",
      "INFO:httpx:HTTP Request: POST http://gemini2.sufe.edu.cn:27282/v1/chat/completions \"HTTP/1.1 200 OK\"\n"
     ]
    },
    {
     "name": "stderr",
     "output_type": "stream",
     "text": [
      " 62%|██████▎   | 25/40 [01:08<00:32,  2.20s/it]"
     ]
    },
    {
     "name": "stdout",
     "output_type": "stream",
     "text": [
      "{'response_synthesizer:summary_template': ChatPromptTemplate(metadata={'prompt_type': <PromptType.CUSTOM: 'custom'>}, template_vars=['context_str', 'query_str'], kwargs={}, output_parser=None, template_var_mappings=None, function_mappings=None, message_templates=[ChatMessage(role=<MessageRole.SYSTEM: 'system'>, content='你是一个中文人工智能助手，以下是中国关于microeconomics考试的单项选择题以及相应的参考内容，请根据参考信息选出其中的正确答案。', additional_kwargs={}), ChatMessage(role=<MessageRole.USER: 'user'>, content='从不同来源获取的参考信息如下:\\n---------------------\\n{context_str}\\n---------------------\\n题目:{query_str}', additional_kwargs={}), ChatMessage(role=<MessageRole.USER: 'user'>, content='选项:\\nA. 使总亏损最小\\nB. 使总亏损最小\\nC. 使总亏损最小，或使总盈利最大\\nD. 以上都不正确\\n答案:\\n', additional_kwargs={})])}\n",
      "INFO:httpx:HTTP Request: POST http://gemini2.sufe.edu.cn:27282/v1/chat/completions \"HTTP/1.1 200 OK\"\n",
      "INFO:httpx:HTTP Request: POST http://gemini2.sufe.edu.cn:27282/v1/embeddings \"HTTP/1.1 200 OK\"\n",
      "INFO:httpx:HTTP Request: POST http://gemini2.sufe.edu.cn:27282/v1/chat/completions \"HTTP/1.1 200 OK\"\n"
     ]
    },
    {
     "name": "stderr",
     "output_type": "stream",
     "text": [
      " 65%|██████▌   | 26/40 [01:10<00:31,  2.24s/it]"
     ]
    },
    {
     "name": "stdout",
     "output_type": "stream",
     "text": [
      "{'response_synthesizer:summary_template': ChatPromptTemplate(metadata={'prompt_type': <PromptType.CUSTOM: 'custom'>}, template_vars=['context_str', 'query_str'], kwargs={}, output_parser=None, template_var_mappings=None, function_mappings=None, message_templates=[ChatMessage(role=<MessageRole.SYSTEM: 'system'>, content='你是一个中文人工智能助手，以下是中国关于microeconomics考试的单项选择题以及相应的参考内容，请根据参考信息选出其中的正确答案。', additional_kwargs={}), ChatMessage(role=<MessageRole.USER: 'user'>, content='从不同来源获取的参考信息如下:\\n---------------------\\n{context_str}\\n---------------------\\n题目:{query_str}', additional_kwargs={}), ChatMessage(role=<MessageRole.USER: 'user'>, content='选项:\\nA. SAC曲线最低点的轨迹\\nB. SMC曲线最低点的轨迹\\nC. LAC曲线最低点的轨迹\\nD. LMC曲线最低点的轨迹\\n答案:\\n', additional_kwargs={})])}\n",
      "INFO:httpx:HTTP Request: POST http://gemini2.sufe.edu.cn:27282/v1/chat/completions \"HTTP/1.1 200 OK\"\n",
      "INFO:httpx:HTTP Request: POST http://gemini2.sufe.edu.cn:27282/v1/embeddings \"HTTP/1.1 200 OK\"\n",
      "INFO:httpx:HTTP Request: POST http://gemini2.sufe.edu.cn:27282/v1/chat/completions \"HTTP/1.1 200 OK\"\n"
     ]
    },
    {
     "name": "stderr",
     "output_type": "stream",
     "text": [
      " 68%|██████▊   | 27/40 [01:14<00:34,  2.67s/it]"
     ]
    },
    {
     "name": "stdout",
     "output_type": "stream",
     "text": [
      "{'response_synthesizer:summary_template': ChatPromptTemplate(metadata={'prompt_type': <PromptType.CUSTOM: 'custom'>}, template_vars=['context_str', 'query_str'], kwargs={}, output_parser=None, template_var_mappings=None, function_mappings=None, message_templates=[ChatMessage(role=<MessageRole.SYSTEM: 'system'>, content='你是一个中文人工智能助手，以下是中国关于microeconomics考试的单项选择题以及相应的参考内容，请根据参考信息选出其中的正确答案。', additional_kwargs={}), ChatMessage(role=<MessageRole.USER: 'user'>, content='从不同来源获取的参考信息如下:\\n---------------------\\n{context_str}\\n---------------------\\n题目:{query_str}', additional_kwargs={}), ChatMessage(role=<MessageRole.USER: 'user'>, content='选项:\\nA. 采用完全相同的生产工艺\\nB. 具有同一最低平均的成本\\nC. 都能获得经济利润\\nD. 以上全对\\n答案:\\n', additional_kwargs={})])}\n",
      "INFO:httpx:HTTP Request: POST http://gemini2.sufe.edu.cn:27282/v1/chat/completions \"HTTP/1.1 200 OK\"\n",
      "INFO:httpx:HTTP Request: POST http://gemini2.sufe.edu.cn:27282/v1/embeddings \"HTTP/1.1 200 OK\"\n",
      "INFO:httpx:HTTP Request: POST http://gemini2.sufe.edu.cn:27282/v1/chat/completions \"HTTP/1.1 200 OK\"\n"
     ]
    },
    {
     "name": "stderr",
     "output_type": "stream",
     "text": [
      " 70%|███████   | 28/40 [01:16<00:28,  2.39s/it]"
     ]
    },
    {
     "name": "stdout",
     "output_type": "stream",
     "text": [
      "{'response_synthesizer:summary_template': ChatPromptTemplate(metadata={'prompt_type': <PromptType.CUSTOM: 'custom'>}, template_vars=['context_str', 'query_str'], kwargs={}, output_parser=None, template_var_mappings=None, function_mappings=None, message_templates=[ChatMessage(role=<MessageRole.SYSTEM: 'system'>, content='你是一个中文人工智能助手，以下是中国关于microeconomics考试的单项选择题以及相应的参考内容，请根据参考信息选出其中的正确答案。', additional_kwargs={}), ChatMessage(role=<MessageRole.USER: 'user'>, content='从不同来源获取的参考信息如下:\\n---------------------\\n{context_str}\\n---------------------\\n题目:{query_str}', additional_kwargs={}), ChatMessage(role=<MessageRole.USER: 'user'>, content='选项:\\nA. 在长期边际成本曲线下降时，长期总成本曲线以越来越快的速度上升\\nB. 在长期边际成本曲线下降时，长期总成本曲线以以越来越慢的速度上升\\nC. 在长期边际成本曲线上升时，长期总成本曲线以越来越慢的速度上升\\nD. 以上均不正确\\n答案:\\n', additional_kwargs={})])}\n",
      "INFO:httpx:HTTP Request: POST http://gemini2.sufe.edu.cn:27282/v1/chat/completions \"HTTP/1.1 200 OK\"\n",
      "INFO:httpx:HTTP Request: POST http://gemini2.sufe.edu.cn:27282/v1/embeddings \"HTTP/1.1 200 OK\"\n",
      "INFO:httpx:HTTP Request: POST http://gemini2.sufe.edu.cn:27282/v1/chat/completions \"HTTP/1.1 200 OK\"\n"
     ]
    },
    {
     "name": "stderr",
     "output_type": "stream",
     "text": [
      " 72%|███████▎  | 29/40 [01:20<00:34,  3.15s/it]"
     ]
    },
    {
     "name": "stdout",
     "output_type": "stream",
     "text": [
      "{'response_synthesizer:summary_template': ChatPromptTemplate(metadata={'prompt_type': <PromptType.CUSTOM: 'custom'>}, template_vars=['context_str', 'query_str'], kwargs={}, output_parser=None, template_var_mappings=None, function_mappings=None, message_templates=[ChatMessage(role=<MessageRole.SYSTEM: 'system'>, content='你是一个中文人工智能助手，以下是中国关于microeconomics考试的单项选择题以及相应的参考内容，请根据参考信息选出其中的正确答案。', additional_kwargs={}), ChatMessage(role=<MessageRole.USER: 'user'>, content='从不同来源获取的参考信息如下:\\n---------------------\\n{context_str}\\n---------------------\\n题目:{query_str}', additional_kwargs={}), ChatMessage(role=<MessageRole.USER: 'user'>, content='选项:\\nA. 减少\\nB. 增加\\nC. 不变\\nD. 无法判断\\n答案:\\n', additional_kwargs={})])}\n",
      "INFO:httpx:HTTP Request: POST http://gemini2.sufe.edu.cn:27282/v1/chat/completions \"HTTP/1.1 200 OK\"\n",
      "INFO:httpx:HTTP Request: POST http://gemini2.sufe.edu.cn:27282/v1/embeddings \"HTTP/1.1 200 OK\"\n",
      "INFO:httpx:HTTP Request: POST http://gemini2.sufe.edu.cn:27282/v1/chat/completions \"HTTP/1.1 200 OK\"\n"
     ]
    },
    {
     "name": "stderr",
     "output_type": "stream",
     "text": [
      " 75%|███████▌  | 30/40 [01:23<00:28,  2.83s/it]"
     ]
    },
    {
     "name": "stdout",
     "output_type": "stream",
     "text": [
      "{'response_synthesizer:summary_template': ChatPromptTemplate(metadata={'prompt_type': <PromptType.CUSTOM: 'custom'>}, template_vars=['context_str', 'query_str'], kwargs={}, output_parser=None, template_var_mappings=None, function_mappings=None, message_templates=[ChatMessage(role=<MessageRole.SYSTEM: 'system'>, content='你是一个中文人工智能助手，以下是中国关于microeconomics考试的单项选择题以及相应的参考内容，请根据参考信息选出其中的正确答案。', additional_kwargs={}), ChatMessage(role=<MessageRole.USER: 'user'>, content='从不同来源获取的参考信息如下:\\n---------------------\\n{context_str}\\n---------------------\\n题目:{query_str}', additional_kwargs={}), ChatMessage(role=<MessageRole.USER: 'user'>, content='选项:\\nA. 不断上升\\nB. 不断下降\\nC. 先上升后下降\\nD. 先下降后上升\\n答案:\\n', additional_kwargs={})])}\n",
      "INFO:httpx:HTTP Request: POST http://gemini2.sufe.edu.cn:27282/v1/chat/completions \"HTTP/1.1 200 OK\"\n",
      "INFO:httpx:HTTP Request: POST http://gemini2.sufe.edu.cn:27282/v1/embeddings \"HTTP/1.1 200 OK\"\n",
      "INFO:httpx:HTTP Request: POST http://gemini2.sufe.edu.cn:27282/v1/chat/completions \"HTTP/1.1 200 OK\"\n"
     ]
    },
    {
     "name": "stderr",
     "output_type": "stream",
     "text": [
      " 78%|███████▊  | 31/40 [01:27<00:29,  3.27s/it]"
     ]
    },
    {
     "name": "stdout",
     "output_type": "stream",
     "text": [
      "{'response_synthesizer:summary_template': ChatPromptTemplate(metadata={'prompt_type': <PromptType.CUSTOM: 'custom'>}, template_vars=['context_str', 'query_str'], kwargs={}, output_parser=None, template_var_mappings=None, function_mappings=None, message_templates=[ChatMessage(role=<MessageRole.SYSTEM: 'system'>, content='你是一个中文人工智能助手，以下是中国关于microeconomics考试的单项选择题以及相应的参考内容，请根据参考信息选出其中的正确答案。', additional_kwargs={}), ChatMessage(role=<MessageRole.USER: 'user'>, content='从不同来源获取的参考信息如下:\\n---------------------\\n{context_str}\\n---------------------\\n题目:{query_str}', additional_kwargs={}), ChatMessage(role=<MessageRole.USER: 'user'>, content='选项:\\nA. 与纵轴相交\\nB. 经过原点\\nC. 与平均产量曲线相交\\nD. 与横轴相交\\n答案:\\n', additional_kwargs={})])}\n",
      "INFO:httpx:HTTP Request: POST http://gemini2.sufe.edu.cn:27282/v1/chat/completions \"HTTP/1.1 200 OK\"\n",
      "INFO:httpx:HTTP Request: POST http://gemini2.sufe.edu.cn:27282/v1/embeddings \"HTTP/1.1 200 OK\"\n",
      "INFO:httpx:HTTP Request: POST http://gemini2.sufe.edu.cn:27282/v1/chat/completions \"HTTP/1.1 200 OK\"\n"
     ]
    },
    {
     "name": "stderr",
     "output_type": "stream",
     "text": [
      " 80%|████████  | 32/40 [01:30<00:26,  3.36s/it]"
     ]
    },
    {
     "name": "stdout",
     "output_type": "stream",
     "text": [
      "{'response_synthesizer:summary_template': ChatPromptTemplate(metadata={'prompt_type': <PromptType.CUSTOM: 'custom'>}, template_vars=['context_str', 'query_str'], kwargs={}, output_parser=None, template_var_mappings=None, function_mappings=None, message_templates=[ChatMessage(role=<MessageRole.SYSTEM: 'system'>, content='你是一个中文人工智能助手，以下是中国关于microeconomics考试的单项选择题以及相应的参考内容，请根据参考信息选出其中的正确答案。', additional_kwargs={}), ChatMessage(role=<MessageRole.USER: 'user'>, content='从不同来源获取的参考信息如下:\\n---------------------\\n{context_str}\\n---------------------\\n题目:{query_str}', additional_kwargs={}), ChatMessage(role=<MessageRole.USER: 'user'>, content='选项:\\nA. 增加\\nB. 减少\\nC. 不变\\nD. 无法确定\\n答案:\\n', additional_kwargs={})])}\n",
      "INFO:httpx:HTTP Request: POST http://gemini2.sufe.edu.cn:27282/v1/chat/completions \"HTTP/1.1 200 OK\"\n",
      "INFO:httpx:HTTP Request: POST http://gemini2.sufe.edu.cn:27282/v1/embeddings \"HTTP/1.1 200 OK\"\n",
      "INFO:httpx:HTTP Request: POST http://gemini2.sufe.edu.cn:27282/v1/chat/completions \"HTTP/1.1 200 OK\"\n"
     ]
    },
    {
     "name": "stderr",
     "output_type": "stream",
     "text": [
      " 82%|████████▎ | 33/40 [01:33<00:22,  3.22s/it]"
     ]
    },
    {
     "name": "stdout",
     "output_type": "stream",
     "text": [
      "{'response_synthesizer:summary_template': ChatPromptTemplate(metadata={'prompt_type': <PromptType.CUSTOM: 'custom'>}, template_vars=['context_str', 'query_str'], kwargs={}, output_parser=None, template_var_mappings=None, function_mappings=None, message_templates=[ChatMessage(role=<MessageRole.SYSTEM: 'system'>, content='你是一个中文人工智能助手，以下是中国关于microeconomics考试的单项选择题以及相应的参考内容，请根据参考信息选出其中的正确答案。', additional_kwargs={}), ChatMessage(role=<MessageRole.USER: 'user'>, content='从不同来源获取的参考信息如下:\\n---------------------\\n{context_str}\\n---------------------\\n题目:{query_str}', additional_kwargs={}), ChatMessage(role=<MessageRole.USER: 'user'>, content='选项:\\nA. 消费者的荔枝对苹果的边际替代率相等\\nB. 荔枝对苹果的边际替代率，济南消费者要大于广东消费者\\nC. 苹果对荔枝的边际替代率，济南消费者要大于广东消费者\\nD. 无法确定\\n答案:\\n', additional_kwargs={})])}\n",
      "INFO:httpx:HTTP Request: POST http://gemini2.sufe.edu.cn:27282/v1/chat/completions \"HTTP/1.1 200 OK\"\n",
      "INFO:httpx:HTTP Request: POST http://gemini2.sufe.edu.cn:27282/v1/embeddings \"HTTP/1.1 200 OK\"\n",
      "INFO:httpx:HTTP Request: POST http://gemini2.sufe.edu.cn:27282/v1/chat/completions \"HTTP/1.1 200 OK\"\n"
     ]
    },
    {
     "name": "stderr",
     "output_type": "stream",
     "text": [
      " 85%|████████▌ | 34/40 [01:41<00:27,  4.59s/it]"
     ]
    },
    {
     "name": "stdout",
     "output_type": "stream",
     "text": [
      "{'response_synthesizer:summary_template': ChatPromptTemplate(metadata={'prompt_type': <PromptType.CUSTOM: 'custom'>}, template_vars=['context_str', 'query_str'], kwargs={}, output_parser=None, template_var_mappings=None, function_mappings=None, message_templates=[ChatMessage(role=<MessageRole.SYSTEM: 'system'>, content='你是一个中文人工智能助手，以下是中国关于microeconomics考试的单项选择题以及相应的参考内容，请根据参考信息选出其中的正确答案。', additional_kwargs={}), ChatMessage(role=<MessageRole.USER: 'user'>, content='从不同来源获取的参考信息如下:\\n---------------------\\n{context_str}\\n---------------------\\n题目:{query_str}', additional_kwargs={}), ChatMessage(role=<MessageRole.USER: 'user'>, content='选项:\\nA. 吉芬商品\\nB. 低档商品\\nC. 正常商品\\nD. 生活必需品\\n答案:\\n', additional_kwargs={})])}\n",
      "INFO:httpx:HTTP Request: POST http://gemini2.sufe.edu.cn:27282/v1/chat/completions \"HTTP/1.1 200 OK\"\n",
      "INFO:httpx:HTTP Request: POST http://gemini2.sufe.edu.cn:27282/v1/embeddings \"HTTP/1.1 200 OK\"\n",
      "INFO:httpx:HTTP Request: POST http://gemini2.sufe.edu.cn:27282/v1/chat/completions \"HTTP/1.1 200 OK\"\n"
     ]
    },
    {
     "name": "stderr",
     "output_type": "stream",
     "text": [
      " 88%|████████▊ | 35/40 [01:43<00:19,  3.90s/it]"
     ]
    },
    {
     "name": "stdout",
     "output_type": "stream",
     "text": [
      "{'response_synthesizer:summary_template': ChatPromptTemplate(metadata={'prompt_type': <PromptType.CUSTOM: 'custom'>}, template_vars=['context_str', 'query_str'], kwargs={}, output_parser=None, template_var_mappings=None, function_mappings=None, message_templates=[ChatMessage(role=<MessageRole.SYSTEM: 'system'>, content='你是一个中文人工智能助手，以下是中国关于microeconomics考试的单项选择题以及相应的参考内容，请根据参考信息选出其中的正确答案。', additional_kwargs={}), ChatMessage(role=<MessageRole.USER: 'user'>, content='从不同来源获取的参考信息如下:\\n---------------------\\n{context_str}\\n---------------------\\n题目:{query_str}', additional_kwargs={}), ChatMessage(role=<MessageRole.USER: 'user'>, content='选项:\\nA. 商品Y\\nB. 商品X\\nC. 商品X和Y\\nD. 以上都不正确\\n答案:\\n', additional_kwargs={})])}\n",
      "INFO:httpx:HTTP Request: POST http://gemini2.sufe.edu.cn:27282/v1/chat/completions \"HTTP/1.1 200 OK\"\n",
      "INFO:httpx:HTTP Request: POST http://gemini2.sufe.edu.cn:27282/v1/embeddings \"HTTP/1.1 200 OK\"\n",
      "INFO:httpx:HTTP Request: POST http://gemini2.sufe.edu.cn:27282/v1/chat/completions \"HTTP/1.1 200 OK\"\n"
     ]
    },
    {
     "name": "stderr",
     "output_type": "stream",
     "text": [
      " 90%|█████████ | 36/40 [01:48<00:16,  4.04s/it]"
     ]
    },
    {
     "name": "stdout",
     "output_type": "stream",
     "text": [
      "{'response_synthesizer:summary_template': ChatPromptTemplate(metadata={'prompt_type': <PromptType.CUSTOM: 'custom'>}, template_vars=['context_str', 'query_str'], kwargs={}, output_parser=None, template_var_mappings=None, function_mappings=None, message_templates=[ChatMessage(role=<MessageRole.SYSTEM: 'system'>, content='你是一个中文人工智能助手，以下是中国关于microeconomics考试的单项选择题以及相应的参考内容，请根据参考信息选出其中的正确答案。', additional_kwargs={}), ChatMessage(role=<MessageRole.USER: 'user'>, content='从不同来源获取的参考信息如下:\\n---------------------\\n{context_str}\\n---------------------\\n题目:{query_str}', additional_kwargs={}), ChatMessage(role=<MessageRole.USER: 'user'>, content='选项:\\nA. 增加税收\\nB. 实行农产品的配给制\\nC. 收购过剩的农产品\\nD. 对农民补贴\\n答案:\\n', additional_kwargs={})])}\n",
      "INFO:httpx:HTTP Request: POST http://gemini2.sufe.edu.cn:27282/v1/chat/completions \"HTTP/1.1 200 OK\"\n",
      "INFO:httpx:HTTP Request: POST http://gemini2.sufe.edu.cn:27282/v1/embeddings \"HTTP/1.1 200 OK\"\n",
      "INFO:httpx:HTTP Request: POST http://gemini2.sufe.edu.cn:27282/v1/chat/completions \"HTTP/1.1 200 OK\"\n"
     ]
    },
    {
     "name": "stderr",
     "output_type": "stream",
     "text": [
      " 92%|█████████▎| 37/40 [01:50<00:10,  3.48s/it]"
     ]
    },
    {
     "name": "stdout",
     "output_type": "stream",
     "text": [
      "{'response_synthesizer:summary_template': ChatPromptTemplate(metadata={'prompt_type': <PromptType.CUSTOM: 'custom'>}, template_vars=['context_str', 'query_str'], kwargs={}, output_parser=None, template_var_mappings=None, function_mappings=None, message_templates=[ChatMessage(role=<MessageRole.SYSTEM: 'system'>, content='你是一个中文人工智能助手，以下是中国关于microeconomics考试的单项选择题以及相应的参考内容，请根据参考信息选出其中的正确答案。', additional_kwargs={}), ChatMessage(role=<MessageRole.USER: 'user'>, content='从不同来源获取的参考信息如下:\\n---------------------\\n{context_str}\\n---------------------\\n题目:{query_str}', additional_kwargs={}), ChatMessage(role=<MessageRole.USER: 'user'>, content='选项:\\nA. 药品价格上升，使得药品质量得到改善\\nB. 汽油价格的提高，小汽车的销量减少\\nC. 照相机价格的下降导致其销量的增加\\nD. 牛肉价格提高导致羊肉的销量增加\\n答案:\\n', additional_kwargs={})])}\n",
      "INFO:httpx:HTTP Request: POST http://gemini2.sufe.edu.cn:27282/v1/chat/completions \"HTTP/1.1 200 OK\"\n",
      "INFO:httpx:HTTP Request: POST http://gemini2.sufe.edu.cn:27282/v1/embeddings \"HTTP/1.1 200 OK\"\n",
      "INFO:httpx:HTTP Request: POST http://gemini2.sufe.edu.cn:27282/v1/chat/completions \"HTTP/1.1 200 OK\"\n"
     ]
    },
    {
     "name": "stderr",
     "output_type": "stream",
     "text": [
      " 95%|█████████▌| 38/40 [01:52<00:05,  2.97s/it]"
     ]
    },
    {
     "name": "stdout",
     "output_type": "stream",
     "text": [
      "{'response_synthesizer:summary_template': ChatPromptTemplate(metadata={'prompt_type': <PromptType.CUSTOM: 'custom'>}, template_vars=['context_str', 'query_str'], kwargs={}, output_parser=None, template_var_mappings=None, function_mappings=None, message_templates=[ChatMessage(role=<MessageRole.SYSTEM: 'system'>, content='你是一个中文人工智能助手，以下是中国关于microeconomics考试的单项选择题以及相应的参考内容，请根据参考信息选出其中的正确答案。', additional_kwargs={}), ChatMessage(role=<MessageRole.USER: 'user'>, content='从不同来源获取的参考信息如下:\\n---------------------\\n{context_str}\\n---------------------\\n题目:{query_str}', additional_kwargs={}), ChatMessage(role=<MessageRole.USER: 'user'>, content='选项:\\nA. 双方在每一期都选择“坦白”\\nB. 双方在每一期都选择“抵赖”\\nC. 双方在前$N-1$期都选择“坦白”，在最后一期都选择“抵赖”\\nD. 双方在前$N-1$期都选择“抵赖”，在最后一期都选择“坦白”\\n答案:\\n', additional_kwargs={})])}\n",
      "INFO:httpx:HTTP Request: POST http://gemini2.sufe.edu.cn:27282/v1/chat/completions \"HTTP/1.1 200 OK\"\n",
      "INFO:httpx:HTTP Request: POST http://gemini2.sufe.edu.cn:27282/v1/embeddings \"HTTP/1.1 200 OK\"\n",
      "INFO:httpx:HTTP Request: POST http://gemini2.sufe.edu.cn:27282/v1/chat/completions \"HTTP/1.1 200 OK\"\n"
     ]
    },
    {
     "name": "stderr",
     "output_type": "stream",
     "text": [
      " 98%|█████████▊| 39/40 [01:55<00:03,  3.17s/it]"
     ]
    },
    {
     "name": "stdout",
     "output_type": "stream",
     "text": [
      "{'response_synthesizer:summary_template': ChatPromptTemplate(metadata={'prompt_type': <PromptType.CUSTOM: 'custom'>}, template_vars=['context_str', 'query_str'], kwargs={}, output_parser=None, template_var_mappings=None, function_mappings=None, message_templates=[ChatMessage(role=<MessageRole.SYSTEM: 'system'>, content='你是一个中文人工智能助手，以下是中国关于microeconomics考试的单项选择题以及相应的参考内容，请根据参考信息选出其中的正确答案。', additional_kwargs={}), ChatMessage(role=<MessageRole.USER: 'user'>, content='从不同来源获取的参考信息如下:\\n---------------------\\n{context_str}\\n---------------------\\n题目:{query_str}', additional_kwargs={}), ChatMessage(role=<MessageRole.USER: 'user'>, content='选项:\\nA. 收益\\nB. 支付\\nC. 决策\\nD. 利润\\n答案:\\n', additional_kwargs={})])}\n",
      "INFO:httpx:HTTP Request: POST http://gemini2.sufe.edu.cn:27282/v1/chat/completions \"HTTP/1.1 200 OK\"\n",
      "INFO:httpx:HTTP Request: POST http://gemini2.sufe.edu.cn:27282/v1/embeddings \"HTTP/1.1 200 OK\"\n",
      "INFO:httpx:HTTP Request: POST http://gemini2.sufe.edu.cn:27282/v1/chat/completions \"HTTP/1.1 200 OK\"\n"
     ]
    },
    {
     "name": "stderr",
     "output_type": "stream",
     "text": [
      "100%|██████████| 40/40 [01:57<00:00,  2.94s/it]"
     ]
    },
    {
     "name": "stdout",
     "output_type": "stream",
     "text": [
      "Subject: microeconomics\n",
      "Acc: 42.5\n",
      "Accuracy:\n",
      "microeconomics :  42.5\n",
      "--------------------------------------------------------------------------------\n",
      "Accuracy_subject:\n",
      "microeconomics :  42.5\n",
      "--------------------------------------------------------------------------------\n",
      "Accuracy_grouped:\n",
      "Economy :  0.425\n",
      "Avg: \n",
      "0.425\n"
     ]
    },
    {
     "name": "stderr",
     "output_type": "stream",
     "text": [
      "\n"
     ]
    }
   ],
   "source": [
    "from query_engine_evaluator import QueryEngineEvaluator\n",
    "kg_rag_summary_ls = []\n",
    "for nodes_group in nodes_group_ls:\n",
    "    args['nodes_group'] = nodes_group\n",
    "    query_engine = query_engine_dc['kg_rag'][nodes_group]\n",
    "    prompt_dict = dict(\n",
    "        summary_template = [\n",
    "            {\n",
    "                'role': 'user',\n",
    "                'content': tree_summary_template\n",
    "             }])\n",
    "    evaluator = QueryEngineEvaluator(query_engine=query_engine, prompt_dict=prompt_dict, choices=choices,\n",
    "                                     k=args['ntrain'], model_name=args['model_name'])\n",
    "    summary = fineval(args=args, evaluator=evaluator, take=1)\n",
    "    kg_rag_summary_ls.append(summary)"
   ]
  },
  {
   "cell_type": "code",
   "execution_count": null,
   "id": "9a3eb89f",
   "metadata": {},
   "outputs": [],
   "source": []
  }
 ],
 "metadata": {
  "kernelspec": {
   "display_name": "chatglm3",
   "language": "python",
   "name": "python3"
  },
  "language_info": {
   "codemirror_mode": {
    "name": "ipython",
    "version": 3
   },
   "file_extension": ".py",
   "mimetype": "text/x-python",
   "name": "python",
   "nbconvert_exporter": "python",
   "pygments_lexer": "ipython3",
   "version": "3.10.0"
  }
 },
 "nbformat": 4,
 "nbformat_minor": 5
}
