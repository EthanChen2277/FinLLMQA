{
 "cells": [
  {
   "cell_type": "code",
   "execution_count": 1,
   "metadata": {},
   "outputs": [
    {
     "name": "stderr",
     "output_type": "stream",
     "text": [
      "/opt/anaconda3/envs/finllmqa/lib/python3.13/site-packages/flaml/__init__.py:20: UserWarning: flaml.automl is not available. Please install flaml[automl] to enable AutoML functionalities.\n",
      "  warnings.warn(\"flaml.automl is not available. Please install flaml[automl] to enable AutoML functionalities.\")\n"
     ]
    }
   ],
   "source": [
    "from py2neo import Graph,Node,Relationship,NodeMatcher\n",
    "import pandas as pd\n",
    "import numpy as np\n",
    "from multiprocessing.pool import ThreadPool\n",
    "import akshare as ak\n",
    "import logging\n",
    "from datetime import datetime, timedelta\n",
    "from tqdm import tqdm\n",
    "import os\n",
    "from finllmqa.api.core import NEO4J_API_URL, STOCK_KG_USER, STOCK_KG_PW\n",
    "\n",
    "pool = ThreadPool(10)\n",
    "# 连接Neo4j数据库\n",
    "graph = Graph(NEO4J_API_URL, auth=(STOCK_KG_USER, STOCK_KG_PW), name='neo4j')\n",
    "matcher = NodeMatcher(graph)"
   ]
  },
  {
   "cell_type": "code",
   "execution_count": 2,
   "metadata": {},
   "outputs": [],
   "source": [
    "def get_logger(name):\n",
    "    logger = logging.getLogger(name)\n",
    "    logger.setLevel(logging.INFO)\n",
    "    \n",
    "    # 以下两行是为了在jupyter notebook 中不重复输出日志\n",
    "    if logger.root.handlers:\n",
    "        logger.root.handlers[0].setLevel(logging.WARNING)\n",
    " \n",
    "    handler_stdout = logging.StreamHandler()\n",
    "    handler_stdout.setLevel(logging.INFO)\n",
    "    handler_stdout.setFormatter(logging.Formatter('%(asctime)s - %(levelname)s - %(message)s'))\n",
    "    logger.addHandler(handler_stdout)\n",
    " \n",
    "    handler_file = logging.FileHandler('log_file.log', encoding='utf-8')\n",
    "    handler_file.setLevel(logging.DEBUG)\n",
    "    handler_file.setFormatter(logging.Formatter('%(asctime)s - %(name)s - %(levelname)s - %(message)s'))\n",
    "    logger.addHandler(handler_file)\n",
    " \n",
    "    return logger\n",
    "log = get_logger(None)"
   ]
  },
  {
   "cell_type": "markdown",
   "metadata": {},
   "source": [
    "# Construct financial knowledge graph of stock"
   ]
  },
  {
   "cell_type": "code",
   "execution_count": 13,
   "metadata": {},
   "outputs": [],
   "source": [
    "# get stock data\n",
    "df_stock_code = ak.stock_info_a_code_name()\n",
    "stock_code_list = df_stock_code['code'].to_list()[:40]"
   ]
  },
  {
   "cell_type": "code",
   "execution_count": 6,
   "metadata": {},
   "outputs": [],
   "source": [
    "# create stock node constraint\n",
    "cypher = 'CREATE CONSTRAINT IF NOT EXISTS FOR (n:股票) REQUIRE n.代码 IS UNIQUE'\n",
    "graph.run(cypher=cypher)\n",
    "\n",
    "# create stock node\n",
    "for code, name in df_stock_code.values:\n",
    "    stock_node = Node('股票', 代码=code, 名称=name, name=name)\n",
    "    try:\n",
    "        graph.create(stock_node)\n",
    "    except:\n",
    "        continue"
   ]
  },
  {
   "cell_type": "markdown",
   "metadata": {},
   "source": [
    "## 1. Financial Abstract"
   ]
  },
  {
   "cell_type": "code",
   "execution_count": 14,
   "metadata": {},
   "outputs": [
    {
     "name": "stderr",
     "output_type": "stream",
     "text": [
      " 98%|█████████▊| 39/40 [00:52<00:01,  1.56s/it]2025-04-23 22:26:00,065 - WARNING - Can not get 000060 financial abstract info\n",
      "2025-04-23 22:26:00,065 - WARNING - Can not get 000060 financial abstract info\n",
      "100%|██████████| 40/40 [00:53<00:00,  1.33s/it]\n"
     ]
    }
   ],
   "source": [
    "# create financial abstract constraint\n",
    "cypher = 'CREATE CONSTRAINT IF NOT EXISTS FOR (n:财务指标) REQUIRE (n.股票代码, n.指标类型) IS UNIQUE'\n",
    "graph.run(cypher=cypher)\n",
    "df_fin_ab_demo = ak.stock_financial_abstract(symbol='000001')\n",
    "for abstract_type in df_fin_ab_demo['选项']:\n",
    "    # create financial abstract indicators constraint\n",
    "    cypher = f'CREATE CONSTRAINT IF NOT EXISTS FOR (n:{abstract_type}) REQUIRE (n.股票代码, n.报告期) IS UNIQUE'\n",
    "    graph.run(cypher=cypher)\n",
    "\n",
    "for code in tqdm(stock_code_list):\n",
    "    # stock = matcher.match(\"股票\", 代码=code).first()\n",
    "    # fin_ab = matcher.match(\"财务指标\", 股票代码=code, 指标类型='常用指标').first()\n",
    "    # if stock is not None and fin_ab is not None:\n",
    "    #     continue\n",
    "    # get financial abstract info\n",
    "    try:\n",
    "        df_fin_ab = ak.stock_financial_abstract(symbol=code).copy()\n",
    "    except:\n",
    "        log.warning(f'Can not get {code} financial abstract info')\n",
    "        \n",
    "    for abstract_type, df_group in df_fin_ab.groupby('选项'):\n",
    "        # create financial abstract node\n",
    "        fin_ab_node = Node('财务指标', 股票代码=code, 指标类型=abstract_type, name=abstract_type)\n",
    "        try:\n",
    "            graph.create(fin_ab_node)\n",
    "        except:\n",
    "            pass\n",
    "\n",
    "        # create stock - financial abstract relationship\n",
    "        stock = matcher.match(\"股票\", 代码=code).first()\n",
    "        fin_ab = matcher.match(\"财务指标\", 股票代码=code, 指标类型=abstract_type).first()\n",
    "        realation = Relationship(stock, '基本面', fin_ab)\n",
    "        try:\n",
    "            graph.create(realation)\n",
    "        except:\n",
    "            pass\n",
    "\n",
    "        # create financial abstract indicators node\n",
    "        df = df_group.drop('选项', axis=1).set_index('指标').copy()\n",
    "        df = df.T.reset_index(drop=False, names='报告期').copy()\n",
    "        df['股票代码'] = code\n",
    "        df['报告期'] = pd.to_datetime(df['报告期'])\n",
    "        df = df[df['报告期'] > datetime(2020,12,31)]\n",
    "        df['报告期'] = df['报告期'].dt.strftime('%Y-%m-%d')\n",
    "        df = df.fillna('null').copy()\n",
    "        for record in df.to_dict('records'):\n",
    "            record.update({'name': record['报告期']})\n",
    "            fin_ab_indicator_node = Node(abstract_type, **record)\n",
    "            try:\n",
    "                graph.create(fin_ab_indicator_node)\n",
    "            except:\n",
    "                pass\n",
    "\n",
    "        # create financial abstract-financial abstract indicators relationship\n",
    "        fin_ab = matcher.match(\"财务指标\",股票代码=code, 指标类型=abstract_type).first()\n",
    "        fin_ab_indicator_ls = matcher.match(abstract_type, 股票代码=code)\n",
    "        for fin_ab_indicator in fin_ab_indicator_ls: \n",
    "            realation = Relationship(fin_ab, '按报告期', fin_ab_indicator)\n",
    "            try:\n",
    "                graph.create(realation)\n",
    "            except:\n",
    "                pass"
   ]
  },
  {
   "cell_type": "markdown",
   "metadata": {},
   "source": [
    "## 2. Research Report"
   ]
  },
  {
   "cell_type": "code",
   "execution_count": 8,
   "metadata": {},
   "outputs": [],
   "source": [
    "def _process_reasearch_report(df: pd.DataFrame):\n",
    "    df['日期'] = pd.to_datetime(df['日期'])\n",
    "    df = df[df['日期'] >= datetime.now() - timedelta(365)].copy()\n",
    "    df_rsh_repo = df[['股票代码']].drop_duplicates().copy()\n",
    "    df_rsh_repo['近一年研报数量'] = len(df)\n",
    "    df_rsh_repo['买入/增持评级数量'] = len(df[df['东财评级'].isin(['买入', '增持'])])\n",
    "    if df['2024-盈利预测-收益'].isna().sum() == len(df):\n",
    "        df_rsh_repo['2024盈利预测-收益'] = 'null'\n",
    "    else:\n",
    "        df_rsh_repo['2024盈利预测-收益'] = df[~df['2024-盈利预测-收益'].isna()]['2024-盈利预测-收益'].mean()\n",
    "    if df['2024-盈利预测-市盈率'].isna().sum() == len(df):\n",
    "        df_rsh_repo['2024盈利预测-市盈率'] = 'null'\n",
    "    else:\n",
    "        df_rsh_repo['2024盈利预测-市盈率'] = df[~df['2024-盈利预测-市盈率'].isna()]['2024-盈利预测-市盈率'].mean()\n",
    "    if df['2025-盈利预测-收益'].isna().sum() == len(df):\n",
    "        df_rsh_repo['2025盈利预测-收益'] = 'null'\n",
    "    else:\n",
    "        df_rsh_repo['2025盈利预测-收益'] = df[~df['2025-盈利预测-收益'].isna()]['2025-盈利预测-收益'].mean()\n",
    "    if df['2025-盈利预测-市盈率'].isna().sum() == len(df):\n",
    "        df_rsh_repo['2025盈利预测-市盈率'] = 'null'\n",
    "    else:\n",
    "        df_rsh_repo['2025盈利预测-市盈率'] = df[~df['2025-盈利预测-市盈率'].isna()]['2025-盈利预测-市盈率'].mean()\n",
    "    return df_rsh_repo"
   ]
  },
  {
   "cell_type": "code",
   "execution_count": 9,
   "metadata": {},
   "outputs": [
    {
     "data": {
      "application/vnd.jupyter.widget-view+json": {
       "model_id": "a2202acce90b4b6b911ef5bf5bff7f2e",
       "version_major": 2,
       "version_minor": 0
      },
      "text/plain": [
       "  0%|          | 0/3 [00:00<?, ?it/s]"
      ]
     },
     "metadata": {},
     "output_type": "display_data"
    }
   ],
   "source": [
    "df = ak.stock_research_report_em(symbol='000001')"
   ]
  },
  {
   "cell_type": "code",
   "execution_count": 10,
   "metadata": {},
   "outputs": [
    {
     "data": {
      "application/vnd.microsoft.datawrangler.viewer.v0+json": {
       "columns": [
        {
         "name": "index",
         "rawType": "int64",
         "type": "integer"
        },
        {
         "name": "序号",
         "rawType": "int64",
         "type": "integer"
        },
        {
         "name": "股票代码",
         "rawType": "object",
         "type": "string"
        },
        {
         "name": "股票简称",
         "rawType": "object",
         "type": "string"
        },
        {
         "name": "报告名称",
         "rawType": "object",
         "type": "string"
        },
        {
         "name": "东财评级",
         "rawType": "object",
         "type": "string"
        },
        {
         "name": "机构",
         "rawType": "object",
         "type": "string"
        },
        {
         "name": "近一月个股研报数",
         "rawType": "int64",
         "type": "integer"
        },
        {
         "name": "2024-盈利预测-收益",
         "rawType": "float64",
         "type": "float"
        },
        {
         "name": "2024-盈利预测-市盈率",
         "rawType": "float64",
         "type": "float"
        },
        {
         "name": "2025-盈利预测-收益",
         "rawType": "float64",
         "type": "float"
        },
        {
         "name": "2025-盈利预测-市盈率",
         "rawType": "float64",
         "type": "float"
        },
        {
         "name": "2026-盈利预测-收益",
         "rawType": "float64",
         "type": "float"
        },
        {
         "name": "2026-盈利预测-市盈率",
         "rawType": "float64",
         "type": "float"
        },
        {
         "name": "行业",
         "rawType": "object",
         "type": "string"
        },
        {
         "name": "日期",
         "rawType": "object",
         "type": "unknown"
        },
        {
         "name": "报告PDF链接",
         "rawType": "object",
         "type": "string"
        }
       ],
       "conversionMethod": "pd.DataFrame",
       "ref": "53ac9748-974f-49d7-833e-16cfd3f44d2c",
       "rows": [
        [
         "0",
         "1",
         "000001",
         "平安银行",
         "信贷存款回暖，计息成本改善",
         "增持",
         "天风证券",
         "1",
         null,
         null,
         "2.31",
         "4.84",
         "2.38",
         "4.7",
         "银行",
         "2025-04-22",
         "https://pdf.dfcfw.com/pdf/H3_AP202504221660307592_1.pdf"
        ],
        [
         "1",
         "2",
         "000001",
         "平安银行",
         "年报点评报告：非息亮眼，质量稳健",
         "增持",
         "天风证券",
         "1",
         null,
         null,
         "2.43",
         "4.74",
         "2.52",
         "4.56",
         "银行",
         "2025-03-19",
         "https://pdf.dfcfw.com/pdf/H3_AP202503191644684892_1.pdf"
        ],
        [
         "2",
         "3",
         "000001",
         "平安银行",
         "2024年年报点评：结构优化见效，风险处置有力",
         "买入",
         "民生证券",
         "1",
         null,
         null,
         null,
         null,
         null,
         null,
         "银行",
         "2025-03-18",
         "https://pdf.dfcfw.com/pdf/H3_AP202503181644529525_1.pdf"
        ],
        [
         "3",
         "4",
         "000001",
         "平安银行",
         "点评报告：结构调整持续，资产质量指标变动不大",
         "增持",
         "万联证券",
         "1",
         null,
         null,
         "2.36",
         "5.08",
         "2.38",
         "5.03",
         "银行",
         "2025-03-18",
         "https://pdf.dfcfw.com/pdf/H3_AP202503181644488421_1.pdf"
        ],
        [
         "4",
         "5",
         "000001",
         "平安银行",
         "贷款结构优化，营收降幅收窄",
         "中性",
         "国信证券",
         "1",
         null,
         null,
         null,
         null,
         null,
         null,
         "银行",
         "2025-03-16",
         "https://pdf.dfcfw.com/pdf/H3_AP202503161644416306_1.pdf"
        ],
        [
         "5",
         "6",
         "000001",
         "平安银行",
         "盈利能力持续韧性表现，资产质量稳健向优",
         "买入",
         "天风证券",
         "1",
         "2.46",
         "4.8",
         "2.51",
         "4.7",
         "2.6",
         "4.54",
         "银行",
         "2024-10-22",
         "https://pdf.dfcfw.com/pdf/H3_AP202410221640400486_1.pdf"
        ],
        [
         "6",
         "7",
         "000001",
         "平安银行",
         "2024年三季报点评：零售业务调优结构，存款成本持续改善",
         "买入",
         "东兴证券",
         "1",
         "2.42",
         "4.88",
         "2.48",
         "4.77",
         "2.6",
         "4.54",
         "银行",
         "2024-10-22",
         "https://pdf.dfcfw.com/pdf/H3_AP202410221640398395_1.pdf"
        ],
        [
         "7",
         "8",
         "000001",
         "平安银行",
         "2024年三季报点评：持续优化贷款业务结构",
         "中性",
         "国信证券",
         "1",
         "2.23",
         "5.4",
         "2.3",
         "5.2",
         "2.47",
         "4.9",
         "银行",
         "2024-10-20",
         "https://pdf.dfcfw.com/pdf/H3_AP202410201640374148_1.pdf"
        ],
        [
         "8",
         "9",
         "000001",
         "平安银行",
         "2024年三季报点评：息差降幅收窄，利润维持正增",
         "买入",
         "民生证券",
         "1",
         null,
         null,
         null,
         null,
         null,
         null,
         "银行",
         "2024-10-19",
         "https://pdf.dfcfw.com/pdf/H3_AP202410191640373303_1.pdf"
        ],
        [
         "9",
         "10",
         "000001",
         "平安银行",
         "非息亮眼，拨备支撑盈利正增，明确中期分红方案",
         "买入",
         "天风证券",
         "1",
         "2.46",
         "4.12",
         "2.51",
         "4.03",
         "2.6",
         "3.9",
         "银行",
         "2024-08-30",
         "https://pdf.dfcfw.com/pdf/H3_AP202408301639646268_1.pdf"
        ],
        [
         "10",
         "11",
         "000001",
         "平安银行",
         "上市股份行首份半年报，平安银行：战略改革期盈利持续增长，中期分红落地，瞄准高质量发展",
         "",
         "北京韬联科技",
         "1",
         null,
         null,
         null,
         null,
         null,
         null,
         "银行",
         "2024-08-21",
         "https://pdf.dfcfw.com/pdf/H3_AP202408211639381644_1.pdf"
        ],
        [
         "11",
         "12",
         "000001",
         "平安银行",
         "点评报告：调整业务结构 公布中期分红",
         "增持",
         "万联证券",
         "1",
         "2.39",
         "4.19",
         "2.45",
         "4.09",
         "2.54",
         "3.94",
         "银行",
         "2024-08-19",
         "https://pdf.dfcfw.com/pdf/H3_AP202408191639329854_1.pdf"
        ],
        [
         "12",
         "13",
         "000001",
         "平安银行",
         "2024年半年报点评：净利润保持正增长，中期分红方案落地",
         "买入",
         "东兴证券",
         "1",
         "2.42",
         "4.15",
         "2.48",
         "4.05",
         "2.6",
         "3.85",
         "银行",
         "2024-08-19",
         "https://pdf.dfcfw.com/pdf/H3_AP202408191639328390_1.pdf"
        ],
        [
         "13",
         "14",
         "000001",
         "平安银行",
         "2024年中报点评：非息收入增长亮眼",
         "中性",
         "国信证券",
         "1",
         null,
         null,
         null,
         null,
         null,
         null,
         "银行",
         "2024-08-16",
         "https://pdf.dfcfw.com/pdf/H3_AP202408161639304268_1.pdf"
        ],
        [
         "14",
         "15",
         "000001",
         "平安银行",
         "2024年半年报点评：持续调整结构，宣布中期分红",
         "买入",
         "民生证券",
         "1",
         null,
         null,
         null,
         null,
         null,
         null,
         "银行",
         "2024-08-16",
         "https://pdf.dfcfw.com/pdf/H3_AP202408161639302707_1.pdf"
        ],
        [
         "15",
         "16",
         "000001",
         "平安银行",
         "2024年一季报点评：其他非息表现亮眼，拨备反哺利润正增",
         "买入",
         "东兴证券",
         "1",
         "2.44",
         "4.38",
         "2.54",
         "4.2",
         "2.68",
         "3.99",
         "银行",
         "2024-04-22",
         "https://pdf.dfcfw.com/pdf/H3_AP202404221630972416_1.pdf"
        ],
        [
         "16",
         "17",
         "000001",
         "平安银行",
         "2024年一季报点评：息差拖累营收，加大不良处置",
         "增持",
         "国信证券",
         "1",
         null,
         null,
         null,
         null,
         null,
         null,
         "银行",
         "2024-04-21",
         "https://pdf.dfcfw.com/pdf/H3_AP202404211630895710_1.pdf"
        ],
        [
         "17",
         "18",
         "000001",
         "平安银行",
         "2024年一季报点评：主动调整结构，扩张节奏放缓",
         "买入",
         "民生证券",
         "1",
         null,
         null,
         null,
         null,
         null,
         null,
         "银行",
         "2024-04-20",
         "https://pdf.dfcfw.com/pdf/H3_AP202404201630803966_1.pdf"
        ],
        [
         "18",
         "19",
         "000001",
         "平安银行",
         "2023年年报点评：分红比例超预期，主动降低信用风险偏好",
         "买入",
         "东兴证券",
         "1",
         "2.44",
         "4.34",
         "2.54",
         "4.17",
         "2.68",
         "3.96",
         "银行",
         "2024-03-18",
         "https://pdf.dfcfw.com/pdf/H3_AP202403181626972107_1.pdf"
        ],
        [
         "19",
         "20",
         "000001",
         "平安银行",
         "点评报告：分红率提升",
         "增持",
         "万联证券",
         "1",
         "2.29",
         "4.47",
         "2.36",
         "4.34",
         "2.5",
         "4.09",
         "银行",
         "2024-03-15",
         "https://pdf.dfcfw.com/pdf/H3_AP202403151626835968_1.pdf"
        ],
        [
         "20",
         "21",
         "000001",
         "平安银行",
         "2023年年报点评：积极调整信贷结构，财富业务基础夯实",
         "买入",
         "民生证券",
         "1",
         "2.48",
         "4.0",
         "2.62",
         "4.0",
         "2.91",
         "4.0",
         "银行",
         "2024-03-15",
         "https://pdf.dfcfw.com/pdf/H3_AP202403151626825162_1.pdf"
        ],
        [
         "21",
         "22",
         "000001",
         "平安银行",
         "2023年报点评：调降信用风险偏好，经营更稳健",
         "增持",
         "国信证券",
         "1",
         "2.24",
         "4.6",
         "2.4",
         "4.3",
         "2.67",
         "3.8",
         "银行",
         "2024-03-15",
         "https://pdf.dfcfw.com/pdf/H3_AP202403151626825160_1.pdf"
        ],
        [
         "22",
         "23",
         "000001",
         "平安银行",
         "点评报告：信贷结构持续调整，零售中间业务保持高增",
         "增持",
         "万联证券",
         "1",
         "2.61",
         "3.98",
         "2.93",
         "3.54",
         null,
         null,
         "银行",
         "2023-10-26",
         "https://pdf.dfcfw.com/pdf/H3_AP202310261604019504_1.pdf"
        ],
        [
         "23",
         "24",
         "000001",
         "平安银行",
         "资产质量平稳，私行业务表现亮眼",
         "买入",
         "东兴证券",
         "1",
         null,
         null,
         null,
         null,
         null,
         null,
         "银行",
         "2023-10-26",
         "https://pdf.dfcfw.com/pdf/H3_AP202310261603795901_1.pdf"
        ],
        [
         "24",
         "25",
         "000001",
         "平安银行",
         "盈利增速放缓，业务转型持续",
         "增持",
         "中银证券",
         "1",
         null,
         null,
         null,
         null,
         null,
         null,
         "银行",
         "2023-10-26",
         "https://pdf.dfcfw.com/pdf/H3_AP202310251603496389_1.pdf"
        ],
        [
         "25",
         "26",
         "000001",
         "平安银行",
         "2023年三季报点评：私行业务亮眼，中收稳步修复",
         "买入",
         "民生证券",
         "1",
         null,
         null,
         null,
         null,
         null,
         null,
         "银行",
         "2023-10-25",
         "https://pdf.dfcfw.com/pdf/H3_AP202310241602964805_1.pdf"
        ],
        [
         "26",
         "27",
         "000001",
         "平安银行",
         "平安银行2023年半年报点评：利润增长提速，资产质量全面改善",
         "增持",
         "海通国际",
         "1",
         "3.04",
         "3.66",
         "3.55",
         "3.14",
         null,
         null,
         "银行",
         "2023-09-07",
         "https://pdf.dfcfw.com/pdf/H3_AP202309071597971499_1.pdf"
        ],
        [
         "27",
         "28",
         "000001",
         "平安银行",
         "点评报告：银保业务快速推进",
         "增持",
         "万联证券",
         "1",
         "2.97",
         "3.75",
         "3.39",
         "3.28",
         null,
         null,
         "银行",
         "2023-08-29",
         "https://pdf.dfcfw.com/pdf/H3_AP202308291596605695_1.pdf"
        ],
        [
         "28",
         "29",
         "000001",
         "平安银行",
         "2023年中报点评：息差有所回落，资产质量平稳",
         "增持",
         "国信证券",
         "1",
         "2.81",
         "4.0",
         "3.17",
         "3.5",
         null,
         null,
         "银行",
         "2023-08-24",
         "https://pdf.dfcfw.com/pdf/H3_AP202308241595701513_1.pdf"
        ],
        [
         "29",
         "30",
         "000001",
         "平安银行",
         "息差高位收窄，私行业务发展亮眼",
         "买入",
         "东兴证券",
         "1",
         "3.02",
         "3.73",
         "3.47",
         "3.24",
         null,
         null,
         "银行",
         "2023-08-24",
         "https://pdf.dfcfw.com/pdf/H3_AP202308241595700450_1.pdf"
        ],
        [
         "30",
         "31",
         "000001",
         "平安银行",
         "手续费增长改善，资本压力缓解",
         "增持",
         "中银证券",
         "1",
         null,
         null,
         null,
         null,
         null,
         null,
         "银行",
         "2023-08-24",
         "https://pdf.dfcfw.com/pdf/H3_AP202308241595696576_1.pdf"
        ],
        [
         "31",
         "32",
         "000001",
         "平安银行",
         "2023年中报点评：盈利能力回升，资产质量向好",
         "买入",
         "民生证券",
         "1",
         null,
         null,
         null,
         null,
         null,
         null,
         "银行",
         "2023-08-24",
         "https://pdf.dfcfw.com/pdf/H3_AP202308241595690495_1.pdf"
        ],
        [
         "32",
         "33",
         "000001",
         "平安银行",
         "净息差继续承压，中间业务转暖",
         "买入",
         "中国银河",
         "1",
         null,
         null,
         null,
         null,
         null,
         null,
         "银行",
         "2023-08-24",
         "https://pdf.dfcfw.com/pdf/H3_AP202308241595689210_1.pdf"
        ],
        [
         "33",
         "34",
         "000001",
         "平安银行",
         "拨备释放驱动H123归母净利润+14.9%",
         "买入",
         "山西证券",
         "1",
         null,
         null,
         null,
         null,
         null,
         null,
         "银行",
         "2023-08-24",
         "https://pdf.dfcfw.com/pdf/H3_AP202308241595683607_1.pdf"
        ],
        [
         "34",
         "35",
         "000001",
         "平安银行",
         "点评报告：财富管理业务稳步推进",
         "增持",
         "万联证券",
         "1",
         "2.97",
         "4.13",
         "3.39",
         "3.61",
         null,
         null,
         "银行",
         "2023-04-29",
         "https://pdf.dfcfw.com/pdf/H3_AP202304291586122729_1.pdf"
        ],
        [
         "35",
         "36",
         "000001",
         "平安银行",
         "综合金融优势不断强化，贷款收益率企稳",
         "买入",
         "天风证券",
         "1",
         "3.18",
         "3.8",
         "3.75",
         "3.22",
         null,
         null,
         "银行",
         "2023-04-26",
         "https://pdf.dfcfw.com/pdf/H3_AP202304261585857266_1.pdf"
        ],
        [
         "36",
         "37",
         "000001",
         "平安银行",
         "息差收窄符合预期，财富管理稳健发展",
         "买入",
         "东兴证券",
         "1",
         "3.11",
         "3.89",
         "3.69",
         "3.28",
         null,
         null,
         "银行",
         "2023-04-25",
         "https://pdf.dfcfw.com/pdf/H3_AP202304251585792572_1.pdf"
        ],
        [
         "37",
         "38",
         "000001",
         "平安银行",
         "财富管理发展态势良好，资产质量稳健",
         "买入",
         "中国银河",
         "1",
         null,
         null,
         null,
         null,
         null,
         null,
         "银行",
         "2023-04-25",
         "https://pdf.dfcfw.com/pdf/H3_AP202304251585792340_1.pdf"
        ],
        [
         "38",
         "39",
         "000001",
         "平安银行",
         "2023年一季报点评：风险抵补能力保持较好水平",
         "增持",
         "国信证券",
         "1",
         "2.85",
         null,
         "3.19",
         null,
         null,
         null,
         "银行",
         "2023-04-25",
         "https://pdf.dfcfw.com/pdf/H3_AP202304251585792142_1.pdf"
        ],
        [
         "39",
         "40",
         "000001",
         "平安银行",
         "风险偏好持续下降，资产质量边际改善",
         "增持",
         "中银证券",
         "1",
         "3.07",
         "3.94",
         "3.5",
         "3.45",
         null,
         null,
         "银行",
         "2023-04-25",
         "https://pdf.dfcfw.com/pdf/H3_AP202304251585791238_1.pdf"
        ],
        [
         "40",
         "41",
         "000001",
         "平安银行",
         "等待复苏，为“起跳”蓄力",
         "",
         "信达证券",
         "1",
         "3.22",
         "3.76",
         "3.7",
         "3.27",
         null,
         null,
         "银行",
         "2023-04-25",
         "https://pdf.dfcfw.com/pdf/H3_AP202304251585787040_1.pdf"
        ],
        [
         "41",
         "42",
         "000001",
         "平安银行",
         "点评报告：净利润维持高增",
         "增持",
         "万联证券",
         "1",
         "3.1",
         "4.36",
         "3.58",
         "3.78",
         null,
         null,
         "银行",
         "2023-03-13",
         "https://pdf.dfcfw.com/pdf/H3_AP202303131584221640_1.pdf"
        ],
        [
         "42",
         "43",
         "000001",
         "平安银行",
         "业绩维持高增，零售转型深化",
         "买入",
         "天风证券",
         "1",
         "3.48",
         "3.79",
         "4.18",
         "3.16",
         null,
         null,
         "银行",
         "2023-03-13",
         "https://pdf.dfcfw.com/pdf/H3_AP202303131584213462_1.pdf"
        ],
        [
         "43",
         "44",
         "000001",
         "平安银行",
         "净利润保持高增，财富管理稳健发展",
         "买入",
         "东兴证券",
         "1",
         "3.64",
         "3.63",
         "4.37",
         "3.02",
         null,
         null,
         "银行",
         "2023-03-10",
         "https://pdf.dfcfw.com/pdf/H3_AP202303101584178968_1.pdf"
        ],
        [
         "44",
         "45",
         "000001",
         "平安银行",
         "盈利稳健高增，资产端持续增长",
         "买入",
         "中国银河",
         "1",
         null,
         null,
         null,
         null,
         null,
         null,
         "银行",
         "2023-03-10",
         "https://pdf.dfcfw.com/pdf/H3_AP202303101584173254_1.pdf"
        ],
        [
         "45",
         "46",
         "000001",
         "平安银行",
         "2022年报点评：利润延续高增，加力支持实体",
         "买入",
         "民生证券",
         "1",
         "3.42",
         "4.0",
         "4.09",
         "3.0",
         null,
         null,
         "银行",
         "2023-03-10",
         "https://pdf.dfcfw.com/pdf/H3_AP202303101584172098_1.pdf"
        ],
        [
         "46",
         "47",
         "000001",
         "平安银行",
         "业绩持续高增，资产质量边际压力略升",
         "增持",
         "中银证券",
         "1",
         "3.25",
         "4.06",
         "3.7",
         "3.57",
         null,
         null,
         "银行",
         "2023-03-10",
         "https://pdf.dfcfw.com/pdf/H3_AP202303091584161355_1.pdf"
        ],
        [
         "47",
         "48",
         "000001",
         "平安银行",
         "规模扩张带动2022年业绩高增长",
         "买入",
         "山西证券",
         "1",
         "3.16",
         "4.28",
         "3.55",
         "3.82",
         null,
         null,
         "银行",
         "2023-03-09",
         "https://pdf.dfcfw.com/pdf/H3_AP202303091584159811_1.pdf"
        ],
        [
         "48",
         "49",
         "000001",
         "平安银行",
         "2022年年报点评：净利润维持高增，资产负债规模稳步扩张",
         "买入",
         "东莞证券",
         "1",
         "3.42",
         "3.86",
         "4.11",
         "3.21",
         null,
         null,
         "银行",
         "2023-03-09",
         "https://pdf.dfcfw.com/pdf/H3_AP202303091584152218_1.pdf"
        ],
        [
         "49",
         "50",
         "000001",
         "平安银行",
         "资产规模稳健增长，积极支持实体经济",
         "增持",
         "国信证券",
         "1",
         "2.89",
         null,
         "3.25",
         null,
         null,
         null,
         "银行",
         "2023-03-09",
         "https://pdf.dfcfw.com/pdf/H3_AP202303091584148565_1.pdf"
        ]
       ],
       "shape": {
        "columns": 16,
        "rows": 281
       }
      },
      "text/html": [
       "<div>\n",
       "<style scoped>\n",
       "    .dataframe tbody tr th:only-of-type {\n",
       "        vertical-align: middle;\n",
       "    }\n",
       "\n",
       "    .dataframe tbody tr th {\n",
       "        vertical-align: top;\n",
       "    }\n",
       "\n",
       "    .dataframe thead th {\n",
       "        text-align: right;\n",
       "    }\n",
       "</style>\n",
       "<table border=\"1\" class=\"dataframe\">\n",
       "  <thead>\n",
       "    <tr style=\"text-align: right;\">\n",
       "      <th></th>\n",
       "      <th>序号</th>\n",
       "      <th>股票代码</th>\n",
       "      <th>股票简称</th>\n",
       "      <th>报告名称</th>\n",
       "      <th>东财评级</th>\n",
       "      <th>机构</th>\n",
       "      <th>近一月个股研报数</th>\n",
       "      <th>2024-盈利预测-收益</th>\n",
       "      <th>2024-盈利预测-市盈率</th>\n",
       "      <th>2025-盈利预测-收益</th>\n",
       "      <th>2025-盈利预测-市盈率</th>\n",
       "      <th>2026-盈利预测-收益</th>\n",
       "      <th>2026-盈利预测-市盈率</th>\n",
       "      <th>行业</th>\n",
       "      <th>日期</th>\n",
       "      <th>报告PDF链接</th>\n",
       "    </tr>\n",
       "  </thead>\n",
       "  <tbody>\n",
       "    <tr>\n",
       "      <th>0</th>\n",
       "      <td>1</td>\n",
       "      <td>000001</td>\n",
       "      <td>平安银行</td>\n",
       "      <td>信贷存款回暖，计息成本改善</td>\n",
       "      <td>增持</td>\n",
       "      <td>天风证券</td>\n",
       "      <td>1</td>\n",
       "      <td>NaN</td>\n",
       "      <td>NaN</td>\n",
       "      <td>2.31</td>\n",
       "      <td>4.84</td>\n",
       "      <td>2.38</td>\n",
       "      <td>4.70</td>\n",
       "      <td>银行</td>\n",
       "      <td>2025-04-22</td>\n",
       "      <td>https://pdf.dfcfw.com/pdf/H3_AP202504221660307...</td>\n",
       "    </tr>\n",
       "    <tr>\n",
       "      <th>1</th>\n",
       "      <td>2</td>\n",
       "      <td>000001</td>\n",
       "      <td>平安银行</td>\n",
       "      <td>年报点评报告：非息亮眼，质量稳健</td>\n",
       "      <td>增持</td>\n",
       "      <td>天风证券</td>\n",
       "      <td>1</td>\n",
       "      <td>NaN</td>\n",
       "      <td>NaN</td>\n",
       "      <td>2.43</td>\n",
       "      <td>4.74</td>\n",
       "      <td>2.52</td>\n",
       "      <td>4.56</td>\n",
       "      <td>银行</td>\n",
       "      <td>2025-03-19</td>\n",
       "      <td>https://pdf.dfcfw.com/pdf/H3_AP202503191644684...</td>\n",
       "    </tr>\n",
       "    <tr>\n",
       "      <th>2</th>\n",
       "      <td>3</td>\n",
       "      <td>000001</td>\n",
       "      <td>平安银行</td>\n",
       "      <td>2024年年报点评：结构优化见效，风险处置有力</td>\n",
       "      <td>买入</td>\n",
       "      <td>民生证券</td>\n",
       "      <td>1</td>\n",
       "      <td>NaN</td>\n",
       "      <td>NaN</td>\n",
       "      <td>NaN</td>\n",
       "      <td>NaN</td>\n",
       "      <td>NaN</td>\n",
       "      <td>NaN</td>\n",
       "      <td>银行</td>\n",
       "      <td>2025-03-18</td>\n",
       "      <td>https://pdf.dfcfw.com/pdf/H3_AP202503181644529...</td>\n",
       "    </tr>\n",
       "    <tr>\n",
       "      <th>3</th>\n",
       "      <td>4</td>\n",
       "      <td>000001</td>\n",
       "      <td>平安银行</td>\n",
       "      <td>点评报告：结构调整持续，资产质量指标变动不大</td>\n",
       "      <td>增持</td>\n",
       "      <td>万联证券</td>\n",
       "      <td>1</td>\n",
       "      <td>NaN</td>\n",
       "      <td>NaN</td>\n",
       "      <td>2.36</td>\n",
       "      <td>5.08</td>\n",
       "      <td>2.38</td>\n",
       "      <td>5.03</td>\n",
       "      <td>银行</td>\n",
       "      <td>2025-03-18</td>\n",
       "      <td>https://pdf.dfcfw.com/pdf/H3_AP202503181644488...</td>\n",
       "    </tr>\n",
       "    <tr>\n",
       "      <th>4</th>\n",
       "      <td>5</td>\n",
       "      <td>000001</td>\n",
       "      <td>平安银行</td>\n",
       "      <td>贷款结构优化，营收降幅收窄</td>\n",
       "      <td>中性</td>\n",
       "      <td>国信证券</td>\n",
       "      <td>1</td>\n",
       "      <td>NaN</td>\n",
       "      <td>NaN</td>\n",
       "      <td>NaN</td>\n",
       "      <td>NaN</td>\n",
       "      <td>NaN</td>\n",
       "      <td>NaN</td>\n",
       "      <td>银行</td>\n",
       "      <td>2025-03-16</td>\n",
       "      <td>https://pdf.dfcfw.com/pdf/H3_AP202503161644416...</td>\n",
       "    </tr>\n",
       "    <tr>\n",
       "      <th>...</th>\n",
       "      <td>...</td>\n",
       "      <td>...</td>\n",
       "      <td>...</td>\n",
       "      <td>...</td>\n",
       "      <td>...</td>\n",
       "      <td>...</td>\n",
       "      <td>...</td>\n",
       "      <td>...</td>\n",
       "      <td>...</td>\n",
       "      <td>...</td>\n",
       "      <td>...</td>\n",
       "      <td>...</td>\n",
       "      <td>...</td>\n",
       "      <td>...</td>\n",
       "      <td>...</td>\n",
       "      <td>...</td>\n",
       "    </tr>\n",
       "    <tr>\n",
       "      <th>276</th>\n",
       "      <td>277</td>\n",
       "      <td>000001</td>\n",
       "      <td>平安银行</td>\n",
       "      <td>零售业务核心策略不变</td>\n",
       "      <td></td>\n",
       "      <td>中银国际</td>\n",
       "      <td>1</td>\n",
       "      <td>NaN</td>\n",
       "      <td>NaN</td>\n",
       "      <td>NaN</td>\n",
       "      <td>NaN</td>\n",
       "      <td>NaN</td>\n",
       "      <td>NaN</td>\n",
       "      <td>银行</td>\n",
       "      <td>2017-03-22</td>\n",
       "      <td>https://pdf.dfcfw.com/pdf/H3_AP201703220427468...</td>\n",
       "    </tr>\n",
       "    <tr>\n",
       "      <th>277</th>\n",
       "      <td>278</td>\n",
       "      <td>000001</td>\n",
       "      <td>平安银行</td>\n",
       "      <td>2016年年报点评：业绩低于预期，估值水平低于同业</td>\n",
       "      <td>增持</td>\n",
       "      <td>东莞证券</td>\n",
       "      <td>1</td>\n",
       "      <td>NaN</td>\n",
       "      <td>NaN</td>\n",
       "      <td>NaN</td>\n",
       "      <td>NaN</td>\n",
       "      <td>NaN</td>\n",
       "      <td>NaN</td>\n",
       "      <td>银行</td>\n",
       "      <td>2017-03-20</td>\n",
       "      <td>https://pdf.dfcfw.com/pdf/H3_AP201703200421759...</td>\n",
       "    </tr>\n",
       "    <tr>\n",
       "      <th>278</th>\n",
       "      <td>279</td>\n",
       "      <td>000001</td>\n",
       "      <td>平安银行</td>\n",
       "      <td>2017年报业绩点评：零售银行初见成效，不良加速认定</td>\n",
       "      <td></td>\n",
       "      <td>民生证券</td>\n",
       "      <td>1</td>\n",
       "      <td>NaN</td>\n",
       "      <td>NaN</td>\n",
       "      <td>NaN</td>\n",
       "      <td>NaN</td>\n",
       "      <td>NaN</td>\n",
       "      <td>NaN</td>\n",
       "      <td>银行</td>\n",
       "      <td>2017-03-17</td>\n",
       "      <td>https://pdf.dfcfw.com/pdf/H3_AP201703170415156...</td>\n",
       "    </tr>\n",
       "    <tr>\n",
       "      <th>279</th>\n",
       "      <td>280</td>\n",
       "      <td>000001</td>\n",
       "      <td>平安银行</td>\n",
       "      <td>零售金融盈利贡献度大幅提升，息差环比回升</td>\n",
       "      <td>买入</td>\n",
       "      <td>交银国际证券</td>\n",
       "      <td>1</td>\n",
       "      <td>NaN</td>\n",
       "      <td>NaN</td>\n",
       "      <td>NaN</td>\n",
       "      <td>NaN</td>\n",
       "      <td>NaN</td>\n",
       "      <td>NaN</td>\n",
       "      <td>银行</td>\n",
       "      <td>2017-03-07</td>\n",
       "      <td>https://pdf.dfcfw.com/pdf/H3_AP201705190591661...</td>\n",
       "    </tr>\n",
       "    <tr>\n",
       "      <th>280</th>\n",
       "      <td>281</td>\n",
       "      <td>000001</td>\n",
       "      <td>平安银行</td>\n",
       "      <td>大行的估值水平，小行的业绩弹性</td>\n",
       "      <td></td>\n",
       "      <td>天风证券</td>\n",
       "      <td>1</td>\n",
       "      <td>NaN</td>\n",
       "      <td>NaN</td>\n",
       "      <td>NaN</td>\n",
       "      <td>NaN</td>\n",
       "      <td>NaN</td>\n",
       "      <td>NaN</td>\n",
       "      <td>银行</td>\n",
       "      <td>2017-02-03</td>\n",
       "      <td>https://pdf.dfcfw.com/pdf/H3_AP201702030311575...</td>\n",
       "    </tr>\n",
       "  </tbody>\n",
       "</table>\n",
       "<p>281 rows × 16 columns</p>\n",
       "</div>"
      ],
      "text/plain": [
       "      序号    股票代码  股票简称                        报告名称 东财评级      机构  近一月个股研报数  \\\n",
       "0      1  000001  平安银行               信贷存款回暖，计息成本改善   增持    天风证券         1   \n",
       "1      2  000001  平安银行            年报点评报告：非息亮眼，质量稳健   增持    天风证券         1   \n",
       "2      3  000001  平安银行     2024年年报点评：结构优化见效，风险处置有力   买入    民生证券         1   \n",
       "3      4  000001  平安银行      点评报告：结构调整持续，资产质量指标变动不大   增持    万联证券         1   \n",
       "4      5  000001  平安银行               贷款结构优化，营收降幅收窄   中性    国信证券         1   \n",
       "..   ...     ...   ...                         ...  ...     ...       ...   \n",
       "276  277  000001  平安银行                  零售业务核心策略不变         中银国际         1   \n",
       "277  278  000001  平安银行   2016年年报点评：业绩低于预期，估值水平低于同业   增持    东莞证券         1   \n",
       "278  279  000001  平安银行  2017年报业绩点评：零售银行初见成效，不良加速认定         民生证券         1   \n",
       "279  280  000001  平安银行        零售金融盈利贡献度大幅提升，息差环比回升   买入  交银国际证券         1   \n",
       "280  281  000001  平安银行             大行的估值水平，小行的业绩弹性         天风证券         1   \n",
       "\n",
       "     2024-盈利预测-收益  2024-盈利预测-市盈率  2025-盈利预测-收益  2025-盈利预测-市盈率  2026-盈利预测-收益  \\\n",
       "0             NaN            NaN          2.31           4.84          2.38   \n",
       "1             NaN            NaN          2.43           4.74          2.52   \n",
       "2             NaN            NaN           NaN            NaN           NaN   \n",
       "3             NaN            NaN          2.36           5.08          2.38   \n",
       "4             NaN            NaN           NaN            NaN           NaN   \n",
       "..            ...            ...           ...            ...           ...   \n",
       "276           NaN            NaN           NaN            NaN           NaN   \n",
       "277           NaN            NaN           NaN            NaN           NaN   \n",
       "278           NaN            NaN           NaN            NaN           NaN   \n",
       "279           NaN            NaN           NaN            NaN           NaN   \n",
       "280           NaN            NaN           NaN            NaN           NaN   \n",
       "\n",
       "     2026-盈利预测-市盈率  行业          日期  \\\n",
       "0             4.70  银行  2025-04-22   \n",
       "1             4.56  银行  2025-03-19   \n",
       "2              NaN  银行  2025-03-18   \n",
       "3             5.03  银行  2025-03-18   \n",
       "4              NaN  银行  2025-03-16   \n",
       "..             ...  ..         ...   \n",
       "276            NaN  银行  2017-03-22   \n",
       "277            NaN  银行  2017-03-20   \n",
       "278            NaN  银行  2017-03-17   \n",
       "279            NaN  银行  2017-03-07   \n",
       "280            NaN  银行  2017-02-03   \n",
       "\n",
       "                                               报告PDF链接  \n",
       "0    https://pdf.dfcfw.com/pdf/H3_AP202504221660307...  \n",
       "1    https://pdf.dfcfw.com/pdf/H3_AP202503191644684...  \n",
       "2    https://pdf.dfcfw.com/pdf/H3_AP202503181644529...  \n",
       "3    https://pdf.dfcfw.com/pdf/H3_AP202503181644488...  \n",
       "4    https://pdf.dfcfw.com/pdf/H3_AP202503161644416...  \n",
       "..                                                 ...  \n",
       "276  https://pdf.dfcfw.com/pdf/H3_AP201703220427468...  \n",
       "277  https://pdf.dfcfw.com/pdf/H3_AP201703200421759...  \n",
       "278  https://pdf.dfcfw.com/pdf/H3_AP201703170415156...  \n",
       "279  https://pdf.dfcfw.com/pdf/H3_AP201705190591661...  \n",
       "280  https://pdf.dfcfw.com/pdf/H3_AP201702030311575...  \n",
       "\n",
       "[281 rows x 16 columns]"
      ]
     },
     "execution_count": 10,
     "metadata": {},
     "output_type": "execute_result"
    }
   ],
   "source": [
    "df"
   ]
  },
  {
   "cell_type": "code",
   "execution_count": 12,
   "metadata": {},
   "outputs": [
    {
     "data": {
      "application/vnd.microsoft.datawrangler.viewer.v0+json": {
       "columns": [
        {
         "name": "index",
         "rawType": "int64",
         "type": "integer"
        },
        {
         "name": "股票代码",
         "rawType": "object",
         "type": "string"
        },
        {
         "name": "近一年研报数量",
         "rawType": "int64",
         "type": "integer"
        },
        {
         "name": "买入/增持评级数量",
         "rawType": "int64",
         "type": "integer"
        },
        {
         "name": "2024盈利预测-收益",
         "rawType": "float64",
         "type": "float"
        },
        {
         "name": "2024盈利预测-市盈率",
         "rawType": "float64",
         "type": "float"
        },
        {
         "name": "2025盈利预测-收益",
         "rawType": "float64",
         "type": "float"
        },
        {
         "name": "2025盈利预测-市盈率",
         "rawType": "float64",
         "type": "float"
        }
       ],
       "conversionMethod": "pd.DataFrame",
       "ref": "874f3927-4bc2-4d75-8d11-1ac5a7563904",
       "rows": [
        [
         "0",
         "000001",
         "15",
         "11",
         "2.396666666666667",
         "4.59",
         "2.4255555555555555",
         "4.611111111111111"
        ]
       ],
       "shape": {
        "columns": 7,
        "rows": 1
       }
      },
      "text/html": [
       "<div>\n",
       "<style scoped>\n",
       "    .dataframe tbody tr th:only-of-type {\n",
       "        vertical-align: middle;\n",
       "    }\n",
       "\n",
       "    .dataframe tbody tr th {\n",
       "        vertical-align: top;\n",
       "    }\n",
       "\n",
       "    .dataframe thead th {\n",
       "        text-align: right;\n",
       "    }\n",
       "</style>\n",
       "<table border=\"1\" class=\"dataframe\">\n",
       "  <thead>\n",
       "    <tr style=\"text-align: right;\">\n",
       "      <th></th>\n",
       "      <th>股票代码</th>\n",
       "      <th>近一年研报数量</th>\n",
       "      <th>买入/增持评级数量</th>\n",
       "      <th>2024盈利预测-收益</th>\n",
       "      <th>2024盈利预测-市盈率</th>\n",
       "      <th>2025盈利预测-收益</th>\n",
       "      <th>2025盈利预测-市盈率</th>\n",
       "    </tr>\n",
       "  </thead>\n",
       "  <tbody>\n",
       "    <tr>\n",
       "      <th>0</th>\n",
       "      <td>000001</td>\n",
       "      <td>15</td>\n",
       "      <td>11</td>\n",
       "      <td>2.396667</td>\n",
       "      <td>4.59</td>\n",
       "      <td>2.425556</td>\n",
       "      <td>4.611111</td>\n",
       "    </tr>\n",
       "  </tbody>\n",
       "</table>\n",
       "</div>"
      ],
      "text/plain": [
       "     股票代码  近一年研报数量  买入/增持评级数量  2024盈利预测-收益  2024盈利预测-市盈率  2025盈利预测-收益  \\\n",
       "0  000001       15         11     2.396667          4.59     2.425556   \n",
       "\n",
       "   2025盈利预测-市盈率  \n",
       "0      4.611111  "
      ]
     },
     "execution_count": 12,
     "metadata": {},
     "output_type": "execute_result"
    }
   ],
   "source": [
    "_process_reasearch_report(df)"
   ]
  },
  {
   "cell_type": "code",
   "execution_count": 15,
   "metadata": {
    "collapsed": true,
    "jupyter": {
     "outputs_hidden": true
    }
   },
   "outputs": [
    {
     "name": "stderr",
     "output_type": "stream",
     "text": [
      "  0%|          | 0/40 [00:00<?, ?it/s]"
     ]
    },
    {
     "data": {
      "application/vnd.jupyter.widget-view+json": {
       "model_id": "2889f66876244387b22671c6e063d844",
       "version_major": 2,
       "version_minor": 0
      },
      "text/plain": [
       "  0%|          | 0/3 [00:00<?, ?it/s]"
      ]
     },
     "metadata": {},
     "output_type": "display_data"
    },
    {
     "name": "stderr",
     "output_type": "stream",
     "text": [
      "  2%|▎         | 1/40 [00:01<00:59,  1.53s/it]"
     ]
    },
    {
     "data": {
      "application/vnd.jupyter.widget-view+json": {
       "model_id": "470e3183637f4201bb24cd8a96d84835",
       "version_major": 2,
       "version_minor": 0
      },
      "text/plain": [
       "  0%|          | 0/4 [00:00<?, ?it/s]"
      ]
     },
     "metadata": {},
     "output_type": "display_data"
    },
    {
     "name": "stderr",
     "output_type": "stream",
     "text": [
      "  5%|▌         | 2/40 [00:03<01:03,  1.66s/it]"
     ]
    },
    {
     "data": {
      "application/vnd.jupyter.widget-view+json": {
       "model_id": "94d0ff1793f04d9aabe8ac6de32fdf92",
       "version_major": 2,
       "version_minor": 0
      },
      "text/plain": [
       "0it [00:00, ?it/s]"
      ]
     },
     "metadata": {},
     "output_type": "display_data"
    },
    {
     "name": "stderr",
     "output_type": "stream",
     "text": [
      "  8%|▊         | 3/40 [00:03<00:38,  1.04s/it]"
     ]
    },
    {
     "data": {
      "application/vnd.jupyter.widget-view+json": {
       "model_id": "f8b8f3b0d31c4133900b066758c45ee7",
       "version_major": 2,
       "version_minor": 0
      },
      "text/plain": [
       "  0%|          | 0/1 [00:00<?, ?it/s]"
      ]
     },
     "metadata": {},
     "output_type": "display_data"
    },
    {
     "name": "stderr",
     "output_type": "stream",
     "text": [
      " 10%|█         | 4/40 [00:04<00:31,  1.15it/s]"
     ]
    },
    {
     "data": {
      "application/vnd.jupyter.widget-view+json": {
       "model_id": "cca2f0d5e098490295247b77543fa1d9",
       "version_major": 2,
       "version_minor": 0
      },
      "text/plain": [
       "0it [00:00, ?it/s]"
      ]
     },
     "metadata": {},
     "output_type": "display_data"
    },
    {
     "name": "stderr",
     "output_type": "stream",
     "text": [
      " 12%|█▎        | 5/40 [00:04<00:22,  1.52it/s]"
     ]
    },
    {
     "data": {
      "application/vnd.jupyter.widget-view+json": {
       "model_id": "92964484ed754784ae70d42f5917c557",
       "version_major": 2,
       "version_minor": 0
      },
      "text/plain": [
       "  0%|          | 0/1 [00:00<?, ?it/s]"
      ]
     },
     "metadata": {},
     "output_type": "display_data"
    },
    {
     "name": "stderr",
     "output_type": "stream",
     "text": [
      " 15%|█▌        | 6/40 [00:05<00:21,  1.61it/s]"
     ]
    },
    {
     "data": {
      "application/vnd.jupyter.widget-view+json": {
       "model_id": "f898b31d96154a378add796f0cbefead",
       "version_major": 2,
       "version_minor": 0
      },
      "text/plain": [
       "  0%|          | 0/1 [00:00<?, ?it/s]"
      ]
     },
     "metadata": {},
     "output_type": "display_data"
    },
    {
     "name": "stderr",
     "output_type": "stream",
     "text": [
      " 18%|█▊        | 7/40 [00:05<00:20,  1.62it/s]"
     ]
    },
    {
     "data": {
      "application/vnd.jupyter.widget-view+json": {
       "model_id": "6cfb821249a34b9f9d817f72245214dd",
       "version_major": 2,
       "version_minor": 0
      },
      "text/plain": [
       "0it [00:00, ?it/s]"
      ]
     },
     "metadata": {},
     "output_type": "display_data"
    },
    {
     "name": "stderr",
     "output_type": "stream",
     "text": [
      " 20%|██        | 8/40 [00:05<00:16,  1.94it/s]"
     ]
    },
    {
     "data": {
      "application/vnd.jupyter.widget-view+json": {
       "model_id": "acfa73eb13a545719288ad228dbaf740",
       "version_major": 2,
       "version_minor": 0
      },
      "text/plain": [
       "0it [00:00, ?it/s]"
      ]
     },
     "metadata": {},
     "output_type": "display_data"
    },
    {
     "name": "stderr",
     "output_type": "stream",
     "text": [
      " 22%|██▎       | 9/40 [00:06<00:13,  2.26it/s]"
     ]
    },
    {
     "data": {
      "application/vnd.jupyter.widget-view+json": {
       "model_id": "7eeb379e644e486482d374b317ac588b",
       "version_major": 2,
       "version_minor": 0
      },
      "text/plain": [
       "  0%|          | 0/1 [00:00<?, ?it/s]"
      ]
     },
     "metadata": {},
     "output_type": "display_data"
    },
    {
     "name": "stderr",
     "output_type": "stream",
     "text": [
      " 25%|██▌       | 10/40 [00:06<00:14,  2.04it/s]"
     ]
    },
    {
     "data": {
      "application/vnd.jupyter.widget-view+json": {
       "model_id": "71589bf225184e1b95a172aaaaf972cd",
       "version_major": 2,
       "version_minor": 0
      },
      "text/plain": [
       "0it [00:00, ?it/s]"
      ]
     },
     "metadata": {},
     "output_type": "display_data"
    },
    {
     "name": "stderr",
     "output_type": "stream",
     "text": [
      " 28%|██▊       | 11/40 [00:07<00:12,  2.36it/s]"
     ]
    },
    {
     "data": {
      "application/vnd.jupyter.widget-view+json": {
       "model_id": "71e8e15f26d54b07ad74e45d853fb565",
       "version_major": 2,
       "version_minor": 0
      },
      "text/plain": [
       "  0%|          | 0/1 [00:00<?, ?it/s]"
      ]
     },
     "metadata": {},
     "output_type": "display_data"
    },
    {
     "name": "stderr",
     "output_type": "stream",
     "text": [
      " 30%|███       | 12/40 [00:07<00:13,  2.12it/s]"
     ]
    },
    {
     "data": {
      "application/vnd.jupyter.widget-view+json": {
       "model_id": "dfb213804ffd47bea71b019d0b9521cf",
       "version_major": 2,
       "version_minor": 0
      },
      "text/plain": [
       "0it [00:00, ?it/s]"
      ]
     },
     "metadata": {},
     "output_type": "display_data"
    },
    {
     "name": "stderr",
     "output_type": "stream",
     "text": [
      " 32%|███▎      | 13/40 [00:07<00:11,  2.39it/s]"
     ]
    },
    {
     "data": {
      "application/vnd.jupyter.widget-view+json": {
       "model_id": "ec930630c0484d90a3feb3c307b229a4",
       "version_major": 2,
       "version_minor": 0
      },
      "text/plain": [
       "0it [00:00, ?it/s]"
      ]
     },
     "metadata": {},
     "output_type": "display_data"
    },
    {
     "name": "stderr",
     "output_type": "stream",
     "text": [
      " 35%|███▌      | 14/40 [00:08<00:10,  2.54it/s]"
     ]
    },
    {
     "data": {
      "application/vnd.jupyter.widget-view+json": {
       "model_id": "1783d62b706b4779990cfc81741a1191",
       "version_major": 2,
       "version_minor": 0
      },
      "text/plain": [
       "0it [00:00, ?it/s]"
      ]
     },
     "metadata": {},
     "output_type": "display_data"
    },
    {
     "name": "stderr",
     "output_type": "stream",
     "text": [
      " 38%|███▊      | 15/40 [00:08<00:09,  2.75it/s]"
     ]
    },
    {
     "data": {
      "application/vnd.jupyter.widget-view+json": {
       "model_id": "b460c8a0bca34a26a70825bb84f7f899",
       "version_major": 2,
       "version_minor": 0
      },
      "text/plain": [
       "  0%|          | 0/1 [00:00<?, ?it/s]"
      ]
     },
     "metadata": {},
     "output_type": "display_data"
    },
    {
     "name": "stderr",
     "output_type": "stream",
     "text": [
      " 40%|████      | 16/40 [00:09<00:10,  2.33it/s]"
     ]
    },
    {
     "data": {
      "application/vnd.jupyter.widget-view+json": {
       "model_id": "8b8a13037f024e07bf1f5e98c4a5c8ea",
       "version_major": 2,
       "version_minor": 0
      },
      "text/plain": [
       "0it [00:00, ?it/s]"
      ]
     },
     "metadata": {},
     "output_type": "display_data"
    },
    {
     "name": "stderr",
     "output_type": "stream",
     "text": [
      " 42%|████▎     | 17/40 [00:09<00:08,  2.59it/s]"
     ]
    },
    {
     "data": {
      "application/vnd.jupyter.widget-view+json": {
       "model_id": "7313f4aa456a4f94af6e2f9c10828a44",
       "version_major": 2,
       "version_minor": 0
      },
      "text/plain": [
       "  0%|          | 0/1 [00:00<?, ?it/s]"
      ]
     },
     "metadata": {},
     "output_type": "display_data"
    },
    {
     "name": "stderr",
     "output_type": "stream",
     "text": [
      " 45%|████▌     | 18/40 [00:10<00:09,  2.22it/s]"
     ]
    },
    {
     "data": {
      "application/vnd.jupyter.widget-view+json": {
       "model_id": "64721146f43844a283e6d01bf060c72c",
       "version_major": 2,
       "version_minor": 0
      },
      "text/plain": [
       "  0%|          | 0/1 [00:00<?, ?it/s]"
      ]
     },
     "metadata": {},
     "output_type": "display_data"
    },
    {
     "name": "stderr",
     "output_type": "stream",
     "text": [
      " 48%|████▊     | 19/40 [00:10<00:10,  2.04it/s]"
     ]
    },
    {
     "data": {
      "application/vnd.jupyter.widget-view+json": {
       "model_id": "9feaafbb1e544e5fb07343a298c87522",
       "version_major": 2,
       "version_minor": 0
      },
      "text/plain": [
       "  0%|          | 0/1 [00:00<?, ?it/s]"
      ]
     },
     "metadata": {},
     "output_type": "display_data"
    },
    {
     "name": "stderr",
     "output_type": "stream",
     "text": [
      " 50%|█████     | 20/40 [00:11<00:10,  1.93it/s]"
     ]
    },
    {
     "data": {
      "application/vnd.jupyter.widget-view+json": {
       "model_id": "f733b74955564a86b7f97bdac528149e",
       "version_major": 2,
       "version_minor": 0
      },
      "text/plain": [
       "0it [00:00, ?it/s]"
      ]
     },
     "metadata": {},
     "output_type": "display_data"
    },
    {
     "name": "stderr",
     "output_type": "stream",
     "text": [
      " 52%|█████▎    | 21/40 [00:11<00:08,  2.25it/s]"
     ]
    },
    {
     "data": {
      "application/vnd.jupyter.widget-view+json": {
       "model_id": "73730a9c8a8b44928f77ca989be489a9",
       "version_major": 2,
       "version_minor": 0
      },
      "text/plain": [
       "  0%|          | 0/1 [00:00<?, ?it/s]"
      ]
     },
     "metadata": {},
     "output_type": "display_data"
    },
    {
     "name": "stderr",
     "output_type": "stream",
     "text": [
      " 55%|█████▌    | 22/40 [00:12<00:10,  1.67it/s]"
     ]
    },
    {
     "data": {
      "application/vnd.jupyter.widget-view+json": {
       "model_id": "0e82b2119c164aaab2587919f0a3d7e5",
       "version_major": 2,
       "version_minor": 0
      },
      "text/plain": [
       "  0%|          | 0/1 [00:00<?, ?it/s]"
      ]
     },
     "metadata": {},
     "output_type": "display_data"
    },
    {
     "name": "stderr",
     "output_type": "stream",
     "text": [
      " 57%|█████▊    | 23/40 [00:13<00:10,  1.69it/s]"
     ]
    },
    {
     "data": {
      "application/vnd.jupyter.widget-view+json": {
       "model_id": "91c7fad3d2ee486da1799a130dfb6897",
       "version_major": 2,
       "version_minor": 0
      },
      "text/plain": [
       "  0%|          | 0/1 [00:00<?, ?it/s]"
      ]
     },
     "metadata": {},
     "output_type": "display_data"
    },
    {
     "name": "stderr",
     "output_type": "stream",
     "text": [
      " 60%|██████    | 24/40 [00:13<00:09,  1.72it/s]"
     ]
    },
    {
     "data": {
      "application/vnd.jupyter.widget-view+json": {
       "model_id": "264bb6e058ad4057998c7eba8071d186",
       "version_major": 2,
       "version_minor": 0
      },
      "text/plain": [
       "  0%|          | 0/2 [00:00<?, ?it/s]"
      ]
     },
     "metadata": {},
     "output_type": "display_data"
    },
    {
     "name": "stderr",
     "output_type": "stream",
     "text": [
      " 62%|██████▎   | 25/40 [00:14<00:10,  1.42it/s]"
     ]
    },
    {
     "data": {
      "application/vnd.jupyter.widget-view+json": {
       "model_id": "fa2c6b16ffad46e1a9dfbfabb819f65b",
       "version_major": 2,
       "version_minor": 0
      },
      "text/plain": [
       "  0%|          | 0/1 [00:00<?, ?it/s]"
      ]
     },
     "metadata": {},
     "output_type": "display_data"
    },
    {
     "name": "stderr",
     "output_type": "stream",
     "text": [
      " 65%|██████▌   | 26/40 [00:15<00:09,  1.51it/s]"
     ]
    },
    {
     "data": {
      "application/vnd.jupyter.widget-view+json": {
       "model_id": "e50c2dfc8ac14026869b574c9c86b956",
       "version_major": 2,
       "version_minor": 0
      },
      "text/plain": [
       "  0%|          | 0/1 [00:00<?, ?it/s]"
      ]
     },
     "metadata": {},
     "output_type": "display_data"
    },
    {
     "name": "stderr",
     "output_type": "stream",
     "text": [
      " 68%|██████▊   | 27/40 [00:15<00:08,  1.55it/s]"
     ]
    },
    {
     "data": {
      "application/vnd.jupyter.widget-view+json": {
       "model_id": "949ae487c8354e5485408a6e40ae9ab1",
       "version_major": 2,
       "version_minor": 0
      },
      "text/plain": [
       "0it [00:00, ?it/s]"
      ]
     },
     "metadata": {},
     "output_type": "display_data"
    },
    {
     "name": "stderr",
     "output_type": "stream",
     "text": [
      " 70%|███████   | 28/40 [00:16<00:06,  1.86it/s]"
     ]
    },
    {
     "data": {
      "application/vnd.jupyter.widget-view+json": {
       "model_id": "e9e5d09e83d342d28325b9bd2addb61d",
       "version_major": 2,
       "version_minor": 0
      },
      "text/plain": [
       "  0%|          | 0/1 [00:00<?, ?it/s]"
      ]
     },
     "metadata": {},
     "output_type": "display_data"
    },
    {
     "name": "stderr",
     "output_type": "stream",
     "text": [
      " 72%|███████▎  | 29/40 [00:16<00:07,  1.55it/s]"
     ]
    },
    {
     "data": {
      "application/vnd.jupyter.widget-view+json": {
       "model_id": "72b08350c6414f8d8bd72c26c7dbbedd",
       "version_major": 2,
       "version_minor": 0
      },
      "text/plain": [
       "  0%|          | 0/1 [00:00<?, ?it/s]"
      ]
     },
     "metadata": {},
     "output_type": "display_data"
    },
    {
     "name": "stderr",
     "output_type": "stream",
     "text": [
      " 75%|███████▌  | 30/40 [00:17<00:06,  1.60it/s]"
     ]
    },
    {
     "data": {
      "application/vnd.jupyter.widget-view+json": {
       "model_id": "78bdf05ab1304385b06040250977cb03",
       "version_major": 2,
       "version_minor": 0
      },
      "text/plain": [
       "  0%|          | 0/1 [00:00<?, ?it/s]"
      ]
     },
     "metadata": {},
     "output_type": "display_data"
    },
    {
     "name": "stderr",
     "output_type": "stream",
     "text": [
      " 78%|███████▊  | 31/40 [00:18<00:06,  1.35it/s]"
     ]
    },
    {
     "data": {
      "application/vnd.jupyter.widget-view+json": {
       "model_id": "719855ccc222455eb038f10ee7faac09",
       "version_major": 2,
       "version_minor": 0
      },
      "text/plain": [
       "  0%|          | 0/1 [00:00<?, ?it/s]"
      ]
     },
     "metadata": {},
     "output_type": "display_data"
    },
    {
     "name": "stderr",
     "output_type": "stream",
     "text": [
      " 80%|████████  | 32/40 [00:19<00:05,  1.44it/s]"
     ]
    },
    {
     "data": {
      "application/vnd.jupyter.widget-view+json": {
       "model_id": "0dc044e9819d4dff99b2c9e12417085d",
       "version_major": 2,
       "version_minor": 0
      },
      "text/plain": [
       "  0%|          | 0/1 [00:00<?, ?it/s]"
      ]
     },
     "metadata": {},
     "output_type": "display_data"
    },
    {
     "name": "stderr",
     "output_type": "stream",
     "text": [
      " 82%|████████▎ | 33/40 [00:19<00:04,  1.50it/s]"
     ]
    },
    {
     "data": {
      "application/vnd.jupyter.widget-view+json": {
       "model_id": "93d883fde1d0421cbe8709cba714bea6",
       "version_major": 2,
       "version_minor": 0
      },
      "text/plain": [
       "  0%|          | 0/1 [00:00<?, ?it/s]"
      ]
     },
     "metadata": {},
     "output_type": "display_data"
    },
    {
     "name": "stderr",
     "output_type": "stream",
     "text": [
      " 85%|████████▌ | 34/40 [00:20<00:03,  1.57it/s]"
     ]
    },
    {
     "data": {
      "application/vnd.jupyter.widget-view+json": {
       "model_id": "318f8acbd8074eb4b6836f2d3ffb10f1",
       "version_major": 2,
       "version_minor": 0
      },
      "text/plain": [
       "  0%|          | 0/1 [00:00<?, ?it/s]"
      ]
     },
     "metadata": {},
     "output_type": "display_data"
    },
    {
     "name": "stderr",
     "output_type": "stream",
     "text": [
      " 88%|████████▊ | 35/40 [00:21<00:03,  1.37it/s]"
     ]
    },
    {
     "data": {
      "application/vnd.jupyter.widget-view+json": {
       "model_id": "874f3634dcbd4190a88172b4d7d2f315",
       "version_major": 2,
       "version_minor": 0
      },
      "text/plain": [
       "0it [00:00, ?it/s]"
      ]
     },
     "metadata": {},
     "output_type": "display_data"
    },
    {
     "name": "stderr",
     "output_type": "stream",
     "text": [
      " 90%|█████████ | 36/40 [00:21<00:02,  1.68it/s]"
     ]
    },
    {
     "data": {
      "application/vnd.jupyter.widget-view+json": {
       "model_id": "6a1394e9276c43e49b861224066ecf87",
       "version_major": 2,
       "version_minor": 0
      },
      "text/plain": [
       "0it [00:00, ?it/s]"
      ]
     },
     "metadata": {},
     "output_type": "display_data"
    },
    {
     "name": "stderr",
     "output_type": "stream",
     "text": [
      " 92%|█████████▎| 37/40 [00:21<00:01,  2.00it/s]"
     ]
    },
    {
     "data": {
      "application/vnd.jupyter.widget-view+json": {
       "model_id": "42e62591324c4f2daeaa2d6978af80a0",
       "version_major": 2,
       "version_minor": 0
      },
      "text/plain": [
       "0it [00:00, ?it/s]"
      ]
     },
     "metadata": {},
     "output_type": "display_data"
    },
    {
     "name": "stderr",
     "output_type": "stream",
     "text": [
      " 95%|█████████▌| 38/40 [00:22<00:00,  2.31it/s]"
     ]
    },
    {
     "data": {
      "application/vnd.jupyter.widget-view+json": {
       "model_id": "7895290ca43d4db2bf7cfb2c59d806bb",
       "version_major": 2,
       "version_minor": 0
      },
      "text/plain": [
       "  0%|          | 0/1 [00:00<?, ?it/s]"
      ]
     },
     "metadata": {},
     "output_type": "display_data"
    },
    {
     "name": "stderr",
     "output_type": "stream",
     "text": [
      " 98%|█████████▊| 39/40 [00:22<00:00,  2.04it/s]"
     ]
    },
    {
     "data": {
      "application/vnd.jupyter.widget-view+json": {
       "model_id": "7ac9342b1b08432a85cb3d1d6713e03e",
       "version_major": 2,
       "version_minor": 0
      },
      "text/plain": [
       "  0%|          | 0/1 [00:00<?, ?it/s]"
      ]
     },
     "metadata": {},
     "output_type": "display_data"
    },
    {
     "name": "stderr",
     "output_type": "stream",
     "text": [
      "100%|██████████| 40/40 [00:23<00:00,  1.72it/s]\n",
      "/var/folders/zv/4cvgzxy96h95m5f4qhwzsqv00000gn/T/ipykernel_86528/109269934.py:19: FutureWarning: The behavior of DataFrame concatenation with empty or all-NA entries is deprecated. In a future version, this will no longer exclude empty or all-NA columns when determining the result dtypes. To retain the old behavior, exclude the relevant entries before the concat operation.\n",
      "  df_rsh_repo = pd.concat(df_rsh_repo_ls, ignore_index=True)\n",
      "100%|██████████| 11/11 [00:00<00:00, 58.69it/s]\n"
     ]
    }
   ],
   "source": [
    "# create research report constraint\n",
    "cypher = 'CREATE CONSTRAINT IF NOT EXISTS FOR (n:个股研报) REQUIRE (n.股票代码) IS UNIQUE'\n",
    "graph.run(cypher=cypher)\n",
    "\n",
    "\n",
    "# get research report info\n",
    "df_rsh_repo_ls = []\n",
    "for code in tqdm(stock_code_list):\n",
    "    try:\n",
    "        df_rsh_repo = ak.stock_research_report_em(symbol=code).copy()\n",
    "        df_rsh_repo = _process_reasearch_report(df_rsh_repo)\n",
    "        df_rsh_repo_ls.append(df_rsh_repo)\n",
    "    except:\n",
    "        continue\n",
    "        # log.warning(f'{code} has no research report info')\n",
    "if len(df_rsh_repo_ls) == 0:\n",
    "    raise ConnectionError('Can not get stock research report from akshare')\n",
    "else:\n",
    "    df_rsh_repo = pd.concat(df_rsh_repo_ls, ignore_index=True)\n",
    "    \n",
    "    \n",
    "for record in tqdm(df_rsh_repo.to_dict('records')):\n",
    "    # create research report nodeb\n",
    "    rsh_report_node = Node('个股研报', name='个股研报', **record)\n",
    "    try:\n",
    "        graph.create(rsh_report_node)\n",
    "    except:\n",
    "        pass\n",
    "    \n",
    "    # create stock - main business composition relationship\n",
    "    stock = matcher.match(\"股票\", 代码=record['股票代码']).first()\n",
    "    if stock is None:\n",
    "        continue\n",
    "    rsh_report = matcher.match(\"个股研报\", 股票代码=record['股票代码']).first()\n",
    "    realation = Relationship(stock, '基本面', rsh_report)\n",
    "    try:\n",
    "        graph.create(realation)\n",
    "    except:\n",
    "        pass"
   ]
  },
  {
   "cell_type": "markdown",
   "metadata": {},
   "source": [
    "## 3. Main Business Composition"
   ]
  },
  {
   "cell_type": "code",
   "execution_count": 16,
   "metadata": {},
   "outputs": [],
   "source": [
    "def assign_exchange_prefix(code: str):\n",
    "    if code.startswith('0') or code.startswith('3'):\n",
    "        code = 'SZ' + code\n",
    "    else:\n",
    "        code = 'SH' + code\n",
    "    return code"
   ]
  },
  {
   "cell_type": "code",
   "execution_count": 17,
   "metadata": {
    "collapsed": true,
    "jupyter": {
     "outputs_hidden": true
    }
   },
   "outputs": [
    {
     "name": "stderr",
     "output_type": "stream",
     "text": [
      "100%|██████████| 40/40 [00:22<00:00,  1.82it/s]\n"
     ]
    }
   ],
   "source": [
    "# create main business composition constraint\n",
    "cypher = 'CREATE CONSTRAINT IF NOT EXISTS FOR (n:主营构成) REQUIRE (n.股票代码, n.报告期) IS UNIQUE'\n",
    "graph.run(cypher=cypher)\n",
    "\n",
    "# create main business constraint\n",
    "cypher = 'CREATE CONSTRAINT IF NOT EXISTS FOR (n:主营业务) REQUIRE (n.股票代码, n.报告期, n.业务名称) IS UNIQUE'\n",
    "graph.run(cypher=cypher)\n",
    "\n",
    "\n",
    "for code in tqdm(stock_code_list):\n",
    "    # get main business info\n",
    "    try:\n",
    "        symbol = assign_exchange_prefix(code)\n",
    "        df_main_business = ak.stock_zygc_em(symbol=symbol).copy()\n",
    "        df_main_business = df_main_business.fillna('nan').copy()\n",
    "    except:\n",
    "        log.warning(f'Can not get {code} main business info')\n",
    "        continue\n",
    "        \n",
    "    df_main_business = df_main_business[df_main_business['分类类型'] == '按产品分类'].copy()\n",
    "    df_main_business['报告日期'] = pd.to_datetime(df_main_business['报告日期'])\n",
    "    df_main_business = df_main_business[df_main_business['报告日期'] > datetime(2020,12,31)].copy()\n",
    "    df_main_business['报告日期'] = df_main_business['报告日期'].dt.strftime('%Y-%m-%d')\n",
    "    for report_time, df_group in df_main_business.groupby('报告日期'):\n",
    "        # create main business composition node\n",
    "        main_bus_compo_node = Node('主营构成', 股票代码=code, 报告期=report_time, name=report_time)\n",
    "        try:\n",
    "            graph.create(main_bus_compo_node)\n",
    "        except:\n",
    "            pass\n",
    "\n",
    "        # create stock - main business composition relationship\n",
    "        stock = matcher.match(\"股票\", 代码=code).first()\n",
    "        main_bus_compo = matcher.match(\"主营构成\", 股票代码=code, 报告期=report_time).first()\n",
    "        realation = Relationship(stock, '基本面', main_bus_compo)\n",
    "        try:\n",
    "            graph.create(realation)\n",
    "        except:\n",
    "            pass\n",
    "\n",
    "        # create main business node\n",
    "        df_group = df_group[['股票代码', '报告日期', '主营构成', '主营收入', '收入比例', '主营成本',\n",
    "                             '成本比例', '主营利润', '利润比例', '毛利率']].copy()\n",
    "        df_group = df_group.rename(columns={'主营构成': '业务名称', '报告日期': '报告期'})\n",
    "        for record in df_group.to_dict('records'):\n",
    "            record.update({'name': record['业务名称']})\n",
    "            main_business_node = Node('主营业务', **record)\n",
    "            try:\n",
    "                graph.create(main_business_node)\n",
    "            except:\n",
    "                pass\n",
    "\n",
    "        # create main business composition-main business relationship\n",
    "        main_bus_compo = matcher.match(\"主营构成\", 股票代码=code, 报告期=report_time).first()\n",
    "        main_bus_ls = matcher.match(\"主营业务\", 股票代码=code, 报告期=report_time)\n",
    "        for main_bus in main_bus_ls: \n",
    "            realation = Relationship(main_bus_compo, '按产品分类', main_bus)\n",
    "            try:\n",
    "                graph.create(realation)\n",
    "            except:\n",
    "                pass"
   ]
  },
  {
   "cell_type": "markdown",
   "metadata": {},
   "source": [
    "## 4. Main Shareholders"
   ]
  },
  {
   "cell_type": "code",
   "execution_count": 18,
   "metadata": {},
   "outputs": [],
   "source": [
    "def assign_exchange_prefix(code: str):\n",
    "    if code.startswith('0') or code.startswith('3'):\n",
    "        code = 'sz' + code\n",
    "    else:\n",
    "        code = 'sh' + code\n",
    "    return code"
   ]
  },
  {
   "cell_type": "code",
   "execution_count": 22,
   "metadata": {},
   "outputs": [],
   "source": [
    "def get_all_quaterly_report_time(look_back_period: int = 12):\n",
    "    \"\"\"\n",
    "    get all quarterly report time\n",
    "    :param look_back_period: look back period, default is 4\n",
    "    :return: all quarterly report time\n",
    "    \"\"\"\n",
    "    end_date = datetime.now()\n",
    "    start_date = end_date - timedelta(look_back_period * 90)\n",
    "    all_quaterly_report_time = pd.date_range(start=start_date, end=end_date, freq='Q')\n",
    "    all_quaterly_report_time = all_quaterly_report_time.strftime('%Y%m%d').to_list()\n",
    "    return all_quaterly_report_time\n",
    "    "
   ]
  },
  {
   "cell_type": "code",
   "execution_count": 24,
   "metadata": {
    "collapsed": true,
    "jupyter": {
     "outputs_hidden": true
    }
   },
   "outputs": [
    {
     "name": "stderr",
     "output_type": "stream",
     "text": [
      "/var/folders/zv/4cvgzxy96h95m5f4qhwzsqv00000gn/T/ipykernel_86528/4193625293.py:9: FutureWarning: 'Q' is deprecated and will be removed in a future version, please use 'QE' instead.\n",
      "  all_quaterly_report_time = pd.date_range(start=start_date, end=end_date, freq='Q')\n",
      "  2%|▎         | 1/40 [00:02<01:49,  2.81s/it]2025-04-23 22:34:10,629 - WARNING - Can not get 000002 20250331 main shareholders info\n",
      "2025-04-23 22:34:10,629 - WARNING - Can not get 000002 20250331 main shareholders info\n",
      "  5%|▌         | 2/40 [00:05<01:38,  2.60s/it]2025-04-23 22:34:13,011 - WARNING - Can not get 000004 20241231 main shareholders info\n",
      "2025-04-23 22:34:13,011 - WARNING - Can not get 000004 20241231 main shareholders info\n",
      "2025-04-23 22:34:13,134 - WARNING - Can not get 000004 20250331 main shareholders info\n",
      "2025-04-23 22:34:13,134 - WARNING - Can not get 000004 20250331 main shareholders info\n",
      "  8%|▊         | 3/40 [00:07<01:34,  2.56s/it]2025-04-23 22:34:15,272 - WARNING - Can not get 000006 20241231 main shareholders info\n",
      "2025-04-23 22:34:15,272 - WARNING - Can not get 000006 20241231 main shareholders info\n",
      "2025-04-23 22:34:15,414 - WARNING - Can not get 000006 20250331 main shareholders info\n",
      "2025-04-23 22:34:15,414 - WARNING - Can not get 000006 20250331 main shareholders info\n",
      " 10%|█         | 4/40 [00:10<01:28,  2.45s/it]2025-04-23 22:34:17,827 - WARNING - Can not get 000007 20241231 main shareholders info\n",
      "2025-04-23 22:34:17,827 - WARNING - Can not get 000007 20241231 main shareholders info\n",
      "2025-04-23 22:34:17,959 - WARNING - Can not get 000007 20250331 main shareholders info\n",
      "2025-04-23 22:34:17,959 - WARNING - Can not get 000007 20250331 main shareholders info\n",
      " 12%|█▎        | 5/40 [00:12<01:26,  2.48s/it]2025-04-23 22:34:20,059 - WARNING - Can not get 000008 20250331 main shareholders info\n",
      "2025-04-23 22:34:20,059 - WARNING - Can not get 000008 20250331 main shareholders info\n",
      " 15%|█▌        | 6/40 [00:14<01:20,  2.35s/it]2025-04-23 22:34:22,285 - WARNING - Can not get 000009 20250331 main shareholders info\n",
      "2025-04-23 22:34:22,285 - WARNING - Can not get 000009 20250331 main shareholders info\n",
      " 18%|█▊        | 7/40 [00:16<01:16,  2.31s/it]2025-04-23 22:34:25,122 - WARNING - Can not get 000010 20241231 main shareholders info\n",
      "2025-04-23 22:34:25,122 - WARNING - Can not get 000010 20241231 main shareholders info\n",
      "2025-04-23 22:34:25,278 - WARNING - Can not get 000010 20250331 main shareholders info\n",
      "2025-04-23 22:34:25,278 - WARNING - Can not get 000010 20250331 main shareholders info\n",
      " 20%|██        | 8/40 [00:19<01:20,  2.53s/it]2025-04-23 22:34:27,763 - WARNING - Can not get 000011 20250331 main shareholders info\n",
      "2025-04-23 22:34:27,763 - WARNING - Can not get 000011 20250331 main shareholders info\n",
      " 22%|██▎       | 9/40 [00:22<01:17,  2.51s/it]2025-04-23 22:34:29,760 - WARNING - Can not get 000012 20241231 main shareholders info\n",
      "2025-04-23 22:34:29,760 - WARNING - Can not get 000012 20241231 main shareholders info\n",
      "2025-04-23 22:34:30,249 - WARNING - Can not get 000012 20250331 main shareholders info\n",
      "2025-04-23 22:34:30,249 - WARNING - Can not get 000012 20250331 main shareholders info\n",
      " 25%|██▌       | 10/40 [00:24<01:15,  2.51s/it]2025-04-23 22:34:33,248 - WARNING - Can not get 000014 20250331 main shareholders info\n",
      "2025-04-23 22:34:33,248 - WARNING - Can not get 000014 20250331 main shareholders info\n",
      " 28%|██▊       | 11/40 [00:27<01:17,  2.66s/it]2025-04-23 22:34:35,559 - WARNING - Can not get 000016 20250331 main shareholders info\n",
      "2025-04-23 22:34:35,559 - WARNING - Can not get 000016 20250331 main shareholders info\n",
      " 30%|███       | 12/40 [00:30<01:11,  2.55s/it]2025-04-23 22:34:37,750 - WARNING - Can not get 000017 20250331 main shareholders info\n",
      "2025-04-23 22:34:37,750 - WARNING - Can not get 000017 20250331 main shareholders info\n",
      " 32%|███▎      | 13/40 [00:32<01:05,  2.44s/it]2025-04-23 22:34:40,320 - WARNING - Can not get 000019 20241231 main shareholders info\n",
      "2025-04-23 22:34:40,320 - WARNING - Can not get 000019 20241231 main shareholders info\n",
      "2025-04-23 22:34:40,463 - WARNING - Can not get 000019 20250331 main shareholders info\n",
      "2025-04-23 22:34:40,463 - WARNING - Can not get 000019 20250331 main shareholders info\n",
      " 38%|███▊      | 15/40 [00:38<01:08,  2.74s/it]2025-04-23 22:34:45,999 - WARNING - Can not get 000021 20241231 main shareholders info\n",
      "2025-04-23 22:34:45,999 - WARNING - Can not get 000021 20241231 main shareholders info\n",
      "2025-04-23 22:34:46,117 - WARNING - Can not get 000021 20250331 main shareholders info\n",
      "2025-04-23 22:34:46,117 - WARNING - Can not get 000021 20250331 main shareholders info\n",
      " 40%|████      | 16/40 [00:40<01:03,  2.64s/it]2025-04-23 22:34:49,345 - WARNING - Can not get 000025 20250331 main shareholders info\n",
      "2025-04-23 22:34:49,345 - WARNING - Can not get 000025 20250331 main shareholders info\n",
      " 42%|████▎     | 17/40 [00:43<01:04,  2.82s/it]2025-04-23 22:34:51,886 - WARNING - Can not get 000026 20250331 main shareholders info\n",
      "2025-04-23 22:34:51,886 - WARNING - Can not get 000026 20250331 main shareholders info\n",
      " 45%|████▌     | 18/40 [00:46<01:00,  2.74s/it]2025-04-23 22:34:54,575 - WARNING - Can not get 000027 20250331 main shareholders info\n",
      "2025-04-23 22:34:54,575 - WARNING - Can not get 000027 20250331 main shareholders info\n",
      " 48%|████▊     | 19/40 [00:49<00:57,  2.72s/it]2025-04-23 22:34:57,029 - WARNING - Can not get 000028 20250331 main shareholders info\n",
      "2025-04-23 22:34:57,029 - WARNING - Can not get 000028 20250331 main shareholders info\n",
      " 50%|█████     | 20/40 [00:51<00:52,  2.64s/it]2025-04-23 22:34:59,762 - WARNING - Can not get 000029 20250331 main shareholders info\n",
      "2025-04-23 22:34:59,762 - WARNING - Can not get 000029 20250331 main shareholders info\n",
      " 52%|█████▎    | 21/40 [00:54<00:50,  2.67s/it]2025-04-23 22:35:04,977 - WARNING - Can not get 000030 20250331 main shareholders info\n",
      "2025-04-23 22:35:04,977 - WARNING - Can not get 000030 20250331 main shareholders info\n",
      " 55%|█████▌    | 22/40 [00:59<01:01,  3.43s/it]2025-04-23 22:35:07,728 - WARNING - Can not get 000031 20250331 main shareholders info\n",
      "2025-04-23 22:35:07,728 - WARNING - Can not get 000031 20250331 main shareholders info\n",
      " 57%|█████▊    | 23/40 [01:02<00:54,  3.23s/it]2025-04-23 22:35:10,660 - WARNING - Can not get 000032 20241231 main shareholders info\n",
      "2025-04-23 22:35:10,660 - WARNING - Can not get 000032 20241231 main shareholders info\n",
      "2025-04-23 22:35:10,865 - WARNING - Can not get 000032 20250331 main shareholders info\n",
      "2025-04-23 22:35:10,865 - WARNING - Can not get 000032 20250331 main shareholders info\n",
      " 60%|██████    | 24/40 [01:05<00:51,  3.20s/it]2025-04-23 22:35:13,745 - WARNING - Can not get 000034 20250331 main shareholders info\n",
      "2025-04-23 22:35:13,745 - WARNING - Can not get 000034 20250331 main shareholders info\n",
      " 62%|██████▎   | 25/40 [01:08<00:46,  3.10s/it]2025-04-23 22:35:16,361 - WARNING - Can not get 000035 20241231 main shareholders info\n",
      "2025-04-23 22:35:16,361 - WARNING - Can not get 000035 20241231 main shareholders info\n",
      "2025-04-23 22:35:16,474 - WARNING - Can not get 000035 20250331 main shareholders info\n",
      "2025-04-23 22:35:16,474 - WARNING - Can not get 000035 20250331 main shareholders info\n",
      " 65%|██████▌   | 26/40 [01:11<00:41,  2.99s/it]2025-04-23 22:35:18,724 - WARNING - Can not get 000036 20241231 main shareholders info\n",
      "2025-04-23 22:35:18,724 - WARNING - Can not get 000036 20241231 main shareholders info\n",
      "2025-04-23 22:35:18,873 - WARNING - Can not get 000036 20250331 main shareholders info\n",
      "2025-04-23 22:35:18,873 - WARNING - Can not get 000036 20250331 main shareholders info\n",
      " 68%|██████▊   | 27/40 [01:13<00:36,  2.81s/it]2025-04-23 22:35:21,388 - WARNING - Can not get 000037 20250331 main shareholders info\n",
      "2025-04-23 22:35:21,388 - WARNING - Can not get 000037 20250331 main shareholders info\n",
      " 70%|███████   | 28/40 [01:16<00:32,  2.73s/it]2025-04-23 22:35:23,879 - WARNING - Can not get 000039 20250331 main shareholders info\n",
      "2025-04-23 22:35:23,879 - WARNING - Can not get 000039 20250331 main shareholders info\n",
      " 72%|███████▎  | 29/40 [01:18<00:29,  2.65s/it]2025-04-23 22:35:26,528 - WARNING - Can not get 000040 20241231 main shareholders info\n",
      "2025-04-23 22:35:26,528 - WARNING - Can not get 000040 20241231 main shareholders info\n",
      "2025-04-23 22:35:26,838 - WARNING - Can not get 000040 20250331 main shareholders info\n",
      "2025-04-23 22:35:26,838 - WARNING - Can not get 000040 20250331 main shareholders info\n",
      " 75%|███████▌  | 30/40 [01:21<00:27,  2.75s/it]2025-04-23 22:35:29,726 - WARNING - Can not get 000042 20241231 main shareholders info\n",
      "2025-04-23 22:35:29,726 - WARNING - Can not get 000042 20241231 main shareholders info\n",
      "2025-04-23 22:35:29,850 - WARNING - Can not get 000042 20250331 main shareholders info\n",
      "2025-04-23 22:35:29,850 - WARNING - Can not get 000042 20250331 main shareholders info\n",
      " 78%|███████▊  | 31/40 [01:24<00:25,  2.83s/it]2025-04-23 22:35:32,907 - WARNING - Can not get 000045 20250331 main shareholders info\n",
      "2025-04-23 22:35:32,907 - WARNING - Can not get 000045 20250331 main shareholders info\n",
      " 80%|████████  | 32/40 [01:27<00:23,  2.90s/it]2025-04-23 22:35:35,749 - WARNING - Can not get 000048 20250331 main shareholders info\n",
      "2025-04-23 22:35:35,749 - WARNING - Can not get 000048 20250331 main shareholders info\n",
      " 90%|█████████ | 36/40 [01:38<00:11,  2.79s/it]2025-04-23 22:35:46,541 - WARNING - Can not get 000056 20241231 main shareholders info\n",
      "2025-04-23 22:35:46,541 - WARNING - Can not get 000056 20241231 main shareholders info\n",
      "2025-04-23 22:35:46,918 - WARNING - Can not get 000056 20250331 main shareholders info\n",
      "2025-04-23 22:35:46,918 - WARNING - Can not get 000056 20250331 main shareholders info\n",
      " 92%|█████████▎| 37/40 [01:41<00:08,  2.77s/it]2025-04-23 22:35:49,328 - WARNING - Can not get 000058 20250331 main shareholders info\n",
      "2025-04-23 22:35:49,328 - WARNING - Can not get 000058 20250331 main shareholders info\n",
      " 95%|█████████▌| 38/40 [01:43<00:05,  2.66s/it]2025-04-23 22:35:52,185 - WARNING - Can not get 000059 20250331 main shareholders info\n",
      "2025-04-23 22:35:52,185 - WARNING - Can not get 000059 20250331 main shareholders info\n",
      " 98%|█████████▊| 39/40 [01:46<00:02,  2.72s/it]2025-04-23 22:35:54,560 - WARNING - Can not get 000060 20250331 main shareholders info\n",
      "2025-04-23 22:35:54,560 - WARNING - Can not get 000060 20250331 main shareholders info\n",
      "100%|██████████| 40/40 [01:49<00:00,  2.73s/it]\n"
     ]
    }
   ],
   "source": [
    "# create main shareholders constraint\n",
    "cypher = 'CREATE CONSTRAINT IF NOT EXISTS FOR (n:主要股东) REQUIRE (n.股票代码, n.报告期) IS UNIQUE'\n",
    "graph.run(cypher=cypher)\n",
    "\n",
    "# create shares holding constraint\n",
    "cypher = 'CREATE CONSTRAINT IF NOT EXISTS FOR (n:持股信息) REQUIRE (n.股票代码, n.报告期, n.股东名称) IS UNIQUE'\n",
    "graph.run(cypher=cypher)\n",
    "\n",
    "report_time_ls = get_all_quaterly_report_time()\n",
    "\n",
    "for code in tqdm(stock_code_list):\n",
    "    # get main shareholders info\n",
    "    for report_time in report_time_ls:\n",
    "        try:\n",
    "            symbol = assign_exchange_prefix(code)\n",
    "            df_main_shareholders = ak.stock_gdfx_top_10_em(symbol=symbol, date=report_time).copy()\n",
    "        except:\n",
    "            log.warning(f'Can not get {code} {report_time} main shareholders info')\n",
    "            continue\n",
    "\n",
    "        df_main_shareholders = df_main_shareholders[:3].fillna('nan').copy()\n",
    "        # create main shareholders node\n",
    "        main_shareholders_node = Node('主要股东', 股票代码=code, 报告期=report_time, name=report_time)\n",
    "        try:\n",
    "            graph.create(main_shareholders_node)\n",
    "        except:\n",
    "            break\n",
    "\n",
    "        # create stock - main shareholders relationship\n",
    "        stock = matcher.match(\"股票\", 代码=code).first()\n",
    "        main_shareholders = matcher.match(\"主要股东\", 股票代码=code, 报告期=report_time).first()\n",
    "        realation = Relationship(stock, '基本面', main_shareholders)\n",
    "        try:\n",
    "            graph.create(realation)\n",
    "        except:\n",
    "            pass\n",
    "\n",
    "        # create shares holding node\n",
    "        for record in df_main_shareholders.to_dict('records'):\n",
    "            record.update({'name': record['股东名称'], '股票代码': code, '报告期': report_time})\n",
    "            shares_holding = Node('持股信息', **record)\n",
    "            try:\n",
    "                graph.create(shares_holding)\n",
    "            except:\n",
    "                break\n",
    "\n",
    "        # create main business composition-main business relationship\n",
    "        main_shareholders = matcher.match(\"主要股东\", 股票代码=code, 报告期=report_time).first()\n",
    "        shares_holding_ls = matcher.match(\"持股信息\", 股票代码=code, 报告期=report_time)\n",
    "        for shares_holding in shares_holding_ls: \n",
    "            realation = Relationship(main_shareholders, '按持股比例', shares_holding)\n",
    "            try:\n",
    "                graph.create(realation)\n",
    "            except:\n",
    "                break"
   ]
  },
  {
   "cell_type": "markdown",
   "metadata": {},
   "source": [
    "## 5.Price Indicators"
   ]
  },
  {
   "cell_type": "code",
   "execution_count": 25,
   "metadata": {},
   "outputs": [
    {
     "data": {
      "application/vnd.microsoft.datawrangler.viewer.v0+json": {
       "columns": [
        {
         "name": "index",
         "rawType": "int64",
         "type": "integer"
        },
        {
         "name": "日期",
         "rawType": "object",
         "type": "unknown"
        },
        {
         "name": "股票代码",
         "rawType": "object",
         "type": "string"
        },
        {
         "name": "开盘",
         "rawType": "float64",
         "type": "float"
        },
        {
         "name": "收盘",
         "rawType": "float64",
         "type": "float"
        },
        {
         "name": "最高",
         "rawType": "float64",
         "type": "float"
        },
        {
         "name": "最低",
         "rawType": "float64",
         "type": "float"
        },
        {
         "name": "成交量",
         "rawType": "int64",
         "type": "integer"
        },
        {
         "name": "成交额",
         "rawType": "float64",
         "type": "float"
        },
        {
         "name": "振幅",
         "rawType": "float64",
         "type": "float"
        },
        {
         "name": "涨跌幅",
         "rawType": "float64",
         "type": "float"
        },
        {
         "name": "涨跌额",
         "rawType": "float64",
         "type": "float"
        },
        {
         "name": "换手率",
         "rawType": "float64",
         "type": "float"
        }
       ],
       "conversionMethod": "pd.DataFrame",
       "ref": "19e4cef8-ac43-40ce-b0c4-e20d08a06063",
       "rows": [
        [
         "0",
         "2023-04-12",
         "000004",
         "35.05",
         "35.78",
         "36.22",
         "35.05",
         "22748",
         "22871246.0",
         "3.33",
         "1.85",
         "0.65",
         "1.91"
        ],
        [
         "1",
         "2023-04-13",
         "000004",
         "35.82",
         "36.02",
         "36.46",
         "35.54",
         "19624",
         "19884792.0",
         "2.57",
         "0.67",
         "0.24",
         "1.65"
        ],
        [
         "2",
         "2023-04-14",
         "000004",
         "36.02",
         "35.7",
         "36.26",
         "35.09",
         "28161",
         "28173191.9",
         "3.25",
         "-0.89",
         "-0.32",
         "2.37"
        ],
        [
         "3",
         "2023-04-17",
         "000004",
         "35.66",
         "36.67",
         "37.72",
         "35.58",
         "40813",
         "42057949.0",
         "5.99",
         "2.72",
         "0.97",
         "3.43"
        ],
        [
         "4",
         "2023-04-18",
         "000004",
         "36.59",
         "37.27",
         "37.39",
         "36.26",
         "25010",
         "25822813.44",
         "3.08",
         "1.64",
         "0.6",
         "2.1"
        ],
        [
         "5",
         "2023-04-19",
         "000004",
         "37.07",
         "39.37",
         "39.37",
         "37.07",
         "40568",
         "44017131.2",
         "6.17",
         "5.63",
         "2.1",
         "3.41"
        ],
        [
         "6",
         "2023-04-20",
         "000004",
         "40.38",
         "39.74",
         "41.31",
         "38.44",
         "80807",
         "89910933.38",
         "7.29",
         "0.94",
         "0.37",
         "6.8"
        ],
        [
         "7",
         "2023-04-21",
         "000004",
         "39.62",
         "37.84",
         "40.14",
         "37.56",
         "52974",
         "57287565.49",
         "6.49",
         "-4.78",
         "-1.9",
         "4.45"
        ],
        [
         "8",
         "2023-04-24",
         "000004",
         "37.96",
         "38.85",
         "39.33",
         "37.15",
         "37478",
         "39968953.36",
         "5.76",
         "2.67",
         "1.01",
         "3.15"
        ],
        [
         "9",
         "2023-04-25",
         "000004",
         "38.93",
         "36.67",
         "38.93",
         "36.67",
         "39824",
         "41562713.0",
         "5.82",
         "-5.61",
         "-2.18",
         "3.35"
        ],
        [
         "10",
         "2023-04-26",
         "000004",
         "36.22",
         "36.46",
         "37.27",
         "35.25",
         "29323",
         "29810007.0",
         "5.51",
         "-0.57",
         "-0.21",
         "2.47"
        ],
        [
         "11",
         "2023-04-27",
         "000004",
         "36.83",
         "37.6",
         "38.52",
         "36.38",
         "40385",
         "42888770.43",
         "5.87",
         "3.13",
         "1.14",
         "3.4"
        ],
        [
         "12",
         "2023-04-28",
         "000004",
         "37.72",
         "37.56",
         "38.73",
         "37.19",
         "40005",
         "42434094.32",
         "4.1",
         "-0.11",
         "-0.04",
         "3.36"
        ],
        [
         "13",
         "2023-05-04",
         "000004",
         "39.7",
         "39.7",
         "39.7",
         "39.33",
         "55155",
         "60800084.96",
         "0.99",
         "5.7",
         "2.14",
         "4.64"
        ],
        [
         "14",
         "2023-05-05",
         "000004",
         "39.82",
         "40.54",
         "41.07",
         "39.41",
         "56655",
         "62915713.34",
         "4.18",
         "2.12",
         "0.84",
         "4.76"
        ],
        [
         "15",
         "2023-05-08",
         "000004",
         "40.14",
         "38.28",
         "41.11",
         "38.28",
         "31242",
         "34235850.0",
         "6.98",
         "-5.57",
         "-2.26",
         "2.63"
        ],
        [
         "16",
         "2023-05-09",
         "000004",
         "37.11",
         "36.14",
         "37.43",
         "36.14",
         "53888",
         "55037730.04",
         "3.37",
         "-5.59",
         "-2.14",
         "4.53"
        ],
        [
         "17",
         "2023-05-10",
         "000004",
         "36.14",
         "36.42",
         "37.03",
         "35.9",
         "18236",
         "18679571.0",
         "3.13",
         "0.77",
         "0.28",
         "1.53"
        ],
        [
         "18",
         "2023-05-11",
         "000004",
         "37.03",
         "38.0",
         "38.48",
         "37.03",
         "34739",
         "37088155.92",
         "3.98",
         "4.34",
         "1.58",
         "2.92"
        ],
        [
         "19",
         "2023-05-12",
         "000004",
         "38.08",
         "38.2",
         "39.05",
         "38.0",
         "22275",
         "23840288.65",
         "2.76",
         "0.53",
         "0.2",
         "1.87"
        ],
        [
         "20",
         "2023-05-15",
         "000004",
         "38.52",
         "38.65",
         "38.65",
         "37.68",
         "12040",
         "12826717.0",
         "2.54",
         "1.18",
         "0.45",
         "1.01"
        ],
        [
         "21",
         "2023-05-16",
         "000004",
         "38.36",
         "36.5",
         "38.48",
         "36.46",
         "32926",
         "33917170.7",
         "5.23",
         "-5.56",
         "-2.15",
         "2.77"
        ],
        [
         "22",
         "2023-05-17",
         "000004",
         "36.02",
         "36.67",
         "37.23",
         "35.62",
         "16103",
         "16557189.0",
         "4.41",
         "0.47",
         "0.17",
         "1.35"
        ],
        [
         "23",
         "2023-05-18",
         "000004",
         "36.5",
         "38.52",
         "38.52",
         "36.5",
         "24424",
         "25808782.6",
         "5.51",
         "5.04",
         "1.85",
         "2.05"
        ],
        [
         "24",
         "2023-05-19",
         "000004",
         "38.52",
         "38.81",
         "39.05",
         "37.8",
         "20650",
         "22122180.79",
         "3.25",
         "0.75",
         "0.29",
         "1.74"
        ],
        [
         "25",
         "2023-05-22",
         "000004",
         "38.36",
         "39.9",
         "40.14",
         "38.28",
         "18753",
         "20641212.89",
         "4.79",
         "2.81",
         "1.09",
         "1.58"
        ],
        [
         "26",
         "2023-05-23",
         "000004",
         "39.41",
         "41.39",
         "42.08",
         "39.41",
         "31703",
         "36163432.0",
         "6.69",
         "3.73",
         "1.49",
         "2.67"
        ],
        [
         "27",
         "2023-05-24",
         "000004",
         "41.23",
         "41.76",
         "42.97",
         "40.67",
         "28750",
         "33360063.0",
         "5.56",
         "0.89",
         "0.37",
         "2.42"
        ],
        [
         "28",
         "2023-05-25",
         "000004",
         "44.1",
         "44.1",
         "44.1",
         "43.01",
         "50802",
         "61498081.04",
         "2.61",
         "5.6",
         "2.34",
         "4.27"
        ],
        [
         "29",
         "2023-05-26",
         "000004",
         "44.91",
         "46.56",
         "46.56",
         "43.78",
         "47095",
         "58485585.68",
         "6.3",
         "5.58",
         "2.46",
         "3.96"
        ],
        [
         "30",
         "2023-05-29",
         "000004",
         "48.46",
         "49.15",
         "49.15",
         "46.97",
         "60874",
         "80340893.29",
         "4.68",
         "5.56",
         "2.59",
         "5.12"
        ],
        [
         "31",
         "2023-05-30",
         "000004",
         "50.76",
         "51.85",
         "51.85",
         "49.92",
         "17361",
         "24075719.24",
         "3.93",
         "5.49",
         "2.7",
         "1.46"
        ],
        [
         "32",
         "2023-05-31",
         "000004",
         "54.28",
         "49.19",
         "54.4",
         "49.03",
         "114115",
         "157478793.16",
         "10.36",
         "-5.13",
         "-2.66",
         "9.6"
        ],
        [
         "33",
         "2023-06-01",
         "000004",
         "48.95",
         "51.05",
         "51.89",
         "48.95",
         "109594",
         "152009095.96",
         "5.98",
         "3.78",
         "1.86",
         "9.22"
        ],
        [
         "34",
         "2023-06-02",
         "000004",
         "49.67",
         "51.17",
         "52.58",
         "48.54",
         "63989",
         "87410502.0",
         "7.91",
         "0.24",
         "0.12",
         "5.38"
        ],
        [
         "35",
         "2023-06-05",
         "000004",
         "50.64",
         "53.95",
         "53.95",
         "50.64",
         "53988",
         "78156350.76",
         "6.47",
         "5.43",
         "2.78",
         "4.54"
        ],
        [
         "36",
         "2023-06-06",
         "000004",
         "54.8",
         "56.9",
         "56.9",
         "54.8",
         "39561",
         "59873918.67",
         "3.89",
         "5.47",
         "2.95",
         "3.33"
        ],
        [
         "37",
         "2023-06-07",
         "000004",
         "57.99",
         "59.29",
         "59.97",
         "55.17",
         "83127",
         "129652903.74",
         "8.44",
         "4.2",
         "2.39",
         "6.99"
        ],
        [
         "38",
         "2023-06-08",
         "000004",
         "57.39",
         "56.09",
         "59.25",
         "56.09",
         "46729",
         "71312605.9",
         "5.33",
         "-5.4",
         "-3.2",
         "3.93"
        ],
        [
         "39",
         "2023-06-09",
         "000004",
         "56.09",
         "56.38",
         "57.59",
         "53.95",
         "47251",
         "71130162.0",
         "6.49",
         "0.52",
         "0.29",
         "3.97"
        ],
        [
         "40",
         "2023-06-12",
         "000004",
         "55.89",
         "53.31",
         "56.05",
         "53.31",
         "36812",
         "53478914.0",
         "4.86",
         "-5.45",
         "-3.07",
         "3.1"
        ],
        [
         "41",
         "2023-06-13",
         "000004",
         "52.74",
         "53.63",
         "55.25",
         "52.02",
         "63999",
         "92787726.12",
         "6.06",
         "0.6",
         "0.32",
         "5.38"
        ],
        [
         "42",
         "2023-06-14",
         "000004",
         "54.44",
         "52.5",
         "56.54",
         "52.1",
         "89968",
         "132467524.82",
         "8.28",
         "-2.11",
         "-1.13",
         "7.57"
        ],
        [
         "43",
         "2023-06-15",
         "000004",
         "52.26",
         "55.37",
         "55.37",
         "52.26",
         "70229",
         "103809348.0",
         "5.92",
         "5.47",
         "2.87",
         "5.91"
        ],
        [
         "44",
         "2023-06-16",
         "000004",
         "54.88",
         "58.4",
         "58.4",
         "54.84",
         "32942",
         "50699886.81",
         "6.43",
         "5.47",
         "3.03",
         "2.77"
        ],
        [
         "45",
         "2023-06-19",
         "000004",
         "59.77",
         "58.48",
         "59.77",
         "56.94",
         "33454",
         "52153455.0",
         "4.85",
         "0.14",
         "0.08",
         "2.81"
        ],
        [
         "46",
         "2023-06-20",
         "000004",
         "58.48",
         "55.41",
         "58.68",
         "55.33",
         "37472",
         "56360250.7",
         "5.73",
         "-5.25",
         "-3.07",
         "3.15"
        ],
        [
         "47",
         "2023-06-21",
         "000004",
         "54.92",
         "52.38",
         "56.5",
         "52.38",
         "51999",
         "75055294.4",
         "7.44",
         "-5.47",
         "-3.03",
         "4.37"
        ],
        [
         "48",
         "2023-06-26",
         "000004",
         "51.25",
         "50.72",
         "53.71",
         "50.56",
         "40121",
         "56555845.88",
         "6.01",
         "-3.17",
         "-1.66",
         "3.37"
        ],
        [
         "49",
         "2023-06-28",
         "000004",
         "54.92",
         "56.3",
         "56.3",
         "53.55",
         "60151",
         "89326979.0",
         "5.42",
         "11.0",
         "5.58",
         "5.06"
        ]
       ],
       "shape": {
        "columns": 12,
        "rows": 242
       }
      },
      "text/html": [
       "<div>\n",
       "<style scoped>\n",
       "    .dataframe tbody tr th:only-of-type {\n",
       "        vertical-align: middle;\n",
       "    }\n",
       "\n",
       "    .dataframe tbody tr th {\n",
       "        vertical-align: top;\n",
       "    }\n",
       "\n",
       "    .dataframe thead th {\n",
       "        text-align: right;\n",
       "    }\n",
       "</style>\n",
       "<table border=\"1\" class=\"dataframe\">\n",
       "  <thead>\n",
       "    <tr style=\"text-align: right;\">\n",
       "      <th></th>\n",
       "      <th>日期</th>\n",
       "      <th>股票代码</th>\n",
       "      <th>开盘</th>\n",
       "      <th>收盘</th>\n",
       "      <th>最高</th>\n",
       "      <th>最低</th>\n",
       "      <th>成交量</th>\n",
       "      <th>成交额</th>\n",
       "      <th>振幅</th>\n",
       "      <th>涨跌幅</th>\n",
       "      <th>涨跌额</th>\n",
       "      <th>换手率</th>\n",
       "    </tr>\n",
       "  </thead>\n",
       "  <tbody>\n",
       "    <tr>\n",
       "      <th>0</th>\n",
       "      <td>2023-04-12</td>\n",
       "      <td>000004</td>\n",
       "      <td>35.05</td>\n",
       "      <td>35.78</td>\n",
       "      <td>36.22</td>\n",
       "      <td>35.05</td>\n",
       "      <td>22748</td>\n",
       "      <td>22871246.00</td>\n",
       "      <td>3.33</td>\n",
       "      <td>1.85</td>\n",
       "      <td>0.65</td>\n",
       "      <td>1.91</td>\n",
       "    </tr>\n",
       "    <tr>\n",
       "      <th>1</th>\n",
       "      <td>2023-04-13</td>\n",
       "      <td>000004</td>\n",
       "      <td>35.82</td>\n",
       "      <td>36.02</td>\n",
       "      <td>36.46</td>\n",
       "      <td>35.54</td>\n",
       "      <td>19624</td>\n",
       "      <td>19884792.00</td>\n",
       "      <td>2.57</td>\n",
       "      <td>0.67</td>\n",
       "      <td>0.24</td>\n",
       "      <td>1.65</td>\n",
       "    </tr>\n",
       "    <tr>\n",
       "      <th>2</th>\n",
       "      <td>2023-04-14</td>\n",
       "      <td>000004</td>\n",
       "      <td>36.02</td>\n",
       "      <td>35.70</td>\n",
       "      <td>36.26</td>\n",
       "      <td>35.09</td>\n",
       "      <td>28161</td>\n",
       "      <td>28173191.90</td>\n",
       "      <td>3.25</td>\n",
       "      <td>-0.89</td>\n",
       "      <td>-0.32</td>\n",
       "      <td>2.37</td>\n",
       "    </tr>\n",
       "    <tr>\n",
       "      <th>3</th>\n",
       "      <td>2023-04-17</td>\n",
       "      <td>000004</td>\n",
       "      <td>35.66</td>\n",
       "      <td>36.67</td>\n",
       "      <td>37.72</td>\n",
       "      <td>35.58</td>\n",
       "      <td>40813</td>\n",
       "      <td>42057949.00</td>\n",
       "      <td>5.99</td>\n",
       "      <td>2.72</td>\n",
       "      <td>0.97</td>\n",
       "      <td>3.43</td>\n",
       "    </tr>\n",
       "    <tr>\n",
       "      <th>4</th>\n",
       "      <td>2023-04-18</td>\n",
       "      <td>000004</td>\n",
       "      <td>36.59</td>\n",
       "      <td>37.27</td>\n",
       "      <td>37.39</td>\n",
       "      <td>36.26</td>\n",
       "      <td>25010</td>\n",
       "      <td>25822813.44</td>\n",
       "      <td>3.08</td>\n",
       "      <td>1.64</td>\n",
       "      <td>0.60</td>\n",
       "      <td>2.10</td>\n",
       "    </tr>\n",
       "    <tr>\n",
       "      <th>...</th>\n",
       "      <td>...</td>\n",
       "      <td>...</td>\n",
       "      <td>...</td>\n",
       "      <td>...</td>\n",
       "      <td>...</td>\n",
       "      <td>...</td>\n",
       "      <td>...</td>\n",
       "      <td>...</td>\n",
       "      <td>...</td>\n",
       "      <td>...</td>\n",
       "      <td>...</td>\n",
       "      <td>...</td>\n",
       "    </tr>\n",
       "    <tr>\n",
       "      <th>237</th>\n",
       "      <td>2024-04-08</td>\n",
       "      <td>000004</td>\n",
       "      <td>49.75</td>\n",
       "      <td>48.66</td>\n",
       "      <td>50.84</td>\n",
       "      <td>48.46</td>\n",
       "      <td>61313</td>\n",
       "      <td>82540929.60</td>\n",
       "      <td>4.79</td>\n",
       "      <td>-2.03</td>\n",
       "      <td>-1.01</td>\n",
       "      <td>4.86</td>\n",
       "    </tr>\n",
       "    <tr>\n",
       "      <th>238</th>\n",
       "      <td>2024-04-09</td>\n",
       "      <td>000004</td>\n",
       "      <td>48.46</td>\n",
       "      <td>48.74</td>\n",
       "      <td>48.99</td>\n",
       "      <td>47.17</td>\n",
       "      <td>51947</td>\n",
       "      <td>68222889.00</td>\n",
       "      <td>3.74</td>\n",
       "      <td>0.16</td>\n",
       "      <td>0.08</td>\n",
       "      <td>4.11</td>\n",
       "    </tr>\n",
       "    <tr>\n",
       "      <th>239</th>\n",
       "      <td>2024-04-10</td>\n",
       "      <td>000004</td>\n",
       "      <td>48.06</td>\n",
       "      <td>45.88</td>\n",
       "      <td>48.78</td>\n",
       "      <td>45.31</td>\n",
       "      <td>58559</td>\n",
       "      <td>74440448.00</td>\n",
       "      <td>7.12</td>\n",
       "      <td>-5.87</td>\n",
       "      <td>-2.86</td>\n",
       "      <td>4.64</td>\n",
       "    </tr>\n",
       "    <tr>\n",
       "      <th>240</th>\n",
       "      <td>2024-04-11</td>\n",
       "      <td>000004</td>\n",
       "      <td>45.59</td>\n",
       "      <td>46.40</td>\n",
       "      <td>47.33</td>\n",
       "      <td>45.19</td>\n",
       "      <td>44937</td>\n",
       "      <td>57385983.25</td>\n",
       "      <td>4.66</td>\n",
       "      <td>1.13</td>\n",
       "      <td>0.52</td>\n",
       "      <td>3.56</td>\n",
       "    </tr>\n",
       "    <tr>\n",
       "      <th>241</th>\n",
       "      <td>2024-04-12</td>\n",
       "      <td>000004</td>\n",
       "      <td>46.28</td>\n",
       "      <td>45.27</td>\n",
       "      <td>47.21</td>\n",
       "      <td>45.19</td>\n",
       "      <td>34559</td>\n",
       "      <td>43551494.35</td>\n",
       "      <td>4.35</td>\n",
       "      <td>-2.44</td>\n",
       "      <td>-1.13</td>\n",
       "      <td>2.74</td>\n",
       "    </tr>\n",
       "  </tbody>\n",
       "</table>\n",
       "<p>242 rows × 12 columns</p>\n",
       "</div>"
      ],
      "text/plain": [
       "             日期    股票代码     开盘     收盘     最高     最低    成交量          成交额    振幅  \\\n",
       "0    2023-04-12  000004  35.05  35.78  36.22  35.05  22748  22871246.00  3.33   \n",
       "1    2023-04-13  000004  35.82  36.02  36.46  35.54  19624  19884792.00  2.57   \n",
       "2    2023-04-14  000004  36.02  35.70  36.26  35.09  28161  28173191.90  3.25   \n",
       "3    2023-04-17  000004  35.66  36.67  37.72  35.58  40813  42057949.00  5.99   \n",
       "4    2023-04-18  000004  36.59  37.27  37.39  36.26  25010  25822813.44  3.08   \n",
       "..          ...     ...    ...    ...    ...    ...    ...          ...   ...   \n",
       "237  2024-04-08  000004  49.75  48.66  50.84  48.46  61313  82540929.60  4.79   \n",
       "238  2024-04-09  000004  48.46  48.74  48.99  47.17  51947  68222889.00  3.74   \n",
       "239  2024-04-10  000004  48.06  45.88  48.78  45.31  58559  74440448.00  7.12   \n",
       "240  2024-04-11  000004  45.59  46.40  47.33  45.19  44937  57385983.25  4.66   \n",
       "241  2024-04-12  000004  46.28  45.27  47.21  45.19  34559  43551494.35  4.35   \n",
       "\n",
       "      涨跌幅   涨跌额   换手率  \n",
       "0    1.85  0.65  1.91  \n",
       "1    0.67  0.24  1.65  \n",
       "2   -0.89 -0.32  2.37  \n",
       "3    2.72  0.97  3.43  \n",
       "4    1.64  0.60  2.10  \n",
       "..    ...   ...   ...  \n",
       "237 -2.03 -1.01  4.86  \n",
       "238  0.16  0.08  4.11  \n",
       "239 -5.87 -2.86  4.64  \n",
       "240  1.13  0.52  3.56  \n",
       "241 -2.44 -1.13  2.74  \n",
       "\n",
       "[242 rows x 12 columns]"
      ]
     },
     "execution_count": 25,
     "metadata": {},
     "output_type": "execute_result"
    }
   ],
   "source": [
    "import akshare as ak\n",
    "\n",
    "stock_zh_a_hist_df = ak.stock_zh_a_hist(symbol=\"000004\", period=\"daily\", start_date=\"20230412\", end_date='20240412', adjust=\"hfq\")\n",
    "stock_zh_a_hist_df"
   ]
  },
  {
   "cell_type": "code",
   "execution_count": 26,
   "metadata": {},
   "outputs": [],
   "source": [
    "def process_date_to_report_time(date: datetime):\n",
    "    date = pd.to_datetime(date)\n",
    "    year = date.year\n",
    "    first_season_end_date = datetime(year, 3, 31)\n",
    "    second_season_end_date = datetime(year, 6, 30)\n",
    "    third_season_end_date = datetime(year, 9, 30)\n",
    "    last_season_end_date = datetime(year, 12, 31)\n",
    "    if date < first_season_end_date:\n",
    "        return first_season_end_date.strftime('%Y-%m-%d')\n",
    "    if date < second_season_end_date:\n",
    "        return second_season_end_date.strftime('%Y-%m-%d')\n",
    "    if date < third_season_end_date:\n",
    "        return third_season_end_date.strftime('%Y-%m-%d')\n",
    "    if date < last_season_end_date:\n",
    "        return last_season_end_date.strftime('%Y-%m-%d')\n",
    "    \n",
    "def MA(data, n):\n",
    "    MA = pd.Series(data['收盘'].rolling(n).mean().round(2), name='MA_' + str(n))\n",
    "    return MA.fillna('nan')\n",
    "\n",
    "def EMA(data, n):\n",
    "    EMA = pd.Series(data['收盘'].ewm(span=n, min_periods=n).mean().round(2), name='EMA_' + str(n))\n",
    "    return EMA.fillna('nan')\n",
    "\n",
    "def RSI(data, n):\n",
    "    lc = data['收盘'].shift(1)\n",
    "    diff = data['收盘'] - lc\n",
    "    up = diff.where(diff > 0, 0)\n",
    "    down = -diff.where(diff < 0, 0)\n",
    "    ema_up = up.ewm(alpha=1/n, adjust=False).mean()\n",
    "    ema_down = down.ewm(alpha=1/n, adjust=False).mean()\n",
    "    rs = ema_up / ema_down\n",
    "    rsi = round(100 - 100 / (1 + rs), 2)\n",
    "    return pd.Series(rsi, name='RSI_' + str(n)).fillna('nan')\n",
    "\n",
    "\n",
    "def MACD_Level(df, n_fast, n_slow):\n",
    "    data = df.copy()\n",
    "    EMAfast = data['收盘'].ewm(span=n_fast, min_periods=n_slow).mean().round(2)\n",
    "    EMAslow = data['收盘'].ewm(span=n_slow, min_periods=n_slow).mean().round(2)\n",
    "    data['MACD'] = EMAfast - EMAslow\n",
    "    data['MACDsignal'] = data['MACD'].ewm(span=9, min_periods=9).mean().round(2)\n",
    "    data['MACDhist'] = data['MACD'] - data['MACDsignal']\n",
    "    return data[['MACD', 'MACDsignal', 'MACDhist']].fillna('nan')\n"
   ]
  },
  {
   "cell_type": "code",
   "execution_count": 27,
   "metadata": {},
   "outputs": [
    {
     "name": "stderr",
     "output_type": "stream",
     "text": [
      " 57%|█████▊    | 23/40 [00:38<00:23,  1.40s/it]2025-04-23 22:46:11,257 - WARNING - Can not get 000032 市净率 data\n",
      "2025-04-23 22:46:11,257 - WARNING - Can not get 000032 市净率 data\n",
      " 75%|███████▌  | 30/40 [01:12<00:34,  3.45s/it]2025-04-23 22:46:30,625 - WARNING - Can not get 000042 总市值 data\n",
      "2025-04-23 22:46:30,625 - WARNING - Can not get 000042 总市值 data\n",
      "100%|██████████| 40/40 [01:31<00:00,  2.28s/it]\n"
     ]
    }
   ],
   "source": [
    "# create price data constraint\n",
    "cypher = 'CREATE CONSTRAINT IF NOT EXISTS FOR (n:基础行情) REQUIRE (n.股票代码, n.基础行情类型) IS UNIQUE'\n",
    "graph.run(cypher=cypher)\n",
    "\n",
    "# create price indicators constraint\n",
    "cypher = 'CREATE CONSTRAINT IF NOT EXISTS FOR (n:技术指标) REQUIRE (n.股票代码, n.技术指标类型) IS UNIQUE'\n",
    "graph.run(cypher=cypher)\n",
    "\n",
    "\n",
    "start_date = (datetime.now() - timedelta(365)).strftime('%Y%m%d')\n",
    "end_date = datetime.now().strftime('%Y%m%d')\n",
    "\n",
    "neccessry_price_data_type = ['收盘', '成交量', '涨跌幅', '换手率']\n",
    "extra_price_data_type = ['总市值', '市盈率(静)', '市盈率(TTM)', '市净率']\n",
    "\n",
    "for code in tqdm(stock_code_list):\n",
    "    stock = matcher.match(\"股票\", 代码=code).first()\n",
    "    if stock is None:\n",
    "        continue\n",
    "    # get price info\n",
    "    try:\n",
    "        df_price = ak.stock_zh_a_hist(symbol=code, period=\"daily\", start_date=start_date, end_date=end_date, adjust=\"hfq\")\n",
    "        df_price = df_price[['日期'] + neccessry_price_data_type].copy()\n",
    "        df_price['报告期'] = df_price['日期'].apply(process_date_to_report_time)\n",
    "        df_price['日期'] = df_price['日期'].astype(str)\n",
    "    except:\n",
    "        log.warning(f'Can not get {code} price data')\n",
    "        continue\n",
    "\n",
    "    for price_type in extra_price_data_type:\n",
    "        try:\n",
    "            df_price_extra = ak.stock_zh_valuation_baidu(symbol=code, indicator=price_type, period=\"近一年\")\n",
    "            df_price_extra = df_price_extra.rename(columns={'date': '日期', 'value': price_type})\n",
    "            df_price_extra['日期'] = df_price_extra['日期'].astype(str)\n",
    "        except:\n",
    "            log.warning(f'Can not get {code} {price_type} data')\n",
    "            df_price_extra = pd.DataFrame(columns=['日期', price_type])\n",
    "        df_price = df_price.merge(df_price_extra, on='日期', how='left', validate='1:1')\n",
    "        df_price[price_type] = df_price[price_type].fillna('nan')\n",
    "\n",
    "\n",
    "    for price_type in neccessry_price_data_type + extra_price_data_type:\n",
    "        # create price data node\n",
    "        price_data_node = Node('基础行情', 股票代码=code, 基础行情类型=price_type, name=price_type)\n",
    "        try:\n",
    "            graph.create(price_data_node)\n",
    "        except:\n",
    "            pass\n",
    "\n",
    "        # create stock - main shareholders relationship\n",
    "        stock = matcher.match(\"股票\", 代码=code).first()\n",
    "        price_data = matcher.match(\"基础行情\", 股票代码=code, 基础行情类型=price_type).first()\n",
    "        realation = Relationship(stock, '行情', price_data)\n",
    "        try:\n",
    "            graph.create(realation)\n",
    "        except:\n",
    "            pass\n",
    "\n",
    "        for report_time, df in df_price.groupby('报告期'):\n",
    "            cypher = f'CREATE CONSTRAINT IF NOT EXISTS FOR (n:`{price_type}`) REQUIRE (n.股票代码, n.报告期) IS UNIQUE'\n",
    "            graph.run(cypher=cypher)\n",
    "\n",
    "            assert price_type in df.columns, f'{price_type} not in {code} {report_time} price data'\n",
    "            attribute = {}\n",
    "            for date, value in df[['日期', price_type]].values:\n",
    "                attribute[date] = value\n",
    "\n",
    "            price_detail_node = Node(price_type, 股票代码=code, 报告期=report_time, name=report_time, **attribute)\n",
    "            try:\n",
    "                graph.create(price_detail_node)\n",
    "            except:\n",
    "                continue\n",
    "\n",
    "            # create price_data - price_detail relationship\n",
    "            price_data = matcher.match(\"基础行情\", 股票代码=code, 基础行情类型=price_type).first()\n",
    "            price_detail = matcher.match(price_type, 股票代码=code, 报告期=report_time).first()\n",
    "            realation = Relationship(price_data, '基础行情数据', price_detail)\n",
    "            try:\n",
    "                graph.create(realation)\n",
    "            except:\n",
    "                pass\n",
    "    \n",
    "    df_indicators = df_price[['日期', '报告期', '收盘']].copy()\n",
    "    df_indicators['五日移动均线(MA5)'] = MA(data=df_indicators, n=5)\n",
    "    df_indicators['二十日移动均线(MA20)'] = MA(data=df_indicators, n=20)\n",
    "    df_indicators['五日指数移动均线(EMA5)'] = EMA(data=df_indicators, n=5)\n",
    "    df_indicators['二十日指数移动均线(EMA20)'] = EMA(data=df_indicators, n=20)\n",
    "    df_indicators['相对强弱指标(RSI)'] = RSI(data=df_indicators, n=14)\n",
    "    df_indicators[['MACD', '信号线(MACD_signal)', '离差图(MACD_hist)']] = MACD_Level(df=df_indicators, n_fast=12, n_slow=26)\n",
    "    df_indicators = df_indicators.drop('收盘', axis=1)\n",
    "    \n",
    "\n",
    "    for col in df_indicators.columns:\n",
    "        if col not in ['日期', '报告期']:\n",
    "            idicator_type = col\n",
    "        else:\n",
    "            continue\n",
    "        # create price idicator type node\n",
    "        price_idicator_node = Node('技术指标', 股票代码=code, 技术指标类型=idicator_type, name=idicator_type)\n",
    "        try:\n",
    "            graph.create(price_idicator_node)\n",
    "        except:\n",
    "            pass\n",
    "\n",
    "        # create stock - price idicator relationship\n",
    "        stock = matcher.match(\"股票\", 代码=code).first()\n",
    "        price_idicator = matcher.match(\"技术指标\", 股票代码=code, 技术指标类型=idicator_type).first()\n",
    "        realation = Relationship(stock, '行情', price_idicator)\n",
    "        try:\n",
    "            graph.create(realation)\n",
    "        except:\n",
    "            pass\n",
    "\n",
    "        for report_time, df in df_indicators.groupby('报告期'):\n",
    "            cypher = f'CREATE CONSTRAINT IF NOT EXISTS FOR (n:`{idicator_type}`) REQUIRE (n.股票代码, n.报告期) IS UNIQUE'\n",
    "            graph.run(cypher=cypher)\n",
    "\n",
    "            assert idicator_type in df.columns, f'{idicator_type} not in {code} {report_time} price data'\n",
    "            attribute = {}\n",
    "            for date, value in df[['日期', idicator_type]].values:\n",
    "                value = round(value, 2) if value !='nan' else value\n",
    "                attribute[date] = value\n",
    "\n",
    "            indicator_detail = Node(idicator_type, 股票代码=code, 报告期=report_time, name=report_time, **attribute)\n",
    "            try:\n",
    "                graph.create(indicator_detail)\n",
    "            except:\n",
    "                pass\n",
    "\n",
    "            # create price_indicator - indicator_detail relationship\n",
    "            price_indicator = matcher.match(\"技术指标\", 股票代码=code, 技术指标类型=idicator_type).first()\n",
    "            indicator_detail = matcher.match(idicator_type, 股票代码=code, 报告期=report_time).first()\n",
    "            realation = Relationship(price_indicator, '技术指标数据', indicator_detail)\n",
    "            try:\n",
    "                graph.create(realation)\n",
    "            except:\n",
    "                pass"
   ]
  }
 ],
 "metadata": {
  "kernelspec": {
   "display_name": "finllmqa",
   "language": "python",
   "name": "python3"
  },
  "language_info": {
   "codemirror_mode": {
    "name": "ipython",
    "version": 3
   },
   "file_extension": ".py",
   "mimetype": "text/x-python",
   "name": "python",
   "nbconvert_exporter": "python",
   "pygments_lexer": "ipython3",
   "version": "3.13.2"
  }
 },
 "nbformat": 4,
 "nbformat_minor": 4
}
