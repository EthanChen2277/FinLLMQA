{
 "cells": [
  {
   "cell_type": "code",
   "execution_count": 1,
   "metadata": {},
   "outputs": [
    {
     "name": "stderr",
     "output_type": "stream",
     "text": [
      "2024-03-26 18:04:35,993 - py2neo.client - DEBUG - Adding connection pool for profile ConnectionProfile('http://192.168.30.115:7474')\n",
      "2024-03-26 18:04:35,994 - py2neo.client - DEBUG - Trying to acquire connection from pool <py2neo.client.ConnectionPool object at 0x0000024543CF8910>\n",
      "2024-03-26 18:04:36,083 - urllib3.connectionpool - DEBUG - Starting new HTTP connection (1): 192.168.30.115:7474\n",
      "2024-03-26 18:04:36,127 - urllib3.connectionpool - DEBUG - http://192.168.30.115:7474 \"GET / HTTP/1.1\" 200 0\n",
      "2024-03-26 18:04:36,159 - urllib3.connectionpool - DEBUG - http://192.168.30.115:7474 \"GET /db/data/ HTTP/1.1\" 404 0\n",
      "2024-03-26 18:04:36,159 - py2neo.client - DEBUG - Connection <py2neo.client.http.HTTP object at 0x00000245443C1D90> acquired by thread <_MainThread(MainThread, started 18444)>\n",
      "2024-03-26 18:04:36,161 - py2neo.client - DEBUG - Releasing connection <py2neo.client.http.HTTP object at 0x00000245443C1D90> from thread <_MainThread(MainThread, started 18444)>\n"
     ]
    }
   ],
   "source": [
    "from py2neo import Graph\n",
    "import json\n",
    "\n",
    "# 连接到 Neo4j 数据库\n",
    "graph = Graph('http://192.168.30.115:7474', auth=('neo4j', 'finglm-base-on-kg'), name='neo4j')"
   ]
  },
  {
   "cell_type": "markdown",
   "metadata": {},
   "source": [
    "## Stock name"
   ]
  },
  {
   "cell_type": "code",
   "execution_count": 4,
   "metadata": {},
   "outputs": [],
   "source": [
    "query = \"\"\"\n",
    "MATCH (stock:股票)\n",
    "RETURN stock.name AS name, stock.代码 AS code\n",
    "\"\"\"\n",
    "result = graph.run(query)\n",
    "\n",
    "stocks = [{\"name\": record[\"name\"], \"code\": record[\"code\"]} for record in result]\n",
    "with open('stock.json', \"w\") as f:\n",
    "    json.dump(stocks, f, indent=4)"
   ]
  },
  {
   "cell_type": "markdown",
   "metadata": {},
   "source": [
    "## Attributes"
   ]
  },
  {
   "cell_type": "code",
   "execution_count": 21,
   "metadata": {},
   "outputs": [
    {
     "name": "stderr",
     "output_type": "stream",
     "text": [
      "2024-03-26 18:14:21,050 - py2neo.client - DEBUG - Attempting to acquire read-write connection to 'neo4j'\n",
      "2024-03-26 18:14:21,051 - py2neo.client - DEBUG - Using connection pool <py2neo.client.ConnectionPool object at 0x0000024543CF8910>\n",
      "2024-03-26 18:14:21,052 - py2neo.client - DEBUG - Trying to acquire connection from pool <py2neo.client.ConnectionPool object at 0x0000024543CF8910>\n",
      "2024-03-26 18:14:21,053 - py2neo.client - DEBUG - Connection <py2neo.client.http.HTTP object at 0x00000245443C1D90> acquired by thread <_MainThread(MainThread, started 18444)>\n",
      "2024-03-26 18:14:21,054 - py2neo.client.http - DEBUG - POST '/db/neo4j/tx/commit' '\\nCALL db.schema.nodeTypeProperties() YIELD propertyName,mandatory \\nRETURN distinct(propertyName) as prop, mandatory\\n' {}\n",
      "2024-03-26 18:14:21,055 - urllib3.connectionpool - DEBUG - Resetting dropped connection: 192.168.30.115\n"
     ]
    }
   ],
   "source": [
    "query = \"\"\"\n",
    "CALL db.schema.nodeTypeProperties() YIELD propertyName,mandatory \n",
    "RETURN distinct(propertyName) as prop, mandatory\n",
    "\"\"\"\n",
    "result = graph.run(query)\n",
    "\n",
    "props = [{\"name\": record[\"prop\"]} for record in result if record['prop'] != 'name' and record['mandatory']]\n",
    "\n",
    "query = \"\"\"\n",
    "CALL db.schema.nodeTypeProperties() YIELD nodeLabels\n",
    "RETURN distinct(nodeLabels) as label\n",
    "\"\"\"\n",
    "result = graph.run(query)\n",
    "\n",
    "labels = [{\"name\": record[\"label\"][0]} for record in result if record['label'] != '股票' and len(record['label']) > 0]\n",
    "attrs = props + labels\n",
    "with open('attributes.json', \"w\") as f:\n",
    "    json.dump(attrs, f, indent=4)"
   ]
  },
  {
   "cell_type": "code",
   "execution_count": 17,
   "metadata": {},
   "outputs": [],
   "source": [
    "with open('stock.json', \"r\") as f:\n",
    "    data = json.load(f)"
   ]
  },
  {
   "cell_type": "code",
   "execution_count": 18,
   "metadata": {},
   "outputs": [
    {
     "data": {
      "text/plain": [
       "10709"
      ]
     },
     "execution_count": 18,
     "metadata": {},
     "output_type": "execute_result"
    }
   ],
   "source": [
    "len(data)"
   ]
  }
 ],
 "metadata": {
  "kernelspec": {
   "display_name": "chatglm3",
   "language": "python",
   "name": "python3"
  },
  "language_info": {
   "codemirror_mode": {
    "name": "ipython",
    "version": 3
   },
   "file_extension": ".py",
   "mimetype": "text/x-python",
   "name": "python",
   "nbconvert_exporter": "python",
   "pygments_lexer": "ipython3",
   "version": "3.11.8"
  }
 },
 "nbformat": 4,
 "nbformat_minor": 4
}
