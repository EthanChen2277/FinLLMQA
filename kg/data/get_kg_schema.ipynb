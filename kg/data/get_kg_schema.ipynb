{
 "cells": [
  {
   "cell_type": "code",
   "execution_count": 1,
   "metadata": {},
   "outputs": [],
   "source": [
    "from py2neo import Graph\n",
    "import json\n",
    "\n",
    "# 连接到 Neo4j 数据库\n",
    "graph = Graph('http://192.168.197.1:7474', auth=('neo4j', 'finglm-base-on-kg'), name='neo4j')"
   ]
  },
  {
   "cell_type": "markdown",
   "metadata": {},
   "source": [
    "## Stock name"
   ]
  },
  {
   "cell_type": "code",
   "execution_count": 4,
   "metadata": {},
   "outputs": [],
   "source": [
    "query = \"\"\"\n",
    "MATCH (stock:股票)\n",
    "RETURN stock.name AS name, stock.代码 AS code\n",
    "\"\"\"\n",
    "result = graph.run(query)\n",
    "\n",
    "stocks = [{\"name\": record[\"name\"], \"code\": record[\"code\"]} for record in result]\n",
    "with open('stock.json', \"w\") as f:\n",
    "    json.dump(stocks, f, indent=4)"
   ]
  },
  {
   "cell_type": "markdown",
   "metadata": {},
   "source": [
    "## Attributes"
   ]
  },
  {
   "cell_type": "code",
   "execution_count": 13,
   "metadata": {},
   "outputs": [],
   "source": [
    "query = \"\"\"\n",
    "CALL db.schema.nodeTypeProperties() YIELD propertyName,mandatory \n",
    "RETURN distinct(propertyName) as prop, mandatory\n",
    "\"\"\"\n",
    "result = graph.run(query)\n",
    "\n",
    "props = [{\"name\": record[\"prop\"]} for record in result if record['prop'] != 'name' and record['mandatory']]\n",
    "\n",
    "query = \"\"\"\n",
    "CALL db.schema.nodeTypeProperties() YIELD nodeLabels\n",
    "RETURN distinct(nodeLabels) as label\n",
    "\"\"\"\n",
    "result = graph.run(query)\n",
    "\n",
    "props += [{\"name\": record[\"label\"]} for record in result if record['label'] != '股票']\n",
    "with open('attributes.json', \"w\") as f:\n",
    "    json.dump(props, f, indent=4)"
   ]
  },
  {
   "cell_type": "code",
   "execution_count": 17,
   "metadata": {},
   "outputs": [],
   "source": [
    "with open('stock.json', \"r\") as f:\n",
    "    data = json.load(f)"
   ]
  },
  {
   "cell_type": "code",
   "execution_count": 18,
   "metadata": {},
   "outputs": [
    {
     "data": {
      "text/plain": [
       "10709"
      ]
     },
     "execution_count": 18,
     "metadata": {},
     "output_type": "execute_result"
    }
   ],
   "source": [
    "len(data)"
   ]
  }
 ],
 "metadata": {
  "kernelspec": {
   "display_name": "Python [conda env:chatglm3]",
   "language": "python",
   "name": "conda-env-chatglm3-py"
  },
  "language_info": {
   "codemirror_mode": {
    "name": "ipython",
    "version": 3
   },
   "file_extension": ".py",
   "mimetype": "text/x-python",
   "name": "python",
   "nbconvert_exporter": "python",
   "pygments_lexer": "ipython3",
   "version": "3.10.0"
  }
 },
 "nbformat": 4,
 "nbformat_minor": 4
}
